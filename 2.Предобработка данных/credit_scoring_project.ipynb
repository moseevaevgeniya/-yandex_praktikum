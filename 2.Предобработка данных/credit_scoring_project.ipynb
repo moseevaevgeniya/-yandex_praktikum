{
 "cells": [
  {
   "cell_type": "markdown",
   "id": "248dc4a1",
   "metadata": {},
   "source": [
    "# Исследование надежности заемщиков банка."
   ]
  },
  {
   "cell_type": "markdown",
   "id": "379ef5e3",
   "metadata": {},
   "source": [
    "  Заказчиком проекта является кредитный отдел банка.  \n",
    "  \n",
    "В нашем проекте нужно провести исследование.  \n",
    "\n",
    "**Цель исследования:** - как семейное положение и количество детей клиента влияет на факт  \n",
    "\n",
    "погашения кредита в срок.  \n",
    "\n",
    "Исследование будет проводиться на основе данных от банка - статистике о платёжеспособности клиентов.  \n",
    "\n",
    "**Ход исследования:**  \n",
    "\n",
    "Данные от банка мы получим из файла `data.csv.`\n",
    "\n",
    "Исследование пройдёт в три этапа:\n",
    "\n",
    "1. Обзор данных.  \n",
    "2. Предобработка данных.  \n",
    "3. Ответы на вопросы.\n"
   ]
  },
  {
   "cell_type": "markdown",
   "id": "c79e2464",
   "metadata": {},
   "source": [
    "## Обзор данных\n"
   ]
  },
  {
   "cell_type": "markdown",
   "id": "8e0dea6d",
   "metadata": {},
   "source": [
    "Составляем первое представление о данных банка.  \n",
    "\n",
    "Импортируеи основной инструмент для аналитики - библиотеку `pandas`.  \n"
   ]
  },
  {
   "cell_type": "code",
   "execution_count": 1,
   "id": "29ef2691",
   "metadata": {},
   "outputs": [],
   "source": [
    "import pandas as pd # чтение файла с данными и сохранение в df  "
   ]
  },
  {
   "cell_type": "markdown",
   "id": "f3cbe85a",
   "metadata": {},
   "source": [
    "Прочитаем файл data.csv из папки /datasets и сохраним его в переменную df:"
   ]
  },
  {
   "cell_type": "code",
   "execution_count": 2,
   "id": "0f169d66",
   "metadata": {},
   "outputs": [],
   "source": [
    "df = pd.read_csv('/datasets/data.csv') # чтение файла с данными и сохранение в df"
   ]
  },
  {
   "cell_type": "markdown",
   "id": "6953e124",
   "metadata": {},
   "source": [
    "Выведем на экран первые десять строк таблицы:"
   ]
  },
  {
   "cell_type": "code",
   "execution_count": 3,
   "id": "ab7bd1fa",
   "metadata": {},
   "outputs": [
    {
     "data": {
      "text/html": [
       "<div>\n",
       "<style scoped>\n",
       "    .dataframe tbody tr th:only-of-type {\n",
       "        vertical-align: middle;\n",
       "    }\n",
       "\n",
       "    .dataframe tbody tr th {\n",
       "        vertical-align: top;\n",
       "    }\n",
       "\n",
       "    .dataframe thead th {\n",
       "        text-align: right;\n",
       "    }\n",
       "</style>\n",
       "<table border=\"1\" class=\"dataframe\">\n",
       "  <thead>\n",
       "    <tr style=\"text-align: right;\">\n",
       "      <th></th>\n",
       "      <th>children</th>\n",
       "      <th>days_employed</th>\n",
       "      <th>dob_years</th>\n",
       "      <th>education</th>\n",
       "      <th>education_id</th>\n",
       "      <th>family_status</th>\n",
       "      <th>family_status_id</th>\n",
       "      <th>gender</th>\n",
       "      <th>income_type</th>\n",
       "      <th>debt</th>\n",
       "      <th>total_income</th>\n",
       "      <th>purpose</th>\n",
       "    </tr>\n",
       "  </thead>\n",
       "  <tbody>\n",
       "    <tr>\n",
       "      <th>0</th>\n",
       "      <td>1</td>\n",
       "      <td>-8437.673028</td>\n",
       "      <td>42</td>\n",
       "      <td>высшее</td>\n",
       "      <td>0</td>\n",
       "      <td>женат / замужем</td>\n",
       "      <td>0</td>\n",
       "      <td>F</td>\n",
       "      <td>сотрудник</td>\n",
       "      <td>0</td>\n",
       "      <td>253875.639453</td>\n",
       "      <td>покупка жилья</td>\n",
       "    </tr>\n",
       "    <tr>\n",
       "      <th>1</th>\n",
       "      <td>1</td>\n",
       "      <td>-4024.803754</td>\n",
       "      <td>36</td>\n",
       "      <td>среднее</td>\n",
       "      <td>1</td>\n",
       "      <td>женат / замужем</td>\n",
       "      <td>0</td>\n",
       "      <td>F</td>\n",
       "      <td>сотрудник</td>\n",
       "      <td>0</td>\n",
       "      <td>112080.014102</td>\n",
       "      <td>приобретение автомобиля</td>\n",
       "    </tr>\n",
       "    <tr>\n",
       "      <th>2</th>\n",
       "      <td>0</td>\n",
       "      <td>-5623.422610</td>\n",
       "      <td>33</td>\n",
       "      <td>Среднее</td>\n",
       "      <td>1</td>\n",
       "      <td>женат / замужем</td>\n",
       "      <td>0</td>\n",
       "      <td>M</td>\n",
       "      <td>сотрудник</td>\n",
       "      <td>0</td>\n",
       "      <td>145885.952297</td>\n",
       "      <td>покупка жилья</td>\n",
       "    </tr>\n",
       "    <tr>\n",
       "      <th>3</th>\n",
       "      <td>3</td>\n",
       "      <td>-4124.747207</td>\n",
       "      <td>32</td>\n",
       "      <td>среднее</td>\n",
       "      <td>1</td>\n",
       "      <td>женат / замужем</td>\n",
       "      <td>0</td>\n",
       "      <td>M</td>\n",
       "      <td>сотрудник</td>\n",
       "      <td>0</td>\n",
       "      <td>267628.550329</td>\n",
       "      <td>дополнительное образование</td>\n",
       "    </tr>\n",
       "    <tr>\n",
       "      <th>4</th>\n",
       "      <td>0</td>\n",
       "      <td>340266.072047</td>\n",
       "      <td>53</td>\n",
       "      <td>среднее</td>\n",
       "      <td>1</td>\n",
       "      <td>гражданский брак</td>\n",
       "      <td>1</td>\n",
       "      <td>F</td>\n",
       "      <td>пенсионер</td>\n",
       "      <td>0</td>\n",
       "      <td>158616.077870</td>\n",
       "      <td>сыграть свадьбу</td>\n",
       "    </tr>\n",
       "    <tr>\n",
       "      <th>5</th>\n",
       "      <td>0</td>\n",
       "      <td>-926.185831</td>\n",
       "      <td>27</td>\n",
       "      <td>высшее</td>\n",
       "      <td>0</td>\n",
       "      <td>гражданский брак</td>\n",
       "      <td>1</td>\n",
       "      <td>M</td>\n",
       "      <td>компаньон</td>\n",
       "      <td>0</td>\n",
       "      <td>255763.565419</td>\n",
       "      <td>покупка жилья</td>\n",
       "    </tr>\n",
       "    <tr>\n",
       "      <th>6</th>\n",
       "      <td>0</td>\n",
       "      <td>-2879.202052</td>\n",
       "      <td>43</td>\n",
       "      <td>высшее</td>\n",
       "      <td>0</td>\n",
       "      <td>женат / замужем</td>\n",
       "      <td>0</td>\n",
       "      <td>F</td>\n",
       "      <td>компаньон</td>\n",
       "      <td>0</td>\n",
       "      <td>240525.971920</td>\n",
       "      <td>операции с жильем</td>\n",
       "    </tr>\n",
       "    <tr>\n",
       "      <th>7</th>\n",
       "      <td>0</td>\n",
       "      <td>-152.779569</td>\n",
       "      <td>50</td>\n",
       "      <td>СРЕДНЕЕ</td>\n",
       "      <td>1</td>\n",
       "      <td>женат / замужем</td>\n",
       "      <td>0</td>\n",
       "      <td>M</td>\n",
       "      <td>сотрудник</td>\n",
       "      <td>0</td>\n",
       "      <td>135823.934197</td>\n",
       "      <td>образование</td>\n",
       "    </tr>\n",
       "    <tr>\n",
       "      <th>8</th>\n",
       "      <td>2</td>\n",
       "      <td>-6929.865299</td>\n",
       "      <td>35</td>\n",
       "      <td>ВЫСШЕЕ</td>\n",
       "      <td>0</td>\n",
       "      <td>гражданский брак</td>\n",
       "      <td>1</td>\n",
       "      <td>F</td>\n",
       "      <td>сотрудник</td>\n",
       "      <td>0</td>\n",
       "      <td>95856.832424</td>\n",
       "      <td>на проведение свадьбы</td>\n",
       "    </tr>\n",
       "    <tr>\n",
       "      <th>9</th>\n",
       "      <td>0</td>\n",
       "      <td>-2188.756445</td>\n",
       "      <td>41</td>\n",
       "      <td>среднее</td>\n",
       "      <td>1</td>\n",
       "      <td>женат / замужем</td>\n",
       "      <td>0</td>\n",
       "      <td>M</td>\n",
       "      <td>сотрудник</td>\n",
       "      <td>0</td>\n",
       "      <td>144425.938277</td>\n",
       "      <td>покупка жилья для семьи</td>\n",
       "    </tr>\n",
       "  </tbody>\n",
       "</table>\n",
       "</div>"
      ],
      "text/plain": [
       "   children  days_employed  dob_years education  education_id  \\\n",
       "0         1   -8437.673028         42    высшее             0   \n",
       "1         1   -4024.803754         36   среднее             1   \n",
       "2         0   -5623.422610         33   Среднее             1   \n",
       "3         3   -4124.747207         32   среднее             1   \n",
       "4         0  340266.072047         53   среднее             1   \n",
       "5         0    -926.185831         27    высшее             0   \n",
       "6         0   -2879.202052         43    высшее             0   \n",
       "7         0    -152.779569         50   СРЕДНЕЕ             1   \n",
       "8         2   -6929.865299         35    ВЫСШЕЕ             0   \n",
       "9         0   -2188.756445         41   среднее             1   \n",
       "\n",
       "      family_status  family_status_id gender income_type  debt   total_income  \\\n",
       "0   женат / замужем                 0      F   сотрудник     0  253875.639453   \n",
       "1   женат / замужем                 0      F   сотрудник     0  112080.014102   \n",
       "2   женат / замужем                 0      M   сотрудник     0  145885.952297   \n",
       "3   женат / замужем                 0      M   сотрудник     0  267628.550329   \n",
       "4  гражданский брак                 1      F   пенсионер     0  158616.077870   \n",
       "5  гражданский брак                 1      M   компаньон     0  255763.565419   \n",
       "6   женат / замужем                 0      F   компаньон     0  240525.971920   \n",
       "7   женат / замужем                 0      M   сотрудник     0  135823.934197   \n",
       "8  гражданский брак                 1      F   сотрудник     0   95856.832424   \n",
       "9   женат / замужем                 0      M   сотрудник     0  144425.938277   \n",
       "\n",
       "                      purpose  \n",
       "0               покупка жилья  \n",
       "1     приобретение автомобиля  \n",
       "2               покупка жилья  \n",
       "3  дополнительное образование  \n",
       "4             сыграть свадьбу  \n",
       "5               покупка жилья  \n",
       "6           операции с жильем  \n",
       "7                 образование  \n",
       "8       на проведение свадьбы  \n",
       "9     покупка жилья для семьи  "
      ]
     },
     "execution_count": 3,
     "metadata": {},
     "output_type": "execute_result"
    }
   ],
   "source": [
    "df.head(10) #получение первых 10 строк таблицы "
   ]
  },
  {
   "cell_type": "markdown",
   "id": "6c133ac1",
   "metadata": {},
   "source": [
    "Одной командой получаеи общую информацию о таблице:"
   ]
  },
  {
   "cell_type": "code",
   "execution_count": 4,
   "id": "65d6382e",
   "metadata": {},
   "outputs": [
    {
     "name": "stdout",
     "output_type": "stream",
     "text": [
      "<class 'pandas.core.frame.DataFrame'>\n",
      "RangeIndex: 21525 entries, 0 to 21524\n",
      "Data columns (total 12 columns):\n",
      " #   Column            Non-Null Count  Dtype  \n",
      "---  ------            --------------  -----  \n",
      " 0   children          21525 non-null  int64  \n",
      " 1   days_employed     19351 non-null  float64\n",
      " 2   dob_years         21525 non-null  int64  \n",
      " 3   education         21525 non-null  object \n",
      " 4   education_id      21525 non-null  int64  \n",
      " 5   family_status     21525 non-null  object \n",
      " 6   family_status_id  21525 non-null  int64  \n",
      " 7   gender            21525 non-null  object \n",
      " 8   income_type       21525 non-null  object \n",
      " 9   debt              21525 non-null  int64  \n",
      " 10  total_income      19351 non-null  float64\n",
      " 11  purpose           21525 non-null  object \n",
      "dtypes: float64(2), int64(5), object(5)\n",
      "memory usage: 2.0+ MB\n"
     ]
    }
   ],
   "source": [
    " df.info()# получение общей информации о данных в таблице df"
   ]
  },
  {
   "cell_type": "markdown",
   "id": "eb69816c",
   "metadata": {},
   "source": [
    "Итак, всего у нас 21525 записи. В таблице двенадцать столбцов. Типы данных в двух столбцах — `float`, в пяти столбцах -`int`, в пяти столбцах - `object`.  \n",
    "\n",
    "Согласно документации к данным:  \n",
    "\n",
    "`children` — количество детей в семье  \n",
    "`days_employed` — общий трудовой стаж в днях  \n",
    "`dob_years` — возраст клиента в годах  \n",
    "`education` — уровень образования клиента  \n",
    "`education_id` — идентификатор уровня образования  \n",
    "`family_status` — семейное положение  \n",
    "`family_status_id` — идентификатор семейного положения  \n",
    "`gender` — пол клиента  \n",
    "`income_type` — тип занятости  \n",
    "`debt` — имел ли задолженность по возврату кредитов  \n",
    "`total_income` — ежемесячный доход  \n",
    "`purpose` — цель получения кредита   "
   ]
  },
  {
   "cell_type": "markdown",
   "id": "96accd57",
   "metadata": {},
   "source": [
    "Количество значений в столбцах различается. Значит, в данных есть пропущенные значения."
   ]
  },
  {
   "cell_type": "markdown",
   "id": "bfba8735",
   "metadata": {},
   "source": [
    "**Выводы**\n",
    "\n",
    "В каждой строке таблицы — данные о клиенте. Колонки описывают самого клиента: пол, возраст,семейное положение,  \n",
    "\n",
    "количество детей в семье, уровень образования, чем занимается и т.д. \n",
    "\n",
    "Предварительно можно утверждать, что, данных достаточно для проведения исследования. Но встречаются пропуски в данных.  \n",
    "\n",
    "Сразу в глаза бросается проблема с колонкой `days_employed`:\n",
    "\n",
    "- дни не могут быть вещественным числом.\n",
    "- дни не могут быть отрицательными. \n",
    "  \n",
    "\n",
    "В столбце `education` регистр букв разный.  \n",
    "\n",
    "Но предварительно, эти данные для анализа нам не нужны.\n",
    "\n",
    "Чтобы двигаться дальше, устраним проблемы в данных."
   ]
  },
  {
   "cell_type": "markdown",
   "id": "41e92064",
   "metadata": {},
   "source": [
    "## Предобработка данных"
   ]
  },
  {
   "cell_type": "markdown",
   "id": "cec4d165",
   "metadata": {},
   "source": [
    "### Заполнение пропусков"
   ]
  },
  {
   "cell_type": "markdown",
   "id": "0aae4e28",
   "metadata": {},
   "source": [
    "Сначала посчитаем, сколько в таблице пропущенных значений. "
   ]
  },
  {
   "cell_type": "code",
   "execution_count": 5,
   "id": "e92cac6c",
   "metadata": {},
   "outputs": [
    {
     "data": {
      "text/plain": [
       "children               0\n",
       "days_employed       2174\n",
       "dob_years              0\n",
       "education              0\n",
       "education_id           0\n",
       "family_status          0\n",
       "family_status_id       0\n",
       "gender                 0\n",
       "income_type            0\n",
       "debt                   0\n",
       "total_income        2174\n",
       "purpose                0\n",
       "dtype: int64"
      ]
     },
     "execution_count": 5,
     "metadata": {},
     "output_type": "execute_result"
    }
   ],
   "source": [
    "df.isna().sum() # подсчёт пропусков"
   ]
  },
  {
   "cell_type": "markdown",
   "id": "9c5c216b",
   "metadata": {},
   "source": [
    " Посмотрим, что это за пустые значения в столбце `total_income`."
   ]
  },
  {
   "cell_type": "code",
   "execution_count": 6,
   "id": "e40a912b",
   "metadata": {},
   "outputs": [
    {
     "data": {
      "text/html": [
       "<div>\n",
       "<style scoped>\n",
       "    .dataframe tbody tr th:only-of-type {\n",
       "        vertical-align: middle;\n",
       "    }\n",
       "\n",
       "    .dataframe tbody tr th {\n",
       "        vertical-align: top;\n",
       "    }\n",
       "\n",
       "    .dataframe thead th {\n",
       "        text-align: right;\n",
       "    }\n",
       "</style>\n",
       "<table border=\"1\" class=\"dataframe\">\n",
       "  <thead>\n",
       "    <tr style=\"text-align: right;\">\n",
       "      <th></th>\n",
       "      <th>children</th>\n",
       "      <th>days_employed</th>\n",
       "      <th>dob_years</th>\n",
       "      <th>education</th>\n",
       "      <th>education_id</th>\n",
       "      <th>family_status</th>\n",
       "      <th>family_status_id</th>\n",
       "      <th>gender</th>\n",
       "      <th>income_type</th>\n",
       "      <th>debt</th>\n",
       "      <th>total_income</th>\n",
       "      <th>purpose</th>\n",
       "    </tr>\n",
       "  </thead>\n",
       "  <tbody>\n",
       "    <tr>\n",
       "      <th>21489</th>\n",
       "      <td>2</td>\n",
       "      <td>NaN</td>\n",
       "      <td>47</td>\n",
       "      <td>Среднее</td>\n",
       "      <td>1</td>\n",
       "      <td>женат / замужем</td>\n",
       "      <td>0</td>\n",
       "      <td>M</td>\n",
       "      <td>компаньон</td>\n",
       "      <td>0</td>\n",
       "      <td>NaN</td>\n",
       "      <td>сделка с автомобилем</td>\n",
       "    </tr>\n",
       "    <tr>\n",
       "      <th>21495</th>\n",
       "      <td>1</td>\n",
       "      <td>NaN</td>\n",
       "      <td>50</td>\n",
       "      <td>среднее</td>\n",
       "      <td>1</td>\n",
       "      <td>гражданский брак</td>\n",
       "      <td>1</td>\n",
       "      <td>F</td>\n",
       "      <td>сотрудник</td>\n",
       "      <td>0</td>\n",
       "      <td>NaN</td>\n",
       "      <td>свадьба</td>\n",
       "    </tr>\n",
       "    <tr>\n",
       "      <th>21497</th>\n",
       "      <td>0</td>\n",
       "      <td>NaN</td>\n",
       "      <td>48</td>\n",
       "      <td>ВЫСШЕЕ</td>\n",
       "      <td>0</td>\n",
       "      <td>женат / замужем</td>\n",
       "      <td>0</td>\n",
       "      <td>F</td>\n",
       "      <td>компаньон</td>\n",
       "      <td>0</td>\n",
       "      <td>NaN</td>\n",
       "      <td>строительство недвижимости</td>\n",
       "    </tr>\n",
       "    <tr>\n",
       "      <th>21502</th>\n",
       "      <td>1</td>\n",
       "      <td>NaN</td>\n",
       "      <td>42</td>\n",
       "      <td>среднее</td>\n",
       "      <td>1</td>\n",
       "      <td>женат / замужем</td>\n",
       "      <td>0</td>\n",
       "      <td>F</td>\n",
       "      <td>сотрудник</td>\n",
       "      <td>0</td>\n",
       "      <td>NaN</td>\n",
       "      <td>строительство жилой недвижимости</td>\n",
       "    </tr>\n",
       "    <tr>\n",
       "      <th>21510</th>\n",
       "      <td>2</td>\n",
       "      <td>NaN</td>\n",
       "      <td>28</td>\n",
       "      <td>среднее</td>\n",
       "      <td>1</td>\n",
       "      <td>женат / замужем</td>\n",
       "      <td>0</td>\n",
       "      <td>F</td>\n",
       "      <td>сотрудник</td>\n",
       "      <td>0</td>\n",
       "      <td>NaN</td>\n",
       "      <td>приобретение автомобиля</td>\n",
       "    </tr>\n",
       "  </tbody>\n",
       "</table>\n",
       "</div>"
      ],
      "text/plain": [
       "       children  days_employed  dob_years education  education_id  \\\n",
       "21489         2            NaN         47   Среднее             1   \n",
       "21495         1            NaN         50   среднее             1   \n",
       "21497         0            NaN         48    ВЫСШЕЕ             0   \n",
       "21502         1            NaN         42   среднее             1   \n",
       "21510         2            NaN         28   среднее             1   \n",
       "\n",
       "          family_status  family_status_id gender income_type  debt  \\\n",
       "21489   женат / замужем                 0      M   компаньон     0   \n",
       "21495  гражданский брак                 1      F   сотрудник     0   \n",
       "21497   женат / замужем                 0      F   компаньон     0   \n",
       "21502   женат / замужем                 0      F   сотрудник     0   \n",
       "21510   женат / замужем                 0      F   сотрудник     0   \n",
       "\n",
       "       total_income                           purpose  \n",
       "21489           NaN              сделка с автомобилем  \n",
       "21495           NaN                           свадьба  \n",
       "21497           NaN        строительство недвижимости  \n",
       "21502           NaN  строительство жилой недвижимости  \n",
       "21510           NaN           приобретение автомобиля  "
      ]
     },
     "execution_count": 6,
     "metadata": {},
     "output_type": "execute_result"
    }
   ],
   "source": [
    "df[df['total_income'].isnull()].tail() # выведем на экран 10 последних строк столбца "
   ]
  },
  {
   "cell_type": "markdown",
   "id": "22c2e45c",
   "metadata": {},
   "source": [
    "Посмотрим, что за пустые значения в столбце `days_employed`."
   ]
  },
  {
   "cell_type": "code",
   "execution_count": 7,
   "id": "cec97c8b",
   "metadata": {},
   "outputs": [
    {
     "data": {
      "text/html": [
       "<div>\n",
       "<style scoped>\n",
       "    .dataframe tbody tr th:only-of-type {\n",
       "        vertical-align: middle;\n",
       "    }\n",
       "\n",
       "    .dataframe tbody tr th {\n",
       "        vertical-align: top;\n",
       "    }\n",
       "\n",
       "    .dataframe thead th {\n",
       "        text-align: right;\n",
       "    }\n",
       "</style>\n",
       "<table border=\"1\" class=\"dataframe\">\n",
       "  <thead>\n",
       "    <tr style=\"text-align: right;\">\n",
       "      <th></th>\n",
       "      <th>children</th>\n",
       "      <th>days_employed</th>\n",
       "      <th>dob_years</th>\n",
       "      <th>education</th>\n",
       "      <th>education_id</th>\n",
       "      <th>family_status</th>\n",
       "      <th>family_status_id</th>\n",
       "      <th>gender</th>\n",
       "      <th>income_type</th>\n",
       "      <th>debt</th>\n",
       "      <th>total_income</th>\n",
       "      <th>purpose</th>\n",
       "    </tr>\n",
       "  </thead>\n",
       "  <tbody>\n",
       "    <tr>\n",
       "      <th>21489</th>\n",
       "      <td>2</td>\n",
       "      <td>NaN</td>\n",
       "      <td>47</td>\n",
       "      <td>Среднее</td>\n",
       "      <td>1</td>\n",
       "      <td>женат / замужем</td>\n",
       "      <td>0</td>\n",
       "      <td>M</td>\n",
       "      <td>компаньон</td>\n",
       "      <td>0</td>\n",
       "      <td>NaN</td>\n",
       "      <td>сделка с автомобилем</td>\n",
       "    </tr>\n",
       "    <tr>\n",
       "      <th>21495</th>\n",
       "      <td>1</td>\n",
       "      <td>NaN</td>\n",
       "      <td>50</td>\n",
       "      <td>среднее</td>\n",
       "      <td>1</td>\n",
       "      <td>гражданский брак</td>\n",
       "      <td>1</td>\n",
       "      <td>F</td>\n",
       "      <td>сотрудник</td>\n",
       "      <td>0</td>\n",
       "      <td>NaN</td>\n",
       "      <td>свадьба</td>\n",
       "    </tr>\n",
       "    <tr>\n",
       "      <th>21497</th>\n",
       "      <td>0</td>\n",
       "      <td>NaN</td>\n",
       "      <td>48</td>\n",
       "      <td>ВЫСШЕЕ</td>\n",
       "      <td>0</td>\n",
       "      <td>женат / замужем</td>\n",
       "      <td>0</td>\n",
       "      <td>F</td>\n",
       "      <td>компаньон</td>\n",
       "      <td>0</td>\n",
       "      <td>NaN</td>\n",
       "      <td>строительство недвижимости</td>\n",
       "    </tr>\n",
       "    <tr>\n",
       "      <th>21502</th>\n",
       "      <td>1</td>\n",
       "      <td>NaN</td>\n",
       "      <td>42</td>\n",
       "      <td>среднее</td>\n",
       "      <td>1</td>\n",
       "      <td>женат / замужем</td>\n",
       "      <td>0</td>\n",
       "      <td>F</td>\n",
       "      <td>сотрудник</td>\n",
       "      <td>0</td>\n",
       "      <td>NaN</td>\n",
       "      <td>строительство жилой недвижимости</td>\n",
       "    </tr>\n",
       "    <tr>\n",
       "      <th>21510</th>\n",
       "      <td>2</td>\n",
       "      <td>NaN</td>\n",
       "      <td>28</td>\n",
       "      <td>среднее</td>\n",
       "      <td>1</td>\n",
       "      <td>женат / замужем</td>\n",
       "      <td>0</td>\n",
       "      <td>F</td>\n",
       "      <td>сотрудник</td>\n",
       "      <td>0</td>\n",
       "      <td>NaN</td>\n",
       "      <td>приобретение автомобиля</td>\n",
       "    </tr>\n",
       "  </tbody>\n",
       "</table>\n",
       "</div>"
      ],
      "text/plain": [
       "       children  days_employed  dob_years education  education_id  \\\n",
       "21489         2            NaN         47   Среднее             1   \n",
       "21495         1            NaN         50   среднее             1   \n",
       "21497         0            NaN         48    ВЫСШЕЕ             0   \n",
       "21502         1            NaN         42   среднее             1   \n",
       "21510         2            NaN         28   среднее             1   \n",
       "\n",
       "          family_status  family_status_id gender income_type  debt  \\\n",
       "21489   женат / замужем                 0      M   компаньон     0   \n",
       "21495  гражданский брак                 1      F   сотрудник     0   \n",
       "21497   женат / замужем                 0      F   компаньон     0   \n",
       "21502   женат / замужем                 0      F   сотрудник     0   \n",
       "21510   женат / замужем                 0      F   сотрудник     0   \n",
       "\n",
       "       total_income                           purpose  \n",
       "21489           NaN              сделка с автомобилем  \n",
       "21495           NaN                           свадьба  \n",
       "21497           NaN        строительство недвижимости  \n",
       "21502           NaN  строительство жилой недвижимости  \n",
       "21510           NaN           приобретение автомобиля  "
      ]
     },
     "execution_count": 7,
     "metadata": {},
     "output_type": "execute_result"
    }
   ],
   "source": [
    "df[df['days_employed'].isnull()].tail() # выведем на экран 10 последних строк столбца "
   ]
  },
  {
   "cell_type": "markdown",
   "id": "2d5afb28",
   "metadata": {},
   "source": [
    "  Посмотрим долю пропущенных значений."
   ]
  },
  {
   "cell_type": "code",
   "execution_count": 8,
   "id": "2839b909",
   "metadata": {},
   "outputs": [
    {
     "data": {
      "text/plain": [
       "children            0.000000\n",
       "days_employed       0.100999\n",
       "dob_years           0.000000\n",
       "education           0.000000\n",
       "education_id        0.000000\n",
       "family_status       0.000000\n",
       "family_status_id    0.000000\n",
       "gender              0.000000\n",
       "income_type         0.000000\n",
       "debt                0.000000\n",
       "total_income        0.100999\n",
       "purpose             0.000000\n",
       "dtype: float64"
      ]
     },
     "execution_count": 8,
     "metadata": {},
     "output_type": "execute_result"
    }
   ],
   "source": [
    "df.isna().mean() # находим долю пропущенных значений "
   ]
  },
  {
   "cell_type": "markdown",
   "id": "4748207d",
   "metadata": {},
   "source": [
    "  Доля пропущенных значений в столбцах `days_employed` и `total_income` составила по 10 процентов соответственно.  \n",
    "  \n",
    "  Если говорить о причинах возникновения пропусков, скорее всего они связаны с тем, что у людей нет подтвержденного дохода и стажа (работа в черную и тд). Однако сейчас у нас нет возможности уточнить этот момент у коллег, делающих выгрузку."
   ]
  },
  {
   "cell_type": "markdown",
   "id": "feebd8bb",
   "metadata": {},
   "source": [
    "  Заполним пропуски в столбце `total_income`: "
   ]
  },
  {
   "cell_type": "code",
   "execution_count": 9,
   "id": "5ff953fa",
   "metadata": {},
   "outputs": [],
   "source": [
    "total_income_avg = df['total_income'].median() # найдем медианное значение по столбцу\n",
    "df['total_income']=df['total_income'].fillna(value=total_income_avg) # заполним пропуски в столбце медианным значением"
   ]
  },
  {
   "cell_type": "markdown",
   "id": "e26cd74e",
   "metadata": {},
   "source": [
    "  В нашем случае, заполнение пропусков медианным значением - это лучшее решение для количественных переменных. Это более объективная информация об уровне доходов клиентов банка, чем среднее значение. т.к среднее значение будет некорректно характеризовать данные, когда некоторые значения сильно выделяются среди большинства."
   ]
  },
  {
   "cell_type": "markdown",
   "id": "0d955198",
   "metadata": {},
   "source": [
    "Заполним пропуски в столбце days_employed :"
   ]
  },
  {
   "cell_type": "code",
   "execution_count": 10,
   "id": "c47caf77",
   "metadata": {},
   "outputs": [],
   "source": [
    "days_employed_avg = df['days_employed'].median() # найдем медианное значение по столбцу\n",
    "df['days_employed']=df['days_employed'].fillna(value=days_employed_avg) # заполним пропуски в столбце медианным значением"
   ]
  },
  {
   "cell_type": "markdown",
   "id": "10764c78",
   "metadata": {},
   "source": [
    "  Выведем на экран первые десять строк таблицы:"
   ]
  },
  {
   "cell_type": "code",
   "execution_count": 11,
   "id": "3f74bd78",
   "metadata": {},
   "outputs": [
    {
     "data": {
      "text/html": [
       "<div>\n",
       "<style scoped>\n",
       "    .dataframe tbody tr th:only-of-type {\n",
       "        vertical-align: middle;\n",
       "    }\n",
       "\n",
       "    .dataframe tbody tr th {\n",
       "        vertical-align: top;\n",
       "    }\n",
       "\n",
       "    .dataframe thead th {\n",
       "        text-align: right;\n",
       "    }\n",
       "</style>\n",
       "<table border=\"1\" class=\"dataframe\">\n",
       "  <thead>\n",
       "    <tr style=\"text-align: right;\">\n",
       "      <th></th>\n",
       "      <th>children</th>\n",
       "      <th>days_employed</th>\n",
       "      <th>dob_years</th>\n",
       "      <th>education</th>\n",
       "      <th>education_id</th>\n",
       "      <th>family_status</th>\n",
       "      <th>family_status_id</th>\n",
       "      <th>gender</th>\n",
       "      <th>income_type</th>\n",
       "      <th>debt</th>\n",
       "      <th>total_income</th>\n",
       "      <th>purpose</th>\n",
       "    </tr>\n",
       "  </thead>\n",
       "  <tbody>\n",
       "    <tr>\n",
       "      <th>0</th>\n",
       "      <td>1</td>\n",
       "      <td>-8437.673028</td>\n",
       "      <td>42</td>\n",
       "      <td>высшее</td>\n",
       "      <td>0</td>\n",
       "      <td>женат / замужем</td>\n",
       "      <td>0</td>\n",
       "      <td>F</td>\n",
       "      <td>сотрудник</td>\n",
       "      <td>0</td>\n",
       "      <td>253875.639453</td>\n",
       "      <td>покупка жилья</td>\n",
       "    </tr>\n",
       "    <tr>\n",
       "      <th>1</th>\n",
       "      <td>1</td>\n",
       "      <td>-4024.803754</td>\n",
       "      <td>36</td>\n",
       "      <td>среднее</td>\n",
       "      <td>1</td>\n",
       "      <td>женат / замужем</td>\n",
       "      <td>0</td>\n",
       "      <td>F</td>\n",
       "      <td>сотрудник</td>\n",
       "      <td>0</td>\n",
       "      <td>112080.014102</td>\n",
       "      <td>приобретение автомобиля</td>\n",
       "    </tr>\n",
       "    <tr>\n",
       "      <th>2</th>\n",
       "      <td>0</td>\n",
       "      <td>-5623.422610</td>\n",
       "      <td>33</td>\n",
       "      <td>Среднее</td>\n",
       "      <td>1</td>\n",
       "      <td>женат / замужем</td>\n",
       "      <td>0</td>\n",
       "      <td>M</td>\n",
       "      <td>сотрудник</td>\n",
       "      <td>0</td>\n",
       "      <td>145885.952297</td>\n",
       "      <td>покупка жилья</td>\n",
       "    </tr>\n",
       "    <tr>\n",
       "      <th>3</th>\n",
       "      <td>3</td>\n",
       "      <td>-4124.747207</td>\n",
       "      <td>32</td>\n",
       "      <td>среднее</td>\n",
       "      <td>1</td>\n",
       "      <td>женат / замужем</td>\n",
       "      <td>0</td>\n",
       "      <td>M</td>\n",
       "      <td>сотрудник</td>\n",
       "      <td>0</td>\n",
       "      <td>267628.550329</td>\n",
       "      <td>дополнительное образование</td>\n",
       "    </tr>\n",
       "    <tr>\n",
       "      <th>4</th>\n",
       "      <td>0</td>\n",
       "      <td>340266.072047</td>\n",
       "      <td>53</td>\n",
       "      <td>среднее</td>\n",
       "      <td>1</td>\n",
       "      <td>гражданский брак</td>\n",
       "      <td>1</td>\n",
       "      <td>F</td>\n",
       "      <td>пенсионер</td>\n",
       "      <td>0</td>\n",
       "      <td>158616.077870</td>\n",
       "      <td>сыграть свадьбу</td>\n",
       "    </tr>\n",
       "    <tr>\n",
       "      <th>5</th>\n",
       "      <td>0</td>\n",
       "      <td>-926.185831</td>\n",
       "      <td>27</td>\n",
       "      <td>высшее</td>\n",
       "      <td>0</td>\n",
       "      <td>гражданский брак</td>\n",
       "      <td>1</td>\n",
       "      <td>M</td>\n",
       "      <td>компаньон</td>\n",
       "      <td>0</td>\n",
       "      <td>255763.565419</td>\n",
       "      <td>покупка жилья</td>\n",
       "    </tr>\n",
       "    <tr>\n",
       "      <th>6</th>\n",
       "      <td>0</td>\n",
       "      <td>-2879.202052</td>\n",
       "      <td>43</td>\n",
       "      <td>высшее</td>\n",
       "      <td>0</td>\n",
       "      <td>женат / замужем</td>\n",
       "      <td>0</td>\n",
       "      <td>F</td>\n",
       "      <td>компаньон</td>\n",
       "      <td>0</td>\n",
       "      <td>240525.971920</td>\n",
       "      <td>операции с жильем</td>\n",
       "    </tr>\n",
       "    <tr>\n",
       "      <th>7</th>\n",
       "      <td>0</td>\n",
       "      <td>-152.779569</td>\n",
       "      <td>50</td>\n",
       "      <td>СРЕДНЕЕ</td>\n",
       "      <td>1</td>\n",
       "      <td>женат / замужем</td>\n",
       "      <td>0</td>\n",
       "      <td>M</td>\n",
       "      <td>сотрудник</td>\n",
       "      <td>0</td>\n",
       "      <td>135823.934197</td>\n",
       "      <td>образование</td>\n",
       "    </tr>\n",
       "    <tr>\n",
       "      <th>8</th>\n",
       "      <td>2</td>\n",
       "      <td>-6929.865299</td>\n",
       "      <td>35</td>\n",
       "      <td>ВЫСШЕЕ</td>\n",
       "      <td>0</td>\n",
       "      <td>гражданский брак</td>\n",
       "      <td>1</td>\n",
       "      <td>F</td>\n",
       "      <td>сотрудник</td>\n",
       "      <td>0</td>\n",
       "      <td>95856.832424</td>\n",
       "      <td>на проведение свадьбы</td>\n",
       "    </tr>\n",
       "    <tr>\n",
       "      <th>9</th>\n",
       "      <td>0</td>\n",
       "      <td>-2188.756445</td>\n",
       "      <td>41</td>\n",
       "      <td>среднее</td>\n",
       "      <td>1</td>\n",
       "      <td>женат / замужем</td>\n",
       "      <td>0</td>\n",
       "      <td>M</td>\n",
       "      <td>сотрудник</td>\n",
       "      <td>0</td>\n",
       "      <td>144425.938277</td>\n",
       "      <td>покупка жилья для семьи</td>\n",
       "    </tr>\n",
       "  </tbody>\n",
       "</table>\n",
       "</div>"
      ],
      "text/plain": [
       "   children  days_employed  dob_years education  education_id  \\\n",
       "0         1   -8437.673028         42    высшее             0   \n",
       "1         1   -4024.803754         36   среднее             1   \n",
       "2         0   -5623.422610         33   Среднее             1   \n",
       "3         3   -4124.747207         32   среднее             1   \n",
       "4         0  340266.072047         53   среднее             1   \n",
       "5         0    -926.185831         27    высшее             0   \n",
       "6         0   -2879.202052         43    высшее             0   \n",
       "7         0    -152.779569         50   СРЕДНЕЕ             1   \n",
       "8         2   -6929.865299         35    ВЫСШЕЕ             0   \n",
       "9         0   -2188.756445         41   среднее             1   \n",
       "\n",
       "      family_status  family_status_id gender income_type  debt   total_income  \\\n",
       "0   женат / замужем                 0      F   сотрудник     0  253875.639453   \n",
       "1   женат / замужем                 0      F   сотрудник     0  112080.014102   \n",
       "2   женат / замужем                 0      M   сотрудник     0  145885.952297   \n",
       "3   женат / замужем                 0      M   сотрудник     0  267628.550329   \n",
       "4  гражданский брак                 1      F   пенсионер     0  158616.077870   \n",
       "5  гражданский брак                 1      M   компаньон     0  255763.565419   \n",
       "6   женат / замужем                 0      F   компаньон     0  240525.971920   \n",
       "7   женат / замужем                 0      M   сотрудник     0  135823.934197   \n",
       "8  гражданский брак                 1      F   сотрудник     0   95856.832424   \n",
       "9   женат / замужем                 0      M   сотрудник     0  144425.938277   \n",
       "\n",
       "                      purpose  \n",
       "0               покупка жилья  \n",
       "1     приобретение автомобиля  \n",
       "2               покупка жилья  \n",
       "3  дополнительное образование  \n",
       "4             сыграть свадьбу  \n",
       "5               покупка жилья  \n",
       "6           операции с жильем  \n",
       "7                 образование  \n",
       "8       на проведение свадьбы  \n",
       "9     покупка жилья для семьи  "
      ]
     },
     "execution_count": 11,
     "metadata": {},
     "output_type": "execute_result"
    }
   ],
   "source": [
    "df.head(10) #  выведем на экран 10 строк df"
   ]
  },
  {
   "cell_type": "markdown",
   "id": "0162076f",
   "metadata": {},
   "source": [
    "  Снова посчитаем пропуски в таблице:"
   ]
  },
  {
   "cell_type": "code",
   "execution_count": 12,
   "id": "7a032cb2",
   "metadata": {},
   "outputs": [
    {
     "data": {
      "text/plain": [
       "children            0\n",
       "days_employed       0\n",
       "dob_years           0\n",
       "education           0\n",
       "education_id        0\n",
       "family_status       0\n",
       "family_status_id    0\n",
       "gender              0\n",
       "income_type         0\n",
       "debt                0\n",
       "total_income        0\n",
       "purpose             0\n",
       "dtype: int64"
      ]
     },
     "execution_count": 12,
     "metadata": {},
     "output_type": "execute_result"
    }
   ],
   "source": [
    "df.isna().sum() # подсчёт пропусков"
   ]
  },
  {
   "cell_type": "markdown",
   "id": "8eedd6ef",
   "metadata": {},
   "source": [
    "Мы видим, что пропуски в столбцах total_income и days_employed отсутствуют."
   ]
  },
  {
   "cell_type": "markdown",
   "id": "6517f048",
   "metadata": {},
   "source": [
    "### Проверка данных на аномалии и исправления."
   ]
  },
  {
   "cell_type": "markdown",
   "id": "3699907c",
   "metadata": {},
   "source": [
    "В данных таблицы встречаются аномалии - значения, которые не отражают действительность и появились по какой-то ошибке.  \n",
    "  \n",
    "Обработаем значения в столбцах с аномалиями и опишем возможные причины  появления таких данных."
   ]
  },
  {
   "cell_type": "markdown",
   "id": "8da28942",
   "metadata": {},
   "source": [
    " 1. В столбце `days_employed` стоят отрицательное количество дней трудового стажа. Обработаем данные с отрицательными данными и заменим их на положительные:"
   ]
  },
  {
   "cell_type": "code",
   "execution_count": 13,
   "id": "efaab4ce",
   "metadata": {},
   "outputs": [],
   "source": [
    "def negative_to_pozitive(value): # создаём функцию, которая будет изменять отрицательные значения на положительные\n",
    "    if value < 0:\n",
    "        value *= -1\n",
    "        return value\n",
    "    else:\n",
    "        return value\n",
    "df['days_employed'] = df['days_employed'].apply(negative_to_pozitive) # заменяем отрицательные значения в столбце на положительные"
   ]
  },
  {
   "cell_type": "markdown",
   "id": "e481bd75",
   "metadata": {},
   "source": [
    "Выведем данные столбца `days_employed` на экран:"
   ]
  },
  {
   "cell_type": "code",
   "execution_count": 14,
   "id": "098c0e18",
   "metadata": {},
   "outputs": [
    {
     "data": {
      "text/plain": [
       "0      8437.673028\n",
       "1      4024.803754\n",
       "2      5623.422610\n",
       "3      4124.747207\n",
       "4    340266.072047\n",
       "Name: days_employed, dtype: float64"
      ]
     },
     "execution_count": 14,
     "metadata": {},
     "output_type": "execute_result"
    }
   ],
   "source": [
    "df['days_employed'].head()"
   ]
  },
  {
   "cell_type": "markdown",
   "id": "cf0f429d",
   "metadata": {},
   "source": [
    " Причиной появления данных с отрицательными значениями стажа скорей всего является выгрузка данных. В программе банка вероятней всего при вводе данных о клиенте стоит автоматическое вычисление трудового стажа : заносятся начало трудовой деятельности/места работы и окончание/по настоящее время. Вычисление происходит путем вычитания.  Обратили внимание на неадекватность стажа у пенсионеров. О причинах неадекватности значений надо было бы уточнить у операторов и исправить ошибку."
   ]
  },
  {
   "cell_type": "markdown",
   "id": "5697ab78",
   "metadata": {},
   "source": [
    "2. В столбце `children` также содержатся проблемы. Посмотрим данные на уровне подсчета уникальных значений:"
   ]
  },
  {
   "cell_type": "code",
   "execution_count": 15,
   "id": "2f46a676",
   "metadata": {},
   "outputs": [
    {
     "data": {
      "text/plain": [
       " 0     14149\n",
       " 1      4818\n",
       " 2      2055\n",
       " 3       330\n",
       " 20       76\n",
       "-1        47\n",
       " 4        41\n",
       " 5         9\n",
       "Name: children, dtype: int64"
      ]
     },
     "execution_count": 15,
     "metadata": {},
     "output_type": "execute_result"
    }
   ],
   "source": [
    "df['children'].value_counts() # посчитаем уникальные значения"
   ]
  },
  {
   "cell_type": "markdown",
   "id": "67069e91",
   "metadata": {},
   "source": [
    "Столбец `children` содержит значение 20 и -1, хотя отрицательного числа быть не может и 20 сильно выделяется на фоне остальной выборки. Заменим эти данные: примем -1 как бездетных, а 20 как ошибку при вводе '2'."
   ]
  },
  {
   "cell_type": "code",
   "execution_count": 16,
   "id": "bb2677d1",
   "metadata": {},
   "outputs": [],
   "source": [
    "df.loc[df['children'] == -1, 'children'] = 0 #  заменим отрицательное значение на ноль\n",
    "df.loc[df['children'] == 20, 'children'] = 2 # заменим 20 на 2"
   ]
  },
  {
   "cell_type": "markdown",
   "id": "713fd2f6",
   "metadata": {},
   "source": [
    "Снова посмотрим данные столбца:"
   ]
  },
  {
   "cell_type": "code",
   "execution_count": 17,
   "id": "9fb730f9",
   "metadata": {},
   "outputs": [
    {
     "data": {
      "text/plain": [
       "0    14196\n",
       "1     4818\n",
       "2     2131\n",
       "3      330\n",
       "4       41\n",
       "5        9\n",
       "Name: children, dtype: int64"
      ]
     },
     "execution_count": 17,
     "metadata": {},
     "output_type": "execute_result"
    }
   ],
   "source": [
    "df['children'].value_counts() #  посчитаем уникальные значения"
   ]
  },
  {
   "cell_type": "markdown",
   "id": "1b6fb1fd",
   "metadata": {},
   "source": [
    "Причиной возникновения таких аномальных данных скорей всего является выгрузка данных и опечатки при вводе данных. В любом случае нам стоит об этом предупредить тех, кто делал выгрузку."
   ]
  },
  {
   "cell_type": "markdown",
   "id": "50c87229",
   "metadata": {},
   "source": [
    "3. В столбце `dob_years` также содержатся проблемы. Посмотрим данные на уровне подсчета уникальных значений:"
   ]
  },
  {
   "cell_type": "code",
   "execution_count": 18,
   "id": "b306b49a",
   "metadata": {},
   "outputs": [
    {
     "data": {
      "text/plain": [
       "35    617\n",
       "40    609\n",
       "41    607\n",
       "34    603\n",
       "38    598\n",
       "42    597\n",
       "33    581\n",
       "39    573\n",
       "31    560\n",
       "36    555\n",
       "44    547\n",
       "29    545\n",
       "30    540\n",
       "48    538\n",
       "37    537\n",
       "50    514\n",
       "43    513\n",
       "32    510\n",
       "49    508\n",
       "28    503\n",
       "45    497\n",
       "27    493\n",
       "56    487\n",
       "52    484\n",
       "47    480\n",
       "54    479\n",
       "46    475\n",
       "58    461\n",
       "57    460\n",
       "53    459\n",
       "51    448\n",
       "59    444\n",
       "55    443\n",
       "26    408\n",
       "60    377\n",
       "25    357\n",
       "61    355\n",
       "62    352\n",
       "63    269\n",
       "64    265\n",
       "24    264\n",
       "23    254\n",
       "65    194\n",
       "66    183\n",
       "22    183\n",
       "67    167\n",
       "21    111\n",
       "0     101\n",
       "68     99\n",
       "69     85\n",
       "70     65\n",
       "71     58\n",
       "20     51\n",
       "72     33\n",
       "19     14\n",
       "73      8\n",
       "74      6\n",
       "75      1\n",
       "Name: dob_years, dtype: int64"
      ]
     },
     "execution_count": 18,
     "metadata": {},
     "output_type": "execute_result"
    }
   ],
   "source": [
    "df['dob_years'].value_counts() #  посчитаем уникальные значения"
   ]
  },
  {
   "cell_type": "markdown",
   "id": "c23f9458",
   "metadata": {},
   "source": [
    "В столбце `dob_years` есть нулевой возраст, которого быть не может, скорее всего он нам просто неизвестен.   \n",
    "Так как в нашем случае вопросов касательно возраста нет, ничего не делаем."
   ]
  },
  {
   "cell_type": "markdown",
   "id": "ab8797aa",
   "metadata": {},
   "source": [
    "4. В столбце `gender` также содержатся проблемы. Посмотрим данные на уровне подсчета уникальных значений:"
   ]
  },
  {
   "cell_type": "code",
   "execution_count": 19,
   "id": "c393ef97",
   "metadata": {},
   "outputs": [
    {
     "data": {
      "text/plain": [
       "F      14236\n",
       "M       7288\n",
       "XNA        1\n",
       "Name: gender, dtype: int64"
      ]
     },
     "execution_count": 19,
     "metadata": {},
     "output_type": "execute_result"
    }
   ],
   "source": [
    "df['gender'].value_counts() #  посчитаем уникальные значения"
   ]
  },
  {
   "cell_type": "markdown",
   "id": "0c051649",
   "metadata": {},
   "source": [
    "Столбец в одной строке содержит пол XNA . "
   ]
  },
  {
   "cell_type": "markdown",
   "id": "169154b4",
   "metadata": {},
   "source": [
    "Исправим значение XNA. Поскольку пол XNA только один, а в наших данных большинство женщины - заменим значением по умолчанию - F"
   ]
  },
  {
   "cell_type": "code",
   "execution_count": 20,
   "id": "953fac37",
   "metadata": {},
   "outputs": [],
   "source": [
    "df.loc[df['gender'] == 'XNA', 'gender'] = 'F' # исправим значение пола"
   ]
  },
  {
   "cell_type": "markdown",
   "id": "8a7846be",
   "metadata": {},
   "source": [
    "Причиной такой ошибки может быть в самой категории на сайте или системе. У себя исправим, ответственных людей предупредим."
   ]
  },
  {
   "cell_type": "markdown",
   "id": "c6e63d0f",
   "metadata": {},
   "source": [
    "### Изменение типов данных."
   ]
  },
  {
   "cell_type": "markdown",
   "id": "abd3039f",
   "metadata": {},
   "source": [
    "В столбце `total_income` заменим вещественный тип данных на целочисленный:"
   ]
  },
  {
   "cell_type": "code",
   "execution_count": 21,
   "id": "5d825d82",
   "metadata": {},
   "outputs": [],
   "source": [
    "df['total_income'] = df['total_income'].astype('int') # заменим вещественный тип данных на целочисленный"
   ]
  },
  {
   "cell_type": "markdown",
   "id": "e79df759",
   "metadata": {},
   "source": [
    "Выведем на экран первые пять строк столбца таблицы:"
   ]
  },
  {
   "cell_type": "code",
   "execution_count": 22,
   "id": "28a2aecc",
   "metadata": {
    "scrolled": true
   },
   "outputs": [
    {
     "data": {
      "text/plain": [
       "0    253875\n",
       "1    112080\n",
       "2    145885\n",
       "3    267628\n",
       "4    158616\n",
       "Name: total_income, dtype: int64"
      ]
     },
     "execution_count": 22,
     "metadata": {},
     "output_type": "execute_result"
    }
   ],
   "source": [
    "df['total_income'].head(5) # выведем на экран"
   ]
  },
  {
   "cell_type": "markdown",
   "id": "bd083435",
   "metadata": {},
   "source": [
    "В столбце days_employed заменим вещественный тип данных на целочисленный:"
   ]
  },
  {
   "cell_type": "code",
   "execution_count": 23,
   "id": "42b06e82",
   "metadata": {},
   "outputs": [],
   "source": [
    "df['days_employed'] = df['days_employed'].astype('int') # заменим вещественный тип данных на целочисленный"
   ]
  },
  {
   "cell_type": "markdown",
   "id": "43557d62",
   "metadata": {},
   "source": [
    "Выведем на экран первые пять строк столбца таблицы:"
   ]
  },
  {
   "cell_type": "code",
   "execution_count": 24,
   "id": "f50524f9",
   "metadata": {},
   "outputs": [
    {
     "data": {
      "text/plain": [
       "0      8437\n",
       "1      4024\n",
       "2      5623\n",
       "3      4124\n",
       "4    340266\n",
       "Name: days_employed, dtype: int64"
      ]
     },
     "execution_count": 24,
     "metadata": {},
     "output_type": "execute_result"
    }
   ],
   "source": [
    "df['days_employed'].head(5) # выведем на экран"
   ]
  },
  {
   "cell_type": "markdown",
   "id": "f657a19f",
   "metadata": {},
   "source": [
    "### Удаление дубликатов."
   ]
  },
  {
   "cell_type": "markdown",
   "id": "58d2db95",
   "metadata": {},
   "source": [
    "Посчитаем количество явных дубликатов в наборе данных:"
   ]
  },
  {
   "cell_type": "code",
   "execution_count": 25,
   "id": "673b2c06",
   "metadata": {},
   "outputs": [
    {
     "data": {
      "text/plain": [
       "54"
      ]
     },
     "execution_count": 25,
     "metadata": {},
     "output_type": "execute_result"
    }
   ],
   "source": [
    "df.duplicated().sum() # подсчёт явных дубликатов"
   ]
  },
  {
   "cell_type": "markdown",
   "id": "a7976319",
   "metadata": {},
   "source": [
    "Удалим явные дубликаты в наборе данных:"
   ]
  },
  {
   "cell_type": "code",
   "execution_count": 26,
   "id": "59054260",
   "metadata": {},
   "outputs": [],
   "source": [
    "df = df.drop_duplicates().reset_index(drop=True) # удаление явных дубликатов (с удалением старых индексов и формированием новых)"
   ]
  },
  {
   "cell_type": "markdown",
   "id": "74f37fc1",
   "metadata": {},
   "source": [
    "Проверим и посчитаем количество явных дубликатов:"
   ]
  },
  {
   "cell_type": "code",
   "execution_count": 27,
   "id": "738b1e98",
   "metadata": {},
   "outputs": [
    {
     "data": {
      "text/plain": [
       "0"
      ]
     },
     "execution_count": 27,
     "metadata": {},
     "output_type": "execute_result"
    }
   ],
   "source": [
    "df.duplicated().sum() # проверка на отсутствие дубликатов"
   ]
  },
  {
   "cell_type": "markdown",
   "id": "17f14efe",
   "metadata": {},
   "source": [
    "Посмотрим уникальные значения столбца `education`:"
   ]
  },
  {
   "cell_type": "code",
   "execution_count": 28,
   "id": "4765146a",
   "metadata": {},
   "outputs": [
    {
     "data": {
      "text/plain": [
       "array(['ВЫСШЕЕ', 'Высшее', 'НАЧАЛЬНОЕ', 'НЕОКОНЧЕННОЕ ВЫСШЕЕ',\n",
       "       'Начальное', 'Неоконченное высшее', 'СРЕДНЕЕ', 'Среднее',\n",
       "       'УЧЕНАЯ СТЕПЕНЬ', 'Ученая степень', 'высшее', 'начальное',\n",
       "       'неоконченное высшее', 'среднее', 'ученая степень'], dtype=object)"
      ]
     },
     "execution_count": 28,
     "metadata": {},
     "output_type": "execute_result"
    }
   ],
   "source": [
    "df['education'].sort_values().unique()# просмотр уникальных названий жанров"
   ]
  },
  {
   "cell_type": "markdown",
   "id": "361eecce",
   "metadata": {},
   "source": [
    "Приведем все значения столбца `education` к одному регистру:"
   ]
  },
  {
   "cell_type": "code",
   "execution_count": 29,
   "id": "243ca393",
   "metadata": {},
   "outputs": [],
   "source": [
    "df['education'] = df['education'].str.lower() # приведем все значения к одному регистру"
   ]
  },
  {
   "cell_type": "markdown",
   "id": "cee3b8c6",
   "metadata": {},
   "source": [
    "Снова посмотрим уникальные значения столбца `education`:"
   ]
  },
  {
   "cell_type": "code",
   "execution_count": 30,
   "id": "eac9133a",
   "metadata": {},
   "outputs": [
    {
     "data": {
      "text/plain": [
       "array(['высшее', 'начальное', 'неоконченное высшее', 'среднее',\n",
       "       'ученая степень'], dtype=object)"
      ]
     },
     "execution_count": 30,
     "metadata": {},
     "output_type": "execute_result"
    }
   ],
   "source": [
    "df['education'].sort_values().unique() # просмотр уникальных названий жанров"
   ]
  },
  {
   "cell_type": "markdown",
   "id": "c3518aa0",
   "metadata": {},
   "source": [
    "Посмотрим уникальные значения столбца `family_status`:"
   ]
  },
  {
   "cell_type": "code",
   "execution_count": 31,
   "id": "d5c93c65",
   "metadata": {},
   "outputs": [
    {
     "data": {
      "text/plain": [
       "array(['Не женат / не замужем', 'в разводе', 'вдовец / вдова',\n",
       "       'гражданский брак', 'женат / замужем'], dtype=object)"
      ]
     },
     "execution_count": 31,
     "metadata": {},
     "output_type": "execute_result"
    }
   ],
   "source": [
    "df['family_status'].sort_values().unique() # просмотр уникальных значений"
   ]
  },
  {
   "cell_type": "markdown",
   "id": "b03b40d7",
   "metadata": {},
   "source": [
    "Приведем все значения столбца `family_status` к одному регистру:"
   ]
  },
  {
   "cell_type": "code",
   "execution_count": 32,
   "id": "afbf3ccb",
   "metadata": {},
   "outputs": [],
   "source": [
    "df['family_status'] = df['family_status'].str.lower() # приведем все значения к одному регистру"
   ]
  },
  {
   "cell_type": "markdown",
   "id": "bef82d4d",
   "metadata": {},
   "source": [
    "Снова посмотрим уникальные значения столбца `family_status`:"
   ]
  },
  {
   "cell_type": "code",
   "execution_count": 33,
   "id": "83feeb95",
   "metadata": {},
   "outputs": [
    {
     "data": {
      "text/plain": [
       "array(['в разводе', 'вдовец / вдова', 'гражданский брак',\n",
       "       'женат / замужем', 'не женат / не замужем'], dtype=object)"
      ]
     },
     "execution_count": 33,
     "metadata": {},
     "output_type": "execute_result"
    }
   ],
   "source": [
    "df['family_status'].sort_values().unique() # просмотр уникальных значений"
   ]
  },
  {
   "cell_type": "markdown",
   "id": "72be1f94",
   "metadata": {},
   "source": [
    "Посмотрим уникальные значения столбца `income_type`:"
   ]
  },
  {
   "cell_type": "code",
   "execution_count": 34,
   "id": "39f45dee",
   "metadata": {},
   "outputs": [
    {
     "data": {
      "text/plain": [
       "array(['безработный', 'в декрете', 'госслужащий', 'компаньон',\n",
       "       'пенсионер', 'предприниматель', 'сотрудник', 'студент'],\n",
       "      dtype=object)"
      ]
     },
     "execution_count": 34,
     "metadata": {},
     "output_type": "execute_result"
    }
   ],
   "source": [
    "df['income_type'].sort_values().unique() # просмотр уникальных значений"
   ]
  },
  {
   "cell_type": "markdown",
   "id": "ad4b474d",
   "metadata": {},
   "source": [
    "В столбце `income_type` оставим все как есть."
   ]
  },
  {
   "cell_type": "markdown",
   "id": "72548be5",
   "metadata": {},
   "source": [
    "Посмотрим уникальные значения столбца `purpose`:"
   ]
  },
  {
   "cell_type": "code",
   "execution_count": 35,
   "id": "b6c230a3",
   "metadata": {},
   "outputs": [
    {
     "data": {
      "text/plain": [
       "array(['автомобили', 'автомобиль', 'высшее образование',\n",
       "       'дополнительное образование', 'жилье',\n",
       "       'заняться высшим образованием', 'заняться образованием',\n",
       "       'на покупку автомобиля', 'на покупку подержанного автомобиля',\n",
       "       'на покупку своего автомобиля', 'на проведение свадьбы',\n",
       "       'недвижимость', 'образование', 'операции с жильем',\n",
       "       'операции с коммерческой недвижимостью',\n",
       "       'операции с недвижимостью', 'операции со своей недвижимостью',\n",
       "       'покупка жилой недвижимости', 'покупка жилья',\n",
       "       'покупка жилья для сдачи', 'покупка жилья для семьи',\n",
       "       'покупка коммерческой недвижимости', 'покупка недвижимости',\n",
       "       'покупка своего жилья', 'получение высшего образования',\n",
       "       'получение дополнительного образования', 'получение образования',\n",
       "       'приобретение автомобиля', 'профильное образование',\n",
       "       'ремонт жилью', 'свадьба', 'свой автомобиль',\n",
       "       'сделка с автомобилем', 'сделка с подержанным автомобилем',\n",
       "       'строительство жилой недвижимости', 'строительство недвижимости',\n",
       "       'строительство собственной недвижимости', 'сыграть свадьбу'],\n",
       "      dtype=object)"
      ]
     },
     "execution_count": 35,
     "metadata": {},
     "output_type": "execute_result"
    }
   ],
   "source": [
    "df['purpose'].sort_values().unique() # просмотр уникальных значений"
   ]
  },
  {
   "cell_type": "markdown",
   "id": "69dd0606",
   "metadata": {},
   "source": [
    "В столбце `purpose` оставим все как есть."
   ]
  },
  {
   "cell_type": "markdown",
   "id": "1457f16e",
   "metadata": {},
   "source": [
    "### Формирование дополнительных датафреймов словарей, декомпозиция исходного датафрейма."
   ]
  },
  {
   "cell_type": "markdown",
   "id": "c36704f8",
   "metadata": {},
   "source": [
    "Формируем словари для education и family_status.Выделим словарь для education:"
   ]
  },
  {
   "cell_type": "code",
   "execution_count": 36,
   "id": "654e8e5c",
   "metadata": {},
   "outputs": [
    {
     "data": {
      "text/html": [
       "<div>\n",
       "<style scoped>\n",
       "    .dataframe tbody tr th:only-of-type {\n",
       "        vertical-align: middle;\n",
       "    }\n",
       "\n",
       "    .dataframe tbody tr th {\n",
       "        vertical-align: top;\n",
       "    }\n",
       "\n",
       "    .dataframe thead th {\n",
       "        text-align: right;\n",
       "    }\n",
       "</style>\n",
       "<table border=\"1\" class=\"dataframe\">\n",
       "  <thead>\n",
       "    <tr style=\"text-align: right;\">\n",
       "      <th></th>\n",
       "      <th>education_id</th>\n",
       "      <th>education</th>\n",
       "    </tr>\n",
       "  </thead>\n",
       "  <tbody>\n",
       "    <tr>\n",
       "      <th>0</th>\n",
       "      <td>0</td>\n",
       "      <td>высшее</td>\n",
       "    </tr>\n",
       "    <tr>\n",
       "      <th>1</th>\n",
       "      <td>1</td>\n",
       "      <td>среднее</td>\n",
       "    </tr>\n",
       "    <tr>\n",
       "      <th>2</th>\n",
       "      <td>2</td>\n",
       "      <td>неоконченное высшее</td>\n",
       "    </tr>\n",
       "    <tr>\n",
       "      <th>3</th>\n",
       "      <td>3</td>\n",
       "      <td>начальное</td>\n",
       "    </tr>\n",
       "    <tr>\n",
       "      <th>4</th>\n",
       "      <td>4</td>\n",
       "      <td>ученая степень</td>\n",
       "    </tr>\n",
       "  </tbody>\n",
       "</table>\n",
       "</div>"
      ],
      "text/plain": [
       "   education_id            education\n",
       "0             0               высшее\n",
       "1             1              среднее\n",
       "2             2  неоконченное высшее\n",
       "3             3            начальное\n",
       "4             4       ученая степень"
      ]
     },
     "execution_count": 36,
     "metadata": {},
     "output_type": "execute_result"
    }
   ],
   "source": [
    "education_dict = df[['education_id', 'education']]\n",
    "education_dict = education_dict.drop_duplicates().reset_index(drop=True) # удалим дубликаты из словаря\n",
    "education_dict.head(10) # проверим содержимое"
   ]
  },
  {
   "cell_type": "markdown",
   "id": "c17225cd",
   "metadata": {},
   "source": [
    "Аналогичным образом поступим с family_status - выделим словарь для family_status:"
   ]
  },
  {
   "cell_type": "code",
   "execution_count": 37,
   "id": "e3ad17c9",
   "metadata": {},
   "outputs": [
    {
     "data": {
      "text/html": [
       "<div>\n",
       "<style scoped>\n",
       "    .dataframe tbody tr th:only-of-type {\n",
       "        vertical-align: middle;\n",
       "    }\n",
       "\n",
       "    .dataframe tbody tr th {\n",
       "        vertical-align: top;\n",
       "    }\n",
       "\n",
       "    .dataframe thead th {\n",
       "        text-align: right;\n",
       "    }\n",
       "</style>\n",
       "<table border=\"1\" class=\"dataframe\">\n",
       "  <thead>\n",
       "    <tr style=\"text-align: right;\">\n",
       "      <th></th>\n",
       "      <th>family_status_id</th>\n",
       "      <th>family_status</th>\n",
       "    </tr>\n",
       "  </thead>\n",
       "  <tbody>\n",
       "    <tr>\n",
       "      <th>0</th>\n",
       "      <td>0</td>\n",
       "      <td>женат / замужем</td>\n",
       "    </tr>\n",
       "    <tr>\n",
       "      <th>1</th>\n",
       "      <td>1</td>\n",
       "      <td>гражданский брак</td>\n",
       "    </tr>\n",
       "    <tr>\n",
       "      <th>2</th>\n",
       "      <td>2</td>\n",
       "      <td>вдовец / вдова</td>\n",
       "    </tr>\n",
       "    <tr>\n",
       "      <th>3</th>\n",
       "      <td>3</td>\n",
       "      <td>в разводе</td>\n",
       "    </tr>\n",
       "    <tr>\n",
       "      <th>4</th>\n",
       "      <td>4</td>\n",
       "      <td>не женат / не замужем</td>\n",
       "    </tr>\n",
       "  </tbody>\n",
       "</table>\n",
       "</div>"
      ],
      "text/plain": [
       "   family_status_id          family_status\n",
       "0                 0        женат / замужем\n",
       "1                 1       гражданский брак\n",
       "2                 2         вдовец / вдова\n",
       "3                 3              в разводе\n",
       "4                 4  не женат / не замужем"
      ]
     },
     "execution_count": 37,
     "metadata": {},
     "output_type": "execute_result"
    }
   ],
   "source": [
    "family_status_dict = df[['family_status_id', 'family_status']] # выделим словарь для family_status\n",
    "# удалим дубликаты из словаря\n",
    "family_status_dict = family_status_dict.drop_duplicates().reset_index(drop=True)\n",
    "# проверим содержимое\n",
    "family_status_dict.head(10)"
   ]
  },
  {
   "cell_type": "markdown",
   "id": "c16746f0",
   "metadata": {},
   "source": [
    "Так как словари мы сохранили, а id проставлены, удалим столбцы education и family_status из основной таблицы."
   ]
  },
  {
   "cell_type": "code",
   "execution_count": 38,
   "id": "d76b6fa4",
   "metadata": {
    "scrolled": true
   },
   "outputs": [],
   "source": [
    "del df['education'] # удаляем столбец education \n",
    "del df['family_status'] # удаляем столбец family_status"
   ]
  },
  {
   "cell_type": "markdown",
   "id": "4df4d578",
   "metadata": {},
   "source": [
    "Посмотрим, остались ли столбцы:"
   ]
  },
  {
   "cell_type": "code",
   "execution_count": 39,
   "id": "91ce004e",
   "metadata": {},
   "outputs": [
    {
     "name": "stdout",
     "output_type": "stream",
     "text": [
      "<class 'pandas.core.frame.DataFrame'>\n",
      "RangeIndex: 21471 entries, 0 to 21470\n",
      "Data columns (total 10 columns):\n",
      " #   Column            Non-Null Count  Dtype \n",
      "---  ------            --------------  ----- \n",
      " 0   children          21471 non-null  int64 \n",
      " 1   days_employed     21471 non-null  int64 \n",
      " 2   dob_years         21471 non-null  int64 \n",
      " 3   education_id      21471 non-null  int64 \n",
      " 4   family_status_id  21471 non-null  int64 \n",
      " 5   gender            21471 non-null  object\n",
      " 6   income_type       21471 non-null  object\n",
      " 7   debt              21471 non-null  int64 \n",
      " 8   total_income      21471 non-null  int64 \n",
      " 9   purpose           21471 non-null  object\n",
      "dtypes: int64(7), object(3)\n",
      "memory usage: 1.6+ MB\n"
     ]
    }
   ],
   "source": [
    "df.info()"
   ]
  },
  {
   "cell_type": "markdown",
   "id": "f8c72aa6",
   "metadata": {},
   "source": [
    "###  Категоризация дохода."
   ]
  },
  {
   "cell_type": "markdown",
   "id": "224e5129",
   "metadata": {},
   "source": [
    "Создадим столбец `total_income_category`  с категориями:  \n",
    "\n",
    " 0-30000 -'E';  \n",
    " 30001-50000 - 'D';  \n",
    " 50001-200000 - 'C';  \n",
    " 200001-1000000 -'B';  \n",
    " 1000001 и выше -'A'."
   ]
  },
  {
   "cell_type": "code",
   "execution_count": 40,
   "id": "a3794942",
   "metadata": {},
   "outputs": [],
   "source": [
    "def make_income_category(total_income): # создаём функцию для распределения по категориям \n",
    "    if total_income <= 30000:\n",
    "        return 'E'\n",
    "    if 30001 <= total_income <= 50000:\n",
    "        return 'D'\n",
    "    if 50001 <= total_income <= 200000:\n",
    "        return 'C'\n",
    "    if 200001 <= total_income <= 1000000:\n",
    "        return 'B'\n",
    "    if total_income >= 1000001:\n",
    "        return 'A'\n",
    "    return 'Ошибка'\n",
    "\n",
    "df['total_income_category'] = df['total_income'].apply(make_income_category) # заполняем столбец полученными категориями"
   ]
  },
  {
   "cell_type": "markdown",
   "id": "e58d67a9",
   "metadata": {},
   "source": [
    "Выводим на экран первые 10 строк нашей таблицы:"
   ]
  },
  {
   "cell_type": "code",
   "execution_count": 41,
   "id": "bbef4c18",
   "metadata": {},
   "outputs": [
    {
     "data": {
      "text/html": [
       "<div>\n",
       "<style scoped>\n",
       "    .dataframe tbody tr th:only-of-type {\n",
       "        vertical-align: middle;\n",
       "    }\n",
       "\n",
       "    .dataframe tbody tr th {\n",
       "        vertical-align: top;\n",
       "    }\n",
       "\n",
       "    .dataframe thead th {\n",
       "        text-align: right;\n",
       "    }\n",
       "</style>\n",
       "<table border=\"1\" class=\"dataframe\">\n",
       "  <thead>\n",
       "    <tr style=\"text-align: right;\">\n",
       "      <th></th>\n",
       "      <th>children</th>\n",
       "      <th>days_employed</th>\n",
       "      <th>dob_years</th>\n",
       "      <th>education_id</th>\n",
       "      <th>family_status_id</th>\n",
       "      <th>gender</th>\n",
       "      <th>income_type</th>\n",
       "      <th>debt</th>\n",
       "      <th>total_income</th>\n",
       "      <th>purpose</th>\n",
       "      <th>total_income_category</th>\n",
       "    </tr>\n",
       "  </thead>\n",
       "  <tbody>\n",
       "    <tr>\n",
       "      <th>0</th>\n",
       "      <td>1</td>\n",
       "      <td>8437</td>\n",
       "      <td>42</td>\n",
       "      <td>0</td>\n",
       "      <td>0</td>\n",
       "      <td>F</td>\n",
       "      <td>сотрудник</td>\n",
       "      <td>0</td>\n",
       "      <td>253875</td>\n",
       "      <td>покупка жилья</td>\n",
       "      <td>B</td>\n",
       "    </tr>\n",
       "    <tr>\n",
       "      <th>1</th>\n",
       "      <td>1</td>\n",
       "      <td>4024</td>\n",
       "      <td>36</td>\n",
       "      <td>1</td>\n",
       "      <td>0</td>\n",
       "      <td>F</td>\n",
       "      <td>сотрудник</td>\n",
       "      <td>0</td>\n",
       "      <td>112080</td>\n",
       "      <td>приобретение автомобиля</td>\n",
       "      <td>C</td>\n",
       "    </tr>\n",
       "    <tr>\n",
       "      <th>2</th>\n",
       "      <td>0</td>\n",
       "      <td>5623</td>\n",
       "      <td>33</td>\n",
       "      <td>1</td>\n",
       "      <td>0</td>\n",
       "      <td>M</td>\n",
       "      <td>сотрудник</td>\n",
       "      <td>0</td>\n",
       "      <td>145885</td>\n",
       "      <td>покупка жилья</td>\n",
       "      <td>C</td>\n",
       "    </tr>\n",
       "    <tr>\n",
       "      <th>3</th>\n",
       "      <td>3</td>\n",
       "      <td>4124</td>\n",
       "      <td>32</td>\n",
       "      <td>1</td>\n",
       "      <td>0</td>\n",
       "      <td>M</td>\n",
       "      <td>сотрудник</td>\n",
       "      <td>0</td>\n",
       "      <td>267628</td>\n",
       "      <td>дополнительное образование</td>\n",
       "      <td>B</td>\n",
       "    </tr>\n",
       "    <tr>\n",
       "      <th>4</th>\n",
       "      <td>0</td>\n",
       "      <td>340266</td>\n",
       "      <td>53</td>\n",
       "      <td>1</td>\n",
       "      <td>1</td>\n",
       "      <td>F</td>\n",
       "      <td>пенсионер</td>\n",
       "      <td>0</td>\n",
       "      <td>158616</td>\n",
       "      <td>сыграть свадьбу</td>\n",
       "      <td>C</td>\n",
       "    </tr>\n",
       "    <tr>\n",
       "      <th>5</th>\n",
       "      <td>0</td>\n",
       "      <td>926</td>\n",
       "      <td>27</td>\n",
       "      <td>0</td>\n",
       "      <td>1</td>\n",
       "      <td>M</td>\n",
       "      <td>компаньон</td>\n",
       "      <td>0</td>\n",
       "      <td>255763</td>\n",
       "      <td>покупка жилья</td>\n",
       "      <td>B</td>\n",
       "    </tr>\n",
       "    <tr>\n",
       "      <th>6</th>\n",
       "      <td>0</td>\n",
       "      <td>2879</td>\n",
       "      <td>43</td>\n",
       "      <td>0</td>\n",
       "      <td>0</td>\n",
       "      <td>F</td>\n",
       "      <td>компаньон</td>\n",
       "      <td>0</td>\n",
       "      <td>240525</td>\n",
       "      <td>операции с жильем</td>\n",
       "      <td>B</td>\n",
       "    </tr>\n",
       "    <tr>\n",
       "      <th>7</th>\n",
       "      <td>0</td>\n",
       "      <td>152</td>\n",
       "      <td>50</td>\n",
       "      <td>1</td>\n",
       "      <td>0</td>\n",
       "      <td>M</td>\n",
       "      <td>сотрудник</td>\n",
       "      <td>0</td>\n",
       "      <td>135823</td>\n",
       "      <td>образование</td>\n",
       "      <td>C</td>\n",
       "    </tr>\n",
       "    <tr>\n",
       "      <th>8</th>\n",
       "      <td>2</td>\n",
       "      <td>6929</td>\n",
       "      <td>35</td>\n",
       "      <td>0</td>\n",
       "      <td>1</td>\n",
       "      <td>F</td>\n",
       "      <td>сотрудник</td>\n",
       "      <td>0</td>\n",
       "      <td>95856</td>\n",
       "      <td>на проведение свадьбы</td>\n",
       "      <td>C</td>\n",
       "    </tr>\n",
       "    <tr>\n",
       "      <th>9</th>\n",
       "      <td>0</td>\n",
       "      <td>2188</td>\n",
       "      <td>41</td>\n",
       "      <td>1</td>\n",
       "      <td>0</td>\n",
       "      <td>M</td>\n",
       "      <td>сотрудник</td>\n",
       "      <td>0</td>\n",
       "      <td>144425</td>\n",
       "      <td>покупка жилья для семьи</td>\n",
       "      <td>C</td>\n",
       "    </tr>\n",
       "  </tbody>\n",
       "</table>\n",
       "</div>"
      ],
      "text/plain": [
       "   children  days_employed  dob_years  education_id  family_status_id gender  \\\n",
       "0         1           8437         42             0                 0      F   \n",
       "1         1           4024         36             1                 0      F   \n",
       "2         0           5623         33             1                 0      M   \n",
       "3         3           4124         32             1                 0      M   \n",
       "4         0         340266         53             1                 1      F   \n",
       "5         0            926         27             0                 1      M   \n",
       "6         0           2879         43             0                 0      F   \n",
       "7         0            152         50             1                 0      M   \n",
       "8         2           6929         35             0                 1      F   \n",
       "9         0           2188         41             1                 0      M   \n",
       "\n",
       "  income_type  debt  total_income                     purpose  \\\n",
       "0   сотрудник     0        253875               покупка жилья   \n",
       "1   сотрудник     0        112080     приобретение автомобиля   \n",
       "2   сотрудник     0        145885               покупка жилья   \n",
       "3   сотрудник     0        267628  дополнительное образование   \n",
       "4   пенсионер     0        158616             сыграть свадьбу   \n",
       "5   компаньон     0        255763               покупка жилья   \n",
       "6   компаньон     0        240525           операции с жильем   \n",
       "7   сотрудник     0        135823                 образование   \n",
       "8   сотрудник     0         95856       на проведение свадьбы   \n",
       "9   сотрудник     0        144425     покупка жилья для семьи   \n",
       "\n",
       "  total_income_category  \n",
       "0                     B  \n",
       "1                     C  \n",
       "2                     C  \n",
       "3                     B  \n",
       "4                     C  \n",
       "5                     B  \n",
       "6                     B  \n",
       "7                     C  \n",
       "8                     C  \n",
       "9                     C  "
      ]
     },
     "execution_count": 41,
     "metadata": {},
     "output_type": "execute_result"
    }
   ],
   "source": [
    "df.head(10) # выводим на экран первые 10 строк"
   ]
  },
  {
   "cell_type": "markdown",
   "id": "5b980ca2",
   "metadata": {},
   "source": [
    " Посмотрим данные на уровне подсчета уникальных значений:"
   ]
  },
  {
   "cell_type": "code",
   "execution_count": 42,
   "id": "c514e543",
   "metadata": {},
   "outputs": [
    {
     "data": {
      "text/plain": [
       "C    16033\n",
       "B     5041\n",
       "D      350\n",
       "A       25\n",
       "E       22\n",
       "Name: total_income_category, dtype: int64"
      ]
     },
     "execution_count": 42,
     "metadata": {},
     "output_type": "execute_result"
    }
   ],
   "source": [
    "df['total_income_category'].value_counts() #  посчитаем уникальные значения"
   ]
  },
  {
   "cell_type": "markdown",
   "id": "9bb45e69",
   "metadata": {},
   "source": [
    " Проверим, что никто не остался без категорий:"
   ]
  },
  {
   "cell_type": "code",
   "execution_count": 43,
   "id": "b6619df8",
   "metadata": {
    "scrolled": true
   },
   "outputs": [
    {
     "data": {
      "text/html": [
       "<div>\n",
       "<style scoped>\n",
       "    .dataframe tbody tr th:only-of-type {\n",
       "        vertical-align: middle;\n",
       "    }\n",
       "\n",
       "    .dataframe tbody tr th {\n",
       "        vertical-align: top;\n",
       "    }\n",
       "\n",
       "    .dataframe thead th {\n",
       "        text-align: right;\n",
       "    }\n",
       "</style>\n",
       "<table border=\"1\" class=\"dataframe\">\n",
       "  <thead>\n",
       "    <tr style=\"text-align: right;\">\n",
       "      <th></th>\n",
       "      <th>children</th>\n",
       "      <th>days_employed</th>\n",
       "      <th>dob_years</th>\n",
       "      <th>education_id</th>\n",
       "      <th>family_status_id</th>\n",
       "      <th>gender</th>\n",
       "      <th>income_type</th>\n",
       "      <th>debt</th>\n",
       "      <th>total_income</th>\n",
       "      <th>purpose</th>\n",
       "      <th>total_income_category</th>\n",
       "    </tr>\n",
       "  </thead>\n",
       "  <tbody>\n",
       "  </tbody>\n",
       "</table>\n",
       "</div>"
      ],
      "text/plain": [
       "Empty DataFrame\n",
       "Columns: [children, days_employed, dob_years, education_id, family_status_id, gender, income_type, debt, total_income, purpose, total_income_category]\n",
       "Index: []"
      ]
     },
     "execution_count": 43,
     "metadata": {},
     "output_type": "execute_result"
    }
   ],
   "source": [
    "df[df['total_income_category'] == ''] #проверим, что никто не остался без категории"
   ]
  },
  {
   "cell_type": "markdown",
   "id": "b8029a4d",
   "metadata": {},
   "source": [
    "### Категоризация целей кредита."
   ]
  },
  {
   "cell_type": "markdown",
   "id": "ee88c7e2",
   "metadata": {},
   "source": [
    "Создадим столбец `purpose_category` с категориями:  \n",
    "\n",
    "операции с автомобилем;  \n",
    "операции с недвижимостью;  \n",
    "проведение свадьбы;  \n",
    "получение образования."
   ]
  },
  {
   "cell_type": "code",
   "execution_count": 44,
   "id": "d26fdd7b",
   "metadata": {},
   "outputs": [],
   "source": [
    "def purpose_category(purpose): # создаём функцию для формирования категорий\n",
    "    if 'автомобил' in purpose:\n",
    "        return 'операции с автомобилем'\n",
    "    if 'свадьб' in purpose:\n",
    "        return 'проведение свадьбы'\n",
    "    if 'образован' in purpose:\n",
    "        return 'получение образования'\n",
    "    if 'жиль' in purpose:\n",
    "        return 'операции с недвижимостью'\n",
    "    if 'недвиж' in purpose:\n",
    "        return 'операции с недвижимостью'\n",
    "    return purpose"
   ]
  },
  {
   "cell_type": "markdown",
   "id": "fa887476",
   "metadata": {},
   "source": [
    "Формируем столбец `purpose_category` и заполняем его полученными категориями:"
   ]
  },
  {
   "cell_type": "code",
   "execution_count": 45,
   "id": "002908b8",
   "metadata": {
    "scrolled": true
   },
   "outputs": [],
   "source": [
    "df['purpose_category'] = df['purpose'].apply(purpose_category) # формируем столбец  и заполняем его полученными категориями"
   ]
  },
  {
   "cell_type": "markdown",
   "id": "652c1ad2",
   "metadata": {},
   "source": [
    "Выводим на экран первые 10 строк нашей таблицы:"
   ]
  },
  {
   "cell_type": "code",
   "execution_count": 46,
   "id": "f0acf929",
   "metadata": {},
   "outputs": [
    {
     "data": {
      "text/html": [
       "<div>\n",
       "<style scoped>\n",
       "    .dataframe tbody tr th:only-of-type {\n",
       "        vertical-align: middle;\n",
       "    }\n",
       "\n",
       "    .dataframe tbody tr th {\n",
       "        vertical-align: top;\n",
       "    }\n",
       "\n",
       "    .dataframe thead th {\n",
       "        text-align: right;\n",
       "    }\n",
       "</style>\n",
       "<table border=\"1\" class=\"dataframe\">\n",
       "  <thead>\n",
       "    <tr style=\"text-align: right;\">\n",
       "      <th></th>\n",
       "      <th>children</th>\n",
       "      <th>days_employed</th>\n",
       "      <th>dob_years</th>\n",
       "      <th>education_id</th>\n",
       "      <th>family_status_id</th>\n",
       "      <th>gender</th>\n",
       "      <th>income_type</th>\n",
       "      <th>debt</th>\n",
       "      <th>total_income</th>\n",
       "      <th>purpose</th>\n",
       "      <th>total_income_category</th>\n",
       "      <th>purpose_category</th>\n",
       "    </tr>\n",
       "  </thead>\n",
       "  <tbody>\n",
       "    <tr>\n",
       "      <th>0</th>\n",
       "      <td>1</td>\n",
       "      <td>8437</td>\n",
       "      <td>42</td>\n",
       "      <td>0</td>\n",
       "      <td>0</td>\n",
       "      <td>F</td>\n",
       "      <td>сотрудник</td>\n",
       "      <td>0</td>\n",
       "      <td>253875</td>\n",
       "      <td>покупка жилья</td>\n",
       "      <td>B</td>\n",
       "      <td>операции с недвижимостью</td>\n",
       "    </tr>\n",
       "    <tr>\n",
       "      <th>1</th>\n",
       "      <td>1</td>\n",
       "      <td>4024</td>\n",
       "      <td>36</td>\n",
       "      <td>1</td>\n",
       "      <td>0</td>\n",
       "      <td>F</td>\n",
       "      <td>сотрудник</td>\n",
       "      <td>0</td>\n",
       "      <td>112080</td>\n",
       "      <td>приобретение автомобиля</td>\n",
       "      <td>C</td>\n",
       "      <td>операции с автомобилем</td>\n",
       "    </tr>\n",
       "    <tr>\n",
       "      <th>2</th>\n",
       "      <td>0</td>\n",
       "      <td>5623</td>\n",
       "      <td>33</td>\n",
       "      <td>1</td>\n",
       "      <td>0</td>\n",
       "      <td>M</td>\n",
       "      <td>сотрудник</td>\n",
       "      <td>0</td>\n",
       "      <td>145885</td>\n",
       "      <td>покупка жилья</td>\n",
       "      <td>C</td>\n",
       "      <td>операции с недвижимостью</td>\n",
       "    </tr>\n",
       "    <tr>\n",
       "      <th>3</th>\n",
       "      <td>3</td>\n",
       "      <td>4124</td>\n",
       "      <td>32</td>\n",
       "      <td>1</td>\n",
       "      <td>0</td>\n",
       "      <td>M</td>\n",
       "      <td>сотрудник</td>\n",
       "      <td>0</td>\n",
       "      <td>267628</td>\n",
       "      <td>дополнительное образование</td>\n",
       "      <td>B</td>\n",
       "      <td>получение образования</td>\n",
       "    </tr>\n",
       "    <tr>\n",
       "      <th>4</th>\n",
       "      <td>0</td>\n",
       "      <td>340266</td>\n",
       "      <td>53</td>\n",
       "      <td>1</td>\n",
       "      <td>1</td>\n",
       "      <td>F</td>\n",
       "      <td>пенсионер</td>\n",
       "      <td>0</td>\n",
       "      <td>158616</td>\n",
       "      <td>сыграть свадьбу</td>\n",
       "      <td>C</td>\n",
       "      <td>проведение свадьбы</td>\n",
       "    </tr>\n",
       "    <tr>\n",
       "      <th>5</th>\n",
       "      <td>0</td>\n",
       "      <td>926</td>\n",
       "      <td>27</td>\n",
       "      <td>0</td>\n",
       "      <td>1</td>\n",
       "      <td>M</td>\n",
       "      <td>компаньон</td>\n",
       "      <td>0</td>\n",
       "      <td>255763</td>\n",
       "      <td>покупка жилья</td>\n",
       "      <td>B</td>\n",
       "      <td>операции с недвижимостью</td>\n",
       "    </tr>\n",
       "    <tr>\n",
       "      <th>6</th>\n",
       "      <td>0</td>\n",
       "      <td>2879</td>\n",
       "      <td>43</td>\n",
       "      <td>0</td>\n",
       "      <td>0</td>\n",
       "      <td>F</td>\n",
       "      <td>компаньон</td>\n",
       "      <td>0</td>\n",
       "      <td>240525</td>\n",
       "      <td>операции с жильем</td>\n",
       "      <td>B</td>\n",
       "      <td>операции с недвижимостью</td>\n",
       "    </tr>\n",
       "    <tr>\n",
       "      <th>7</th>\n",
       "      <td>0</td>\n",
       "      <td>152</td>\n",
       "      <td>50</td>\n",
       "      <td>1</td>\n",
       "      <td>0</td>\n",
       "      <td>M</td>\n",
       "      <td>сотрудник</td>\n",
       "      <td>0</td>\n",
       "      <td>135823</td>\n",
       "      <td>образование</td>\n",
       "      <td>C</td>\n",
       "      <td>получение образования</td>\n",
       "    </tr>\n",
       "    <tr>\n",
       "      <th>8</th>\n",
       "      <td>2</td>\n",
       "      <td>6929</td>\n",
       "      <td>35</td>\n",
       "      <td>0</td>\n",
       "      <td>1</td>\n",
       "      <td>F</td>\n",
       "      <td>сотрудник</td>\n",
       "      <td>0</td>\n",
       "      <td>95856</td>\n",
       "      <td>на проведение свадьбы</td>\n",
       "      <td>C</td>\n",
       "      <td>проведение свадьбы</td>\n",
       "    </tr>\n",
       "    <tr>\n",
       "      <th>9</th>\n",
       "      <td>0</td>\n",
       "      <td>2188</td>\n",
       "      <td>41</td>\n",
       "      <td>1</td>\n",
       "      <td>0</td>\n",
       "      <td>M</td>\n",
       "      <td>сотрудник</td>\n",
       "      <td>0</td>\n",
       "      <td>144425</td>\n",
       "      <td>покупка жилья для семьи</td>\n",
       "      <td>C</td>\n",
       "      <td>операции с недвижимостью</td>\n",
       "    </tr>\n",
       "  </tbody>\n",
       "</table>\n",
       "</div>"
      ],
      "text/plain": [
       "   children  days_employed  dob_years  education_id  family_status_id gender  \\\n",
       "0         1           8437         42             0                 0      F   \n",
       "1         1           4024         36             1                 0      F   \n",
       "2         0           5623         33             1                 0      M   \n",
       "3         3           4124         32             1                 0      M   \n",
       "4         0         340266         53             1                 1      F   \n",
       "5         0            926         27             0                 1      M   \n",
       "6         0           2879         43             0                 0      F   \n",
       "7         0            152         50             1                 0      M   \n",
       "8         2           6929         35             0                 1      F   \n",
       "9         0           2188         41             1                 0      M   \n",
       "\n",
       "  income_type  debt  total_income                     purpose  \\\n",
       "0   сотрудник     0        253875               покупка жилья   \n",
       "1   сотрудник     0        112080     приобретение автомобиля   \n",
       "2   сотрудник     0        145885               покупка жилья   \n",
       "3   сотрудник     0        267628  дополнительное образование   \n",
       "4   пенсионер     0        158616             сыграть свадьбу   \n",
       "5   компаньон     0        255763               покупка жилья   \n",
       "6   компаньон     0        240525           операции с жильем   \n",
       "7   сотрудник     0        135823                 образование   \n",
       "8   сотрудник     0         95856       на проведение свадьбы   \n",
       "9   сотрудник     0        144425     покупка жилья для семьи   \n",
       "\n",
       "  total_income_category          purpose_category  \n",
       "0                     B  операции с недвижимостью  \n",
       "1                     C    операции с автомобилем  \n",
       "2                     C  операции с недвижимостью  \n",
       "3                     B     получение образования  \n",
       "4                     C        проведение свадьбы  \n",
       "5                     B  операции с недвижимостью  \n",
       "6                     B  операции с недвижимостью  \n",
       "7                     C     получение образования  \n",
       "8                     C        проведение свадьбы  \n",
       "9                     C  операции с недвижимостью  "
      ]
     },
     "execution_count": 46,
     "metadata": {},
     "output_type": "execute_result"
    }
   ],
   "source": [
    "df.head(10) # выводим на экран первые 10 строк"
   ]
  },
  {
   "cell_type": "markdown",
   "id": "c4df9b58",
   "metadata": {},
   "source": [
    "Проверим, что никто не остался без категорий:"
   ]
  },
  {
   "cell_type": "code",
   "execution_count": 47,
   "id": "02dec8fa",
   "metadata": {
    "scrolled": true
   },
   "outputs": [
    {
     "data": {
      "text/html": [
       "<div>\n",
       "<style scoped>\n",
       "    .dataframe tbody tr th:only-of-type {\n",
       "        vertical-align: middle;\n",
       "    }\n",
       "\n",
       "    .dataframe tbody tr th {\n",
       "        vertical-align: top;\n",
       "    }\n",
       "\n",
       "    .dataframe thead th {\n",
       "        text-align: right;\n",
       "    }\n",
       "</style>\n",
       "<table border=\"1\" class=\"dataframe\">\n",
       "  <thead>\n",
       "    <tr style=\"text-align: right;\">\n",
       "      <th></th>\n",
       "      <th>children</th>\n",
       "      <th>days_employed</th>\n",
       "      <th>dob_years</th>\n",
       "      <th>education_id</th>\n",
       "      <th>family_status_id</th>\n",
       "      <th>gender</th>\n",
       "      <th>income_type</th>\n",
       "      <th>debt</th>\n",
       "      <th>total_income</th>\n",
       "      <th>purpose</th>\n",
       "      <th>total_income_category</th>\n",
       "      <th>purpose_category</th>\n",
       "    </tr>\n",
       "  </thead>\n",
       "  <tbody>\n",
       "  </tbody>\n",
       "</table>\n",
       "</div>"
      ],
      "text/plain": [
       "Empty DataFrame\n",
       "Columns: [children, days_employed, dob_years, education_id, family_status_id, gender, income_type, debt, total_income, purpose, total_income_category, purpose_category]\n",
       "Index: []"
      ]
     },
     "execution_count": 47,
     "metadata": {},
     "output_type": "execute_result"
    }
   ],
   "source": [
    "df[df['purpose_category'] == ''] #проверим, что никто не остался без категории"
   ]
  },
  {
   "cell_type": "markdown",
   "id": "a8b82d9d",
   "metadata": {},
   "source": [
    "## Ответы на вопросы."
   ]
  },
  {
   "cell_type": "markdown",
   "id": "92abef94",
   "metadata": {},
   "source": [
    "**Вопрос 1: есть ли зависимость между количеством детей и возвратом кредита в строк?**"
   ]
  },
  {
   "cell_type": "markdown",
   "id": "50b91434",
   "metadata": {},
   "source": [
    "Создадим функцию, которая посчитает нам отношение в процентах, будем использовать для ответов на все вопросы."
   ]
  },
  {
   "cell_type": "code",
   "execution_count": 48,
   "id": "0c5b80b4",
   "metadata": {},
   "outputs": [],
   "source": [
    "def make_proportion(pdSerises):\n",
    "    return str(round((pdSerises.sum() / pdSerises.count()) * 100, 2)) + '%'"
   ]
  },
  {
   "cell_type": "markdown",
   "id": "b310ae17",
   "metadata": {},
   "source": [
    "Построим сводную таблицу для ответа на вопрос:"
   ]
  },
  {
   "cell_type": "code",
   "execution_count": 49,
   "id": "73a1ca29",
   "metadata": {},
   "outputs": [
    {
     "data": {
      "text/html": [
       "<div>\n",
       "<style scoped>\n",
       "    .dataframe tbody tr th:only-of-type {\n",
       "        vertical-align: middle;\n",
       "    }\n",
       "\n",
       "    .dataframe tbody tr th {\n",
       "        vertical-align: top;\n",
       "    }\n",
       "\n",
       "    .dataframe thead tr th {\n",
       "        text-align: left;\n",
       "    }\n",
       "\n",
       "    .dataframe thead tr:last-of-type th {\n",
       "        text-align: right;\n",
       "    }\n",
       "</style>\n",
       "<table border=\"1\" class=\"dataframe\">\n",
       "  <thead>\n",
       "    <tr>\n",
       "      <th></th>\n",
       "      <th>sum</th>\n",
       "      <th>count</th>\n",
       "      <th>make_proportion</th>\n",
       "    </tr>\n",
       "    <tr>\n",
       "      <th></th>\n",
       "      <th>debt</th>\n",
       "      <th>debt</th>\n",
       "      <th>debt</th>\n",
       "    </tr>\n",
       "    <tr>\n",
       "      <th>children</th>\n",
       "      <th></th>\n",
       "      <th></th>\n",
       "      <th></th>\n",
       "    </tr>\n",
       "  </thead>\n",
       "  <tbody>\n",
       "    <tr>\n",
       "      <th>5</th>\n",
       "      <td>0</td>\n",
       "      <td>9</td>\n",
       "      <td>0.0%</td>\n",
       "    </tr>\n",
       "    <tr>\n",
       "      <th>0</th>\n",
       "      <td>1064</td>\n",
       "      <td>14154</td>\n",
       "      <td>7.52%</td>\n",
       "    </tr>\n",
       "    <tr>\n",
       "      <th>3</th>\n",
       "      <td>27</td>\n",
       "      <td>330</td>\n",
       "      <td>8.18%</td>\n",
       "    </tr>\n",
       "    <tr>\n",
       "      <th>1</th>\n",
       "      <td>444</td>\n",
       "      <td>4809</td>\n",
       "      <td>9.23%</td>\n",
       "    </tr>\n",
       "    <tr>\n",
       "      <th>2</th>\n",
       "      <td>202</td>\n",
       "      <td>2128</td>\n",
       "      <td>9.49%</td>\n",
       "    </tr>\n",
       "    <tr>\n",
       "      <th>4</th>\n",
       "      <td>4</td>\n",
       "      <td>41</td>\n",
       "      <td>9.76%</td>\n",
       "    </tr>\n",
       "  </tbody>\n",
       "</table>\n",
       "</div>"
      ],
      "text/plain": [
       "           sum  count make_proportion\n",
       "          debt   debt            debt\n",
       "children                             \n",
       "5            0      9            0.0%\n",
       "0         1064  14154           7.52%\n",
       "3           27    330           8.18%\n",
       "1          444   4809           9.23%\n",
       "2          202   2128           9.49%\n",
       "4            4     41           9.76%"
      ]
     },
     "execution_count": 49,
     "metadata": {},
     "output_type": "execute_result"
    }
   ],
   "source": [
    "data_pivot = df.pivot_table(index=['children'], values=[\"debt\"], aggfunc=['sum', 'count', make_proportion])\n",
    "# сортируем, чтобы сразу видеть у кого ситуация лучше\n",
    "data_pivot = data_pivot.sort_values(by=('make_proportion', 'debt'))\n",
    "data_pivot"
   ]
  },
  {
   "cell_type": "markdown",
   "id": "419c8200",
   "metadata": {},
   "source": [
    "***Вывод:***  С увеличением количества детей мы видим увеличение количества просроченных задолженностей, хотя люди с 3 детьми чаще платят в срок чем люди с 1 ребенком. Данные не однозначные, возможно, нужна большая выборка, чем та, которую мы имеем. Бездетные, как правило реже просрачивают оплату по кредиту, чем люди с детьми."
   ]
  },
  {
   "cell_type": "markdown",
   "id": "133fecba",
   "metadata": {},
   "source": [
    "**Вопрос 2: есть ли зависимость между семейным положением и возвратом кредита в срок?**"
   ]
  },
  {
   "cell_type": "markdown",
   "id": "ba98cc9b",
   "metadata": {},
   "source": [
    "Поскольку мы до этого удаляли из основных данных текстовые значения family_status, тут необходимо их вернуть:"
   ]
  },
  {
   "cell_type": "code",
   "execution_count": 50,
   "id": "e4130fd8",
   "metadata": {},
   "outputs": [],
   "source": [
    "df_with_family_status = df.merge(family_status_dict, on='family_status_id', how='left')"
   ]
  },
  {
   "cell_type": "markdown",
   "id": "4b6632ee",
   "metadata": {},
   "source": [
    "Построим сводную таблицу для ответа на вопрос (по фрейму со значениями из словаря):"
   ]
  },
  {
   "cell_type": "code",
   "execution_count": 51,
   "id": "197e5cc0",
   "metadata": {},
   "outputs": [
    {
     "data": {
      "text/html": [
       "<div>\n",
       "<style scoped>\n",
       "    .dataframe tbody tr th:only-of-type {\n",
       "        vertical-align: middle;\n",
       "    }\n",
       "\n",
       "    .dataframe tbody tr th {\n",
       "        vertical-align: top;\n",
       "    }\n",
       "\n",
       "    .dataframe thead tr th {\n",
       "        text-align: left;\n",
       "    }\n",
       "\n",
       "    .dataframe thead tr:last-of-type th {\n",
       "        text-align: right;\n",
       "    }\n",
       "</style>\n",
       "<table border=\"1\" class=\"dataframe\">\n",
       "  <thead>\n",
       "    <tr>\n",
       "      <th></th>\n",
       "      <th>sum</th>\n",
       "      <th>count</th>\n",
       "      <th>make_proportion</th>\n",
       "    </tr>\n",
       "    <tr>\n",
       "      <th></th>\n",
       "      <th>debt</th>\n",
       "      <th>debt</th>\n",
       "      <th>debt</th>\n",
       "    </tr>\n",
       "    <tr>\n",
       "      <th>family_status</th>\n",
       "      <th></th>\n",
       "      <th></th>\n",
       "      <th></th>\n",
       "    </tr>\n",
       "  </thead>\n",
       "  <tbody>\n",
       "    <tr>\n",
       "      <th>вдовец / вдова</th>\n",
       "      <td>63</td>\n",
       "      <td>959</td>\n",
       "      <td>6.57%</td>\n",
       "    </tr>\n",
       "    <tr>\n",
       "      <th>в разводе</th>\n",
       "      <td>85</td>\n",
       "      <td>1195</td>\n",
       "      <td>7.11%</td>\n",
       "    </tr>\n",
       "    <tr>\n",
       "      <th>женат / замужем</th>\n",
       "      <td>931</td>\n",
       "      <td>12344</td>\n",
       "      <td>7.54%</td>\n",
       "    </tr>\n",
       "    <tr>\n",
       "      <th>гражданский брак</th>\n",
       "      <td>388</td>\n",
       "      <td>4163</td>\n",
       "      <td>9.32%</td>\n",
       "    </tr>\n",
       "    <tr>\n",
       "      <th>не женат / не замужем</th>\n",
       "      <td>274</td>\n",
       "      <td>2810</td>\n",
       "      <td>9.75%</td>\n",
       "    </tr>\n",
       "  </tbody>\n",
       "</table>\n",
       "</div>"
      ],
      "text/plain": [
       "                       sum  count make_proportion\n",
       "                      debt   debt            debt\n",
       "family_status                                    \n",
       "вдовец / вдова          63    959           6.57%\n",
       "в разводе               85   1195           7.11%\n",
       "женат / замужем        931  12344           7.54%\n",
       "гражданский брак       388   4163           9.32%\n",
       "не женат / не замужем  274   2810           9.75%"
      ]
     },
     "execution_count": 51,
     "metadata": {},
     "output_type": "execute_result"
    }
   ],
   "source": [
    "data_pivot = df_with_family_status.pivot_table(index=['family_status'], values=[\"debt\"], aggfunc=['sum', 'count', make_proportion])\n",
    "# сортируем, чтобы сразу видеть у кого ситуация лучше\n",
    "data_pivot = data_pivot.sort_values(by=('make_proportion', 'debt'))\n",
    "data_pivot"
   ]
  },
  {
   "cell_type": "markdown",
   "id": "3e493df3",
   "metadata": {},
   "source": [
    "***Вывод:***  Расчеты показали, что неженатые\\незамужние, а также лица состоящие в гражданском браке в процентном соотношении чаще допускают задолженности по кредитам, из этого можно сделать вывод, что наиболее надежные заемщики семейные, либо побывавшие в семейных отношениях."
   ]
  },
  {
   "cell_type": "markdown",
   "id": "edbcdd42",
   "metadata": {},
   "source": [
    "**Вопрос 3: есть ли зависимость между уровнем дохода и возвратом кредита в срок?**"
   ]
  },
  {
   "cell_type": "code",
   "execution_count": 52,
   "id": "84bcf306",
   "metadata": {},
   "outputs": [
    {
     "data": {
      "text/plain": [
       "total_income_category\n",
       "A    0.080000\n",
       "B    0.070621\n",
       "C    0.084825\n",
       "D    0.060000\n",
       "E    0.090909\n",
       "Name: debt, dtype: float64"
      ]
     },
     "execution_count": 52,
     "metadata": {},
     "output_type": "execute_result"
    }
   ],
   "source": [
    "df.groupby('total_income_category')['debt'].mean() # сгруппируем данные по уровню дохода и возвратом кредита, посчитаем долю невозврата"
   ]
  },
  {
   "cell_type": "markdown",
   "id": "b098d892",
   "metadata": {},
   "source": [
    "***Вывод:***  Низкий доход немного влияет в худшую сторону на возврат кредита в срок, но не так значительно, как мы могли предполагать до расчетов."
   ]
  },
  {
   "cell_type": "markdown",
   "id": "fee867db",
   "metadata": {},
   "source": [
    " **Вопрос 4: как разные цели кредита влияют на его возврат в срок?**"
   ]
  },
  {
   "cell_type": "code",
   "execution_count": 53,
   "id": "a869a3d0",
   "metadata": {},
   "outputs": [
    {
     "data": {
      "text/plain": [
       "purpose_category\n",
       "операции с автомобилем      0.093547\n",
       "операции с недвижимостью    0.072314\n",
       "получение образования       0.092177\n",
       "проведение свадьбы          0.079657\n",
       "Name: debt, dtype: float64"
      ]
     },
     "execution_count": 53,
     "metadata": {},
     "output_type": "execute_result"
    }
   ],
   "source": [
    "df.groupby('purpose_category')['debt'].mean() # сгруппируем данные по целям кредита и возвратом кредита, посчитаем долю невозврата"
   ]
  },
  {
   "cell_type": "markdown",
   "id": "f2234cf2",
   "metadata": {},
   "source": [
    "***Вывод:***  Если смотреть по целям кредита, то тут уже заметная разница: по кредитам на автомобиль и образование чаще допускают просрочки. Кредиты на недвижмость хоть и являются наиболее крупными, но и заемщики, как показывают расчеты, относятся к ним более серьезно."
   ]
  },
  {
   "cell_type": "markdown",
   "id": "f184e51e",
   "metadata": {},
   "source": [
    "## Общий вывод:"
   ]
  },
  {
   "cell_type": "markdown",
   "id": "ad604053",
   "metadata": {},
   "source": [
    "В нашем исследовании необходимо ответить на главный вопрос: влияет ли семейное положение и количество детей клиента на факт погашения кредита в срок."
   ]
  },
  {
   "cell_type": "markdown",
   "id": "2efae6ab",
   "metadata": {},
   "source": [
    "Проанализировав полученные данны в ходе проекта, мы можем предоставить общую картину для кредитного отдела банка.  \n",
    "Главной задачей было разобраться с влиянием семейного положения и количества детей на погашение кредитам в срок.\n",
    "\n",
    "Теперь мы можем сделать однозначный вывод: ваш лучший заемщик - это человек, состоящий в браке\\разведенный и не имеющий детей.  \n",
    "В идеале, если он берет кредит на недвижимость и имеет высокий доход.  \n",
    "Отдельно хотелось бы отметить заемщиков с 5-ю детьми, которые не допустили ни одной просрочки по кредиту."
   ]
  },
  {
   "cell_type": "code",
   "execution_count": null,
   "id": "77224d6e",
   "metadata": {},
   "outputs": [],
   "source": []
  }
 ],
 "metadata": {
  "ExecuteTimeLog": [
   {
    "duration": 618,
    "start_time": "2022-03-07T10:56:38.689Z"
   },
   {
    "duration": 692,
    "start_time": "2022-03-07T16:17:17.924Z"
   },
   {
    "duration": 12,
    "start_time": "2022-03-07T16:17:18.618Z"
   },
   {
    "duration": 5,
    "start_time": "2022-03-07T16:17:18.632Z"
   },
   {
    "duration": 12,
    "start_time": "2022-03-07T16:18:55.755Z"
   },
   {
    "duration": 5,
    "start_time": "2022-03-07T18:01:54.726Z"
   },
   {
    "duration": 306,
    "start_time": "2022-03-07T18:55:28.869Z"
   },
   {
    "duration": 18,
    "start_time": "2022-03-07T18:55:59.106Z"
   },
   {
    "duration": 23,
    "start_time": "2022-03-07T18:57:36.370Z"
   },
   {
    "duration": 11,
    "start_time": "2022-03-07T18:57:58.127Z"
   },
   {
    "duration": 63,
    "start_time": "2022-03-07T20:16:19.431Z"
   },
   {
    "duration": 893,
    "start_time": "2022-03-08T14:26:03.015Z"
   },
   {
    "duration": 15,
    "start_time": "2022-03-08T14:26:03.911Z"
   },
   {
    "duration": 13,
    "start_time": "2022-03-08T14:26:03.928Z"
   },
   {
    "duration": 53,
    "start_time": "2022-03-08T14:26:03.943Z"
   },
   {
    "duration": 19,
    "start_time": "2022-03-08T14:26:03.999Z"
   },
   {
    "duration": 13,
    "start_time": "2022-03-08T14:26:04.020Z"
   },
   {
    "duration": 7,
    "start_time": "2022-03-08T15:26:17.683Z"
   },
   {
    "duration": 7,
    "start_time": "2022-03-08T15:26:41.241Z"
   },
   {
    "duration": 7,
    "start_time": "2022-03-08T15:27:36.591Z"
   },
   {
    "duration": 6,
    "start_time": "2022-03-08T15:28:43.877Z"
   },
   {
    "duration": 7,
    "start_time": "2022-03-08T15:29:07.165Z"
   },
   {
    "duration": 6,
    "start_time": "2022-03-08T15:29:32.646Z"
   },
   {
    "duration": 79,
    "start_time": "2022-03-08T15:30:12.685Z"
   },
   {
    "duration": 23,
    "start_time": "2022-03-08T15:30:12.766Z"
   },
   {
    "duration": 12,
    "start_time": "2022-03-08T15:30:12.792Z"
   },
   {
    "duration": 6,
    "start_time": "2022-03-08T15:30:12.806Z"
   },
   {
    "duration": 9,
    "start_time": "2022-03-08T15:30:12.814Z"
   },
   {
    "duration": 7,
    "start_time": "2022-03-08T15:30:12.825Z"
   },
   {
    "duration": 69,
    "start_time": "2022-03-08T15:30:12.835Z"
   },
   {
    "duration": 20,
    "start_time": "2022-03-08T15:30:12.907Z"
   },
   {
    "duration": 12,
    "start_time": "2022-03-08T15:30:12.929Z"
   },
   {
    "duration": 15,
    "start_time": "2022-03-08T15:43:46.529Z"
   },
   {
    "duration": 16,
    "start_time": "2022-03-08T16:22:08.154Z"
   },
   {
    "duration": 17,
    "start_time": "2022-03-08T16:22:23.154Z"
   },
   {
    "duration": 8,
    "start_time": "2022-03-08T16:23:31.604Z"
   },
   {
    "duration": 24,
    "start_time": "2022-03-08T16:35:53.601Z"
   },
   {
    "duration": 28,
    "start_time": "2022-03-08T16:36:47.769Z"
   },
   {
    "duration": 22,
    "start_time": "2022-03-08T16:37:12.072Z"
   },
   {
    "duration": 20,
    "start_time": "2022-03-08T16:38:32.155Z"
   },
   {
    "duration": 16,
    "start_time": "2022-03-08T16:41:12.319Z"
   },
   {
    "duration": 33,
    "start_time": "2022-03-08T16:41:28.783Z"
   },
   {
    "duration": 32,
    "start_time": "2022-03-08T16:43:17.007Z"
   },
   {
    "duration": 24,
    "start_time": "2022-03-08T16:44:57.577Z"
   },
   {
    "duration": 76,
    "start_time": "2022-03-08T16:51:28.680Z"
   },
   {
    "duration": 30,
    "start_time": "2022-03-08T16:51:28.759Z"
   },
   {
    "duration": 11,
    "start_time": "2022-03-08T16:51:28.792Z"
   },
   {
    "duration": 6,
    "start_time": "2022-03-08T16:51:28.806Z"
   },
   {
    "duration": 6,
    "start_time": "2022-03-08T16:51:28.814Z"
   },
   {
    "duration": 5,
    "start_time": "2022-03-08T16:51:28.822Z"
   },
   {
    "duration": 67,
    "start_time": "2022-03-08T16:51:28.829Z"
   },
   {
    "duration": 21,
    "start_time": "2022-03-08T16:51:28.898Z"
   },
   {
    "duration": 12,
    "start_time": "2022-03-08T16:51:28.923Z"
   },
   {
    "duration": 16,
    "start_time": "2022-03-08T16:51:28.937Z"
   },
   {
    "duration": 38,
    "start_time": "2022-03-08T16:51:28.955Z"
   },
   {
    "duration": 24,
    "start_time": "2022-03-08T16:51:28.995Z"
   },
   {
    "duration": 27,
    "start_time": "2022-03-08T16:51:29.021Z"
   },
   {
    "duration": 55,
    "start_time": "2022-03-08T16:51:29.050Z"
   },
   {
    "duration": 22,
    "start_time": "2022-03-08T16:51:29.107Z"
   },
   {
    "duration": 16,
    "start_time": "2022-03-08T16:51:29.132Z"
   },
   {
    "duration": 64,
    "start_time": "2022-03-08T16:51:29.151Z"
   },
   {
    "duration": 22,
    "start_time": "2022-03-08T16:51:29.217Z"
   },
   {
    "duration": 8,
    "start_time": "2022-03-08T16:52:42.905Z"
   },
   {
    "duration": 22,
    "start_time": "2022-03-08T16:53:23.908Z"
   },
   {
    "duration": 22,
    "start_time": "2022-03-08T16:54:44.483Z"
   },
   {
    "duration": 25,
    "start_time": "2022-03-08T16:55:53.996Z"
   },
   {
    "duration": 8,
    "start_time": "2022-03-08T17:09:47.877Z"
   },
   {
    "duration": 8,
    "start_time": "2022-03-08T17:10:23.777Z"
   },
   {
    "duration": 9,
    "start_time": "2022-03-08T17:11:41.893Z"
   },
   {
    "duration": 12,
    "start_time": "2022-03-08T17:14:20.800Z"
   },
   {
    "duration": 11,
    "start_time": "2022-03-08T17:14:29.557Z"
   },
   {
    "duration": 9,
    "start_time": "2022-03-08T17:14:31.903Z"
   },
   {
    "duration": 14,
    "start_time": "2022-03-08T18:48:23.051Z"
   },
   {
    "duration": 76,
    "start_time": "2022-03-08T19:19:46.042Z"
   },
   {
    "duration": 14,
    "start_time": "2022-03-08T19:19:46.121Z"
   },
   {
    "duration": 13,
    "start_time": "2022-03-08T19:19:46.139Z"
   },
   {
    "duration": 7,
    "start_time": "2022-03-08T19:19:46.188Z"
   },
   {
    "duration": 9,
    "start_time": "2022-03-08T19:19:46.198Z"
   },
   {
    "duration": 10,
    "start_time": "2022-03-08T19:19:46.210Z"
   },
   {
    "duration": 66,
    "start_time": "2022-03-08T19:19:46.223Z"
   },
   {
    "duration": 22,
    "start_time": "2022-03-08T19:19:46.291Z"
   },
   {
    "duration": 12,
    "start_time": "2022-03-08T19:19:46.317Z"
   },
   {
    "duration": 18,
    "start_time": "2022-03-08T19:19:46.332Z"
   },
   {
    "duration": 40,
    "start_time": "2022-03-08T19:19:46.352Z"
   },
   {
    "duration": 23,
    "start_time": "2022-03-08T19:19:46.395Z"
   },
   {
    "duration": 27,
    "start_time": "2022-03-08T19:19:46.420Z"
   },
   {
    "duration": 59,
    "start_time": "2022-03-08T19:19:46.449Z"
   },
   {
    "duration": 22,
    "start_time": "2022-03-08T19:19:46.510Z"
   },
   {
    "duration": 14,
    "start_time": "2022-03-08T19:19:46.535Z"
   },
   {
    "duration": 61,
    "start_time": "2022-03-08T19:19:46.552Z"
   },
   {
    "duration": 21,
    "start_time": "2022-03-08T19:19:46.616Z"
   },
   {
    "duration": 50,
    "start_time": "2022-03-08T19:19:46.640Z"
   },
   {
    "duration": 27,
    "start_time": "2022-03-08T19:19:46.693Z"
   },
   {
    "duration": 10,
    "start_time": "2022-03-08T19:19:46.723Z"
   },
   {
    "duration": 51,
    "start_time": "2022-03-08T19:19:46.735Z"
   },
   {
    "duration": 15,
    "start_time": "2022-03-08T19:19:46.789Z"
   },
   {
    "duration": 12,
    "start_time": "2022-03-08T19:19:46.807Z"
   },
   {
    "duration": 19,
    "start_time": "2022-03-08T19:19:46.821Z"
   },
   {
    "duration": 314,
    "start_time": "2022-03-08T20:12:16.889Z"
   },
   {
    "duration": 75,
    "start_time": "2022-03-08T20:12:20.708Z"
   },
   {
    "duration": 14,
    "start_time": "2022-03-08T20:12:20.785Z"
   },
   {
    "duration": 11,
    "start_time": "2022-03-08T20:12:20.802Z"
   },
   {
    "duration": 8,
    "start_time": "2022-03-08T20:12:20.816Z"
   },
   {
    "duration": 10,
    "start_time": "2022-03-08T20:12:20.827Z"
   },
   {
    "duration": 50,
    "start_time": "2022-03-08T20:12:20.839Z"
   },
   {
    "duration": 25,
    "start_time": "2022-03-08T20:12:20.891Z"
   },
   {
    "duration": 27,
    "start_time": "2022-03-08T20:12:20.918Z"
   },
   {
    "duration": 48,
    "start_time": "2022-03-08T20:12:20.949Z"
   },
   {
    "duration": 16,
    "start_time": "2022-03-08T20:12:21.000Z"
   },
   {
    "duration": 8,
    "start_time": "2022-03-08T20:12:21.019Z"
   },
   {
    "duration": 26,
    "start_time": "2022-03-08T20:12:21.030Z"
   },
   {
    "duration": 27,
    "start_time": "2022-03-08T20:12:21.086Z"
   },
   {
    "duration": 22,
    "start_time": "2022-03-08T20:12:21.115Z"
   },
   {
    "duration": 49,
    "start_time": "2022-03-08T20:12:21.140Z"
   },
   {
    "duration": 15,
    "start_time": "2022-03-08T20:12:21.191Z"
   },
   {
    "duration": 45,
    "start_time": "2022-03-08T20:12:21.208Z"
   },
   {
    "duration": 33,
    "start_time": "2022-03-08T20:12:21.255Z"
   },
   {
    "duration": 36,
    "start_time": "2022-03-08T20:12:21.290Z"
   },
   {
    "duration": 54,
    "start_time": "2022-03-08T20:12:21.328Z"
   },
   {
    "duration": 30,
    "start_time": "2022-03-08T20:12:21.384Z"
   },
   {
    "duration": 25,
    "start_time": "2022-03-08T20:12:21.416Z"
   },
   {
    "duration": 33,
    "start_time": "2022-03-08T20:12:21.443Z"
   },
   {
    "duration": 28,
    "start_time": "2022-03-08T20:12:21.479Z"
   },
   {
    "duration": 26,
    "start_time": "2022-03-08T20:12:21.510Z"
   },
   {
    "duration": 244,
    "start_time": "2022-03-08T20:12:21.539Z"
   },
   {
    "duration": 423,
    "start_time": "2022-03-08T20:12:21.362Z"
   },
   {
    "duration": 6,
    "start_time": "2022-03-08T20:12:48.877Z"
   },
   {
    "duration": 6,
    "start_time": "2022-03-08T20:12:53.526Z"
   },
   {
    "duration": 13,
    "start_time": "2022-03-08T20:13:10.019Z"
   },
   {
    "duration": 219,
    "start_time": "2022-03-08T20:16:31.202Z"
   },
   {
    "duration": 6,
    "start_time": "2022-03-08T20:16:36.386Z"
   },
   {
    "duration": 9,
    "start_time": "2022-03-08T20:16:39.139Z"
   },
   {
    "duration": 9,
    "start_time": "2022-03-08T20:16:52.153Z"
   },
   {
    "duration": 18,
    "start_time": "2022-03-08T20:17:57.516Z"
   },
   {
    "duration": 652,
    "start_time": "2022-03-09T12:11:21.001Z"
   },
   {
    "duration": 10,
    "start_time": "2022-03-09T12:11:21.654Z"
   },
   {
    "duration": 7,
    "start_time": "2022-03-09T12:11:21.666Z"
   },
   {
    "duration": 4,
    "start_time": "2022-03-09T12:11:21.675Z"
   },
   {
    "duration": 16,
    "start_time": "2022-03-09T12:11:21.680Z"
   },
   {
    "duration": 13,
    "start_time": "2022-03-09T12:11:21.697Z"
   },
   {
    "duration": 25,
    "start_time": "2022-03-09T12:11:21.711Z"
   },
   {
    "duration": 18,
    "start_time": "2022-03-09T12:11:21.738Z"
   },
   {
    "duration": 10,
    "start_time": "2022-03-09T12:11:21.758Z"
   },
   {
    "duration": 24,
    "start_time": "2022-03-09T12:11:21.769Z"
   },
   {
    "duration": 7,
    "start_time": "2022-03-09T12:11:21.794Z"
   },
   {
    "duration": 16,
    "start_time": "2022-03-09T12:11:21.802Z"
   },
   {
    "duration": 14,
    "start_time": "2022-03-09T12:11:21.819Z"
   },
   {
    "duration": 12,
    "start_time": "2022-03-09T12:11:21.835Z"
   },
   {
    "duration": 13,
    "start_time": "2022-03-09T12:11:21.848Z"
   },
   {
    "duration": 10,
    "start_time": "2022-03-09T12:11:21.862Z"
   },
   {
    "duration": 43,
    "start_time": "2022-03-09T12:11:21.873Z"
   },
   {
    "duration": 13,
    "start_time": "2022-03-09T12:11:21.917Z"
   },
   {
    "duration": 12,
    "start_time": "2022-03-09T12:11:21.932Z"
   },
   {
    "duration": 15,
    "start_time": "2022-03-09T12:11:21.946Z"
   },
   {
    "duration": 5,
    "start_time": "2022-03-09T12:11:21.962Z"
   },
   {
    "duration": 9,
    "start_time": "2022-03-09T12:11:21.968Z"
   },
   {
    "duration": 31,
    "start_time": "2022-03-09T12:11:21.979Z"
   },
   {
    "duration": 5,
    "start_time": "2022-03-09T12:11:22.011Z"
   },
   {
    "duration": 7,
    "start_time": "2022-03-09T12:11:22.017Z"
   },
   {
    "duration": 3,
    "start_time": "2022-03-09T12:11:22.026Z"
   },
   {
    "duration": 7,
    "start_time": "2022-03-09T12:11:22.030Z"
   },
   {
    "duration": 3,
    "start_time": "2022-03-09T12:11:22.038Z"
   },
   {
    "duration": 7,
    "start_time": "2022-03-09T12:11:22.042Z"
   },
   {
    "duration": 12,
    "start_time": "2022-03-09T12:11:22.051Z"
   },
   {
    "duration": 663,
    "start_time": "2022-03-14T12:03:19.008Z"
   },
   {
    "duration": 10,
    "start_time": "2022-03-14T12:03:19.673Z"
   },
   {
    "duration": 11,
    "start_time": "2022-03-14T12:03:19.685Z"
   },
   {
    "duration": 7,
    "start_time": "2022-03-14T12:03:19.698Z"
   },
   {
    "duration": 5,
    "start_time": "2022-03-14T12:03:19.706Z"
   },
   {
    "duration": 22,
    "start_time": "2022-03-14T12:03:19.712Z"
   },
   {
    "duration": 14,
    "start_time": "2022-03-14T12:03:19.736Z"
   },
   {
    "duration": 12,
    "start_time": "2022-03-14T12:03:19.752Z"
   },
   {
    "duration": 9,
    "start_time": "2022-03-14T12:03:19.766Z"
   },
   {
    "duration": 11,
    "start_time": "2022-03-14T12:03:19.776Z"
   },
   {
    "duration": 7,
    "start_time": "2022-03-14T12:03:19.789Z"
   },
   {
    "duration": 47,
    "start_time": "2022-03-14T12:03:19.797Z"
   },
   {
    "duration": 16,
    "start_time": "2022-03-14T12:03:19.846Z"
   },
   {
    "duration": 14,
    "start_time": "2022-03-14T12:03:19.864Z"
   },
   {
    "duration": 14,
    "start_time": "2022-03-14T12:03:19.880Z"
   },
   {
    "duration": 43,
    "start_time": "2022-03-14T12:03:19.896Z"
   },
   {
    "duration": 26,
    "start_time": "2022-03-14T12:03:19.941Z"
   },
   {
    "duration": 15,
    "start_time": "2022-03-14T12:03:19.968Z"
   },
   {
    "duration": 14,
    "start_time": "2022-03-14T12:03:19.985Z"
   },
   {
    "duration": 41,
    "start_time": "2022-03-14T12:03:20.000Z"
   },
   {
    "duration": 6,
    "start_time": "2022-03-14T12:03:20.042Z"
   },
   {
    "duration": 10,
    "start_time": "2022-03-14T12:03:20.050Z"
   },
   {
    "duration": 9,
    "start_time": "2022-03-14T12:03:20.063Z"
   },
   {
    "duration": 10,
    "start_time": "2022-03-14T12:03:20.075Z"
   },
   {
    "duration": 10,
    "start_time": "2022-03-14T12:03:20.087Z"
   },
   {
    "duration": 34,
    "start_time": "2022-03-14T12:03:20.099Z"
   },
   {
    "duration": 6,
    "start_time": "2022-03-14T12:03:20.135Z"
   },
   {
    "duration": 9,
    "start_time": "2022-03-14T12:03:20.142Z"
   },
   {
    "duration": 12,
    "start_time": "2022-03-14T12:03:20.152Z"
   },
   {
    "duration": 15,
    "start_time": "2022-03-14T12:03:20.166Z"
   },
   {
    "duration": 11,
    "start_time": "2022-03-14T12:03:20.182Z"
   },
   {
    "duration": 15,
    "start_time": "2022-03-14T12:03:20.195Z"
   },
   {
    "duration": 36,
    "start_time": "2022-03-14T12:03:20.212Z"
   },
   {
    "duration": 32,
    "start_time": "2022-03-14T12:03:20.250Z"
   },
   {
    "duration": 60,
    "start_time": "2022-03-14T13:43:52.404Z"
   },
   {
    "duration": 23,
    "start_time": "2022-03-14T13:44:48.079Z"
   },
   {
    "duration": 27,
    "start_time": "2022-03-14T13:51:55.606Z"
   },
   {
    "duration": 46,
    "start_time": "2022-03-14T13:58:16.165Z"
   },
   {
    "duration": 59,
    "start_time": "2022-03-14T13:59:16.259Z"
   },
   {
    "duration": 11,
    "start_time": "2022-03-14T13:59:16.320Z"
   },
   {
    "duration": 10,
    "start_time": "2022-03-14T13:59:16.334Z"
   },
   {
    "duration": 5,
    "start_time": "2022-03-14T13:59:16.346Z"
   },
   {
    "duration": 5,
    "start_time": "2022-03-14T13:59:16.353Z"
   },
   {
    "duration": 5,
    "start_time": "2022-03-14T13:59:16.494Z"
   },
   {
    "duration": 18,
    "start_time": "2022-03-14T13:59:16.501Z"
   },
   {
    "duration": 13,
    "start_time": "2022-03-14T13:59:16.521Z"
   },
   {
    "duration": 9,
    "start_time": "2022-03-14T13:59:16.535Z"
   },
   {
    "duration": 11,
    "start_time": "2022-03-14T13:59:16.546Z"
   },
   {
    "duration": 6,
    "start_time": "2022-03-14T13:59:17.082Z"
   },
   {
    "duration": 19,
    "start_time": "2022-03-14T13:59:17.090Z"
   },
   {
    "duration": 17,
    "start_time": "2022-03-14T13:59:17.110Z"
   },
   {
    "duration": 15,
    "start_time": "2022-03-14T13:59:17.129Z"
   },
   {
    "duration": 14,
    "start_time": "2022-03-14T13:59:17.146Z"
   },
   {
    "duration": 18,
    "start_time": "2022-03-14T13:59:17.162Z"
   },
   {
    "duration": 25,
    "start_time": "2022-03-14T13:59:17.482Z"
   },
   {
    "duration": 15,
    "start_time": "2022-03-14T13:59:17.509Z"
   },
   {
    "duration": 15,
    "start_time": "2022-03-14T13:59:17.526Z"
   },
   {
    "duration": 21,
    "start_time": "2022-03-14T13:59:17.542Z"
   },
   {
    "duration": 6,
    "start_time": "2022-03-14T13:59:17.565Z"
   },
   {
    "duration": 8,
    "start_time": "2022-03-14T13:59:17.573Z"
   },
   {
    "duration": 8,
    "start_time": "2022-03-14T13:59:17.598Z"
   },
   {
    "duration": 7,
    "start_time": "2022-03-14T13:59:17.608Z"
   },
   {
    "duration": 11,
    "start_time": "2022-03-14T13:59:17.897Z"
   },
   {
    "duration": 5,
    "start_time": "2022-03-14T13:59:17.910Z"
   },
   {
    "duration": 8,
    "start_time": "2022-03-14T13:59:17.917Z"
   },
   {
    "duration": 6,
    "start_time": "2022-03-14T13:59:17.926Z"
   },
   {
    "duration": 6,
    "start_time": "2022-03-14T13:59:17.988Z"
   },
   {
    "duration": 16,
    "start_time": "2022-03-14T13:59:17.996Z"
   },
   {
    "duration": 11,
    "start_time": "2022-03-14T13:59:18.014Z"
   },
   {
    "duration": 14,
    "start_time": "2022-03-14T13:59:18.027Z"
   },
   {
    "duration": 24,
    "start_time": "2022-03-14T13:59:18.043Z"
   },
   {
    "duration": 68,
    "start_time": "2022-03-14T13:59:18.069Z"
   },
   {
    "duration": 965,
    "start_time": "2022-03-14T13:59:18.140Z"
   },
   {
    "duration": 267,
    "start_time": "2022-03-14T14:01:01.183Z"
   },
   {
    "duration": 62,
    "start_time": "2022-03-14T14:01:15.082Z"
   },
   {
    "duration": 11,
    "start_time": "2022-03-14T14:01:15.146Z"
   },
   {
    "duration": 9,
    "start_time": "2022-03-14T14:01:15.160Z"
   },
   {
    "duration": 6,
    "start_time": "2022-03-14T14:01:15.170Z"
   },
   {
    "duration": 6,
    "start_time": "2022-03-14T14:01:15.178Z"
   },
   {
    "duration": 5,
    "start_time": "2022-03-14T14:01:15.236Z"
   },
   {
    "duration": 14,
    "start_time": "2022-03-14T14:01:15.308Z"
   },
   {
    "duration": 13,
    "start_time": "2022-03-14T14:01:15.324Z"
   },
   {
    "duration": 9,
    "start_time": "2022-03-14T14:01:15.339Z"
   },
   {
    "duration": 13,
    "start_time": "2022-03-14T14:01:15.350Z"
   },
   {
    "duration": 8,
    "start_time": "2022-03-14T14:01:15.364Z"
   },
   {
    "duration": 16,
    "start_time": "2022-03-14T14:01:15.374Z"
   },
   {
    "duration": 45,
    "start_time": "2022-03-14T14:01:15.392Z"
   },
   {
    "duration": 15,
    "start_time": "2022-03-14T14:01:15.438Z"
   },
   {
    "duration": 24,
    "start_time": "2022-03-14T14:01:15.457Z"
   },
   {
    "duration": 18,
    "start_time": "2022-03-14T14:01:15.483Z"
   },
   {
    "duration": 66,
    "start_time": "2022-03-14T14:01:15.503Z"
   },
   {
    "duration": 24,
    "start_time": "2022-03-14T14:01:15.571Z"
   },
   {
    "duration": 37,
    "start_time": "2022-03-14T14:01:15.597Z"
   },
   {
    "duration": 19,
    "start_time": "2022-03-14T14:01:15.635Z"
   },
   {
    "duration": 7,
    "start_time": "2022-03-14T14:01:15.655Z"
   },
   {
    "duration": 11,
    "start_time": "2022-03-14T14:01:15.663Z"
   },
   {
    "duration": 9,
    "start_time": "2022-03-14T14:01:15.677Z"
   },
   {
    "duration": 8,
    "start_time": "2022-03-14T14:01:15.688Z"
   },
   {
    "duration": 48,
    "start_time": "2022-03-14T14:01:15.698Z"
   },
   {
    "duration": 4,
    "start_time": "2022-03-14T14:01:15.749Z"
   },
   {
    "duration": 11,
    "start_time": "2022-03-14T14:01:15.755Z"
   },
   {
    "duration": 8,
    "start_time": "2022-03-14T14:01:15.768Z"
   },
   {
    "duration": 11,
    "start_time": "2022-03-14T14:01:15.778Z"
   },
   {
    "duration": 16,
    "start_time": "2022-03-14T14:01:15.790Z"
   },
   {
    "duration": 11,
    "start_time": "2022-03-14T14:01:15.833Z"
   },
   {
    "duration": 17,
    "start_time": "2022-03-14T14:01:15.845Z"
   },
   {
    "duration": 16,
    "start_time": "2022-03-14T14:01:15.864Z"
   },
   {
    "duration": 268,
    "start_time": "2022-03-14T14:01:15.882Z"
   },
   {
    "duration": -2252,
    "start_time": "2022-03-14T14:01:18.404Z"
   },
   {
    "duration": 62,
    "start_time": "2022-03-14T14:02:18.312Z"
   },
   {
    "duration": 939,
    "start_time": "2022-03-14T14:10:09.262Z"
   },
   {
    "duration": 54,
    "start_time": "2022-03-14T14:24:31.745Z"
   },
   {
    "duration": 10,
    "start_time": "2022-03-14T14:24:31.801Z"
   },
   {
    "duration": 11,
    "start_time": "2022-03-14T14:24:31.813Z"
   },
   {
    "duration": 8,
    "start_time": "2022-03-14T14:24:31.826Z"
   },
   {
    "duration": 6,
    "start_time": "2022-03-14T14:24:31.835Z"
   },
   {
    "duration": 5,
    "start_time": "2022-03-14T14:24:31.842Z"
   },
   {
    "duration": 13,
    "start_time": "2022-03-14T14:24:31.849Z"
   },
   {
    "duration": 13,
    "start_time": "2022-03-14T14:24:31.865Z"
   },
   {
    "duration": 8,
    "start_time": "2022-03-14T14:24:31.880Z"
   },
   {
    "duration": 48,
    "start_time": "2022-03-14T14:24:31.890Z"
   },
   {
    "duration": 11,
    "start_time": "2022-03-14T14:24:31.939Z"
   },
   {
    "duration": 23,
    "start_time": "2022-03-14T14:24:31.952Z"
   },
   {
    "duration": 17,
    "start_time": "2022-03-14T14:24:31.977Z"
   },
   {
    "duration": 37,
    "start_time": "2022-03-14T14:24:31.996Z"
   },
   {
    "duration": 16,
    "start_time": "2022-03-14T14:24:32.036Z"
   },
   {
    "duration": 11,
    "start_time": "2022-03-14T14:24:32.054Z"
   },
   {
    "duration": 24,
    "start_time": "2022-03-14T14:24:32.067Z"
   },
   {
    "duration": 41,
    "start_time": "2022-03-14T14:24:32.093Z"
   },
   {
    "duration": 14,
    "start_time": "2022-03-14T14:24:32.136Z"
   },
   {
    "duration": 17,
    "start_time": "2022-03-14T14:24:32.152Z"
   },
   {
    "duration": 7,
    "start_time": "2022-03-14T14:24:32.171Z"
   },
   {
    "duration": 10,
    "start_time": "2022-03-14T14:24:32.179Z"
   },
   {
    "duration": 12,
    "start_time": "2022-03-14T14:24:32.190Z"
   },
   {
    "duration": 6,
    "start_time": "2022-03-14T14:24:32.233Z"
   },
   {
    "duration": 9,
    "start_time": "2022-03-14T14:24:32.240Z"
   },
   {
    "duration": 12,
    "start_time": "2022-03-14T14:24:32.250Z"
   },
   {
    "duration": 18,
    "start_time": "2022-03-14T14:24:32.264Z"
   },
   {
    "duration": 6,
    "start_time": "2022-03-14T14:24:32.285Z"
   },
   {
    "duration": 8,
    "start_time": "2022-03-14T14:24:32.293Z"
   },
   {
    "duration": 13,
    "start_time": "2022-03-14T14:24:32.302Z"
   },
   {
    "duration": 20,
    "start_time": "2022-03-14T14:24:32.316Z"
   },
   {
    "duration": 14,
    "start_time": "2022-03-14T14:24:32.338Z"
   },
   {
    "duration": 17,
    "start_time": "2022-03-14T14:24:32.353Z"
   },
   {
    "duration": 71,
    "start_time": "2022-03-14T14:24:32.371Z"
   },
   {
    "duration": 947,
    "start_time": "2022-03-14T14:24:32.443Z"
   },
   {
    "duration": 856,
    "start_time": "2022-03-14T14:52:59.517Z"
   },
   {
    "duration": 62,
    "start_time": "2022-03-14T14:53:03.750Z"
   },
   {
    "duration": 15,
    "start_time": "2022-03-14T14:53:03.815Z"
   },
   {
    "duration": 11,
    "start_time": "2022-03-14T14:53:03.833Z"
   },
   {
    "duration": 5,
    "start_time": "2022-03-14T14:53:03.846Z"
   },
   {
    "duration": 15,
    "start_time": "2022-03-14T14:53:03.852Z"
   },
   {
    "duration": 5,
    "start_time": "2022-03-14T14:53:03.869Z"
   },
   {
    "duration": 15,
    "start_time": "2022-03-14T14:53:03.876Z"
   },
   {
    "duration": 50,
    "start_time": "2022-03-14T14:53:03.894Z"
   },
   {
    "duration": 9,
    "start_time": "2022-03-14T14:53:03.946Z"
   },
   {
    "duration": 14,
    "start_time": "2022-03-14T14:53:03.956Z"
   },
   {
    "duration": 7,
    "start_time": "2022-03-14T14:53:03.972Z"
   },
   {
    "duration": 18,
    "start_time": "2022-03-14T14:53:03.980Z"
   },
   {
    "duration": 40,
    "start_time": "2022-03-14T14:53:04.000Z"
   },
   {
    "duration": 14,
    "start_time": "2022-03-14T14:53:04.042Z"
   },
   {
    "duration": 14,
    "start_time": "2022-03-14T14:53:04.057Z"
   },
   {
    "duration": 10,
    "start_time": "2022-03-14T14:53:04.072Z"
   },
   {
    "duration": 25,
    "start_time": "2022-03-14T14:53:04.083Z"
   },
   {
    "duration": 16,
    "start_time": "2022-03-14T14:53:04.133Z"
   },
   {
    "duration": 16,
    "start_time": "2022-03-14T14:53:04.150Z"
   },
   {
    "duration": 17,
    "start_time": "2022-03-14T14:53:04.167Z"
   },
   {
    "duration": 5,
    "start_time": "2022-03-14T14:53:04.185Z"
   },
   {
    "duration": 6,
    "start_time": "2022-03-14T14:53:04.192Z"
   },
   {
    "duration": 8,
    "start_time": "2022-03-14T14:53:04.233Z"
   },
   {
    "duration": 5,
    "start_time": "2022-03-14T14:53:04.243Z"
   },
   {
    "duration": 9,
    "start_time": "2022-03-14T14:53:04.250Z"
   },
   {
    "duration": 6,
    "start_time": "2022-03-14T14:53:04.260Z"
   },
   {
    "duration": 7,
    "start_time": "2022-03-14T14:53:04.267Z"
   },
   {
    "duration": 4,
    "start_time": "2022-03-14T14:53:04.276Z"
   },
   {
    "duration": 7,
    "start_time": "2022-03-14T14:53:04.282Z"
   },
   {
    "duration": 45,
    "start_time": "2022-03-14T14:53:04.291Z"
   },
   {
    "duration": 10,
    "start_time": "2022-03-14T14:53:04.338Z"
   },
   {
    "duration": 14,
    "start_time": "2022-03-14T14:53:04.349Z"
   },
   {
    "duration": 17,
    "start_time": "2022-03-14T14:53:04.364Z"
   },
   {
    "duration": 79,
    "start_time": "2022-03-14T14:53:04.383Z"
   },
   {
    "duration": 852,
    "start_time": "2022-03-14T14:53:04.464Z"
   },
   {
    "duration": 907,
    "start_time": "2022-03-14T14:53:28.322Z"
   },
   {
    "duration": 853,
    "start_time": "2022-03-14T14:54:55.827Z"
   },
   {
    "duration": 942,
    "start_time": "2022-03-14T14:55:07.897Z"
   },
   {
    "duration": 920,
    "start_time": "2022-03-14T14:55:53.394Z"
   },
   {
    "duration": 1012,
    "start_time": "2022-03-14T14:56:08.297Z"
   },
   {
    "duration": 63,
    "start_time": "2022-03-14T14:57:47.385Z"
   },
   {
    "duration": 85,
    "start_time": "2022-03-14T15:00:00.760Z"
   },
   {
    "duration": 68,
    "start_time": "2022-03-14T15:00:30.112Z"
   },
   {
    "duration": 76,
    "start_time": "2022-03-14T15:02:18.119Z"
   },
   {
    "duration": 76,
    "start_time": "2022-03-14T15:03:02.431Z"
   },
   {
    "duration": 1025,
    "start_time": "2022-03-14T15:07:48.614Z"
   },
   {
    "duration": 988,
    "start_time": "2022-03-14T15:08:01.838Z"
   },
   {
    "duration": 61,
    "start_time": "2022-03-14T15:09:53.038Z"
   },
   {
    "duration": 72,
    "start_time": "2022-03-14T15:10:31.632Z"
   },
   {
    "duration": 59,
    "start_time": "2022-03-14T15:11:07.407Z"
   },
   {
    "duration": 67,
    "start_time": "2022-03-14T15:12:06.207Z"
   },
   {
    "duration": 64,
    "start_time": "2022-03-14T15:12:20.762Z"
   },
   {
    "duration": 13,
    "start_time": "2022-03-14T15:12:20.828Z"
   },
   {
    "duration": 10,
    "start_time": "2022-03-14T15:12:20.843Z"
   },
   {
    "duration": 5,
    "start_time": "2022-03-14T15:12:20.855Z"
   },
   {
    "duration": 7,
    "start_time": "2022-03-14T15:12:20.862Z"
   },
   {
    "duration": 9,
    "start_time": "2022-03-14T15:12:20.871Z"
   },
   {
    "duration": 14,
    "start_time": "2022-03-14T15:12:20.882Z"
   },
   {
    "duration": 15,
    "start_time": "2022-03-14T15:12:20.933Z"
   },
   {
    "duration": 10,
    "start_time": "2022-03-14T15:12:20.951Z"
   },
   {
    "duration": 12,
    "start_time": "2022-03-14T15:12:20.963Z"
   },
   {
    "duration": 8,
    "start_time": "2022-03-14T15:12:20.977Z"
   },
   {
    "duration": 47,
    "start_time": "2022-03-14T15:12:20.987Z"
   },
   {
    "duration": 18,
    "start_time": "2022-03-14T15:12:21.036Z"
   },
   {
    "duration": 15,
    "start_time": "2022-03-14T15:12:21.056Z"
   },
   {
    "duration": 14,
    "start_time": "2022-03-14T15:12:21.072Z"
   },
   {
    "duration": 11,
    "start_time": "2022-03-14T15:12:21.088Z"
   },
   {
    "duration": 53,
    "start_time": "2022-03-14T15:12:21.101Z"
   },
   {
    "duration": 15,
    "start_time": "2022-03-14T15:12:21.155Z"
   },
   {
    "duration": 16,
    "start_time": "2022-03-14T15:12:21.172Z"
   },
   {
    "duration": 27,
    "start_time": "2022-03-14T15:12:21.190Z"
   },
   {
    "duration": 18,
    "start_time": "2022-03-14T15:12:21.218Z"
   },
   {
    "duration": 8,
    "start_time": "2022-03-14T15:12:21.238Z"
   },
   {
    "duration": 8,
    "start_time": "2022-03-14T15:12:21.248Z"
   },
   {
    "duration": 7,
    "start_time": "2022-03-14T15:12:21.258Z"
   },
   {
    "duration": 10,
    "start_time": "2022-03-14T15:12:21.267Z"
   },
   {
    "duration": 15,
    "start_time": "2022-03-14T15:12:21.278Z"
   },
   {
    "duration": 14,
    "start_time": "2022-03-14T15:12:21.296Z"
   },
   {
    "duration": 23,
    "start_time": "2022-03-14T15:12:21.313Z"
   },
   {
    "duration": 11,
    "start_time": "2022-03-14T15:12:21.338Z"
   },
   {
    "duration": 14,
    "start_time": "2022-03-14T15:12:21.351Z"
   },
   {
    "duration": 11,
    "start_time": "2022-03-14T15:12:21.366Z"
   },
   {
    "duration": 18,
    "start_time": "2022-03-14T15:12:21.378Z"
   },
   {
    "duration": 42,
    "start_time": "2022-03-14T15:12:21.397Z"
   },
   {
    "duration": 58,
    "start_time": "2022-03-14T15:12:21.441Z"
   },
   {
    "duration": 63,
    "start_time": "2022-03-14T15:12:21.500Z"
   },
   {
    "duration": 66,
    "start_time": "2022-03-14T15:12:58.045Z"
   },
   {
    "duration": 65,
    "start_time": "2022-03-14T15:14:15.381Z"
   },
   {
    "duration": 68,
    "start_time": "2022-03-14T15:16:33.085Z"
   },
   {
    "duration": 60,
    "start_time": "2022-03-14T15:16:54.343Z"
   },
   {
    "duration": 58,
    "start_time": "2022-03-14T15:17:41.069Z"
   },
   {
    "duration": 57,
    "start_time": "2022-03-14T15:18:13.804Z"
   },
   {
    "duration": 66,
    "start_time": "2022-03-14T15:19:48.923Z"
   },
   {
    "duration": 61,
    "start_time": "2022-03-14T15:20:07.492Z"
   },
   {
    "duration": 59,
    "start_time": "2022-03-14T15:20:28.340Z"
   },
   {
    "duration": 69,
    "start_time": "2022-03-14T15:20:43.514Z"
   },
   {
    "duration": 68,
    "start_time": "2022-03-14T15:24:39.271Z"
   },
   {
    "duration": 65,
    "start_time": "2022-03-14T15:25:39.677Z"
   },
   {
    "duration": 66,
    "start_time": "2022-03-14T15:35:43.475Z"
   },
   {
    "duration": 84,
    "start_time": "2022-03-14T15:36:22.194Z"
   },
   {
    "duration": 63,
    "start_time": "2022-03-14T15:37:13.706Z"
   },
   {
    "duration": 72,
    "start_time": "2022-03-14T15:50:04.800Z"
   },
   {
    "duration": 853,
    "start_time": "2022-03-14T15:52:24.463Z"
   },
   {
    "duration": 845,
    "start_time": "2022-03-14T15:53:22.991Z"
   },
   {
    "duration": 66,
    "start_time": "2022-03-14T15:54:21.399Z"
   },
   {
    "duration": 64,
    "start_time": "2022-03-14T15:54:31.232Z"
   },
   {
    "duration": 87,
    "start_time": "2022-03-14T15:55:02.030Z"
   },
   {
    "duration": 68,
    "start_time": "2022-03-14T15:55:29.478Z"
   },
   {
    "duration": 1024,
    "start_time": "2022-03-14T16:05:02.501Z"
   },
   {
    "duration": 3,
    "start_time": "2022-03-14T16:14:20.430Z"
   },
   {
    "duration": 19,
    "start_time": "2022-03-14T16:17:25.994Z"
   },
   {
    "duration": 60,
    "start_time": "2022-03-14T16:17:43.859Z"
   },
   {
    "duration": 10,
    "start_time": "2022-03-14T16:17:43.921Z"
   },
   {
    "duration": 9,
    "start_time": "2022-03-14T16:17:43.933Z"
   },
   {
    "duration": 4,
    "start_time": "2022-03-14T16:17:43.944Z"
   },
   {
    "duration": 5,
    "start_time": "2022-03-14T16:17:43.949Z"
   },
   {
    "duration": 5,
    "start_time": "2022-03-14T16:17:43.956Z"
   },
   {
    "duration": 13,
    "start_time": "2022-03-14T16:17:43.963Z"
   },
   {
    "duration": 13,
    "start_time": "2022-03-14T16:17:43.977Z"
   },
   {
    "duration": 45,
    "start_time": "2022-03-14T16:17:43.993Z"
   },
   {
    "duration": 12,
    "start_time": "2022-03-14T16:17:44.040Z"
   },
   {
    "duration": 8,
    "start_time": "2022-03-14T16:17:44.054Z"
   },
   {
    "duration": 18,
    "start_time": "2022-03-14T16:17:44.064Z"
   },
   {
    "duration": 17,
    "start_time": "2022-03-14T16:17:44.084Z"
   },
   {
    "duration": 40,
    "start_time": "2022-03-14T16:17:44.103Z"
   },
   {
    "duration": 16,
    "start_time": "2022-03-14T16:17:44.144Z"
   },
   {
    "duration": 12,
    "start_time": "2022-03-14T16:17:44.162Z"
   },
   {
    "duration": 30,
    "start_time": "2022-03-14T16:17:44.176Z"
   },
   {
    "duration": 37,
    "start_time": "2022-03-14T16:17:44.208Z"
   },
   {
    "duration": 15,
    "start_time": "2022-03-14T16:17:44.247Z"
   },
   {
    "duration": 18,
    "start_time": "2022-03-14T16:17:44.264Z"
   },
   {
    "duration": 5,
    "start_time": "2022-03-14T16:17:44.284Z"
   },
   {
    "duration": 5,
    "start_time": "2022-03-14T16:17:44.291Z"
   },
   {
    "duration": 41,
    "start_time": "2022-03-14T16:17:44.297Z"
   },
   {
    "duration": 5,
    "start_time": "2022-03-14T16:17:44.340Z"
   },
   {
    "duration": 9,
    "start_time": "2022-03-14T16:17:44.347Z"
   },
   {
    "duration": 8,
    "start_time": "2022-03-14T16:17:44.357Z"
   },
   {
    "duration": 7,
    "start_time": "2022-03-14T16:17:44.368Z"
   },
   {
    "duration": 5,
    "start_time": "2022-03-14T16:17:44.376Z"
   },
   {
    "duration": 9,
    "start_time": "2022-03-14T16:17:44.382Z"
   },
   {
    "duration": 45,
    "start_time": "2022-03-14T16:17:44.392Z"
   },
   {
    "duration": 14,
    "start_time": "2022-03-14T16:17:44.439Z"
   },
   {
    "duration": 18,
    "start_time": "2022-03-14T16:17:44.455Z"
   },
   {
    "duration": 18,
    "start_time": "2022-03-14T16:17:44.475Z"
   },
   {
    "duration": 70,
    "start_time": "2022-03-14T16:17:44.494Z"
   },
   {
    "duration": 3,
    "start_time": "2022-03-14T16:17:44.566Z"
   },
   {
    "duration": 22,
    "start_time": "2022-03-14T16:17:44.571Z"
   },
   {
    "duration": 53,
    "start_time": "2022-03-14T16:17:54.302Z"
   },
   {
    "duration": 9,
    "start_time": "2022-03-14T16:17:54.357Z"
   },
   {
    "duration": 9,
    "start_time": "2022-03-14T16:17:54.368Z"
   },
   {
    "duration": 6,
    "start_time": "2022-03-14T16:17:54.378Z"
   },
   {
    "duration": 6,
    "start_time": "2022-03-14T16:17:54.385Z"
   },
   {
    "duration": 4,
    "start_time": "2022-03-14T16:17:54.393Z"
   },
   {
    "duration": 13,
    "start_time": "2022-03-14T16:17:54.433Z"
   },
   {
    "duration": 13,
    "start_time": "2022-03-14T16:17:54.448Z"
   },
   {
    "duration": 9,
    "start_time": "2022-03-14T16:17:54.463Z"
   },
   {
    "duration": 13,
    "start_time": "2022-03-14T16:17:54.474Z"
   },
   {
    "duration": 6,
    "start_time": "2022-03-14T16:17:54.489Z"
   },
   {
    "duration": 44,
    "start_time": "2022-03-14T16:17:54.497Z"
   },
   {
    "duration": 17,
    "start_time": "2022-03-14T16:17:54.543Z"
   },
   {
    "duration": 14,
    "start_time": "2022-03-14T16:17:54.562Z"
   },
   {
    "duration": 14,
    "start_time": "2022-03-14T16:17:54.577Z"
   },
   {
    "duration": 11,
    "start_time": "2022-03-14T16:17:54.593Z"
   },
   {
    "duration": 24,
    "start_time": "2022-03-14T16:17:54.633Z"
   },
   {
    "duration": 15,
    "start_time": "2022-03-14T16:17:54.659Z"
   },
   {
    "duration": 15,
    "start_time": "2022-03-14T16:17:54.675Z"
   },
   {
    "duration": 42,
    "start_time": "2022-03-14T16:17:54.692Z"
   },
   {
    "duration": 6,
    "start_time": "2022-03-14T16:17:54.735Z"
   },
   {
    "duration": 10,
    "start_time": "2022-03-14T16:17:54.742Z"
   },
   {
    "duration": 7,
    "start_time": "2022-03-14T16:17:54.754Z"
   },
   {
    "duration": 7,
    "start_time": "2022-03-14T16:17:54.763Z"
   },
   {
    "duration": 11,
    "start_time": "2022-03-14T16:17:54.771Z"
   },
   {
    "duration": 9,
    "start_time": "2022-03-14T16:17:54.783Z"
   },
   {
    "duration": 6,
    "start_time": "2022-03-14T16:17:54.795Z"
   },
   {
    "duration": 3,
    "start_time": "2022-03-14T16:17:54.834Z"
   },
   {
    "duration": 8,
    "start_time": "2022-03-14T16:17:54.839Z"
   },
   {
    "duration": 12,
    "start_time": "2022-03-14T16:17:54.849Z"
   },
   {
    "duration": 12,
    "start_time": "2022-03-14T16:17:54.863Z"
   },
   {
    "duration": 12,
    "start_time": "2022-03-14T16:17:54.878Z"
   },
   {
    "duration": 48,
    "start_time": "2022-03-14T16:17:54.892Z"
   },
   {
    "duration": 61,
    "start_time": "2022-03-14T16:17:54.942Z"
   },
   {
    "duration": 3,
    "start_time": "2022-03-14T16:17:55.005Z"
   },
   {
    "duration": 39,
    "start_time": "2022-03-14T16:17:55.009Z"
   },
   {
    "duration": 64,
    "start_time": "2022-03-14T16:18:37.486Z"
   },
   {
    "duration": 12,
    "start_time": "2022-03-14T16:18:37.552Z"
   },
   {
    "duration": 13,
    "start_time": "2022-03-14T16:18:37.566Z"
   },
   {
    "duration": 5,
    "start_time": "2022-03-14T16:18:37.581Z"
   },
   {
    "duration": 46,
    "start_time": "2022-03-14T16:18:37.588Z"
   },
   {
    "duration": 5,
    "start_time": "2022-03-14T16:18:37.636Z"
   },
   {
    "duration": 16,
    "start_time": "2022-03-14T16:18:37.643Z"
   },
   {
    "duration": 13,
    "start_time": "2022-03-14T16:18:37.661Z"
   },
   {
    "duration": 8,
    "start_time": "2022-03-14T16:18:37.676Z"
   },
   {
    "duration": 49,
    "start_time": "2022-03-14T16:18:37.685Z"
   },
   {
    "duration": 7,
    "start_time": "2022-03-14T16:18:37.735Z"
   },
   {
    "duration": 16,
    "start_time": "2022-03-14T16:18:37.744Z"
   },
   {
    "duration": 14,
    "start_time": "2022-03-14T16:18:37.762Z"
   },
   {
    "duration": 15,
    "start_time": "2022-03-14T16:18:37.778Z"
   },
   {
    "duration": 39,
    "start_time": "2022-03-14T16:18:37.795Z"
   },
   {
    "duration": 11,
    "start_time": "2022-03-14T16:18:37.835Z"
   },
   {
    "duration": 25,
    "start_time": "2022-03-14T16:18:37.848Z"
   },
   {
    "duration": 14,
    "start_time": "2022-03-14T16:18:37.875Z"
   },
   {
    "duration": 14,
    "start_time": "2022-03-14T16:18:37.891Z"
   },
   {
    "duration": 43,
    "start_time": "2022-03-14T16:18:37.906Z"
   },
   {
    "duration": 6,
    "start_time": "2022-03-14T16:18:37.950Z"
   },
   {
    "duration": 9,
    "start_time": "2022-03-14T16:18:37.957Z"
   },
   {
    "duration": 7,
    "start_time": "2022-03-14T16:18:37.969Z"
   },
   {
    "duration": 5,
    "start_time": "2022-03-14T16:18:37.978Z"
   },
   {
    "duration": 10,
    "start_time": "2022-03-14T16:18:37.985Z"
   },
   {
    "duration": 36,
    "start_time": "2022-03-14T16:18:37.997Z"
   },
   {
    "duration": 7,
    "start_time": "2022-03-14T16:18:38.034Z"
   },
   {
    "duration": 5,
    "start_time": "2022-03-14T16:18:38.042Z"
   },
   {
    "duration": 8,
    "start_time": "2022-03-14T16:18:38.048Z"
   },
   {
    "duration": 13,
    "start_time": "2022-03-14T16:18:38.057Z"
   },
   {
    "duration": 11,
    "start_time": "2022-03-14T16:18:38.071Z"
   },
   {
    "duration": 15,
    "start_time": "2022-03-14T16:18:38.083Z"
   },
   {
    "duration": 45,
    "start_time": "2022-03-14T16:18:38.099Z"
   },
   {
    "duration": 57,
    "start_time": "2022-03-14T16:18:38.146Z"
   },
   {
    "duration": 3,
    "start_time": "2022-03-14T16:18:38.204Z"
   },
   {
    "duration": 49,
    "start_time": "2022-03-14T16:18:38.209Z"
   },
   {
    "duration": 14,
    "start_time": "2022-03-14T16:18:38.259Z"
   },
   {
    "duration": 20,
    "start_time": "2022-03-14T16:27:06.337Z"
   },
   {
    "duration": 29,
    "start_time": "2022-03-14T16:35:34.505Z"
   },
   {
    "duration": 30,
    "start_time": "2022-03-14T16:36:58.265Z"
   },
   {
    "duration": 25,
    "start_time": "2022-03-14T16:37:08.398Z"
   },
   {
    "duration": 23,
    "start_time": "2022-03-14T16:46:56.676Z"
   },
   {
    "duration": 6,
    "start_time": "2022-03-14T16:47:55.861Z"
   },
   {
    "duration": 14,
    "start_time": "2022-03-14T16:50:06.252Z"
   },
   {
    "duration": 23,
    "start_time": "2022-03-14T16:50:55.677Z"
   },
   {
    "duration": 60,
    "start_time": "2022-03-14T16:50:58.733Z"
   },
   {
    "duration": 10,
    "start_time": "2022-03-14T16:50:58.795Z"
   },
   {
    "duration": 29,
    "start_time": "2022-03-14T16:50:58.807Z"
   },
   {
    "duration": 5,
    "start_time": "2022-03-14T16:50:58.838Z"
   },
   {
    "duration": 5,
    "start_time": "2022-03-14T16:50:58.844Z"
   },
   {
    "duration": 4,
    "start_time": "2022-03-14T16:50:58.850Z"
   },
   {
    "duration": 13,
    "start_time": "2022-03-14T16:50:58.855Z"
   },
   {
    "duration": 13,
    "start_time": "2022-03-14T16:50:58.870Z"
   },
   {
    "duration": 51,
    "start_time": "2022-03-14T16:50:58.886Z"
   },
   {
    "duration": 12,
    "start_time": "2022-03-14T16:50:58.939Z"
   },
   {
    "duration": 7,
    "start_time": "2022-03-14T16:50:58.953Z"
   },
   {
    "duration": 15,
    "start_time": "2022-03-14T16:50:58.962Z"
   },
   {
    "duration": 17,
    "start_time": "2022-03-14T16:50:58.979Z"
   },
   {
    "duration": 46,
    "start_time": "2022-03-14T16:50:58.997Z"
   },
   {
    "duration": 15,
    "start_time": "2022-03-14T16:50:59.045Z"
   },
   {
    "duration": 11,
    "start_time": "2022-03-14T16:50:59.061Z"
   },
   {
    "duration": 25,
    "start_time": "2022-03-14T16:50:59.074Z"
   },
   {
    "duration": 40,
    "start_time": "2022-03-14T16:50:59.101Z"
   },
   {
    "duration": 15,
    "start_time": "2022-03-14T16:50:59.143Z"
   },
   {
    "duration": 18,
    "start_time": "2022-03-14T16:50:59.159Z"
   },
   {
    "duration": 6,
    "start_time": "2022-03-14T16:50:59.178Z"
   },
   {
    "duration": 5,
    "start_time": "2022-03-14T16:50:59.186Z"
   },
   {
    "duration": 45,
    "start_time": "2022-03-14T16:50:59.193Z"
   },
   {
    "duration": 6,
    "start_time": "2022-03-14T16:50:59.240Z"
   },
   {
    "duration": 11,
    "start_time": "2022-03-14T16:50:59.248Z"
   },
   {
    "duration": 6,
    "start_time": "2022-03-14T16:50:59.260Z"
   },
   {
    "duration": 7,
    "start_time": "2022-03-14T16:50:59.269Z"
   },
   {
    "duration": 5,
    "start_time": "2022-03-14T16:50:59.278Z"
   },
   {
    "duration": 9,
    "start_time": "2022-03-14T16:50:59.284Z"
   },
   {
    "duration": 48,
    "start_time": "2022-03-14T16:50:59.295Z"
   },
   {
    "duration": 21,
    "start_time": "2022-03-14T16:50:59.345Z"
   },
   {
    "duration": 7,
    "start_time": "2022-03-14T16:50:59.368Z"
   },
   {
    "duration": 13,
    "start_time": "2022-03-14T16:50:59.377Z"
   },
   {
    "duration": 3,
    "start_time": "2022-03-14T16:50:59.391Z"
   },
   {
    "duration": 48,
    "start_time": "2022-03-14T16:50:59.396Z"
   },
   {
    "duration": 12,
    "start_time": "2022-03-14T16:50:59.446Z"
   },
   {
    "duration": 56,
    "start_time": "2022-03-14T16:52:39.233Z"
   },
   {
    "duration": 11,
    "start_time": "2022-03-14T16:52:39.291Z"
   },
   {
    "duration": 30,
    "start_time": "2022-03-14T16:52:39.304Z"
   },
   {
    "duration": 5,
    "start_time": "2022-03-14T16:52:39.336Z"
   },
   {
    "duration": 6,
    "start_time": "2022-03-14T16:52:39.343Z"
   },
   {
    "duration": 12,
    "start_time": "2022-03-14T16:52:39.350Z"
   },
   {
    "duration": 17,
    "start_time": "2022-03-14T16:52:39.363Z"
   },
   {
    "duration": 14,
    "start_time": "2022-03-14T16:52:39.382Z"
   },
   {
    "duration": 40,
    "start_time": "2022-03-14T16:52:39.399Z"
   },
   {
    "duration": 11,
    "start_time": "2022-03-14T16:52:39.441Z"
   },
   {
    "duration": 5,
    "start_time": "2022-03-14T16:52:39.454Z"
   },
   {
    "duration": 14,
    "start_time": "2022-03-14T16:52:39.461Z"
   },
   {
    "duration": 16,
    "start_time": "2022-03-14T16:52:39.477Z"
   },
   {
    "duration": 43,
    "start_time": "2022-03-14T16:52:39.495Z"
   },
   {
    "duration": 15,
    "start_time": "2022-03-14T16:52:39.540Z"
   },
   {
    "duration": 13,
    "start_time": "2022-03-14T16:52:39.557Z"
   },
   {
    "duration": 25,
    "start_time": "2022-03-14T16:52:39.572Z"
   },
   {
    "duration": 35,
    "start_time": "2022-03-14T16:52:39.599Z"
   },
   {
    "duration": 16,
    "start_time": "2022-03-14T16:52:39.635Z"
   },
   {
    "duration": 17,
    "start_time": "2022-03-14T16:52:39.653Z"
   },
   {
    "duration": 6,
    "start_time": "2022-03-14T16:52:39.671Z"
   },
   {
    "duration": 7,
    "start_time": "2022-03-14T16:52:39.678Z"
   },
   {
    "duration": 7,
    "start_time": "2022-03-14T16:52:39.688Z"
   },
   {
    "duration": 39,
    "start_time": "2022-03-14T16:52:39.697Z"
   },
   {
    "duration": 10,
    "start_time": "2022-03-14T16:52:39.738Z"
   },
   {
    "duration": 6,
    "start_time": "2022-03-14T16:52:39.749Z"
   },
   {
    "duration": 9,
    "start_time": "2022-03-14T16:52:39.756Z"
   },
   {
    "duration": 7,
    "start_time": "2022-03-14T16:52:39.766Z"
   },
   {
    "duration": 8,
    "start_time": "2022-03-14T16:52:39.774Z"
   },
   {
    "duration": 11,
    "start_time": "2022-03-14T16:52:39.783Z"
   },
   {
    "duration": 48,
    "start_time": "2022-03-14T16:52:39.796Z"
   },
   {
    "duration": 5,
    "start_time": "2022-03-14T16:52:39.846Z"
   },
   {
    "duration": 14,
    "start_time": "2022-03-14T16:52:39.853Z"
   },
   {
    "duration": 3,
    "start_time": "2022-03-14T16:52:39.869Z"
   },
   {
    "duration": 21,
    "start_time": "2022-03-14T16:52:39.873Z"
   },
   {
    "duration": 39,
    "start_time": "2022-03-14T16:52:39.895Z"
   },
   {
    "duration": 53,
    "start_time": "2022-03-14T16:53:07.407Z"
   },
   {
    "duration": 10,
    "start_time": "2022-03-14T16:53:07.462Z"
   },
   {
    "duration": 8,
    "start_time": "2022-03-14T16:53:07.474Z"
   },
   {
    "duration": 8,
    "start_time": "2022-03-14T16:53:07.484Z"
   },
   {
    "duration": 9,
    "start_time": "2022-03-14T16:53:07.494Z"
   },
   {
    "duration": 32,
    "start_time": "2022-03-14T16:53:07.504Z"
   },
   {
    "duration": 14,
    "start_time": "2022-03-14T16:53:07.538Z"
   },
   {
    "duration": 14,
    "start_time": "2022-03-14T16:53:07.556Z"
   },
   {
    "duration": 10,
    "start_time": "2022-03-14T16:53:07.572Z"
   },
   {
    "duration": 52,
    "start_time": "2022-03-14T16:53:07.584Z"
   },
   {
    "duration": 6,
    "start_time": "2022-03-14T16:53:07.638Z"
   },
   {
    "duration": 15,
    "start_time": "2022-03-14T16:53:07.646Z"
   },
   {
    "duration": 18,
    "start_time": "2022-03-14T16:53:07.663Z"
   },
   {
    "duration": 15,
    "start_time": "2022-03-14T16:53:07.682Z"
   },
   {
    "duration": 48,
    "start_time": "2022-03-14T16:53:07.699Z"
   },
   {
    "duration": 11,
    "start_time": "2022-03-14T16:53:07.749Z"
   },
   {
    "duration": 25,
    "start_time": "2022-03-14T16:53:07.762Z"
   },
   {
    "duration": 15,
    "start_time": "2022-03-14T16:53:07.788Z"
   },
   {
    "duration": 42,
    "start_time": "2022-03-14T16:53:07.804Z"
   },
   {
    "duration": 18,
    "start_time": "2022-03-14T16:53:07.847Z"
   },
   {
    "duration": 5,
    "start_time": "2022-03-14T16:53:07.867Z"
   },
   {
    "duration": 6,
    "start_time": "2022-03-14T16:53:07.874Z"
   },
   {
    "duration": 8,
    "start_time": "2022-03-14T16:53:07.883Z"
   },
   {
    "duration": 42,
    "start_time": "2022-03-14T16:53:07.892Z"
   },
   {
    "duration": 9,
    "start_time": "2022-03-14T16:53:07.936Z"
   },
   {
    "duration": 5,
    "start_time": "2022-03-14T16:53:07.947Z"
   },
   {
    "duration": 9,
    "start_time": "2022-03-14T16:53:07.953Z"
   },
   {
    "duration": 4,
    "start_time": "2022-03-14T16:53:07.964Z"
   },
   {
    "duration": 8,
    "start_time": "2022-03-14T16:53:07.969Z"
   },
   {
    "duration": 12,
    "start_time": "2022-03-14T16:53:07.978Z"
   },
   {
    "duration": 50,
    "start_time": "2022-03-14T16:53:07.992Z"
   },
   {
    "duration": 6,
    "start_time": "2022-03-14T16:53:08.044Z"
   },
   {
    "duration": 18,
    "start_time": "2022-03-14T16:53:08.052Z"
   },
   {
    "duration": 3,
    "start_time": "2022-03-14T16:53:08.072Z"
   },
   {
    "duration": 24,
    "start_time": "2022-03-14T16:53:08.077Z"
   },
   {
    "duration": 39,
    "start_time": "2022-03-14T16:53:08.103Z"
   },
   {
    "duration": 56,
    "start_time": "2022-03-14T16:53:49.095Z"
   },
   {
    "duration": 10,
    "start_time": "2022-03-14T16:53:49.153Z"
   },
   {
    "duration": 9,
    "start_time": "2022-03-14T16:53:49.165Z"
   },
   {
    "duration": 4,
    "start_time": "2022-03-14T16:53:49.175Z"
   },
   {
    "duration": 6,
    "start_time": "2022-03-14T16:53:49.181Z"
   },
   {
    "duration": 5,
    "start_time": "2022-03-14T16:53:49.188Z"
   },
   {
    "duration": 16,
    "start_time": "2022-03-14T16:53:49.233Z"
   },
   {
    "duration": 14,
    "start_time": "2022-03-14T16:53:49.250Z"
   },
   {
    "duration": 8,
    "start_time": "2022-03-14T16:53:49.267Z"
   },
   {
    "duration": 11,
    "start_time": "2022-03-14T16:53:49.277Z"
   },
   {
    "duration": 6,
    "start_time": "2022-03-14T16:53:49.290Z"
   },
   {
    "duration": 46,
    "start_time": "2022-03-14T16:53:49.297Z"
   },
   {
    "duration": 16,
    "start_time": "2022-03-14T16:53:49.345Z"
   },
   {
    "duration": 14,
    "start_time": "2022-03-14T16:53:49.363Z"
   },
   {
    "duration": 15,
    "start_time": "2022-03-14T16:53:49.379Z"
   },
   {
    "duration": 39,
    "start_time": "2022-03-14T16:53:49.395Z"
   },
   {
    "duration": 24,
    "start_time": "2022-03-14T16:53:49.436Z"
   },
   {
    "duration": 15,
    "start_time": "2022-03-14T16:53:49.461Z"
   },
   {
    "duration": 14,
    "start_time": "2022-03-14T16:53:49.478Z"
   },
   {
    "duration": 42,
    "start_time": "2022-03-14T16:53:49.494Z"
   },
   {
    "duration": 5,
    "start_time": "2022-03-14T16:53:49.538Z"
   },
   {
    "duration": 6,
    "start_time": "2022-03-14T16:53:49.545Z"
   },
   {
    "duration": 7,
    "start_time": "2022-03-14T16:53:49.553Z"
   },
   {
    "duration": 7,
    "start_time": "2022-03-14T16:53:49.562Z"
   },
   {
    "duration": 10,
    "start_time": "2022-03-14T16:53:49.571Z"
   },
   {
    "duration": 4,
    "start_time": "2022-03-14T16:53:49.583Z"
   },
   {
    "duration": 13,
    "start_time": "2022-03-14T16:53:49.590Z"
   },
   {
    "duration": 30,
    "start_time": "2022-03-14T16:53:49.605Z"
   },
   {
    "duration": 10,
    "start_time": "2022-03-14T16:53:49.637Z"
   },
   {
    "duration": 11,
    "start_time": "2022-03-14T16:53:49.649Z"
   },
   {
    "duration": 20,
    "start_time": "2022-03-14T16:53:49.661Z"
   },
   {
    "duration": 5,
    "start_time": "2022-03-14T16:53:49.683Z"
   },
   {
    "duration": 43,
    "start_time": "2022-03-14T16:53:49.690Z"
   },
   {
    "duration": 4,
    "start_time": "2022-03-14T16:53:49.735Z"
   },
   {
    "duration": 21,
    "start_time": "2022-03-14T16:53:49.741Z"
   },
   {
    "duration": 14,
    "start_time": "2022-03-14T16:53:49.764Z"
   },
   {
    "duration": 77,
    "start_time": "2022-03-14T17:34:15.421Z"
   },
   {
    "duration": 58,
    "start_time": "2022-03-14T17:34:36.046Z"
   },
   {
    "duration": 10,
    "start_time": "2022-03-14T17:34:36.106Z"
   },
   {
    "duration": 18,
    "start_time": "2022-03-14T17:34:36.118Z"
   },
   {
    "duration": 6,
    "start_time": "2022-03-14T17:34:36.138Z"
   },
   {
    "duration": 7,
    "start_time": "2022-03-14T17:34:36.146Z"
   },
   {
    "duration": 4,
    "start_time": "2022-03-14T17:34:36.156Z"
   },
   {
    "duration": 14,
    "start_time": "2022-03-14T17:34:36.162Z"
   },
   {
    "duration": 14,
    "start_time": "2022-03-14T17:34:36.179Z"
   },
   {
    "duration": 46,
    "start_time": "2022-03-14T17:34:36.195Z"
   },
   {
    "duration": 12,
    "start_time": "2022-03-14T17:34:36.243Z"
   },
   {
    "duration": 7,
    "start_time": "2022-03-14T17:34:36.258Z"
   },
   {
    "duration": 21,
    "start_time": "2022-03-14T17:34:36.267Z"
   },
   {
    "duration": 54,
    "start_time": "2022-03-14T17:34:36.290Z"
   },
   {
    "duration": 14,
    "start_time": "2022-03-14T17:34:36.346Z"
   },
   {
    "duration": 13,
    "start_time": "2022-03-14T17:34:36.362Z"
   },
   {
    "duration": 10,
    "start_time": "2022-03-14T17:34:36.377Z"
   },
   {
    "duration": 45,
    "start_time": "2022-03-14T17:34:36.388Z"
   },
   {
    "duration": 16,
    "start_time": "2022-03-14T17:34:36.434Z"
   },
   {
    "duration": 15,
    "start_time": "2022-03-14T17:34:36.452Z"
   },
   {
    "duration": 18,
    "start_time": "2022-03-14T17:34:36.468Z"
   },
   {
    "duration": 6,
    "start_time": "2022-03-14T17:34:36.488Z"
   },
   {
    "duration": 5,
    "start_time": "2022-03-14T17:34:36.496Z"
   },
   {
    "duration": 8,
    "start_time": "2022-03-14T17:34:36.535Z"
   },
   {
    "duration": 13,
    "start_time": "2022-03-14T17:34:36.545Z"
   },
   {
    "duration": 9,
    "start_time": "2022-03-14T17:34:36.560Z"
   },
   {
    "duration": 4,
    "start_time": "2022-03-14T17:34:36.571Z"
   },
   {
    "duration": 9,
    "start_time": "2022-03-14T17:34:36.576Z"
   },
   {
    "duration": 6,
    "start_time": "2022-03-14T17:34:36.586Z"
   },
   {
    "duration": 8,
    "start_time": "2022-03-14T17:34:36.594Z"
   },
   {
    "duration": 36,
    "start_time": "2022-03-14T17:34:36.604Z"
   },
   {
    "duration": 22,
    "start_time": "2022-03-14T17:34:36.641Z"
   },
   {
    "duration": 6,
    "start_time": "2022-03-14T17:34:36.665Z"
   },
   {
    "duration": 13,
    "start_time": "2022-03-14T17:34:36.673Z"
   },
   {
    "duration": 3,
    "start_time": "2022-03-14T17:34:36.688Z"
   },
   {
    "duration": 47,
    "start_time": "2022-03-14T17:34:36.693Z"
   },
   {
    "duration": 12,
    "start_time": "2022-03-14T17:34:36.741Z"
   },
   {
    "duration": 61,
    "start_time": "2022-03-14T17:34:36.755Z"
   },
   {
    "duration": 101,
    "start_time": "2022-03-14T17:35:01.418Z"
   },
   {
    "duration": 56,
    "start_time": "2022-03-14T17:43:34.433Z"
   },
   {
    "duration": 10,
    "start_time": "2022-03-14T17:43:34.490Z"
   },
   {
    "duration": 35,
    "start_time": "2022-03-14T17:43:34.502Z"
   },
   {
    "duration": 4,
    "start_time": "2022-03-14T17:43:34.539Z"
   },
   {
    "duration": 5,
    "start_time": "2022-03-14T17:43:34.545Z"
   },
   {
    "duration": 5,
    "start_time": "2022-03-14T17:43:34.551Z"
   },
   {
    "duration": 13,
    "start_time": "2022-03-14T17:43:34.558Z"
   },
   {
    "duration": 12,
    "start_time": "2022-03-14T17:43:34.574Z"
   },
   {
    "duration": 46,
    "start_time": "2022-03-14T17:43:34.588Z"
   },
   {
    "duration": 12,
    "start_time": "2022-03-14T17:43:34.635Z"
   },
   {
    "duration": 5,
    "start_time": "2022-03-14T17:43:34.648Z"
   },
   {
    "duration": 17,
    "start_time": "2022-03-14T17:43:34.655Z"
   },
   {
    "duration": 18,
    "start_time": "2022-03-14T17:43:34.673Z"
   },
   {
    "duration": 44,
    "start_time": "2022-03-14T17:43:34.692Z"
   },
   {
    "duration": 14,
    "start_time": "2022-03-14T17:43:34.737Z"
   },
   {
    "duration": 10,
    "start_time": "2022-03-14T17:43:34.753Z"
   },
   {
    "duration": 25,
    "start_time": "2022-03-14T17:43:34.765Z"
   },
   {
    "duration": 14,
    "start_time": "2022-03-14T17:43:34.791Z"
   },
   {
    "duration": 15,
    "start_time": "2022-03-14T17:43:34.833Z"
   },
   {
    "duration": 16,
    "start_time": "2022-03-14T17:43:34.850Z"
   },
   {
    "duration": 4,
    "start_time": "2022-03-14T17:43:34.868Z"
   },
   {
    "duration": 7,
    "start_time": "2022-03-14T17:43:34.874Z"
   },
   {
    "duration": 7,
    "start_time": "2022-03-14T17:43:34.884Z"
   },
   {
    "duration": 4,
    "start_time": "2022-03-14T17:43:34.893Z"
   },
   {
    "duration": 41,
    "start_time": "2022-03-14T17:43:34.899Z"
   },
   {
    "duration": 4,
    "start_time": "2022-03-14T17:43:34.943Z"
   },
   {
    "duration": 8,
    "start_time": "2022-03-14T17:43:34.949Z"
   },
   {
    "duration": 6,
    "start_time": "2022-03-14T17:43:34.958Z"
   },
   {
    "duration": 9,
    "start_time": "2022-03-14T17:43:34.965Z"
   },
   {
    "duration": 12,
    "start_time": "2022-03-14T17:43:34.975Z"
   },
   {
    "duration": 63,
    "start_time": "2022-03-14T17:43:34.989Z"
   },
   {
    "duration": 7,
    "start_time": "2022-03-14T17:43:35.054Z"
   },
   {
    "duration": 17,
    "start_time": "2022-03-14T17:43:35.063Z"
   },
   {
    "duration": 4,
    "start_time": "2022-03-14T17:43:35.081Z"
   },
   {
    "duration": 46,
    "start_time": "2022-03-14T17:43:35.087Z"
   },
   {
    "duration": 14,
    "start_time": "2022-03-14T17:43:35.135Z"
   },
   {
    "duration": 71,
    "start_time": "2022-03-14T17:43:35.151Z"
   },
   {
    "duration": 5,
    "start_time": "2022-03-14T17:44:14.717Z"
   },
   {
    "duration": 474,
    "start_time": "2022-03-14T17:44:45.598Z"
   },
   {
    "duration": 60,
    "start_time": "2022-03-14T17:45:41.500Z"
   },
   {
    "duration": 9,
    "start_time": "2022-03-14T17:45:41.562Z"
   },
   {
    "duration": 9,
    "start_time": "2022-03-14T17:45:41.574Z"
   },
   {
    "duration": 5,
    "start_time": "2022-03-14T17:45:41.585Z"
   },
   {
    "duration": 4,
    "start_time": "2022-03-14T17:45:41.591Z"
   },
   {
    "duration": 38,
    "start_time": "2022-03-14T17:45:41.596Z"
   },
   {
    "duration": 14,
    "start_time": "2022-03-14T17:45:41.635Z"
   },
   {
    "duration": 13,
    "start_time": "2022-03-14T17:45:41.651Z"
   },
   {
    "duration": 9,
    "start_time": "2022-03-14T17:45:41.666Z"
   },
   {
    "duration": 12,
    "start_time": "2022-03-14T17:45:41.676Z"
   },
   {
    "duration": 5,
    "start_time": "2022-03-14T17:45:41.689Z"
   },
   {
    "duration": 51,
    "start_time": "2022-03-14T17:45:41.695Z"
   },
   {
    "duration": 18,
    "start_time": "2022-03-14T17:45:41.747Z"
   },
   {
    "duration": 14,
    "start_time": "2022-03-14T17:45:41.766Z"
   },
   {
    "duration": 14,
    "start_time": "2022-03-14T17:45:41.782Z"
   },
   {
    "duration": 41,
    "start_time": "2022-03-14T17:45:41.798Z"
   },
   {
    "duration": 25,
    "start_time": "2022-03-14T17:45:41.841Z"
   },
   {
    "duration": 15,
    "start_time": "2022-03-14T17:45:41.868Z"
   },
   {
    "duration": 14,
    "start_time": "2022-03-14T17:45:41.885Z"
   },
   {
    "duration": 43,
    "start_time": "2022-03-14T17:45:41.900Z"
   },
   {
    "duration": 5,
    "start_time": "2022-03-14T17:45:41.944Z"
   },
   {
    "duration": 7,
    "start_time": "2022-03-14T17:45:41.950Z"
   },
   {
    "duration": 7,
    "start_time": "2022-03-14T17:45:41.960Z"
   },
   {
    "duration": 4,
    "start_time": "2022-03-14T17:45:41.969Z"
   },
   {
    "duration": 9,
    "start_time": "2022-03-14T17:45:41.975Z"
   },
   {
    "duration": 6,
    "start_time": "2022-03-14T17:45:41.986Z"
   },
   {
    "duration": 43,
    "start_time": "2022-03-14T17:45:41.993Z"
   },
   {
    "duration": 5,
    "start_time": "2022-03-14T17:45:42.038Z"
   },
   {
    "duration": 9,
    "start_time": "2022-03-14T17:45:42.044Z"
   },
   {
    "duration": 12,
    "start_time": "2022-03-14T17:45:42.054Z"
   },
   {
    "duration": 21,
    "start_time": "2022-03-14T17:45:42.067Z"
   },
   {
    "duration": 6,
    "start_time": "2022-03-14T17:45:42.090Z"
   },
   {
    "duration": 13,
    "start_time": "2022-03-14T17:45:42.134Z"
   },
   {
    "duration": 3,
    "start_time": "2022-03-14T17:45:42.149Z"
   },
   {
    "duration": 21,
    "start_time": "2022-03-14T17:45:42.153Z"
   },
   {
    "duration": 12,
    "start_time": "2022-03-14T17:45:42.175Z"
   },
   {
    "duration": 70,
    "start_time": "2022-03-14T17:45:42.188Z"
   },
   {
    "duration": 61,
    "start_time": "2022-03-14T17:45:47.844Z"
   },
   {
    "duration": 66,
    "start_time": "2022-03-14T17:45:59.893Z"
   },
   {
    "duration": 60,
    "start_time": "2022-03-14T17:46:17.989Z"
   },
   {
    "duration": 63,
    "start_time": "2022-03-14T17:47:39.210Z"
   },
   {
    "duration": 9,
    "start_time": "2022-03-14T17:47:39.275Z"
   },
   {
    "duration": 9,
    "start_time": "2022-03-14T17:47:39.287Z"
   },
   {
    "duration": 35,
    "start_time": "2022-03-14T17:47:39.298Z"
   },
   {
    "duration": 4,
    "start_time": "2022-03-14T17:47:39.335Z"
   },
   {
    "duration": 5,
    "start_time": "2022-03-14T17:47:39.341Z"
   },
   {
    "duration": 15,
    "start_time": "2022-03-14T17:47:39.347Z"
   },
   {
    "duration": 12,
    "start_time": "2022-03-14T17:47:39.364Z"
   },
   {
    "duration": 8,
    "start_time": "2022-03-14T17:47:39.379Z"
   },
   {
    "duration": 48,
    "start_time": "2022-03-14T17:47:39.389Z"
   },
   {
    "duration": 6,
    "start_time": "2022-03-14T17:47:39.439Z"
   },
   {
    "duration": 15,
    "start_time": "2022-03-14T17:47:39.446Z"
   },
   {
    "duration": 16,
    "start_time": "2022-03-14T17:47:39.463Z"
   },
   {
    "duration": 14,
    "start_time": "2022-03-14T17:47:39.480Z"
   },
   {
    "duration": 47,
    "start_time": "2022-03-14T17:47:39.496Z"
   },
   {
    "duration": 11,
    "start_time": "2022-03-14T17:47:39.544Z"
   },
   {
    "duration": 28,
    "start_time": "2022-03-14T17:47:39.556Z"
   },
   {
    "duration": 14,
    "start_time": "2022-03-14T17:47:39.586Z"
   },
   {
    "duration": 36,
    "start_time": "2022-03-14T17:47:39.602Z"
   },
   {
    "duration": 19,
    "start_time": "2022-03-14T17:47:39.640Z"
   },
   {
    "duration": 5,
    "start_time": "2022-03-14T17:47:39.661Z"
   },
   {
    "duration": 9,
    "start_time": "2022-03-14T17:47:39.668Z"
   },
   {
    "duration": 11,
    "start_time": "2022-03-14T17:47:39.678Z"
   },
   {
    "duration": 5,
    "start_time": "2022-03-14T17:47:39.690Z"
   },
   {
    "duration": 9,
    "start_time": "2022-03-14T17:47:39.696Z"
   },
   {
    "duration": 4,
    "start_time": "2022-03-14T17:47:39.733Z"
   },
   {
    "duration": 7,
    "start_time": "2022-03-14T17:47:39.740Z"
   },
   {
    "duration": 5,
    "start_time": "2022-03-14T17:47:39.748Z"
   },
   {
    "duration": 8,
    "start_time": "2022-03-14T17:47:39.754Z"
   },
   {
    "duration": 11,
    "start_time": "2022-03-14T17:47:39.763Z"
   },
   {
    "duration": 20,
    "start_time": "2022-03-14T17:47:39.776Z"
   },
   {
    "duration": 37,
    "start_time": "2022-03-14T17:47:39.797Z"
   },
   {
    "duration": 15,
    "start_time": "2022-03-14T17:47:39.836Z"
   },
   {
    "duration": 3,
    "start_time": "2022-03-14T17:47:39.853Z"
   },
   {
    "duration": 22,
    "start_time": "2022-03-14T17:47:39.857Z"
   },
   {
    "duration": 16,
    "start_time": "2022-03-14T17:47:39.880Z"
   },
   {
    "duration": 76,
    "start_time": "2022-03-14T17:47:39.897Z"
   },
   {
    "duration": 54,
    "start_time": "2022-03-14T17:48:01.333Z"
   },
   {
    "duration": 10,
    "start_time": "2022-03-14T17:48:01.389Z"
   },
   {
    "duration": 35,
    "start_time": "2022-03-14T17:48:01.401Z"
   },
   {
    "duration": 5,
    "start_time": "2022-03-14T17:48:01.438Z"
   },
   {
    "duration": 9,
    "start_time": "2022-03-14T17:48:01.445Z"
   },
   {
    "duration": 10,
    "start_time": "2022-03-14T17:48:01.455Z"
   },
   {
    "duration": 20,
    "start_time": "2022-03-14T17:48:01.467Z"
   },
   {
    "duration": 14,
    "start_time": "2022-03-14T17:48:01.489Z"
   },
   {
    "duration": 34,
    "start_time": "2022-03-14T17:48:01.505Z"
   },
   {
    "duration": 11,
    "start_time": "2022-03-14T17:48:01.541Z"
   },
   {
    "duration": 13,
    "start_time": "2022-03-14T17:48:01.553Z"
   },
   {
    "duration": 26,
    "start_time": "2022-03-14T17:48:01.568Z"
   },
   {
    "duration": 17,
    "start_time": "2022-03-14T17:48:01.596Z"
   },
   {
    "duration": 23,
    "start_time": "2022-03-14T17:48:01.615Z"
   },
   {
    "duration": 14,
    "start_time": "2022-03-14T17:48:01.639Z"
   },
   {
    "duration": 18,
    "start_time": "2022-03-14T17:48:01.655Z"
   },
   {
    "duration": 27,
    "start_time": "2022-03-14T17:48:01.674Z"
   },
   {
    "duration": 30,
    "start_time": "2022-03-14T17:48:01.703Z"
   },
   {
    "duration": 15,
    "start_time": "2022-03-14T17:48:01.735Z"
   },
   {
    "duration": 22,
    "start_time": "2022-03-14T17:48:01.751Z"
   },
   {
    "duration": 6,
    "start_time": "2022-03-14T17:48:01.775Z"
   },
   {
    "duration": 12,
    "start_time": "2022-03-14T17:48:01.782Z"
   },
   {
    "duration": 10,
    "start_time": "2022-03-14T17:48:01.797Z"
   },
   {
    "duration": 28,
    "start_time": "2022-03-14T17:48:01.809Z"
   },
   {
    "duration": 10,
    "start_time": "2022-03-14T17:48:01.838Z"
   },
   {
    "duration": 9,
    "start_time": "2022-03-14T17:48:01.849Z"
   },
   {
    "duration": 13,
    "start_time": "2022-03-14T17:48:01.860Z"
   },
   {
    "duration": 10,
    "start_time": "2022-03-14T17:48:01.875Z"
   },
   {
    "duration": 9,
    "start_time": "2022-03-14T17:48:01.886Z"
   },
   {
    "duration": 12,
    "start_time": "2022-03-14T17:48:01.897Z"
   },
   {
    "duration": 44,
    "start_time": "2022-03-14T17:48:01.911Z"
   },
   {
    "duration": 6,
    "start_time": "2022-03-14T17:48:01.956Z"
   },
   {
    "duration": 14,
    "start_time": "2022-03-14T17:48:01.964Z"
   },
   {
    "duration": 3,
    "start_time": "2022-03-14T17:48:01.980Z"
   },
   {
    "duration": 20,
    "start_time": "2022-03-14T17:48:01.985Z"
   },
   {
    "duration": 37,
    "start_time": "2022-03-14T17:48:02.007Z"
   },
   {
    "duration": 63,
    "start_time": "2022-03-14T17:48:02.046Z"
   },
   {
    "duration": 6,
    "start_time": "2022-03-14T17:49:25.965Z"
   },
   {
    "duration": 6,
    "start_time": "2022-03-14T17:49:35.772Z"
   },
   {
    "duration": 8,
    "start_time": "2022-03-14T17:49:54.748Z"
   },
   {
    "duration": 6,
    "start_time": "2022-03-14T17:49:57.931Z"
   },
   {
    "duration": 11,
    "start_time": "2022-03-14T17:50:06.020Z"
   },
   {
    "duration": 4,
    "start_time": "2022-03-14T17:50:21.301Z"
   },
   {
    "duration": 7,
    "start_time": "2022-03-14T17:50:24.315Z"
   },
   {
    "duration": 5,
    "start_time": "2022-03-14T17:50:28.571Z"
   },
   {
    "duration": 7,
    "start_time": "2022-03-14T17:50:30.627Z"
   },
   {
    "duration": 12,
    "start_time": "2022-03-14T17:50:33.517Z"
   },
   {
    "duration": 23,
    "start_time": "2022-03-14T17:50:39.783Z"
   },
   {
    "duration": 6,
    "start_time": "2022-03-14T17:50:44.372Z"
   },
   {
    "duration": 9,
    "start_time": "2022-03-14T17:50:47.832Z"
   },
   {
    "duration": 3,
    "start_time": "2022-03-14T17:50:51.724Z"
   },
   {
    "duration": 18,
    "start_time": "2022-03-14T17:50:53.991Z"
   },
   {
    "duration": 10,
    "start_time": "2022-03-14T17:50:57.724Z"
   },
   {
    "duration": 55,
    "start_time": "2022-03-14T17:51:02.955Z"
   },
   {
    "duration": 195,
    "start_time": "2022-03-14T17:51:33.748Z"
   },
   {
    "duration": 217,
    "start_time": "2022-03-14T17:52:15.262Z"
   },
   {
    "duration": 13,
    "start_time": "2022-03-14T17:52:36.740Z"
   },
   {
    "duration": 72,
    "start_time": "2022-03-14T17:57:08.075Z"
   },
   {
    "duration": 90,
    "start_time": "2022-03-14T17:57:20.027Z"
   },
   {
    "duration": 81,
    "start_time": "2022-03-14T17:57:34.993Z"
   },
   {
    "duration": 58,
    "start_time": "2022-03-14T17:57:46.609Z"
   },
   {
    "duration": 10,
    "start_time": "2022-03-14T17:57:46.669Z"
   },
   {
    "duration": 11,
    "start_time": "2022-03-14T17:57:46.680Z"
   },
   {
    "duration": 5,
    "start_time": "2022-03-14T17:57:46.692Z"
   },
   {
    "duration": 4,
    "start_time": "2022-03-14T17:57:46.698Z"
   },
   {
    "duration": 34,
    "start_time": "2022-03-14T17:57:46.703Z"
   },
   {
    "duration": 20,
    "start_time": "2022-03-14T17:57:46.739Z"
   },
   {
    "duration": 12,
    "start_time": "2022-03-14T17:57:46.760Z"
   },
   {
    "duration": 8,
    "start_time": "2022-03-14T17:57:46.775Z"
   },
   {
    "duration": 11,
    "start_time": "2022-03-14T17:57:46.785Z"
   },
   {
    "duration": 5,
    "start_time": "2022-03-14T17:57:46.798Z"
   },
   {
    "duration": 49,
    "start_time": "2022-03-14T17:57:46.805Z"
   },
   {
    "duration": 17,
    "start_time": "2022-03-14T17:57:46.856Z"
   },
   {
    "duration": 14,
    "start_time": "2022-03-14T17:57:46.875Z"
   },
   {
    "duration": 14,
    "start_time": "2022-03-14T17:57:46.891Z"
   },
   {
    "duration": 36,
    "start_time": "2022-03-14T17:57:46.907Z"
   },
   {
    "duration": 29,
    "start_time": "2022-03-14T17:57:46.945Z"
   },
   {
    "duration": 16,
    "start_time": "2022-03-14T17:57:46.976Z"
   },
   {
    "duration": 40,
    "start_time": "2022-03-14T17:57:46.994Z"
   },
   {
    "duration": 28,
    "start_time": "2022-03-14T17:57:47.036Z"
   },
   {
    "duration": 5,
    "start_time": "2022-03-14T17:57:47.066Z"
   },
   {
    "duration": 8,
    "start_time": "2022-03-14T17:57:47.073Z"
   },
   {
    "duration": 7,
    "start_time": "2022-03-14T17:57:47.082Z"
   },
   {
    "duration": 8,
    "start_time": "2022-03-14T17:57:47.091Z"
   },
   {
    "duration": 42,
    "start_time": "2022-03-14T17:57:47.101Z"
   },
   {
    "duration": 10,
    "start_time": "2022-03-14T17:57:47.146Z"
   },
   {
    "duration": 9,
    "start_time": "2022-03-14T17:57:47.159Z"
   },
   {
    "duration": 5,
    "start_time": "2022-03-14T17:57:47.170Z"
   },
   {
    "duration": 9,
    "start_time": "2022-03-14T17:57:47.176Z"
   },
   {
    "duration": 14,
    "start_time": "2022-03-14T17:57:47.186Z"
   },
   {
    "duration": 45,
    "start_time": "2022-03-14T17:57:47.202Z"
   },
   {
    "duration": 10,
    "start_time": "2022-03-14T17:57:47.248Z"
   },
   {
    "duration": 14,
    "start_time": "2022-03-14T17:57:47.259Z"
   },
   {
    "duration": 3,
    "start_time": "2022-03-14T17:57:47.274Z"
   },
   {
    "duration": 21,
    "start_time": "2022-03-14T17:57:47.279Z"
   },
   {
    "duration": 31,
    "start_time": "2022-03-14T17:57:47.302Z"
   },
   {
    "duration": 129,
    "start_time": "2022-03-14T17:57:47.335Z"
   },
   {
    "duration": -329,
    "start_time": "2022-03-14T17:57:47.795Z"
   },
   {
    "duration": 61,
    "start_time": "2022-03-14T17:59:38.986Z"
   },
   {
    "duration": 57,
    "start_time": "2022-03-14T17:59:41.953Z"
   },
   {
    "duration": 54,
    "start_time": "2022-03-14T17:59:46.546Z"
   },
   {
    "duration": 10,
    "start_time": "2022-03-14T17:59:46.602Z"
   },
   {
    "duration": 23,
    "start_time": "2022-03-14T17:59:46.614Z"
   },
   {
    "duration": 5,
    "start_time": "2022-03-14T17:59:46.640Z"
   },
   {
    "duration": 5,
    "start_time": "2022-03-14T17:59:46.647Z"
   },
   {
    "duration": 7,
    "start_time": "2022-03-14T17:59:46.653Z"
   },
   {
    "duration": 20,
    "start_time": "2022-03-14T17:59:46.662Z"
   },
   {
    "duration": 53,
    "start_time": "2022-03-14T17:59:46.684Z"
   },
   {
    "duration": 11,
    "start_time": "2022-03-14T17:59:46.742Z"
   },
   {
    "duration": 11,
    "start_time": "2022-03-14T17:59:46.756Z"
   },
   {
    "duration": 8,
    "start_time": "2022-03-14T17:59:46.768Z"
   },
   {
    "duration": 14,
    "start_time": "2022-03-14T17:59:46.778Z"
   },
   {
    "duration": 54,
    "start_time": "2022-03-14T17:59:46.794Z"
   },
   {
    "duration": 15,
    "start_time": "2022-03-14T17:59:46.850Z"
   },
   {
    "duration": 15,
    "start_time": "2022-03-14T17:59:46.867Z"
   },
   {
    "duration": 11,
    "start_time": "2022-03-14T17:59:46.884Z"
   },
   {
    "duration": 59,
    "start_time": "2022-03-14T17:59:46.897Z"
   },
   {
    "duration": 15,
    "start_time": "2022-03-14T17:59:46.957Z"
   },
   {
    "duration": 15,
    "start_time": "2022-03-14T17:59:46.974Z"
   },
   {
    "duration": 17,
    "start_time": "2022-03-14T17:59:46.991Z"
   },
   {
    "duration": 35,
    "start_time": "2022-03-14T17:59:47.010Z"
   },
   {
    "duration": 7,
    "start_time": "2022-03-14T17:59:47.047Z"
   },
   {
    "duration": 10,
    "start_time": "2022-03-14T17:59:47.055Z"
   },
   {
    "duration": 6,
    "start_time": "2022-03-14T17:59:47.066Z"
   },
   {
    "duration": 9,
    "start_time": "2022-03-14T17:59:47.073Z"
   },
   {
    "duration": 7,
    "start_time": "2022-03-14T17:59:47.083Z"
   },
   {
    "duration": 7,
    "start_time": "2022-03-14T17:59:47.093Z"
   },
   {
    "duration": 39,
    "start_time": "2022-03-14T17:59:47.102Z"
   },
   {
    "duration": 14,
    "start_time": "2022-03-14T17:59:47.143Z"
   },
   {
    "duration": 12,
    "start_time": "2022-03-14T17:59:47.159Z"
   },
   {
    "duration": 21,
    "start_time": "2022-03-14T17:59:47.173Z"
   },
   {
    "duration": 6,
    "start_time": "2022-03-14T17:59:47.196Z"
   },
   {
    "duration": 38,
    "start_time": "2022-03-14T17:59:47.203Z"
   },
   {
    "duration": 4,
    "start_time": "2022-03-14T17:59:47.243Z"
   },
   {
    "duration": 22,
    "start_time": "2022-03-14T17:59:47.249Z"
   },
   {
    "duration": 14,
    "start_time": "2022-03-14T17:59:47.273Z"
   },
   {
    "duration": 59,
    "start_time": "2022-03-14T17:59:47.288Z"
   },
   {
    "duration": -280,
    "start_time": "2022-03-14T17:59:47.628Z"
   },
   {
    "duration": 8,
    "start_time": "2022-03-14T18:00:57.458Z"
   },
   {
    "duration": 8,
    "start_time": "2022-03-14T18:00:59.585Z"
   },
   {
    "duration": 55,
    "start_time": "2022-03-14T18:01:04.547Z"
   },
   {
    "duration": 10,
    "start_time": "2022-03-14T18:01:04.604Z"
   },
   {
    "duration": 27,
    "start_time": "2022-03-14T18:01:04.616Z"
   },
   {
    "duration": 6,
    "start_time": "2022-03-14T18:01:04.645Z"
   },
   {
    "duration": 9,
    "start_time": "2022-03-14T18:01:04.653Z"
   },
   {
    "duration": 6,
    "start_time": "2022-03-14T18:01:04.664Z"
   },
   {
    "duration": 23,
    "start_time": "2022-03-14T18:01:04.672Z"
   },
   {
    "duration": 44,
    "start_time": "2022-03-14T18:01:04.697Z"
   },
   {
    "duration": 12,
    "start_time": "2022-03-14T18:01:04.744Z"
   },
   {
    "duration": 12,
    "start_time": "2022-03-14T18:01:04.758Z"
   },
   {
    "duration": 7,
    "start_time": "2022-03-14T18:01:04.771Z"
   },
   {
    "duration": 18,
    "start_time": "2022-03-14T18:01:04.780Z"
   },
   {
    "duration": 47,
    "start_time": "2022-03-14T18:01:04.800Z"
   },
   {
    "duration": 20,
    "start_time": "2022-03-14T18:01:04.849Z"
   },
   {
    "duration": 23,
    "start_time": "2022-03-14T18:01:04.872Z"
   },
   {
    "duration": 17,
    "start_time": "2022-03-14T18:01:04.897Z"
   },
   {
    "duration": 31,
    "start_time": "2022-03-14T18:01:04.939Z"
   },
   {
    "duration": 24,
    "start_time": "2022-03-14T18:01:04.972Z"
   },
   {
    "duration": 35,
    "start_time": "2022-03-14T18:01:04.998Z"
   },
   {
    "duration": 25,
    "start_time": "2022-03-14T18:01:05.037Z"
   },
   {
    "duration": 11,
    "start_time": "2022-03-14T18:01:05.064Z"
   },
   {
    "duration": 7,
    "start_time": "2022-03-14T18:01:05.077Z"
   },
   {
    "duration": 10,
    "start_time": "2022-03-14T18:01:05.086Z"
   },
   {
    "duration": 9,
    "start_time": "2022-03-14T18:01:05.098Z"
   },
   {
    "duration": 39,
    "start_time": "2022-03-14T18:01:05.109Z"
   },
   {
    "duration": 6,
    "start_time": "2022-03-14T18:01:05.150Z"
   },
   {
    "duration": 11,
    "start_time": "2022-03-14T18:01:05.159Z"
   },
   {
    "duration": 13,
    "start_time": "2022-03-14T18:01:05.172Z"
   },
   {
    "duration": 15,
    "start_time": "2022-03-14T18:01:05.187Z"
   },
   {
    "duration": 16,
    "start_time": "2022-03-14T18:01:05.204Z"
   },
   {
    "duration": 32,
    "start_time": "2022-03-14T18:01:05.222Z"
   },
   {
    "duration": 6,
    "start_time": "2022-03-14T18:01:05.255Z"
   },
   {
    "duration": 14,
    "start_time": "2022-03-14T18:01:05.263Z"
   },
   {
    "duration": 3,
    "start_time": "2022-03-14T18:01:05.279Z"
   },
   {
    "duration": 22,
    "start_time": "2022-03-14T18:01:05.284Z"
   },
   {
    "duration": 39,
    "start_time": "2022-03-14T18:01:05.308Z"
   },
   {
    "duration": 70,
    "start_time": "2022-03-14T18:01:05.349Z"
   },
   {
    "duration": -233,
    "start_time": "2022-03-14T18:01:05.654Z"
   },
   {
    "duration": 13,
    "start_time": "2022-03-14T18:01:41.400Z"
   },
   {
    "duration": 1719,
    "start_time": "2022-03-14T18:26:18.117Z"
   },
   {
    "duration": 11,
    "start_time": "2022-03-14T18:26:19.838Z"
   },
   {
    "duration": 9,
    "start_time": "2022-03-14T18:26:19.851Z"
   },
   {
    "duration": 5,
    "start_time": "2022-03-14T18:26:19.861Z"
   },
   {
    "duration": 5,
    "start_time": "2022-03-14T18:26:19.867Z"
   },
   {
    "duration": 5,
    "start_time": "2022-03-14T18:26:19.873Z"
   },
   {
    "duration": 18,
    "start_time": "2022-03-14T18:26:19.879Z"
   },
   {
    "duration": 47,
    "start_time": "2022-03-14T18:26:19.900Z"
   },
   {
    "duration": 10,
    "start_time": "2022-03-14T18:26:19.950Z"
   },
   {
    "duration": 21,
    "start_time": "2022-03-14T18:26:19.962Z"
   },
   {
    "duration": 26,
    "start_time": "2022-03-14T18:26:19.985Z"
   },
   {
    "duration": 32,
    "start_time": "2022-03-14T18:26:20.012Z"
   },
   {
    "duration": 19,
    "start_time": "2022-03-14T18:26:20.045Z"
   },
   {
    "duration": 15,
    "start_time": "2022-03-14T18:26:20.066Z"
   },
   {
    "duration": 15,
    "start_time": "2022-03-14T18:26:20.083Z"
   },
   {
    "duration": 49,
    "start_time": "2022-03-14T18:26:20.099Z"
   },
   {
    "duration": 27,
    "start_time": "2022-03-14T18:26:20.151Z"
   },
   {
    "duration": 17,
    "start_time": "2022-03-14T18:26:20.180Z"
   },
   {
    "duration": 47,
    "start_time": "2022-03-14T18:26:20.199Z"
   },
   {
    "duration": 26,
    "start_time": "2022-03-14T18:26:20.248Z"
   },
   {
    "duration": 8,
    "start_time": "2022-03-14T18:26:20.276Z"
   },
   {
    "duration": 7,
    "start_time": "2022-03-14T18:26:20.286Z"
   },
   {
    "duration": 8,
    "start_time": "2022-03-14T18:26:20.296Z"
   },
   {
    "duration": 6,
    "start_time": "2022-03-14T18:26:20.334Z"
   },
   {
    "duration": 13,
    "start_time": "2022-03-14T18:26:20.342Z"
   },
   {
    "duration": 5,
    "start_time": "2022-03-14T18:26:20.357Z"
   },
   {
    "duration": 9,
    "start_time": "2022-03-14T18:26:20.364Z"
   },
   {
    "duration": 5,
    "start_time": "2022-03-14T18:26:20.375Z"
   },
   {
    "duration": 7,
    "start_time": "2022-03-14T18:26:20.382Z"
   },
   {
    "duration": 44,
    "start_time": "2022-03-14T18:26:20.391Z"
   },
   {
    "duration": 33,
    "start_time": "2022-03-14T18:26:20.438Z"
   },
   {
    "duration": 6,
    "start_time": "2022-03-14T18:26:20.472Z"
   },
   {
    "duration": 14,
    "start_time": "2022-03-14T18:26:20.479Z"
   },
   {
    "duration": 3,
    "start_time": "2022-03-14T18:26:20.495Z"
   },
   {
    "duration": 45,
    "start_time": "2022-03-14T18:26:20.499Z"
   },
   {
    "duration": 14,
    "start_time": "2022-03-14T18:26:20.546Z"
   },
   {
    "duration": 69,
    "start_time": "2022-03-14T18:26:20.562Z"
   },
   {
    "duration": -366,
    "start_time": "2022-03-14T18:26:20.999Z"
   },
   {
    "duration": 11,
    "start_time": "2022-03-14T18:27:58.350Z"
   },
   {
    "duration": 55,
    "start_time": "2022-03-14T18:29:54.976Z"
   },
   {
    "duration": 5,
    "start_time": "2022-03-14T18:30:31.351Z"
   },
   {
    "duration": 7,
    "start_time": "2022-03-14T18:30:43.646Z"
   },
   {
    "duration": 6,
    "start_time": "2022-03-14T18:30:55.214Z"
   },
   {
    "duration": 8,
    "start_time": "2022-03-14T18:31:06.503Z"
   },
   {
    "duration": 8,
    "start_time": "2022-03-14T18:31:12.414Z"
   },
   {
    "duration": 7,
    "start_time": "2022-03-14T18:31:16.246Z"
   },
   {
    "duration": 56,
    "start_time": "2022-03-14T18:31:34.486Z"
   },
   {
    "duration": 58,
    "start_time": "2022-03-14T18:31:38.950Z"
   },
   {
    "duration": 13,
    "start_time": "2022-03-14T18:31:50.381Z"
   },
   {
    "duration": 496,
    "start_time": "2022-03-14T18:31:55.666Z"
   },
   {
    "duration": 16,
    "start_time": "2022-03-14T18:31:56.165Z"
   },
   {
    "duration": 15,
    "start_time": "2022-03-14T18:31:56.184Z"
   },
   {
    "duration": 32,
    "start_time": "2022-03-14T18:31:56.201Z"
   },
   {
    "duration": 4,
    "start_time": "2022-03-14T18:31:56.235Z"
   },
   {
    "duration": 9,
    "start_time": "2022-03-14T18:31:56.242Z"
   },
   {
    "duration": 26,
    "start_time": "2022-03-14T18:31:56.253Z"
   },
   {
    "duration": 16,
    "start_time": "2022-03-14T18:31:56.282Z"
   },
   {
    "duration": 39,
    "start_time": "2022-03-14T18:31:56.300Z"
   },
   {
    "duration": 15,
    "start_time": "2022-03-14T18:31:56.341Z"
   },
   {
    "duration": 6,
    "start_time": "2022-03-14T18:31:56.358Z"
   },
   {
    "duration": 19,
    "start_time": "2022-03-14T18:31:56.366Z"
   },
   {
    "duration": 55,
    "start_time": "2022-03-14T18:31:56.387Z"
   },
   {
    "duration": 21,
    "start_time": "2022-03-14T18:31:56.445Z"
   },
   {
    "duration": 22,
    "start_time": "2022-03-14T18:31:56.470Z"
   },
   {
    "duration": 16,
    "start_time": "2022-03-14T18:31:56.494Z"
   },
   {
    "duration": 40,
    "start_time": "2022-03-14T18:31:56.512Z"
   },
   {
    "duration": 15,
    "start_time": "2022-03-14T18:31:56.554Z"
   },
   {
    "duration": 25,
    "start_time": "2022-03-14T18:31:56.572Z"
   },
   {
    "duration": 49,
    "start_time": "2022-03-14T18:31:56.600Z"
   },
   {
    "duration": 8,
    "start_time": "2022-03-14T18:31:56.651Z"
   },
   {
    "duration": 8,
    "start_time": "2022-03-14T18:31:56.662Z"
   },
   {
    "duration": 12,
    "start_time": "2022-03-14T18:31:56.675Z"
   },
   {
    "duration": 8,
    "start_time": "2022-03-14T18:31:56.690Z"
   },
   {
    "duration": 40,
    "start_time": "2022-03-14T18:31:56.699Z"
   },
   {
    "duration": 7,
    "start_time": "2022-03-14T18:31:56.741Z"
   },
   {
    "duration": 10,
    "start_time": "2022-03-14T18:31:56.750Z"
   },
   {
    "duration": 9,
    "start_time": "2022-03-14T18:31:56.762Z"
   },
   {
    "duration": 12,
    "start_time": "2022-03-14T18:31:56.772Z"
   },
   {
    "duration": 14,
    "start_time": "2022-03-14T18:31:56.786Z"
   },
   {
    "duration": 43,
    "start_time": "2022-03-14T18:31:56.802Z"
   },
   {
    "duration": 12,
    "start_time": "2022-03-14T18:31:56.847Z"
   },
   {
    "duration": 18,
    "start_time": "2022-03-14T18:31:56.861Z"
   },
   {
    "duration": 4,
    "start_time": "2022-03-14T18:31:56.881Z"
   },
   {
    "duration": 20,
    "start_time": "2022-03-14T18:31:56.886Z"
   },
   {
    "duration": 27,
    "start_time": "2022-03-14T18:31:56.907Z"
   },
   {
    "duration": 12,
    "start_time": "2022-03-14T18:31:56.935Z"
   },
   {
    "duration": 7,
    "start_time": "2022-03-14T18:32:50.750Z"
   },
   {
    "duration": 7,
    "start_time": "2022-03-14T18:34:54.501Z"
   },
   {
    "duration": 14,
    "start_time": "2022-03-14T18:36:20.934Z"
   },
   {
    "duration": 8,
    "start_time": "2022-03-14T18:46:02.252Z"
   },
   {
    "duration": 2,
    "start_time": "2022-03-14T18:58:56.772Z"
   },
   {
    "duration": 192,
    "start_time": "2022-03-14T19:00:34.952Z"
   },
   {
    "duration": 7,
    "start_time": "2022-03-14T19:02:09.586Z"
   },
   {
    "duration": 11,
    "start_time": "2022-03-14T19:05:02.155Z"
   },
   {
    "duration": 8,
    "start_time": "2022-03-14T20:17:16.110Z"
   },
   {
    "duration": 12,
    "start_time": "2022-03-14T20:20:23.525Z"
   },
   {
    "duration": 11,
    "start_time": "2022-03-14T20:20:23.539Z"
   },
   {
    "duration": 5,
    "start_time": "2022-03-14T20:20:23.552Z"
   },
   {
    "duration": 6,
    "start_time": "2022-03-14T20:20:23.558Z"
   },
   {
    "duration": 6,
    "start_time": "2022-03-14T20:20:23.565Z"
   },
   {
    "duration": 14,
    "start_time": "2022-03-14T20:20:23.573Z"
   },
   {
    "duration": 55,
    "start_time": "2022-03-14T20:20:23.589Z"
   },
   {
    "duration": 11,
    "start_time": "2022-03-14T20:20:23.645Z"
   },
   {
    "duration": 10,
    "start_time": "2022-03-14T20:20:23.659Z"
   },
   {
    "duration": 5,
    "start_time": "2022-03-14T20:20:23.671Z"
   },
   {
    "duration": 22,
    "start_time": "2022-03-14T20:20:23.678Z"
   },
   {
    "duration": 22,
    "start_time": "2022-03-14T20:20:23.733Z"
   },
   {
    "duration": 18,
    "start_time": "2022-03-14T20:20:23.757Z"
   },
   {
    "duration": 22,
    "start_time": "2022-03-14T20:20:23.776Z"
   },
   {
    "duration": 36,
    "start_time": "2022-03-14T20:20:23.799Z"
   },
   {
    "duration": 23,
    "start_time": "2022-03-14T20:20:23.837Z"
   },
   {
    "duration": 15,
    "start_time": "2022-03-14T20:20:23.862Z"
   },
   {
    "duration": 16,
    "start_time": "2022-03-14T20:20:23.878Z"
   },
   {
    "duration": 47,
    "start_time": "2022-03-14T20:20:23.896Z"
   },
   {
    "duration": 6,
    "start_time": "2022-03-14T20:20:23.945Z"
   },
   {
    "duration": 8,
    "start_time": "2022-03-14T20:20:23.953Z"
   },
   {
    "duration": 7,
    "start_time": "2022-03-14T20:20:23.963Z"
   },
   {
    "duration": 8,
    "start_time": "2022-03-14T20:20:23.972Z"
   },
   {
    "duration": 23,
    "start_time": "2022-03-14T20:20:23.981Z"
   },
   {
    "duration": 29,
    "start_time": "2022-03-14T20:20:24.006Z"
   },
   {
    "duration": 8,
    "start_time": "2022-03-14T20:20:24.037Z"
   },
   {
    "duration": 6,
    "start_time": "2022-03-14T20:20:24.048Z"
   },
   {
    "duration": 9,
    "start_time": "2022-03-14T20:20:24.056Z"
   },
   {
    "duration": 17,
    "start_time": "2022-03-14T20:20:24.066Z"
   },
   {
    "duration": 49,
    "start_time": "2022-03-14T20:20:24.084Z"
   },
   {
    "duration": 6,
    "start_time": "2022-03-14T20:20:24.135Z"
   },
   {
    "duration": 11,
    "start_time": "2022-03-14T20:20:24.143Z"
   },
   {
    "duration": 4,
    "start_time": "2022-03-14T20:20:24.156Z"
   },
   {
    "duration": 22,
    "start_time": "2022-03-14T20:20:24.161Z"
   },
   {
    "duration": 12,
    "start_time": "2022-03-14T20:20:24.184Z"
   },
   {
    "duration": 11,
    "start_time": "2022-03-14T20:20:24.197Z"
   },
   {
    "duration": 24,
    "start_time": "2022-03-14T20:20:24.210Z"
   },
   {
    "duration": 11,
    "start_time": "2022-03-14T20:20:24.235Z"
   },
   {
    "duration": 5,
    "start_time": "2022-03-14T20:20:24.248Z"
   },
   {
    "duration": 7,
    "start_time": "2022-03-14T20:20:24.255Z"
   },
   {
    "duration": 55,
    "start_time": "2022-03-14T20:20:43.337Z"
   },
   {
    "duration": 2,
    "start_time": "2022-03-14T20:31:27.749Z"
   },
   {
    "duration": 11,
    "start_time": "2022-03-14T20:31:39.780Z"
   },
   {
    "duration": 10,
    "start_time": "2022-03-14T20:49:07.219Z"
   },
   {
    "duration": 5,
    "start_time": "2022-03-14T20:49:21.603Z"
   },
   {
    "duration": 125,
    "start_time": "2022-03-17T15:05:39.927Z"
   },
   {
    "duration": 551,
    "start_time": "2022-03-17T16:40:42.558Z"
   },
   {
    "duration": 530,
    "start_time": "2022-03-17T16:41:31.754Z"
   },
   {
    "duration": 607,
    "start_time": "2022-03-17T16:42:43.799Z"
   },
   {
    "duration": 80,
    "start_time": "2022-03-17T16:42:44.408Z"
   },
   {
    "duration": 30,
    "start_time": "2022-03-17T16:42:44.491Z"
   },
   {
    "duration": 23,
    "start_time": "2022-03-17T16:42:44.524Z"
   },
   {
    "duration": 49,
    "start_time": "2022-03-17T16:42:44.549Z"
   },
   {
    "duration": 8,
    "start_time": "2022-03-17T16:42:44.601Z"
   },
   {
    "duration": 7,
    "start_time": "2022-03-17T16:42:44.612Z"
   },
   {
    "duration": 8,
    "start_time": "2022-03-17T16:42:44.622Z"
   },
   {
    "duration": 70,
    "start_time": "2022-03-17T16:42:44.633Z"
   },
   {
    "duration": 32,
    "start_time": "2022-03-17T16:42:44.708Z"
   },
   {
    "duration": 43,
    "start_time": "2022-03-17T16:42:44.743Z"
   },
   {
    "duration": 19,
    "start_time": "2022-03-17T16:42:44.789Z"
   },
   {
    "duration": 12,
    "start_time": "2022-03-17T16:42:44.810Z"
   },
   {
    "duration": 60,
    "start_time": "2022-03-17T16:42:44.824Z"
   },
   {
    "duration": 30,
    "start_time": "2022-03-17T16:42:44.886Z"
   },
   {
    "duration": 26,
    "start_time": "2022-03-17T16:42:44.919Z"
   },
   {
    "duration": 48,
    "start_time": "2022-03-17T16:42:44.948Z"
   },
   {
    "duration": 15,
    "start_time": "2022-03-17T16:42:44.999Z"
   },
   {
    "duration": 50,
    "start_time": "2022-03-17T16:42:45.017Z"
   },
   {
    "duration": 29,
    "start_time": "2022-03-17T16:42:45.070Z"
   },
   {
    "duration": 53,
    "start_time": "2022-03-17T16:42:45.101Z"
   },
   {
    "duration": 40,
    "start_time": "2022-03-17T16:42:45.156Z"
   },
   {
    "duration": 9,
    "start_time": "2022-03-17T16:42:45.198Z"
   },
   {
    "duration": 12,
    "start_time": "2022-03-17T16:42:45.209Z"
   },
   {
    "duration": 49,
    "start_time": "2022-03-17T16:42:45.223Z"
   },
   {
    "duration": 9,
    "start_time": "2022-03-17T16:42:45.275Z"
   },
   {
    "duration": 18,
    "start_time": "2022-03-17T16:42:45.286Z"
   },
   {
    "duration": 12,
    "start_time": "2022-03-17T16:42:45.309Z"
   },
   {
    "duration": 14,
    "start_time": "2022-03-17T16:42:45.324Z"
   },
   {
    "duration": 12,
    "start_time": "2022-03-17T16:42:45.340Z"
   },
   {
    "duration": 32,
    "start_time": "2022-03-17T16:42:45.355Z"
   },
   {
    "duration": 21,
    "start_time": "2022-03-17T16:42:45.389Z"
   },
   {
    "duration": 35,
    "start_time": "2022-03-17T16:42:45.413Z"
   },
   {
    "duration": 39,
    "start_time": "2022-03-17T16:42:45.450Z"
   },
   {
    "duration": 21,
    "start_time": "2022-03-17T16:42:45.491Z"
   },
   {
    "duration": 5,
    "start_time": "2022-03-17T16:42:45.514Z"
   },
   {
    "duration": 34,
    "start_time": "2022-03-17T16:42:45.521Z"
   },
   {
    "duration": 46,
    "start_time": "2022-03-17T16:42:45.557Z"
   },
   {
    "duration": 9,
    "start_time": "2022-03-17T16:42:45.606Z"
   },
   {
    "duration": 10,
    "start_time": "2022-03-17T16:42:45.618Z"
   },
   {
    "duration": 54,
    "start_time": "2022-03-17T16:42:45.631Z"
   },
   {
    "duration": 12,
    "start_time": "2022-03-17T16:42:45.688Z"
   },
   {
    "duration": 13,
    "start_time": "2022-03-17T16:42:45.702Z"
   },
   {
    "duration": 6,
    "start_time": "2022-03-17T16:52:37.312Z"
   },
   {
    "duration": 22,
    "start_time": "2022-03-17T17:02:55.078Z"
   },
   {
    "duration": 10,
    "start_time": "2022-03-17T17:02:55.103Z"
   },
   {
    "duration": 18,
    "start_time": "2022-03-17T17:02:55.115Z"
   },
   {
    "duration": 16,
    "start_time": "2022-03-17T17:02:55.136Z"
   },
   {
    "duration": 53,
    "start_time": "2022-03-17T17:02:55.154Z"
   },
   {
    "duration": 25,
    "start_time": "2022-03-17T17:02:55.209Z"
   },
   {
    "duration": 50,
    "start_time": "2022-03-17T17:02:55.237Z"
   },
   {
    "duration": 24,
    "start_time": "2022-03-17T17:02:55.290Z"
   },
   {
    "duration": 9,
    "start_time": "2022-03-17T17:02:55.316Z"
   },
   {
    "duration": 65,
    "start_time": "2022-03-17T17:02:55.329Z"
   },
   {
    "duration": 35,
    "start_time": "2022-03-17T17:02:55.397Z"
   },
   {
    "duration": 51,
    "start_time": "2022-03-17T17:02:55.434Z"
   },
   {
    "duration": 26,
    "start_time": "2022-03-17T17:02:55.487Z"
   },
   {
    "duration": 16,
    "start_time": "2022-03-17T17:02:55.516Z"
   },
   {
    "duration": 58,
    "start_time": "2022-03-17T17:02:55.534Z"
   },
   {
    "duration": 21,
    "start_time": "2022-03-17T17:02:55.594Z"
   },
   {
    "duration": 37,
    "start_time": "2022-03-17T17:02:55.617Z"
   },
   {
    "duration": 44,
    "start_time": "2022-03-17T17:02:55.656Z"
   },
   {
    "duration": 14,
    "start_time": "2022-03-17T17:02:55.702Z"
   },
   {
    "duration": 21,
    "start_time": "2022-03-17T17:02:55.718Z"
   },
   {
    "duration": 21,
    "start_time": "2022-03-17T17:02:55.741Z"
   },
   {
    "duration": 33,
    "start_time": "2022-03-17T17:02:55.764Z"
   },
   {
    "duration": 32,
    "start_time": "2022-03-17T17:02:55.799Z"
   },
   {
    "duration": 31,
    "start_time": "2022-03-17T17:02:55.833Z"
   },
   {
    "duration": 27,
    "start_time": "2022-03-17T17:02:55.867Z"
   },
   {
    "duration": 23,
    "start_time": "2022-03-17T17:02:55.897Z"
   },
   {
    "duration": 29,
    "start_time": "2022-03-17T17:02:55.922Z"
   },
   {
    "duration": 29,
    "start_time": "2022-03-17T17:02:55.956Z"
   },
   {
    "duration": 40,
    "start_time": "2022-03-17T17:02:55.989Z"
   },
   {
    "duration": 13,
    "start_time": "2022-03-17T17:02:56.032Z"
   },
   {
    "duration": 37,
    "start_time": "2022-03-17T17:02:56.047Z"
   },
   {
    "duration": 12,
    "start_time": "2022-03-17T17:02:56.086Z"
   },
   {
    "duration": 59,
    "start_time": "2022-03-17T17:02:56.100Z"
   },
   {
    "duration": 17,
    "start_time": "2022-03-17T17:02:56.161Z"
   },
   {
    "duration": 29,
    "start_time": "2022-03-17T17:02:56.180Z"
   },
   {
    "duration": 15,
    "start_time": "2022-03-17T17:02:56.211Z"
   },
   {
    "duration": 11,
    "start_time": "2022-03-17T17:02:56.229Z"
   },
   {
    "duration": 12,
    "start_time": "2022-03-17T17:02:56.243Z"
   },
   {
    "duration": 32,
    "start_time": "2022-03-17T17:02:56.257Z"
   },
   {
    "duration": 12,
    "start_time": "2022-03-17T17:06:18.865Z"
   },
   {
    "duration": 539,
    "start_time": "2022-03-17T17:07:08.988Z"
   },
   {
    "duration": 85,
    "start_time": "2022-03-17T17:07:09.530Z"
   },
   {
    "duration": 32,
    "start_time": "2022-03-17T17:07:09.617Z"
   },
   {
    "duration": 50,
    "start_time": "2022-03-17T17:07:09.652Z"
   },
   {
    "duration": 31,
    "start_time": "2022-03-17T17:07:09.705Z"
   },
   {
    "duration": 40,
    "start_time": "2022-03-17T17:07:09.739Z"
   },
   {
    "duration": 7,
    "start_time": "2022-03-17T17:07:09.782Z"
   },
   {
    "duration": 20,
    "start_time": "2022-03-17T17:07:09.791Z"
   },
   {
    "duration": 21,
    "start_time": "2022-03-17T17:07:09.813Z"
   },
   {
    "duration": 43,
    "start_time": "2022-03-17T17:07:09.838Z"
   },
   {
    "duration": 26,
    "start_time": "2022-03-17T17:07:09.884Z"
   },
   {
    "duration": 16,
    "start_time": "2022-03-17T17:07:09.912Z"
   },
   {
    "duration": 36,
    "start_time": "2022-03-17T17:07:09.930Z"
   },
   {
    "duration": 19,
    "start_time": "2022-03-17T17:07:09.969Z"
   },
   {
    "duration": 41,
    "start_time": "2022-03-17T17:07:09.990Z"
   },
   {
    "duration": 43,
    "start_time": "2022-03-17T17:07:10.034Z"
   },
   {
    "duration": 36,
    "start_time": "2022-03-17T17:07:10.079Z"
   },
   {
    "duration": 20,
    "start_time": "2022-03-17T17:07:10.117Z"
   },
   {
    "duration": 27,
    "start_time": "2022-03-17T17:07:10.140Z"
   },
   {
    "duration": 56,
    "start_time": "2022-03-17T17:07:10.169Z"
   },
   {
    "duration": 20,
    "start_time": "2022-03-17T17:07:10.228Z"
   },
   {
    "duration": 27,
    "start_time": "2022-03-17T17:07:10.251Z"
   },
   {
    "duration": 39,
    "start_time": "2022-03-17T17:07:10.283Z"
   },
   {
    "duration": 14,
    "start_time": "2022-03-17T17:07:10.324Z"
   },
   {
    "duration": 29,
    "start_time": "2022-03-17T17:07:10.340Z"
   },
   {
    "duration": 19,
    "start_time": "2022-03-17T17:07:10.372Z"
   },
   {
    "duration": 15,
    "start_time": "2022-03-17T17:07:10.393Z"
   },
   {
    "duration": 29,
    "start_time": "2022-03-17T17:07:10.414Z"
   },
   {
    "duration": 17,
    "start_time": "2022-03-17T17:07:10.445Z"
   },
   {
    "duration": 31,
    "start_time": "2022-03-17T17:07:10.464Z"
   },
   {
    "duration": 37,
    "start_time": "2022-03-17T17:07:10.497Z"
   },
   {
    "duration": 37,
    "start_time": "2022-03-17T17:07:10.536Z"
   },
   {
    "duration": 37,
    "start_time": "2022-03-17T17:07:10.576Z"
   },
   {
    "duration": 49,
    "start_time": "2022-03-17T17:07:10.615Z"
   },
   {
    "duration": 35,
    "start_time": "2022-03-17T17:07:10.666Z"
   },
   {
    "duration": 32,
    "start_time": "2022-03-17T17:07:10.703Z"
   },
   {
    "duration": 16,
    "start_time": "2022-03-17T17:07:10.737Z"
   },
   {
    "duration": 37,
    "start_time": "2022-03-17T17:07:10.755Z"
   },
   {
    "duration": 21,
    "start_time": "2022-03-17T17:07:10.794Z"
   },
   {
    "duration": 21,
    "start_time": "2022-03-17T17:07:10.817Z"
   },
   {
    "duration": 26,
    "start_time": "2022-03-17T17:07:10.840Z"
   },
   {
    "duration": 31,
    "start_time": "2022-03-17T17:07:10.869Z"
   },
   {
    "duration": 20,
    "start_time": "2022-03-17T17:07:10.904Z"
   },
   {
    "duration": 30,
    "start_time": "2022-03-17T17:07:10.926Z"
   },
   {
    "duration": 71,
    "start_time": "2022-03-17T17:10:17.633Z"
   },
   {
    "duration": 0,
    "start_time": "2022-03-17T17:10:17.708Z"
   },
   {
    "duration": 0,
    "start_time": "2022-03-17T17:10:17.710Z"
   },
   {
    "duration": 0,
    "start_time": "2022-03-17T17:10:17.712Z"
   },
   {
    "duration": 0,
    "start_time": "2022-03-17T17:10:17.713Z"
   },
   {
    "duration": 0,
    "start_time": "2022-03-17T17:10:17.715Z"
   },
   {
    "duration": 0,
    "start_time": "2022-03-17T17:10:17.716Z"
   },
   {
    "duration": 0,
    "start_time": "2022-03-17T17:10:17.717Z"
   },
   {
    "duration": 0,
    "start_time": "2022-03-17T17:10:17.719Z"
   },
   {
    "duration": 0,
    "start_time": "2022-03-17T17:10:17.720Z"
   },
   {
    "duration": 0,
    "start_time": "2022-03-17T17:10:17.721Z"
   },
   {
    "duration": 0,
    "start_time": "2022-03-17T17:10:17.722Z"
   },
   {
    "duration": 0,
    "start_time": "2022-03-17T17:10:17.723Z"
   },
   {
    "duration": 0,
    "start_time": "2022-03-17T17:10:17.725Z"
   },
   {
    "duration": 0,
    "start_time": "2022-03-17T17:10:17.726Z"
   },
   {
    "duration": 0,
    "start_time": "2022-03-17T17:10:17.728Z"
   },
   {
    "duration": 0,
    "start_time": "2022-03-17T17:10:17.729Z"
   },
   {
    "duration": 0,
    "start_time": "2022-03-17T17:10:17.730Z"
   },
   {
    "duration": 0,
    "start_time": "2022-03-17T17:10:17.731Z"
   },
   {
    "duration": 0,
    "start_time": "2022-03-17T17:10:17.733Z"
   },
   {
    "duration": 0,
    "start_time": "2022-03-17T17:10:17.734Z"
   },
   {
    "duration": 0,
    "start_time": "2022-03-17T17:10:17.736Z"
   },
   {
    "duration": 0,
    "start_time": "2022-03-17T17:10:17.737Z"
   },
   {
    "duration": 0,
    "start_time": "2022-03-17T17:10:17.784Z"
   },
   {
    "duration": 0,
    "start_time": "2022-03-17T17:10:17.786Z"
   },
   {
    "duration": 0,
    "start_time": "2022-03-17T17:10:17.787Z"
   },
   {
    "duration": 0,
    "start_time": "2022-03-17T17:10:17.788Z"
   },
   {
    "duration": 0,
    "start_time": "2022-03-17T17:10:17.790Z"
   },
   {
    "duration": 0,
    "start_time": "2022-03-17T17:10:17.791Z"
   },
   {
    "duration": 0,
    "start_time": "2022-03-17T17:10:17.793Z"
   },
   {
    "duration": 0,
    "start_time": "2022-03-17T17:10:17.794Z"
   },
   {
    "duration": 0,
    "start_time": "2022-03-17T17:10:17.795Z"
   },
   {
    "duration": 0,
    "start_time": "2022-03-17T17:10:17.797Z"
   },
   {
    "duration": 0,
    "start_time": "2022-03-17T17:10:17.798Z"
   },
   {
    "duration": 0,
    "start_time": "2022-03-17T17:10:17.799Z"
   },
   {
    "duration": 14,
    "start_time": "2022-03-17T17:10:17.804Z"
   },
   {
    "duration": 0,
    "start_time": "2022-03-17T17:10:17.821Z"
   },
   {
    "duration": 0,
    "start_time": "2022-03-17T17:10:17.823Z"
   },
   {
    "duration": 0,
    "start_time": "2022-03-17T17:10:17.884Z"
   },
   {
    "duration": 0,
    "start_time": "2022-03-17T17:10:17.885Z"
   },
   {
    "duration": 541,
    "start_time": "2022-03-17T17:11:01.992Z"
   },
   {
    "duration": 569,
    "start_time": "2022-03-17T17:11:25.097Z"
   },
   {
    "duration": 81,
    "start_time": "2022-03-17T17:11:25.669Z"
   },
   {
    "duration": 47,
    "start_time": "2022-03-17T17:11:25.753Z"
   },
   {
    "duration": 30,
    "start_time": "2022-03-17T17:11:25.804Z"
   },
   {
    "duration": 17,
    "start_time": "2022-03-17T17:11:25.839Z"
   },
   {
    "duration": 50,
    "start_time": "2022-03-17T17:11:25.858Z"
   },
   {
    "duration": 23,
    "start_time": "2022-03-17T17:11:25.911Z"
   },
   {
    "duration": 8,
    "start_time": "2022-03-17T17:11:25.937Z"
   },
   {
    "duration": 39,
    "start_time": "2022-03-17T17:11:25.947Z"
   },
   {
    "duration": 18,
    "start_time": "2022-03-17T17:11:25.989Z"
   },
   {
    "duration": 42,
    "start_time": "2022-03-17T17:11:26.009Z"
   },
   {
    "duration": 21,
    "start_time": "2022-03-17T17:11:26.054Z"
   },
   {
    "duration": 19,
    "start_time": "2022-03-17T17:11:26.077Z"
   },
   {
    "duration": 20,
    "start_time": "2022-03-17T17:11:26.101Z"
   },
   {
    "duration": 18,
    "start_time": "2022-03-17T17:11:26.123Z"
   },
   {
    "duration": 60,
    "start_time": "2022-03-17T17:11:26.143Z"
   },
   {
    "duration": 31,
    "start_time": "2022-03-17T17:11:26.205Z"
   },
   {
    "duration": 47,
    "start_time": "2022-03-17T17:11:26.238Z"
   },
   {
    "duration": 20,
    "start_time": "2022-03-17T17:11:26.288Z"
   },
   {
    "duration": 18,
    "start_time": "2022-03-17T17:11:26.310Z"
   },
   {
    "duration": 55,
    "start_time": "2022-03-17T17:11:26.330Z"
   },
   {
    "duration": 22,
    "start_time": "2022-03-17T17:11:26.388Z"
   },
   {
    "duration": 22,
    "start_time": "2022-03-17T17:11:26.413Z"
   },
   {
    "duration": 53,
    "start_time": "2022-03-17T17:11:26.438Z"
   },
   {
    "duration": 9,
    "start_time": "2022-03-17T17:11:26.494Z"
   },
   {
    "duration": 16,
    "start_time": "2022-03-17T17:11:26.506Z"
   },
   {
    "duration": 26,
    "start_time": "2022-03-17T17:11:26.524Z"
   },
   {
    "duration": 15,
    "start_time": "2022-03-17T17:11:26.552Z"
   },
   {
    "duration": 30,
    "start_time": "2022-03-17T17:11:26.569Z"
   },
   {
    "duration": 17,
    "start_time": "2022-03-17T17:11:26.602Z"
   },
   {
    "duration": 27,
    "start_time": "2022-03-17T17:11:26.622Z"
   },
   {
    "duration": 27,
    "start_time": "2022-03-17T17:11:26.652Z"
   },
   {
    "duration": 41,
    "start_time": "2022-03-17T17:11:26.682Z"
   },
   {
    "duration": 27,
    "start_time": "2022-03-17T17:11:26.725Z"
   },
   {
    "duration": 38,
    "start_time": "2022-03-17T17:11:26.754Z"
   },
   {
    "duration": 8,
    "start_time": "2022-03-17T17:11:26.795Z"
   },
   {
    "duration": 19,
    "start_time": "2022-03-17T17:11:26.805Z"
   },
   {
    "duration": 6,
    "start_time": "2022-03-17T17:11:26.826Z"
   },
   {
    "duration": 58,
    "start_time": "2022-03-17T17:11:26.834Z"
   },
   {
    "duration": 19,
    "start_time": "2022-03-17T17:11:26.895Z"
   },
   {
    "duration": 8,
    "start_time": "2022-03-17T17:11:26.919Z"
   },
   {
    "duration": 13,
    "start_time": "2022-03-17T17:11:26.930Z"
   },
   {
    "duration": 49,
    "start_time": "2022-03-17T17:11:26.945Z"
   },
   {
    "duration": 10,
    "start_time": "2022-03-17T17:11:26.997Z"
   },
   {
    "duration": 20,
    "start_time": "2022-03-17T17:11:27.009Z"
   },
   {
    "duration": 105,
    "start_time": "2022-03-17T17:16:46.287Z"
   },
   {
    "duration": 6,
    "start_time": "2022-03-17T17:17:43.860Z"
   },
   {
    "duration": 26,
    "start_time": "2022-03-17T17:18:38.810Z"
   },
   {
    "duration": 17,
    "start_time": "2022-03-17T17:21:08.289Z"
   },
   {
    "duration": 734,
    "start_time": "2022-03-17T17:23:12.559Z"
   },
   {
    "duration": 120,
    "start_time": "2022-03-17T17:23:13.297Z"
   },
   {
    "duration": 43,
    "start_time": "2022-03-17T17:23:13.420Z"
   },
   {
    "duration": 50,
    "start_time": "2022-03-17T17:23:13.466Z"
   },
   {
    "duration": 19,
    "start_time": "2022-03-17T17:23:13.521Z"
   },
   {
    "duration": 52,
    "start_time": "2022-03-17T17:23:13.543Z"
   },
   {
    "duration": 21,
    "start_time": "2022-03-17T17:23:13.597Z"
   },
   {
    "duration": 15,
    "start_time": "2022-03-17T17:23:13.621Z"
   },
   {
    "duration": 62,
    "start_time": "2022-03-17T17:23:13.639Z"
   },
   {
    "duration": 24,
    "start_time": "2022-03-17T17:23:13.704Z"
   },
   {
    "duration": 14,
    "start_time": "2022-03-17T17:23:13.730Z"
   },
   {
    "duration": 50,
    "start_time": "2022-03-17T17:23:13.746Z"
   },
   {
    "duration": 8,
    "start_time": "2022-03-17T17:23:13.799Z"
   },
   {
    "duration": 29,
    "start_time": "2022-03-17T17:23:13.812Z"
   },
   {
    "duration": 64,
    "start_time": "2022-03-17T17:23:13.843Z"
   },
   {
    "duration": 27,
    "start_time": "2022-03-17T17:23:13.909Z"
   },
   {
    "duration": 47,
    "start_time": "2022-03-17T17:23:13.938Z"
   },
   {
    "duration": 15,
    "start_time": "2022-03-17T17:23:13.988Z"
   },
   {
    "duration": 34,
    "start_time": "2022-03-17T17:23:14.006Z"
   },
   {
    "duration": 43,
    "start_time": "2022-03-17T17:23:14.043Z"
   },
   {
    "duration": 21,
    "start_time": "2022-03-17T17:23:14.088Z"
   },
   {
    "duration": 23,
    "start_time": "2022-03-17T17:23:14.111Z"
   },
   {
    "duration": 48,
    "start_time": "2022-03-17T17:23:14.136Z"
   },
   {
    "duration": 7,
    "start_time": "2022-03-17T17:23:14.186Z"
   },
   {
    "duration": 11,
    "start_time": "2022-03-17T17:23:14.195Z"
   },
   {
    "duration": 8,
    "start_time": "2022-03-17T17:23:14.209Z"
   },
   {
    "duration": 15,
    "start_time": "2022-03-17T17:23:14.220Z"
   },
   {
    "duration": 48,
    "start_time": "2022-03-17T17:23:14.238Z"
   },
   {
    "duration": 22,
    "start_time": "2022-03-17T17:23:14.289Z"
   },
   {
    "duration": 8,
    "start_time": "2022-03-17T17:23:14.313Z"
   },
   {
    "duration": 12,
    "start_time": "2022-03-17T17:23:14.323Z"
   },
   {
    "duration": 50,
    "start_time": "2022-03-17T17:23:14.337Z"
   },
   {
    "duration": 44,
    "start_time": "2022-03-17T17:23:14.390Z"
   },
   {
    "duration": 8,
    "start_time": "2022-03-17T17:23:14.436Z"
   },
   {
    "duration": 49,
    "start_time": "2022-03-17T17:23:14.446Z"
   },
   {
    "duration": 5,
    "start_time": "2022-03-17T17:23:14.497Z"
   },
   {
    "duration": 46,
    "start_time": "2022-03-17T17:23:14.505Z"
   },
   {
    "duration": 55,
    "start_time": "2022-03-17T17:23:14.554Z"
   },
   {
    "duration": 9,
    "start_time": "2022-03-17T17:23:14.612Z"
   },
   {
    "duration": 14,
    "start_time": "2022-03-17T17:23:14.624Z"
   },
   {
    "duration": 42,
    "start_time": "2022-03-17T17:23:14.643Z"
   },
   {
    "duration": 11,
    "start_time": "2022-03-17T17:23:14.690Z"
   },
   {
    "duration": 16,
    "start_time": "2022-03-17T17:23:14.704Z"
   },
   {
    "duration": 20,
    "start_time": "2022-03-17T17:25:22.140Z"
   },
   {
    "duration": 25,
    "start_time": "2022-03-17T17:25:22.162Z"
   },
   {
    "duration": 29,
    "start_time": "2022-03-17T17:25:22.189Z"
   },
   {
    "duration": 17,
    "start_time": "2022-03-17T17:25:22.221Z"
   },
   {
    "duration": 57,
    "start_time": "2022-03-17T17:25:22.240Z"
   },
   {
    "duration": 10,
    "start_time": "2022-03-17T17:25:22.299Z"
   },
   {
    "duration": 47,
    "start_time": "2022-03-17T17:25:22.312Z"
   },
   {
    "duration": 52,
    "start_time": "2022-03-17T17:25:22.362Z"
   },
   {
    "duration": 33,
    "start_time": "2022-03-17T17:25:22.417Z"
   },
   {
    "duration": 50,
    "start_time": "2022-03-17T17:25:22.457Z"
   },
   {
    "duration": 27,
    "start_time": "2022-03-17T17:25:22.509Z"
   },
   {
    "duration": 44,
    "start_time": "2022-03-17T17:25:22.539Z"
   },
   {
    "duration": 21,
    "start_time": "2022-03-17T17:25:22.586Z"
   },
   {
    "duration": 30,
    "start_time": "2022-03-17T17:25:22.609Z"
   },
   {
    "duration": 43,
    "start_time": "2022-03-17T17:25:22.643Z"
   },
   {
    "duration": 7,
    "start_time": "2022-03-17T17:25:22.689Z"
   },
   {
    "duration": 16,
    "start_time": "2022-03-17T17:25:22.698Z"
   },
   {
    "duration": 11,
    "start_time": "2022-03-17T17:25:22.716Z"
   },
   {
    "duration": 11,
    "start_time": "2022-03-17T17:25:22.730Z"
   },
   {
    "duration": 46,
    "start_time": "2022-03-17T17:25:22.743Z"
   },
   {
    "duration": 10,
    "start_time": "2022-03-17T17:25:22.791Z"
   },
   {
    "duration": 12,
    "start_time": "2022-03-17T17:25:22.803Z"
   },
   {
    "duration": 10,
    "start_time": "2022-03-17T17:25:22.817Z"
   },
   {
    "duration": 21,
    "start_time": "2022-03-17T17:25:22.829Z"
   },
   {
    "duration": 45,
    "start_time": "2022-03-17T17:25:22.852Z"
   },
   {
    "duration": 35,
    "start_time": "2022-03-17T17:25:22.899Z"
   },
   {
    "duration": 12,
    "start_time": "2022-03-17T17:25:22.936Z"
   },
   {
    "duration": 39,
    "start_time": "2022-03-17T17:25:22.952Z"
   },
   {
    "duration": 10,
    "start_time": "2022-03-17T17:25:22.993Z"
   },
   {
    "duration": 32,
    "start_time": "2022-03-17T17:25:23.005Z"
   },
   {
    "duration": 14,
    "start_time": "2022-03-17T17:25:23.040Z"
   },
   {
    "duration": 8,
    "start_time": "2022-03-17T17:25:23.083Z"
   },
   {
    "duration": 11,
    "start_time": "2022-03-17T17:25:23.094Z"
   },
   {
    "duration": 10,
    "start_time": "2022-03-17T17:25:23.108Z"
   },
   {
    "duration": 9,
    "start_time": "2022-03-17T17:25:23.121Z"
   },
   {
    "duration": 52,
    "start_time": "2022-03-17T17:25:23.133Z"
   },
   {
    "duration": 502,
    "start_time": "2022-03-17T17:25:43.996Z"
   },
   {
    "duration": 82,
    "start_time": "2022-03-17T17:25:44.501Z"
   },
   {
    "duration": 31,
    "start_time": "2022-03-17T17:25:44.586Z"
   },
   {
    "duration": 23,
    "start_time": "2022-03-17T17:25:44.619Z"
   },
   {
    "duration": 40,
    "start_time": "2022-03-17T17:25:44.645Z"
   },
   {
    "duration": 20,
    "start_time": "2022-03-17T17:25:44.687Z"
   },
   {
    "duration": 24,
    "start_time": "2022-03-17T17:25:44.709Z"
   },
   {
    "duration": 16,
    "start_time": "2022-03-17T17:25:44.735Z"
   },
   {
    "duration": 26,
    "start_time": "2022-03-17T17:25:44.785Z"
   },
   {
    "duration": 22,
    "start_time": "2022-03-17T17:25:44.813Z"
   },
   {
    "duration": 48,
    "start_time": "2022-03-17T17:25:44.837Z"
   },
   {
    "duration": 19,
    "start_time": "2022-03-17T17:25:44.887Z"
   },
   {
    "duration": 10,
    "start_time": "2022-03-17T17:25:44.908Z"
   },
   {
    "duration": 66,
    "start_time": "2022-03-17T17:25:44.924Z"
   },
   {
    "duration": 32,
    "start_time": "2022-03-17T17:25:44.993Z"
   },
   {
    "duration": 29,
    "start_time": "2022-03-17T17:25:45.027Z"
   },
   {
    "duration": 47,
    "start_time": "2022-03-17T17:25:45.058Z"
   },
   {
    "duration": 16,
    "start_time": "2022-03-17T17:25:45.107Z"
   },
   {
    "duration": 59,
    "start_time": "2022-03-17T17:25:45.126Z"
   },
   {
    "duration": 20,
    "start_time": "2022-03-17T17:25:45.188Z"
   },
   {
    "duration": 22,
    "start_time": "2022-03-17T17:25:45.210Z"
   },
   {
    "duration": 52,
    "start_time": "2022-03-17T17:25:45.234Z"
   },
   {
    "duration": 9,
    "start_time": "2022-03-17T17:25:45.288Z"
   },
   {
    "duration": 8,
    "start_time": "2022-03-17T17:25:45.300Z"
   },
   {
    "duration": 10,
    "start_time": "2022-03-17T17:25:45.311Z"
   },
   {
    "duration": 8,
    "start_time": "2022-03-17T17:25:45.323Z"
   },
   {
    "duration": 59,
    "start_time": "2022-03-17T17:25:45.333Z"
   },
   {
    "duration": 6,
    "start_time": "2022-03-17T17:25:45.395Z"
   },
   {
    "duration": 14,
    "start_time": "2022-03-17T17:25:45.403Z"
   },
   {
    "duration": 7,
    "start_time": "2022-03-17T17:25:45.420Z"
   },
   {
    "duration": 12,
    "start_time": "2022-03-17T17:25:45.429Z"
   },
   {
    "duration": 54,
    "start_time": "2022-03-17T17:25:45.444Z"
   },
   {
    "duration": 32,
    "start_time": "2022-03-17T17:25:45.500Z"
   },
   {
    "duration": 19,
    "start_time": "2022-03-17T17:25:45.535Z"
   },
   {
    "duration": 42,
    "start_time": "2022-03-17T17:25:45.556Z"
   },
   {
    "duration": 6,
    "start_time": "2022-03-17T17:25:45.601Z"
   },
   {
    "duration": 31,
    "start_time": "2022-03-17T17:25:45.609Z"
   },
   {
    "duration": 48,
    "start_time": "2022-03-17T17:25:45.643Z"
   },
   {
    "duration": 12,
    "start_time": "2022-03-17T17:25:45.693Z"
   },
   {
    "duration": 10,
    "start_time": "2022-03-17T17:25:45.707Z"
   },
   {
    "duration": 13,
    "start_time": "2022-03-17T17:25:45.724Z"
   },
   {
    "duration": 51,
    "start_time": "2022-03-17T17:25:45.739Z"
   },
   {
    "duration": 13,
    "start_time": "2022-03-17T17:25:45.792Z"
   },
   {
    "duration": 574,
    "start_time": "2022-03-17T18:07:50.635Z"
   },
   {
    "duration": 80,
    "start_time": "2022-03-17T18:07:51.212Z"
   },
   {
    "duration": 31,
    "start_time": "2022-03-17T18:07:51.294Z"
   },
   {
    "duration": 23,
    "start_time": "2022-03-17T18:07:51.327Z"
   },
   {
    "duration": 43,
    "start_time": "2022-03-17T18:07:51.353Z"
   },
   {
    "duration": 23,
    "start_time": "2022-03-17T18:07:51.400Z"
   },
   {
    "duration": 26,
    "start_time": "2022-03-17T18:07:51.425Z"
   },
   {
    "duration": 49,
    "start_time": "2022-03-17T18:07:51.453Z"
   },
   {
    "duration": 34,
    "start_time": "2022-03-17T18:07:51.505Z"
   },
   {
    "duration": 19,
    "start_time": "2022-03-17T18:07:51.542Z"
   },
   {
    "duration": 32,
    "start_time": "2022-03-17T18:07:51.564Z"
   },
   {
    "duration": 19,
    "start_time": "2022-03-17T18:07:51.598Z"
   },
   {
    "duration": 9,
    "start_time": "2022-03-17T18:07:51.619Z"
   },
   {
    "duration": 74,
    "start_time": "2022-03-17T18:07:51.633Z"
   },
   {
    "duration": 31,
    "start_time": "2022-03-17T18:07:51.709Z"
   },
   {
    "duration": 51,
    "start_time": "2022-03-17T18:07:51.742Z"
   },
   {
    "duration": 22,
    "start_time": "2022-03-17T18:07:51.795Z"
   },
   {
    "duration": 16,
    "start_time": "2022-03-17T18:07:51.820Z"
   },
   {
    "duration": 58,
    "start_time": "2022-03-17T18:07:51.839Z"
   },
   {
    "duration": 21,
    "start_time": "2022-03-17T18:07:51.899Z"
   },
   {
    "duration": 21,
    "start_time": "2022-03-17T18:07:51.922Z"
   },
   {
    "duration": 51,
    "start_time": "2022-03-17T18:07:51.946Z"
   },
   {
    "duration": 7,
    "start_time": "2022-03-17T18:07:52.000Z"
   },
   {
    "duration": 8,
    "start_time": "2022-03-17T18:07:52.010Z"
   },
   {
    "duration": 13,
    "start_time": "2022-03-17T18:07:52.021Z"
   },
   {
    "duration": 50,
    "start_time": "2022-03-17T18:07:52.037Z"
   },
   {
    "duration": 17,
    "start_time": "2022-03-17T18:07:52.089Z"
   },
   {
    "duration": 6,
    "start_time": "2022-03-17T18:07:52.109Z"
   },
   {
    "duration": 14,
    "start_time": "2022-03-17T18:07:52.117Z"
   },
   {
    "duration": 7,
    "start_time": "2022-03-17T18:07:52.133Z"
   },
   {
    "duration": 46,
    "start_time": "2022-03-17T18:07:52.142Z"
   },
   {
    "duration": 19,
    "start_time": "2022-03-17T18:07:52.191Z"
   },
   {
    "duration": 34,
    "start_time": "2022-03-17T18:07:52.214Z"
   },
   {
    "duration": 9,
    "start_time": "2022-03-17T18:07:52.285Z"
   },
   {
    "duration": 23,
    "start_time": "2022-03-17T18:07:52.297Z"
   },
   {
    "duration": 6,
    "start_time": "2022-03-17T18:07:52.323Z"
   },
   {
    "duration": 74,
    "start_time": "2022-03-17T18:07:52.332Z"
   },
   {
    "duration": 21,
    "start_time": "2022-03-17T18:07:52.409Z"
   },
   {
    "duration": 9,
    "start_time": "2022-03-17T18:07:52.433Z"
   },
   {
    "duration": 40,
    "start_time": "2022-03-17T18:07:52.445Z"
   },
   {
    "duration": 12,
    "start_time": "2022-03-17T18:07:52.493Z"
   },
   {
    "duration": 10,
    "start_time": "2022-03-17T18:07:52.508Z"
   },
   {
    "duration": 11,
    "start_time": "2022-03-17T18:07:52.521Z"
   },
   {
    "duration": 553,
    "start_time": "2022-03-17T18:53:46.854Z"
   },
   {
    "duration": 77,
    "start_time": "2022-03-17T18:53:47.410Z"
   },
   {
    "duration": 36,
    "start_time": "2022-03-17T18:53:47.489Z"
   },
   {
    "duration": 21,
    "start_time": "2022-03-17T18:53:47.528Z"
   },
   {
    "duration": 43,
    "start_time": "2022-03-17T18:53:47.552Z"
   },
   {
    "duration": 22,
    "start_time": "2022-03-17T18:53:47.598Z"
   },
   {
    "duration": 21,
    "start_time": "2022-03-17T18:53:47.622Z"
   },
   {
    "duration": 58,
    "start_time": "2022-03-17T18:53:47.645Z"
   },
   {
    "duration": 11,
    "start_time": "2022-03-17T18:53:47.706Z"
   },
   {
    "duration": 21,
    "start_time": "2022-03-17T18:53:47.719Z"
   },
   {
    "duration": 60,
    "start_time": "2022-03-17T18:53:47.743Z"
   },
   {
    "duration": 15,
    "start_time": "2022-03-17T18:53:47.805Z"
   },
   {
    "duration": 9,
    "start_time": "2022-03-17T18:53:47.822Z"
   },
   {
    "duration": 8,
    "start_time": "2022-03-17T18:53:47.836Z"
   },
   {
    "duration": 65,
    "start_time": "2022-03-17T18:53:47.846Z"
   },
   {
    "duration": 30,
    "start_time": "2022-03-17T18:53:47.914Z"
   },
   {
    "duration": 53,
    "start_time": "2022-03-17T18:53:47.946Z"
   },
   {
    "duration": 20,
    "start_time": "2022-03-17T18:53:48.001Z"
   },
   {
    "duration": 15,
    "start_time": "2022-03-17T18:53:48.023Z"
   },
   {
    "duration": 55,
    "start_time": "2022-03-17T18:53:48.040Z"
   },
   {
    "duration": 26,
    "start_time": "2022-03-17T18:53:48.100Z"
   },
   {
    "duration": 20,
    "start_time": "2022-03-17T18:53:48.128Z"
   },
   {
    "duration": 55,
    "start_time": "2022-03-17T18:53:48.150Z"
   },
   {
    "duration": 9,
    "start_time": "2022-03-17T18:53:48.207Z"
   },
   {
    "duration": 7,
    "start_time": "2022-03-17T18:53:48.218Z"
   },
   {
    "duration": 10,
    "start_time": "2022-03-17T18:53:48.227Z"
   },
   {
    "duration": 8,
    "start_time": "2022-03-17T18:53:48.239Z"
   },
   {
    "duration": 12,
    "start_time": "2022-03-17T18:53:48.285Z"
   },
   {
    "duration": 16,
    "start_time": "2022-03-17T18:53:48.301Z"
   },
   {
    "duration": 12,
    "start_time": "2022-03-17T18:53:48.319Z"
   },
   {
    "duration": 7,
    "start_time": "2022-03-17T18:53:48.333Z"
   },
   {
    "duration": 45,
    "start_time": "2022-03-17T18:53:48.342Z"
   },
   {
    "duration": 31,
    "start_time": "2022-03-17T18:53:48.390Z"
   },
   {
    "duration": 33,
    "start_time": "2022-03-17T18:53:48.423Z"
   },
   {
    "duration": 29,
    "start_time": "2022-03-17T18:53:48.459Z"
   },
   {
    "duration": 42,
    "start_time": "2022-03-17T18:53:48.491Z"
   },
   {
    "duration": 7,
    "start_time": "2022-03-17T18:53:48.536Z"
   },
   {
    "duration": 48,
    "start_time": "2022-03-17T18:53:48.545Z"
   },
   {
    "duration": 21,
    "start_time": "2022-03-17T18:53:48.596Z"
   },
   {
    "duration": 8,
    "start_time": "2022-03-17T18:53:48.619Z"
   },
   {
    "duration": 11,
    "start_time": "2022-03-17T18:53:48.633Z"
   },
   {
    "duration": 15,
    "start_time": "2022-03-17T18:53:48.683Z"
   },
   {
    "duration": 15,
    "start_time": "2022-03-17T18:53:48.700Z"
   },
   {
    "duration": 27,
    "start_time": "2022-03-17T18:53:48.718Z"
   },
   {
    "duration": 548,
    "start_time": "2022-03-17T19:21:06.561Z"
   },
   {
    "duration": 84,
    "start_time": "2022-03-17T19:21:07.112Z"
   },
   {
    "duration": 32,
    "start_time": "2022-03-17T19:21:07.198Z"
   },
   {
    "duration": 22,
    "start_time": "2022-03-17T19:21:07.233Z"
   },
   {
    "duration": 15,
    "start_time": "2022-03-17T19:21:07.284Z"
   },
   {
    "duration": 20,
    "start_time": "2022-03-17T19:21:07.301Z"
   },
   {
    "duration": 20,
    "start_time": "2022-03-17T19:21:07.323Z"
   },
   {
    "duration": 14,
    "start_time": "2022-03-17T19:21:07.385Z"
   },
   {
    "duration": 9,
    "start_time": "2022-03-17T19:21:07.402Z"
   },
   {
    "duration": 25,
    "start_time": "2022-03-17T19:21:07.413Z"
   },
   {
    "duration": 49,
    "start_time": "2022-03-17T19:21:07.440Z"
   },
   {
    "duration": 15,
    "start_time": "2022-03-17T19:21:07.491Z"
   },
   {
    "duration": 18,
    "start_time": "2022-03-17T19:21:07.508Z"
   },
   {
    "duration": 11,
    "start_time": "2022-03-17T19:21:07.531Z"
   },
   {
    "duration": 9,
    "start_time": "2022-03-17T19:21:07.544Z"
   },
   {
    "duration": 56,
    "start_time": "2022-03-17T19:21:07.555Z"
   },
   {
    "duration": 31,
    "start_time": "2022-03-17T19:21:07.613Z"
   },
   {
    "duration": 57,
    "start_time": "2022-03-17T19:21:07.647Z"
   },
   {
    "duration": 21,
    "start_time": "2022-03-17T19:21:07.707Z"
   },
   {
    "duration": 17,
    "start_time": "2022-03-17T19:21:07.730Z"
   },
   {
    "duration": 58,
    "start_time": "2022-03-17T19:21:07.750Z"
   },
   {
    "duration": 21,
    "start_time": "2022-03-17T19:21:07.811Z"
   },
   {
    "duration": 51,
    "start_time": "2022-03-17T19:21:07.834Z"
   },
   {
    "duration": 23,
    "start_time": "2022-03-17T19:21:07.888Z"
   },
   {
    "duration": 9,
    "start_time": "2022-03-17T19:21:07.913Z"
   },
   {
    "duration": 11,
    "start_time": "2022-03-17T19:21:07.924Z"
   },
   {
    "duration": 47,
    "start_time": "2022-03-17T19:21:07.937Z"
   },
   {
    "duration": 8,
    "start_time": "2022-03-17T19:21:07.986Z"
   },
   {
    "duration": 17,
    "start_time": "2022-03-17T19:21:07.997Z"
   },
   {
    "duration": 13,
    "start_time": "2022-03-17T19:21:08.017Z"
   },
   {
    "duration": 12,
    "start_time": "2022-03-17T19:21:08.032Z"
   },
   {
    "duration": 38,
    "start_time": "2022-03-17T19:21:08.046Z"
   },
   {
    "duration": 10,
    "start_time": "2022-03-17T19:21:08.086Z"
   },
   {
    "duration": 24,
    "start_time": "2022-03-17T19:21:08.098Z"
   },
   {
    "duration": 37,
    "start_time": "2022-03-17T19:21:08.124Z"
   },
   {
    "duration": 11,
    "start_time": "2022-03-17T19:21:08.185Z"
   },
   {
    "duration": 23,
    "start_time": "2022-03-17T19:21:08.199Z"
   },
   {
    "duration": 5,
    "start_time": "2022-03-17T19:21:08.225Z"
   },
   {
    "duration": 62,
    "start_time": "2022-03-17T19:21:08.232Z"
   },
   {
    "duration": 19,
    "start_time": "2022-03-17T19:21:08.297Z"
   },
   {
    "duration": 9,
    "start_time": "2022-03-17T19:21:08.324Z"
   },
   {
    "duration": 49,
    "start_time": "2022-03-17T19:21:08.336Z"
   },
   {
    "duration": 14,
    "start_time": "2022-03-17T19:21:08.387Z"
   },
   {
    "duration": 12,
    "start_time": "2022-03-17T19:21:08.403Z"
   },
   {
    "duration": 13,
    "start_time": "2022-03-17T19:21:08.417Z"
   },
   {
    "duration": 546,
    "start_time": "2022-03-17T19:22:35.347Z"
   },
   {
    "duration": 117,
    "start_time": "2022-03-17T19:22:35.899Z"
   },
   {
    "duration": 46,
    "start_time": "2022-03-17T19:22:36.020Z"
   },
   {
    "duration": 35,
    "start_time": "2022-03-17T19:22:36.084Z"
   },
   {
    "duration": 19,
    "start_time": "2022-03-17T19:22:36.123Z"
   },
   {
    "duration": 53,
    "start_time": "2022-03-17T19:22:36.145Z"
   },
   {
    "duration": 21,
    "start_time": "2022-03-17T19:22:36.204Z"
   },
   {
    "duration": 14,
    "start_time": "2022-03-17T19:22:36.228Z"
   },
   {
    "duration": 45,
    "start_time": "2022-03-17T19:22:36.245Z"
   },
   {
    "duration": 29,
    "start_time": "2022-03-17T19:22:36.295Z"
   },
   {
    "duration": 24,
    "start_time": "2022-03-17T19:22:36.326Z"
   },
   {
    "duration": 45,
    "start_time": "2022-03-17T19:22:36.353Z"
   },
   {
    "duration": 10,
    "start_time": "2022-03-17T19:22:36.400Z"
   },
   {
    "duration": 8,
    "start_time": "2022-03-17T19:22:36.415Z"
   },
   {
    "duration": 14,
    "start_time": "2022-03-17T19:22:36.425Z"
   },
   {
    "duration": 62,
    "start_time": "2022-03-17T19:22:36.443Z"
   },
   {
    "duration": 30,
    "start_time": "2022-03-17T19:22:36.507Z"
   },
   {
    "duration": 56,
    "start_time": "2022-03-17T19:22:36.540Z"
   },
   {
    "duration": 26,
    "start_time": "2022-03-17T19:22:36.603Z"
   },
   {
    "duration": 17,
    "start_time": "2022-03-17T19:22:36.632Z"
   },
   {
    "duration": 57,
    "start_time": "2022-03-17T19:22:36.652Z"
   },
   {
    "duration": 22,
    "start_time": "2022-03-17T19:22:36.712Z"
   },
   {
    "duration": 21,
    "start_time": "2022-03-17T19:22:36.737Z"
   },
   {
    "duration": 36,
    "start_time": "2022-03-17T19:22:36.784Z"
   },
   {
    "duration": 8,
    "start_time": "2022-03-17T19:22:36.823Z"
   },
   {
    "duration": 13,
    "start_time": "2022-03-17T19:22:36.834Z"
   },
   {
    "duration": 52,
    "start_time": "2022-03-17T19:22:36.849Z"
   },
   {
    "duration": 16,
    "start_time": "2022-03-17T19:22:36.903Z"
   },
   {
    "duration": 7,
    "start_time": "2022-03-17T19:22:36.922Z"
   },
   {
    "duration": 13,
    "start_time": "2022-03-17T19:22:36.932Z"
   },
   {
    "duration": 9,
    "start_time": "2022-03-17T19:22:36.948Z"
   },
   {
    "duration": 17,
    "start_time": "2022-03-17T19:22:36.983Z"
   },
   {
    "duration": 29,
    "start_time": "2022-03-17T19:22:37.003Z"
   },
   {
    "duration": 48,
    "start_time": "2022-03-17T19:22:37.035Z"
   },
   {
    "duration": 13,
    "start_time": "2022-03-17T19:22:37.087Z"
   },
   {
    "duration": 29,
    "start_time": "2022-03-17T19:22:37.104Z"
   },
   {
    "duration": 6,
    "start_time": "2022-03-17T19:22:37.135Z"
   },
   {
    "duration": 79,
    "start_time": "2022-03-17T19:22:37.143Z"
   },
   {
    "duration": 21,
    "start_time": "2022-03-17T19:22:37.226Z"
   },
   {
    "duration": 19,
    "start_time": "2022-03-17T19:22:37.249Z"
   },
   {
    "duration": 15,
    "start_time": "2022-03-17T19:22:37.285Z"
   },
   {
    "duration": 19,
    "start_time": "2022-03-17T19:22:37.303Z"
   },
   {
    "duration": 15,
    "start_time": "2022-03-17T19:22:37.324Z"
   },
   {
    "duration": 53,
    "start_time": "2022-03-17T19:22:37.342Z"
   },
   {
    "duration": 9,
    "start_time": "2022-03-17T19:34:16.023Z"
   },
   {
    "duration": 9,
    "start_time": "2022-03-17T19:34:43.015Z"
   },
   {
    "duration": 536,
    "start_time": "2022-03-17T19:35:31.813Z"
   },
   {
    "duration": 103,
    "start_time": "2022-03-17T19:35:32.352Z"
   },
   {
    "duration": 55,
    "start_time": "2022-03-17T19:35:32.457Z"
   },
   {
    "duration": 33,
    "start_time": "2022-03-17T19:35:32.516Z"
   },
   {
    "duration": 28,
    "start_time": "2022-03-17T19:35:32.552Z"
   },
   {
    "duration": 34,
    "start_time": "2022-03-17T19:35:32.582Z"
   },
   {
    "duration": 36,
    "start_time": "2022-03-17T19:35:32.621Z"
   },
   {
    "duration": 30,
    "start_time": "2022-03-17T19:35:32.660Z"
   },
   {
    "duration": 8,
    "start_time": "2022-03-17T19:35:32.696Z"
   },
   {
    "duration": 46,
    "start_time": "2022-03-17T19:35:32.713Z"
   },
   {
    "duration": 21,
    "start_time": "2022-03-17T19:35:32.762Z"
   },
   {
    "duration": 30,
    "start_time": "2022-03-17T19:35:32.786Z"
   },
   {
    "duration": 21,
    "start_time": "2022-03-17T19:35:32.821Z"
   },
   {
    "duration": 22,
    "start_time": "2022-03-17T19:35:32.845Z"
   },
   {
    "duration": 25,
    "start_time": "2022-03-17T19:35:32.869Z"
   },
   {
    "duration": 23,
    "start_time": "2022-03-17T19:35:32.899Z"
   },
   {
    "duration": 40,
    "start_time": "2022-03-17T19:35:32.924Z"
   },
   {
    "duration": 51,
    "start_time": "2022-03-17T19:35:32.966Z"
   },
   {
    "duration": 27,
    "start_time": "2022-03-17T19:35:33.021Z"
   },
   {
    "duration": 40,
    "start_time": "2022-03-17T19:35:33.050Z"
   },
   {
    "duration": 30,
    "start_time": "2022-03-17T19:35:33.096Z"
   },
   {
    "duration": 37,
    "start_time": "2022-03-17T19:35:33.130Z"
   },
   {
    "duration": 39,
    "start_time": "2022-03-17T19:35:33.170Z"
   },
   {
    "duration": 55,
    "start_time": "2022-03-17T19:35:33.211Z"
   },
   {
    "duration": 48,
    "start_time": "2022-03-17T19:35:33.270Z"
   },
   {
    "duration": 44,
    "start_time": "2022-03-17T19:35:33.320Z"
   },
   {
    "duration": 49,
    "start_time": "2022-03-17T19:35:33.367Z"
   },
   {
    "duration": 33,
    "start_time": "2022-03-17T19:35:33.425Z"
   },
   {
    "duration": 50,
    "start_time": "2022-03-17T19:35:33.464Z"
   },
   {
    "duration": 42,
    "start_time": "2022-03-17T19:35:33.518Z"
   },
   {
    "duration": 117,
    "start_time": "2022-03-17T19:35:33.563Z"
   },
   {
    "duration": 99,
    "start_time": "2022-03-17T19:35:33.683Z"
   },
   {
    "duration": 62,
    "start_time": "2022-03-17T19:35:33.791Z"
   },
   {
    "duration": 43,
    "start_time": "2022-03-17T19:35:33.856Z"
   },
   {
    "duration": 109,
    "start_time": "2022-03-17T19:35:33.903Z"
   },
   {
    "duration": 67,
    "start_time": "2022-03-17T19:35:34.014Z"
   },
   {
    "duration": 66,
    "start_time": "2022-03-17T19:35:34.085Z"
   },
   {
    "duration": 9,
    "start_time": "2022-03-17T19:35:34.156Z"
   },
   {
    "duration": 91,
    "start_time": "2022-03-17T19:35:34.168Z"
   },
   {
    "duration": 41,
    "start_time": "2022-03-17T19:35:34.262Z"
   },
   {
    "duration": 58,
    "start_time": "2022-03-17T19:35:34.306Z"
   },
   {
    "duration": 67,
    "start_time": "2022-03-17T19:35:34.367Z"
   },
   {
    "duration": 47,
    "start_time": "2022-03-17T19:35:34.438Z"
   },
   {
    "duration": 60,
    "start_time": "2022-03-17T19:35:34.489Z"
   },
   {
    "duration": 27,
    "start_time": "2022-03-17T19:35:34.552Z"
   },
   {
    "duration": 8,
    "start_time": "2022-03-17T19:38:11.670Z"
   },
   {
    "duration": 511,
    "start_time": "2022-03-17T19:38:31.096Z"
   },
   {
    "duration": 324,
    "start_time": "2022-03-17T19:38:31.610Z"
   },
   {
    "duration": 32,
    "start_time": "2022-03-17T19:38:31.936Z"
   },
   {
    "duration": 24,
    "start_time": "2022-03-17T19:38:31.972Z"
   },
   {
    "duration": 16,
    "start_time": "2022-03-17T19:38:31.998Z"
   },
   {
    "duration": 24,
    "start_time": "2022-03-17T19:38:32.016Z"
   },
   {
    "duration": 50,
    "start_time": "2022-03-17T19:38:32.042Z"
   },
   {
    "duration": 14,
    "start_time": "2022-03-17T19:38:32.095Z"
   },
   {
    "duration": 19,
    "start_time": "2022-03-17T19:38:32.112Z"
   },
   {
    "duration": 27,
    "start_time": "2022-03-17T19:38:32.135Z"
   },
   {
    "duration": 26,
    "start_time": "2022-03-17T19:38:32.185Z"
   },
   {
    "duration": 20,
    "start_time": "2022-03-17T19:38:32.214Z"
   },
   {
    "duration": 19,
    "start_time": "2022-03-17T19:38:32.237Z"
   },
   {
    "duration": 12,
    "start_time": "2022-03-17T19:38:32.259Z"
   },
   {
    "duration": 20,
    "start_time": "2022-03-17T19:38:32.273Z"
   },
   {
    "duration": 9,
    "start_time": "2022-03-17T19:38:32.296Z"
   },
   {
    "duration": 12,
    "start_time": "2022-03-17T19:38:32.307Z"
   },
   {
    "duration": 34,
    "start_time": "2022-03-17T19:38:32.322Z"
   },
   {
    "duration": 31,
    "start_time": "2022-03-17T19:38:32.385Z"
   },
   {
    "duration": 27,
    "start_time": "2022-03-17T19:38:32.419Z"
   },
   {
    "duration": 53,
    "start_time": "2022-03-17T19:38:32.448Z"
   },
   {
    "duration": 18,
    "start_time": "2022-03-17T19:38:32.504Z"
   },
   {
    "duration": 41,
    "start_time": "2022-03-17T19:38:32.525Z"
   },
   {
    "duration": 33,
    "start_time": "2022-03-17T19:38:32.569Z"
   },
   {
    "duration": 21,
    "start_time": "2022-03-17T19:38:32.604Z"
   },
   {
    "duration": 22,
    "start_time": "2022-03-17T19:38:32.628Z"
   },
   {
    "duration": 9,
    "start_time": "2022-03-17T19:38:32.684Z"
   },
   {
    "duration": 7,
    "start_time": "2022-03-17T19:38:32.698Z"
   },
   {
    "duration": 10,
    "start_time": "2022-03-17T19:38:32.707Z"
   },
   {
    "duration": 13,
    "start_time": "2022-03-17T19:38:32.719Z"
   },
   {
    "duration": 13,
    "start_time": "2022-03-17T19:38:32.734Z"
   },
   {
    "duration": 12,
    "start_time": "2022-03-17T19:38:32.786Z"
   },
   {
    "duration": 13,
    "start_time": "2022-03-17T19:38:32.801Z"
   },
   {
    "duration": 13,
    "start_time": "2022-03-17T19:38:32.816Z"
   },
   {
    "duration": 25,
    "start_time": "2022-03-17T19:38:32.832Z"
   },
   {
    "duration": 64,
    "start_time": "2022-03-17T19:38:32.859Z"
   },
   {
    "duration": 11,
    "start_time": "2022-03-17T19:38:32.925Z"
   },
   {
    "duration": 46,
    "start_time": "2022-03-17T19:38:32.939Z"
   },
   {
    "duration": 5,
    "start_time": "2022-03-17T19:38:32.988Z"
   },
   {
    "duration": 38,
    "start_time": "2022-03-17T19:38:32.996Z"
   },
   {
    "duration": 21,
    "start_time": "2022-03-17T19:38:33.036Z"
   },
   {
    "duration": 29,
    "start_time": "2022-03-17T19:38:33.060Z"
   },
   {
    "duration": 16,
    "start_time": "2022-03-17T19:38:33.092Z"
   },
   {
    "duration": 14,
    "start_time": "2022-03-17T19:38:33.111Z"
   },
   {
    "duration": 18,
    "start_time": "2022-03-17T19:38:33.127Z"
   },
   {
    "duration": 43,
    "start_time": "2022-03-17T19:38:33.147Z"
   },
   {
    "duration": 9,
    "start_time": "2022-03-17T19:49:54.768Z"
   },
   {
    "duration": 11,
    "start_time": "2022-03-17T19:50:07.639Z"
   },
   {
    "duration": 108,
    "start_time": "2022-03-17T19:55:28.161Z"
   },
   {
    "duration": 10,
    "start_time": "2022-03-17T20:00:01.267Z"
   },
   {
    "duration": 554,
    "start_time": "2022-03-17T20:00:35.236Z"
   },
   {
    "duration": 84,
    "start_time": "2022-03-17T20:00:35.793Z"
   },
   {
    "duration": 30,
    "start_time": "2022-03-17T20:00:35.880Z"
   },
   {
    "duration": 31,
    "start_time": "2022-03-17T20:00:35.913Z"
   },
   {
    "duration": 37,
    "start_time": "2022-03-17T20:00:35.947Z"
   },
   {
    "duration": 21,
    "start_time": "2022-03-17T20:00:35.986Z"
   },
   {
    "duration": 20,
    "start_time": "2022-03-17T20:00:36.010Z"
   },
   {
    "duration": 51,
    "start_time": "2022-03-17T20:00:36.033Z"
   },
   {
    "duration": 8,
    "start_time": "2022-03-17T20:00:36.086Z"
   },
   {
    "duration": 19,
    "start_time": "2022-03-17T20:00:36.097Z"
   },
   {
    "duration": 27,
    "start_time": "2022-03-17T20:00:36.119Z"
   },
   {
    "duration": 53,
    "start_time": "2022-03-17T20:00:36.149Z"
   },
   {
    "duration": 12,
    "start_time": "2022-03-17T20:00:36.205Z"
   },
   {
    "duration": 22,
    "start_time": "2022-03-17T20:00:36.224Z"
   },
   {
    "duration": 28,
    "start_time": "2022-03-17T20:00:36.249Z"
   },
   {
    "duration": 16,
    "start_time": "2022-03-17T20:00:36.285Z"
   },
   {
    "duration": 27,
    "start_time": "2022-03-17T20:00:36.303Z"
   },
   {
    "duration": 22,
    "start_time": "2022-03-17T20:00:36.333Z"
   },
   {
    "duration": 32,
    "start_time": "2022-03-17T20:00:36.357Z"
   },
   {
    "duration": 21,
    "start_time": "2022-03-17T20:00:36.391Z"
   },
   {
    "duration": 44,
    "start_time": "2022-03-17T20:00:36.415Z"
   },
   {
    "duration": 34,
    "start_time": "2022-03-17T20:00:36.462Z"
   },
   {
    "duration": 27,
    "start_time": "2022-03-17T20:00:36.499Z"
   },
   {
    "duration": 21,
    "start_time": "2022-03-17T20:00:36.528Z"
   },
   {
    "duration": 57,
    "start_time": "2022-03-17T20:00:36.551Z"
   },
   {
    "duration": 47,
    "start_time": "2022-03-17T20:00:36.611Z"
   },
   {
    "duration": 49,
    "start_time": "2022-03-17T20:00:36.661Z"
   },
   {
    "duration": 22,
    "start_time": "2022-03-17T20:00:36.713Z"
   },
   {
    "duration": 49,
    "start_time": "2022-03-17T20:00:36.737Z"
   },
   {
    "duration": 7,
    "start_time": "2022-03-17T20:00:36.789Z"
   },
   {
    "duration": 12,
    "start_time": "2022-03-17T20:00:36.798Z"
   },
   {
    "duration": 27,
    "start_time": "2022-03-17T20:00:36.813Z"
   },
   {
    "duration": 12,
    "start_time": "2022-03-17T20:00:36.842Z"
   },
   {
    "duration": 27,
    "start_time": "2022-03-17T20:00:36.857Z"
   },
   {
    "duration": 32,
    "start_time": "2022-03-17T20:00:36.886Z"
   },
   {
    "duration": 12,
    "start_time": "2022-03-17T20:00:36.920Z"
   },
   {
    "duration": 23,
    "start_time": "2022-03-17T20:00:36.934Z"
   },
   {
    "duration": 30,
    "start_time": "2022-03-17T20:00:36.959Z"
   },
   {
    "duration": 36,
    "start_time": "2022-03-17T20:00:36.991Z"
   },
   {
    "duration": 11,
    "start_time": "2022-03-17T20:00:37.030Z"
   },
   {
    "duration": 52,
    "start_time": "2022-03-17T20:00:37.048Z"
   },
   {
    "duration": 43,
    "start_time": "2022-03-17T20:00:37.103Z"
   },
   {
    "duration": 39,
    "start_time": "2022-03-17T20:00:37.149Z"
   },
   {
    "duration": 34,
    "start_time": "2022-03-17T20:00:37.190Z"
   },
   {
    "duration": 21,
    "start_time": "2022-03-17T20:00:37.227Z"
   },
   {
    "duration": 20,
    "start_time": "2022-03-17T20:00:37.251Z"
   },
   {
    "duration": 30,
    "start_time": "2022-03-17T20:00:37.274Z"
   },
   {
    "duration": 18,
    "start_time": "2022-03-17T20:00:37.306Z"
   },
   {
    "duration": 28,
    "start_time": "2022-03-17T20:00:37.326Z"
   },
   {
    "duration": 7,
    "start_time": "2022-03-17T20:15:41.458Z"
   },
   {
    "duration": 5,
    "start_time": "2022-03-17T20:15:59.828Z"
   },
   {
    "duration": 39,
    "start_time": "2022-03-17T20:21:22.655Z"
   },
   {
    "duration": 29,
    "start_time": "2022-03-17T20:29:33.828Z"
   },
   {
    "duration": 22,
    "start_time": "2022-03-17T20:29:33.860Z"
   },
   {
    "duration": 48,
    "start_time": "2022-03-17T20:29:33.884Z"
   },
   {
    "duration": 25,
    "start_time": "2022-03-17T20:29:33.934Z"
   },
   {
    "duration": 7,
    "start_time": "2022-03-17T20:29:33.963Z"
   },
   {
    "duration": 21,
    "start_time": "2022-03-17T20:29:33.972Z"
   },
   {
    "duration": 15,
    "start_time": "2022-03-17T20:29:33.995Z"
   },
   {
    "duration": 15,
    "start_time": "2022-03-17T20:29:34.012Z"
   },
   {
    "duration": 23,
    "start_time": "2022-03-17T20:29:34.029Z"
   },
   {
    "duration": 22,
    "start_time": "2022-03-17T20:29:34.054Z"
   },
   {
    "duration": 16,
    "start_time": "2022-03-17T20:29:34.078Z"
   },
   {
    "duration": 27,
    "start_time": "2022-03-17T20:29:34.096Z"
   },
   {
    "duration": 46,
    "start_time": "2022-03-17T20:29:34.125Z"
   },
   {
    "duration": 37,
    "start_time": "2022-03-17T20:29:34.177Z"
   },
   {
    "duration": 17,
    "start_time": "2022-03-17T20:29:34.217Z"
   },
   {
    "duration": 29,
    "start_time": "2022-03-17T20:29:34.236Z"
   },
   {
    "duration": 8,
    "start_time": "2022-03-17T20:29:34.268Z"
   },
   {
    "duration": 35,
    "start_time": "2022-03-17T20:29:34.284Z"
   },
   {
    "duration": 25,
    "start_time": "2022-03-17T20:29:34.322Z"
   },
   {
    "duration": 10,
    "start_time": "2022-03-17T20:29:34.349Z"
   },
   {
    "duration": 30,
    "start_time": "2022-03-17T20:29:34.362Z"
   },
   {
    "duration": 13,
    "start_time": "2022-03-17T20:29:34.394Z"
   },
   {
    "duration": 16,
    "start_time": "2022-03-17T20:29:34.409Z"
   },
   {
    "duration": 22,
    "start_time": "2022-03-17T20:29:34.428Z"
   },
   {
    "duration": 574,
    "start_time": "2022-03-17T20:30:02.150Z"
   },
   {
    "duration": 84,
    "start_time": "2022-03-17T20:30:02.727Z"
   },
   {
    "duration": 34,
    "start_time": "2022-03-17T20:30:02.813Z"
   },
   {
    "duration": 43,
    "start_time": "2022-03-17T20:30:02.849Z"
   },
   {
    "duration": 16,
    "start_time": "2022-03-17T20:30:02.895Z"
   },
   {
    "duration": 21,
    "start_time": "2022-03-17T20:30:02.913Z"
   },
   {
    "duration": 52,
    "start_time": "2022-03-17T20:30:02.936Z"
   },
   {
    "duration": 15,
    "start_time": "2022-03-17T20:30:02.990Z"
   },
   {
    "duration": 17,
    "start_time": "2022-03-17T20:30:03.007Z"
   },
   {
    "duration": 39,
    "start_time": "2022-03-17T20:30:03.027Z"
   },
   {
    "duration": 24,
    "start_time": "2022-03-17T20:30:03.068Z"
   },
   {
    "duration": 18,
    "start_time": "2022-03-17T20:30:03.094Z"
   },
   {
    "duration": 23,
    "start_time": "2022-03-17T20:30:03.115Z"
   },
   {
    "duration": 12,
    "start_time": "2022-03-17T20:30:03.144Z"
   },
   {
    "duration": 27,
    "start_time": "2022-03-17T20:30:03.159Z"
   },
   {
    "duration": 8,
    "start_time": "2022-03-17T20:30:03.188Z"
   },
   {
    "duration": 14,
    "start_time": "2022-03-17T20:30:03.199Z"
   },
   {
    "duration": 28,
    "start_time": "2022-03-17T20:30:03.215Z"
   },
   {
    "duration": 17,
    "start_time": "2022-03-17T20:30:03.246Z"
   },
   {
    "duration": 43,
    "start_time": "2022-03-17T20:30:03.265Z"
   },
   {
    "duration": 19,
    "start_time": "2022-03-17T20:30:03.311Z"
   },
   {
    "duration": 36,
    "start_time": "2022-03-17T20:30:03.332Z"
   },
   {
    "duration": 111,
    "start_time": "2022-03-17T20:30:03.370Z"
   },
   {
    "duration": 0,
    "start_time": "2022-03-17T20:30:03.485Z"
   },
   {
    "duration": 0,
    "start_time": "2022-03-17T20:30:03.487Z"
   },
   {
    "duration": 0,
    "start_time": "2022-03-17T20:30:03.488Z"
   },
   {
    "duration": 0,
    "start_time": "2022-03-17T20:30:03.490Z"
   },
   {
    "duration": 0,
    "start_time": "2022-03-17T20:30:03.491Z"
   },
   {
    "duration": 0,
    "start_time": "2022-03-17T20:30:03.494Z"
   },
   {
    "duration": 0,
    "start_time": "2022-03-17T20:30:03.496Z"
   },
   {
    "duration": 0,
    "start_time": "2022-03-17T20:30:03.498Z"
   },
   {
    "duration": 0,
    "start_time": "2022-03-17T20:30:03.500Z"
   },
   {
    "duration": 0,
    "start_time": "2022-03-17T20:30:03.501Z"
   },
   {
    "duration": 0,
    "start_time": "2022-03-17T20:30:03.504Z"
   },
   {
    "duration": 0,
    "start_time": "2022-03-17T20:30:03.506Z"
   },
   {
    "duration": 0,
    "start_time": "2022-03-17T20:30:03.507Z"
   },
   {
    "duration": 0,
    "start_time": "2022-03-17T20:30:03.509Z"
   },
   {
    "duration": 0,
    "start_time": "2022-03-17T20:30:03.511Z"
   },
   {
    "duration": 0,
    "start_time": "2022-03-17T20:30:03.513Z"
   },
   {
    "duration": 0,
    "start_time": "2022-03-17T20:30:03.515Z"
   },
   {
    "duration": 1,
    "start_time": "2022-03-17T20:30:03.516Z"
   },
   {
    "duration": 0,
    "start_time": "2022-03-17T20:30:03.518Z"
   },
   {
    "duration": 0,
    "start_time": "2022-03-17T20:30:03.520Z"
   },
   {
    "duration": 0,
    "start_time": "2022-03-17T20:30:03.522Z"
   },
   {
    "duration": 0,
    "start_time": "2022-03-17T20:30:03.524Z"
   },
   {
    "duration": 0,
    "start_time": "2022-03-17T20:30:03.526Z"
   },
   {
    "duration": 0,
    "start_time": "2022-03-17T20:30:03.528Z"
   },
   {
    "duration": 0,
    "start_time": "2022-03-17T20:30:03.583Z"
   },
   {
    "duration": 0,
    "start_time": "2022-03-17T20:30:03.586Z"
   },
   {
    "duration": 0,
    "start_time": "2022-03-17T20:30:03.588Z"
   },
   {
    "duration": 0,
    "start_time": "2022-03-17T20:30:03.589Z"
   },
   {
    "duration": 0,
    "start_time": "2022-03-17T20:30:03.592Z"
   },
   {
    "duration": 4,
    "start_time": "2022-03-17T20:31:18.816Z"
   },
   {
    "duration": 86,
    "start_time": "2022-03-17T20:31:18.823Z"
   },
   {
    "duration": 20,
    "start_time": "2022-03-17T20:31:18.912Z"
   },
   {
    "duration": 50,
    "start_time": "2022-03-17T20:31:18.934Z"
   },
   {
    "duration": 13,
    "start_time": "2022-03-17T20:31:18.987Z"
   },
   {
    "duration": 21,
    "start_time": "2022-03-17T20:31:19.002Z"
   },
   {
    "duration": 60,
    "start_time": "2022-03-17T20:31:19.025Z"
   },
   {
    "duration": 15,
    "start_time": "2022-03-17T20:31:19.087Z"
   },
   {
    "duration": 6,
    "start_time": "2022-03-17T20:31:19.104Z"
   },
   {
    "duration": 20,
    "start_time": "2022-03-17T20:31:19.112Z"
   },
   {
    "duration": 52,
    "start_time": "2022-03-17T20:31:19.136Z"
   },
   {
    "duration": 14,
    "start_time": "2022-03-17T20:31:19.191Z"
   },
   {
    "duration": 14,
    "start_time": "2022-03-17T20:31:19.207Z"
   },
   {
    "duration": 12,
    "start_time": "2022-03-17T20:31:19.223Z"
   },
   {
    "duration": 9,
    "start_time": "2022-03-17T20:31:19.237Z"
   },
   {
    "duration": 37,
    "start_time": "2022-03-17T20:31:19.248Z"
   },
   {
    "duration": 8,
    "start_time": "2022-03-17T20:31:19.288Z"
   },
   {
    "duration": 15,
    "start_time": "2022-03-17T20:31:19.298Z"
   },
   {
    "duration": 9,
    "start_time": "2022-03-17T20:31:19.315Z"
   },
   {
    "duration": 8,
    "start_time": "2022-03-17T20:31:19.326Z"
   },
   {
    "duration": 12,
    "start_time": "2022-03-17T20:31:19.336Z"
   },
   {
    "duration": 27,
    "start_time": "2022-03-17T20:31:19.385Z"
   },
   {
    "duration": 29,
    "start_time": "2022-03-17T20:31:19.415Z"
   },
   {
    "duration": 97,
    "start_time": "2022-03-17T20:31:19.447Z"
   },
   {
    "duration": 0,
    "start_time": "2022-03-17T20:31:19.549Z"
   },
   {
    "duration": 0,
    "start_time": "2022-03-17T20:31:19.552Z"
   },
   {
    "duration": 0,
    "start_time": "2022-03-17T20:31:19.554Z"
   },
   {
    "duration": 0,
    "start_time": "2022-03-17T20:31:19.556Z"
   },
   {
    "duration": 0,
    "start_time": "2022-03-17T20:31:19.558Z"
   },
   {
    "duration": 0,
    "start_time": "2022-03-17T20:31:19.560Z"
   },
   {
    "duration": 0,
    "start_time": "2022-03-17T20:31:19.562Z"
   },
   {
    "duration": 0,
    "start_time": "2022-03-17T20:31:19.564Z"
   },
   {
    "duration": 0,
    "start_time": "2022-03-17T20:31:19.566Z"
   },
   {
    "duration": 0,
    "start_time": "2022-03-17T20:31:19.569Z"
   },
   {
    "duration": 0,
    "start_time": "2022-03-17T20:31:19.570Z"
   },
   {
    "duration": 0,
    "start_time": "2022-03-17T20:31:19.572Z"
   },
   {
    "duration": 0,
    "start_time": "2022-03-17T20:31:19.574Z"
   },
   {
    "duration": 0,
    "start_time": "2022-03-17T20:31:19.575Z"
   },
   {
    "duration": 0,
    "start_time": "2022-03-17T20:31:19.577Z"
   },
   {
    "duration": 0,
    "start_time": "2022-03-17T20:31:19.578Z"
   },
   {
    "duration": 0,
    "start_time": "2022-03-17T20:31:19.580Z"
   },
   {
    "duration": 0,
    "start_time": "2022-03-17T20:31:19.581Z"
   },
   {
    "duration": 0,
    "start_time": "2022-03-17T20:31:19.583Z"
   },
   {
    "duration": 0,
    "start_time": "2022-03-17T20:31:19.584Z"
   },
   {
    "duration": 0,
    "start_time": "2022-03-17T20:31:19.586Z"
   },
   {
    "duration": 0,
    "start_time": "2022-03-17T20:31:19.587Z"
   },
   {
    "duration": 0,
    "start_time": "2022-03-17T20:31:19.589Z"
   },
   {
    "duration": 0,
    "start_time": "2022-03-17T20:31:19.590Z"
   },
   {
    "duration": 0,
    "start_time": "2022-03-17T20:31:19.591Z"
   },
   {
    "duration": 0,
    "start_time": "2022-03-17T20:31:19.593Z"
   },
   {
    "duration": 0,
    "start_time": "2022-03-17T20:31:19.594Z"
   },
   {
    "duration": 546,
    "start_time": "2022-03-17T20:31:48.877Z"
   },
   {
    "duration": 83,
    "start_time": "2022-03-17T20:31:49.426Z"
   },
   {
    "duration": 34,
    "start_time": "2022-03-17T20:31:49.515Z"
   },
   {
    "duration": 38,
    "start_time": "2022-03-17T20:31:49.552Z"
   },
   {
    "duration": 14,
    "start_time": "2022-03-17T20:31:49.593Z"
   },
   {
    "duration": 25,
    "start_time": "2022-03-17T20:31:49.609Z"
   },
   {
    "duration": 46,
    "start_time": "2022-03-17T20:31:49.637Z"
   },
   {
    "duration": 14,
    "start_time": "2022-03-17T20:31:49.686Z"
   },
   {
    "duration": 7,
    "start_time": "2022-03-17T20:31:49.703Z"
   },
   {
    "duration": 24,
    "start_time": "2022-03-17T20:31:49.714Z"
   },
   {
    "duration": 50,
    "start_time": "2022-03-17T20:31:49.740Z"
   },
   {
    "duration": 16,
    "start_time": "2022-03-17T20:31:49.793Z"
   },
   {
    "duration": 7,
    "start_time": "2022-03-17T20:31:49.811Z"
   },
   {
    "duration": 9,
    "start_time": "2022-03-17T20:31:49.821Z"
   },
   {
    "duration": 9,
    "start_time": "2022-03-17T20:31:49.833Z"
   },
   {
    "duration": 47,
    "start_time": "2022-03-17T20:31:49.844Z"
   },
   {
    "duration": 11,
    "start_time": "2022-03-17T20:31:49.894Z"
   },
   {
    "duration": 10,
    "start_time": "2022-03-17T20:31:49.907Z"
   },
   {
    "duration": 10,
    "start_time": "2022-03-17T20:31:49.920Z"
   },
   {
    "duration": 9,
    "start_time": "2022-03-17T20:31:49.932Z"
   },
   {
    "duration": 44,
    "start_time": "2022-03-17T20:31:49.943Z"
   },
   {
    "duration": 32,
    "start_time": "2022-03-17T20:31:49.990Z"
   },
   {
    "duration": 60,
    "start_time": "2022-03-17T20:31:50.024Z"
   },
   {
    "duration": 114,
    "start_time": "2022-03-17T20:31:50.086Z"
   },
   {
    "duration": 0,
    "start_time": "2022-03-17T20:31:50.203Z"
   },
   {
    "duration": 0,
    "start_time": "2022-03-17T20:31:50.204Z"
   },
   {
    "duration": 0,
    "start_time": "2022-03-17T20:31:50.207Z"
   },
   {
    "duration": 0,
    "start_time": "2022-03-17T20:31:50.208Z"
   },
   {
    "duration": 0,
    "start_time": "2022-03-17T20:31:50.210Z"
   },
   {
    "duration": 0,
    "start_time": "2022-03-17T20:31:50.212Z"
   },
   {
    "duration": 0,
    "start_time": "2022-03-17T20:31:50.213Z"
   },
   {
    "duration": 0,
    "start_time": "2022-03-17T20:31:50.215Z"
   },
   {
    "duration": 0,
    "start_time": "2022-03-17T20:31:50.217Z"
   },
   {
    "duration": 0,
    "start_time": "2022-03-17T20:31:50.218Z"
   },
   {
    "duration": 0,
    "start_time": "2022-03-17T20:31:50.220Z"
   },
   {
    "duration": 0,
    "start_time": "2022-03-17T20:31:50.222Z"
   },
   {
    "duration": 0,
    "start_time": "2022-03-17T20:31:50.223Z"
   },
   {
    "duration": 0,
    "start_time": "2022-03-17T20:31:50.224Z"
   },
   {
    "duration": 0,
    "start_time": "2022-03-17T20:31:50.226Z"
   },
   {
    "duration": 0,
    "start_time": "2022-03-17T20:31:50.227Z"
   },
   {
    "duration": 0,
    "start_time": "2022-03-17T20:31:50.228Z"
   },
   {
    "duration": 0,
    "start_time": "2022-03-17T20:31:50.230Z"
   },
   {
    "duration": 0,
    "start_time": "2022-03-17T20:31:50.231Z"
   },
   {
    "duration": 0,
    "start_time": "2022-03-17T20:31:50.232Z"
   },
   {
    "duration": 0,
    "start_time": "2022-03-17T20:31:50.233Z"
   },
   {
    "duration": 0,
    "start_time": "2022-03-17T20:31:50.235Z"
   },
   {
    "duration": 0,
    "start_time": "2022-03-17T20:31:50.236Z"
   },
   {
    "duration": 0,
    "start_time": "2022-03-17T20:31:50.237Z"
   },
   {
    "duration": 0,
    "start_time": "2022-03-17T20:31:50.238Z"
   },
   {
    "duration": 0,
    "start_time": "2022-03-17T20:31:50.285Z"
   },
   {
    "duration": 0,
    "start_time": "2022-03-17T20:31:50.287Z"
   },
   {
    "duration": 28,
    "start_time": "2022-03-17T20:33:10.980Z"
   },
   {
    "duration": 22,
    "start_time": "2022-03-17T20:33:15.568Z"
   },
   {
    "duration": 23,
    "start_time": "2022-03-17T20:33:25.680Z"
   },
   {
    "duration": 27,
    "start_time": "2022-03-17T20:33:30.130Z"
   },
   {
    "duration": 22,
    "start_time": "2022-03-17T20:37:25.201Z"
   },
   {
    "duration": 29,
    "start_time": "2022-03-17T20:49:06.847Z"
   },
   {
    "duration": 34,
    "start_time": "2022-03-17T20:49:12.894Z"
   },
   {
    "duration": 20,
    "start_time": "2022-03-17T20:51:17.032Z"
   },
   {
    "duration": 24,
    "start_time": "2022-03-17T20:54:21.262Z"
   },
   {
    "duration": 6,
    "start_time": "2022-03-17T21:13:05.091Z"
   },
   {
    "duration": 10,
    "start_time": "2022-03-17T21:15:05.787Z"
   },
   {
    "duration": 7,
    "start_time": "2022-03-17T21:16:21.514Z"
   },
   {
    "duration": 11,
    "start_time": "2022-03-17T21:17:35.613Z"
   },
   {
    "duration": 19,
    "start_time": "2022-03-17T21:20:09.649Z"
   },
   {
    "duration": 20,
    "start_time": "2022-03-17T21:38:14.245Z"
   },
   {
    "duration": 21,
    "start_time": "2022-03-17T21:39:07.878Z"
   },
   {
    "duration": 10,
    "start_time": "2022-03-17T21:41:01.489Z"
   },
   {
    "duration": 20,
    "start_time": "2022-03-17T21:42:43.799Z"
   },
   {
    "duration": 5,
    "start_time": "2022-03-17T21:49:46.808Z"
   },
   {
    "duration": 15,
    "start_time": "2022-03-17T21:52:21.929Z"
   },
   {
    "duration": 22,
    "start_time": "2022-03-17T21:54:20.988Z"
   },
   {
    "duration": 22,
    "start_time": "2022-03-17T21:55:19.012Z"
   },
   {
    "duration": 8,
    "start_time": "2022-03-17T21:58:34.179Z"
   },
   {
    "duration": 11,
    "start_time": "2022-03-17T21:58:47.249Z"
   },
   {
    "duration": 12,
    "start_time": "2022-03-17T22:06:22.426Z"
   },
   {
    "duration": 9,
    "start_time": "2022-03-17T22:08:11.458Z"
   },
   {
    "duration": 12,
    "start_time": "2022-03-17T22:09:31.081Z"
   },
   {
    "duration": 11,
    "start_time": "2022-03-17T22:12:16.538Z"
   },
   {
    "duration": 12,
    "start_time": "2022-03-17T22:12:51.000Z"
   },
   {
    "duration": 12,
    "start_time": "2022-03-17T22:14:48.625Z"
   },
   {
    "duration": 64,
    "start_time": "2022-03-17T22:40:59.559Z"
   },
   {
    "duration": 554,
    "start_time": "2022-03-17T22:42:55.569Z"
   },
   {
    "duration": 79,
    "start_time": "2022-03-17T22:42:56.126Z"
   },
   {
    "duration": 32,
    "start_time": "2022-03-17T22:42:56.207Z"
   },
   {
    "duration": 44,
    "start_time": "2022-03-17T22:42:56.241Z"
   },
   {
    "duration": 15,
    "start_time": "2022-03-17T22:42:56.288Z"
   },
   {
    "duration": 25,
    "start_time": "2022-03-17T22:42:56.307Z"
   },
   {
    "duration": 49,
    "start_time": "2022-03-17T22:42:56.335Z"
   },
   {
    "duration": 17,
    "start_time": "2022-03-17T22:42:56.387Z"
   },
   {
    "duration": 24,
    "start_time": "2022-03-17T22:42:56.407Z"
   },
   {
    "duration": 24,
    "start_time": "2022-03-17T22:42:56.433Z"
   },
   {
    "duration": 44,
    "start_time": "2022-03-17T22:42:56.460Z"
   },
   {
    "duration": 18,
    "start_time": "2022-03-17T22:42:56.506Z"
   },
   {
    "duration": 7,
    "start_time": "2022-03-17T22:42:56.526Z"
   },
   {
    "duration": 11,
    "start_time": "2022-03-17T22:42:56.538Z"
   },
   {
    "duration": 40,
    "start_time": "2022-03-17T22:42:56.552Z"
   },
   {
    "duration": 8,
    "start_time": "2022-03-17T22:42:56.594Z"
   },
   {
    "duration": 12,
    "start_time": "2022-03-17T22:42:56.605Z"
   },
   {
    "duration": 21,
    "start_time": "2022-03-17T22:42:56.619Z"
   },
   {
    "duration": 10,
    "start_time": "2022-03-17T22:42:56.643Z"
   },
   {
    "duration": 6,
    "start_time": "2022-03-17T22:42:56.685Z"
   },
   {
    "duration": 10,
    "start_time": "2022-03-17T22:42:56.693Z"
   },
   {
    "duration": 39,
    "start_time": "2022-03-17T22:42:56.706Z"
   },
   {
    "duration": 69,
    "start_time": "2022-03-17T22:42:56.747Z"
   },
   {
    "duration": 26,
    "start_time": "2022-03-17T22:42:56.819Z"
   },
   {
    "duration": 38,
    "start_time": "2022-03-17T22:42:56.847Z"
   },
   {
    "duration": 17,
    "start_time": "2022-03-17T22:42:56.887Z"
   },
   {
    "duration": 30,
    "start_time": "2022-03-17T22:42:56.906Z"
   },
   {
    "duration": 49,
    "start_time": "2022-03-17T22:42:56.938Z"
   },
   {
    "duration": 19,
    "start_time": "2022-03-17T22:42:56.990Z"
   },
   {
    "duration": 77,
    "start_time": "2022-03-17T22:42:57.011Z"
   },
   {
    "duration": 32,
    "start_time": "2022-03-17T22:42:57.091Z"
   },
   {
    "duration": 57,
    "start_time": "2022-03-17T22:42:57.126Z"
   },
   {
    "duration": 7,
    "start_time": "2022-03-17T22:42:57.186Z"
   },
   {
    "duration": 15,
    "start_time": "2022-03-17T22:42:57.195Z"
   },
   {
    "duration": 8,
    "start_time": "2022-03-17T22:42:57.212Z"
   },
   {
    "duration": 13,
    "start_time": "2022-03-17T22:42:57.223Z"
   },
   {
    "duration": 57,
    "start_time": "2022-03-17T22:42:57.239Z"
   },
   {
    "duration": 26,
    "start_time": "2022-03-17T22:42:57.299Z"
   },
   {
    "duration": 23,
    "start_time": "2022-03-17T22:42:57.328Z"
   },
   {
    "duration": 31,
    "start_time": "2022-03-17T22:42:57.353Z"
   },
   {
    "duration": 18,
    "start_time": "2022-03-17T22:42:57.391Z"
   },
   {
    "duration": 6,
    "start_time": "2022-03-17T22:42:57.412Z"
   },
   {
    "duration": 19,
    "start_time": "2022-03-17T22:42:57.420Z"
   },
   {
    "duration": 49,
    "start_time": "2022-03-17T22:42:57.441Z"
   },
   {
    "duration": 21,
    "start_time": "2022-03-17T22:42:57.492Z"
   },
   {
    "duration": 9,
    "start_time": "2022-03-17T22:42:57.515Z"
   },
   {
    "duration": 13,
    "start_time": "2022-03-17T22:42:57.526Z"
   },
   {
    "duration": 48,
    "start_time": "2022-03-17T22:42:57.541Z"
   },
   {
    "duration": 12,
    "start_time": "2022-03-17T22:42:57.592Z"
   },
   {
    "duration": 80,
    "start_time": "2022-03-17T22:42:57.607Z"
   },
   {
    "duration": 65,
    "start_time": "2022-03-17T22:45:38.827Z"
   },
   {
    "duration": 67,
    "start_time": "2022-03-17T22:46:12.534Z"
   },
   {
    "duration": 62,
    "start_time": "2022-03-17T22:46:48.828Z"
   },
   {
    "duration": 65,
    "start_time": "2022-03-17T22:53:27.570Z"
   },
   {
    "duration": 63,
    "start_time": "2022-03-17T22:57:08.618Z"
   },
   {
    "duration": 546,
    "start_time": "2022-03-17T22:58:11.852Z"
   },
   {
    "duration": 83,
    "start_time": "2022-03-17T22:58:12.401Z"
   },
   {
    "duration": 33,
    "start_time": "2022-03-17T22:58:12.487Z"
   },
   {
    "duration": 24,
    "start_time": "2022-03-17T22:58:12.523Z"
   },
   {
    "duration": 16,
    "start_time": "2022-03-17T22:58:12.584Z"
   },
   {
    "duration": 23,
    "start_time": "2022-03-17T22:58:12.603Z"
   },
   {
    "duration": 58,
    "start_time": "2022-03-17T22:58:12.629Z"
   },
   {
    "duration": 16,
    "start_time": "2022-03-17T22:58:12.691Z"
   },
   {
    "duration": 29,
    "start_time": "2022-03-17T22:58:12.710Z"
   },
   {
    "duration": 22,
    "start_time": "2022-03-17T22:58:12.742Z"
   },
   {
    "duration": 16,
    "start_time": "2022-03-17T22:58:12.785Z"
   },
   {
    "duration": 18,
    "start_time": "2022-03-17T22:58:12.804Z"
   },
   {
    "duration": 16,
    "start_time": "2022-03-17T22:58:12.825Z"
   },
   {
    "duration": 39,
    "start_time": "2022-03-17T22:58:12.846Z"
   },
   {
    "duration": 11,
    "start_time": "2022-03-17T22:58:12.887Z"
   },
   {
    "duration": 10,
    "start_time": "2022-03-17T22:58:12.901Z"
   },
   {
    "duration": 12,
    "start_time": "2022-03-17T22:58:12.914Z"
   },
   {
    "duration": 12,
    "start_time": "2022-03-17T22:58:12.928Z"
   },
   {
    "duration": 46,
    "start_time": "2022-03-17T22:58:12.942Z"
   },
   {
    "duration": 7,
    "start_time": "2022-03-17T22:58:12.991Z"
   },
   {
    "duration": 9,
    "start_time": "2022-03-17T22:58:13.001Z"
   },
   {
    "duration": 31,
    "start_time": "2022-03-17T22:58:13.012Z"
   },
   {
    "duration": 54,
    "start_time": "2022-03-17T22:58:13.045Z"
   },
   {
    "duration": 27,
    "start_time": "2022-03-17T22:58:13.101Z"
   },
   {
    "duration": 20,
    "start_time": "2022-03-17T22:58:13.130Z"
   },
   {
    "duration": 40,
    "start_time": "2022-03-17T22:58:13.152Z"
   },
   {
    "duration": 31,
    "start_time": "2022-03-17T22:58:13.194Z"
   },
   {
    "duration": 22,
    "start_time": "2022-03-17T22:58:13.227Z"
   },
   {
    "duration": 46,
    "start_time": "2022-03-17T22:58:13.251Z"
   },
   {
    "duration": 33,
    "start_time": "2022-03-17T22:58:13.299Z"
   },
   {
    "duration": 20,
    "start_time": "2022-03-17T22:58:13.334Z"
   },
   {
    "duration": 47,
    "start_time": "2022-03-17T22:58:13.357Z"
   },
   {
    "duration": 7,
    "start_time": "2022-03-17T22:58:13.407Z"
   },
   {
    "duration": 14,
    "start_time": "2022-03-17T22:58:13.417Z"
   },
   {
    "duration": 10,
    "start_time": "2022-03-17T22:58:13.433Z"
   },
   {
    "duration": 43,
    "start_time": "2022-03-17T22:58:13.445Z"
   },
   {
    "duration": 21,
    "start_time": "2022-03-17T22:58:13.490Z"
   },
   {
    "duration": 18,
    "start_time": "2022-03-17T22:58:13.513Z"
   },
   {
    "duration": 55,
    "start_time": "2022-03-17T22:58:13.533Z"
   },
   {
    "duration": 14,
    "start_time": "2022-03-17T22:58:13.591Z"
   },
   {
    "duration": 19,
    "start_time": "2022-03-17T22:58:13.610Z"
   },
   {
    "duration": 5,
    "start_time": "2022-03-17T22:58:13.631Z"
   },
   {
    "duration": 48,
    "start_time": "2022-03-17T22:58:13.639Z"
   },
   {
    "duration": 26,
    "start_time": "2022-03-17T22:58:13.690Z"
   },
   {
    "duration": 25,
    "start_time": "2022-03-17T22:58:13.718Z"
   },
   {
    "duration": 11,
    "start_time": "2022-03-17T22:58:13.745Z"
   },
   {
    "duration": 14,
    "start_time": "2022-03-17T22:58:13.783Z"
   },
   {
    "duration": 18,
    "start_time": "2022-03-17T22:58:13.799Z"
   },
   {
    "duration": 16,
    "start_time": "2022-03-17T22:58:13.819Z"
   },
   {
    "duration": 87,
    "start_time": "2022-03-17T22:58:13.837Z"
   },
   {
    "duration": 4,
    "start_time": "2022-03-17T22:59:57.409Z"
   },
   {
    "duration": 525,
    "start_time": "2022-03-17T23:00:32.016Z"
   },
   {
    "duration": 83,
    "start_time": "2022-03-17T23:00:32.543Z"
   },
   {
    "duration": 32,
    "start_time": "2022-03-17T23:00:32.628Z"
   },
   {
    "duration": 42,
    "start_time": "2022-03-17T23:00:32.662Z"
   },
   {
    "duration": 15,
    "start_time": "2022-03-17T23:00:32.706Z"
   },
   {
    "duration": 30,
    "start_time": "2022-03-17T23:00:32.723Z"
   },
   {
    "duration": 45,
    "start_time": "2022-03-17T23:00:32.756Z"
   },
   {
    "duration": 16,
    "start_time": "2022-03-17T23:00:32.805Z"
   },
   {
    "duration": 27,
    "start_time": "2022-03-17T23:00:32.825Z"
   },
   {
    "duration": 39,
    "start_time": "2022-03-17T23:00:32.858Z"
   },
   {
    "duration": 33,
    "start_time": "2022-03-17T23:00:32.901Z"
   },
   {
    "duration": 17,
    "start_time": "2022-03-17T23:00:32.937Z"
   },
   {
    "duration": 10,
    "start_time": "2022-03-17T23:00:32.957Z"
   },
   {
    "duration": 8,
    "start_time": "2022-03-17T23:00:32.984Z"
   },
   {
    "duration": 10,
    "start_time": "2022-03-17T23:00:32.995Z"
   },
   {
    "duration": 11,
    "start_time": "2022-03-17T23:00:33.008Z"
   },
   {
    "duration": 12,
    "start_time": "2022-03-17T23:00:33.022Z"
   },
   {
    "duration": 50,
    "start_time": "2022-03-17T23:00:33.036Z"
   },
   {
    "duration": 13,
    "start_time": "2022-03-17T23:00:33.088Z"
   },
   {
    "duration": 9,
    "start_time": "2022-03-17T23:00:33.103Z"
   },
   {
    "duration": 15,
    "start_time": "2022-03-17T23:00:33.114Z"
   },
   {
    "duration": 34,
    "start_time": "2022-03-17T23:00:33.132Z"
   },
   {
    "duration": 40,
    "start_time": "2022-03-17T23:00:33.185Z"
   },
   {
    "duration": 57,
    "start_time": "2022-03-17T23:00:33.228Z"
   },
   {
    "duration": 31,
    "start_time": "2022-03-17T23:00:33.288Z"
   },
   {
    "duration": 26,
    "start_time": "2022-03-17T23:00:33.321Z"
   },
   {
    "duration": 73,
    "start_time": "2022-03-17T23:00:33.350Z"
   },
   {
    "duration": 32,
    "start_time": "2022-03-17T23:00:33.430Z"
   },
   {
    "duration": 43,
    "start_time": "2022-03-17T23:00:33.465Z"
   },
   {
    "duration": 78,
    "start_time": "2022-03-17T23:00:33.511Z"
   },
   {
    "duration": 29,
    "start_time": "2022-03-17T23:00:33.592Z"
   },
   {
    "duration": 25,
    "start_time": "2022-03-17T23:00:33.624Z"
   },
   {
    "duration": 33,
    "start_time": "2022-03-17T23:00:33.651Z"
   },
   {
    "duration": 29,
    "start_time": "2022-03-17T23:00:33.686Z"
   },
   {
    "duration": 25,
    "start_time": "2022-03-17T23:00:33.718Z"
   },
   {
    "duration": 24,
    "start_time": "2022-03-17T23:00:33.746Z"
   },
   {
    "duration": 38,
    "start_time": "2022-03-17T23:00:33.772Z"
   },
   {
    "duration": 35,
    "start_time": "2022-03-17T23:00:33.813Z"
   },
   {
    "duration": 51,
    "start_time": "2022-03-17T23:00:33.850Z"
   },
   {
    "duration": 40,
    "start_time": "2022-03-17T23:00:33.903Z"
   },
   {
    "duration": 46,
    "start_time": "2022-03-17T23:00:33.945Z"
   },
   {
    "duration": 23,
    "start_time": "2022-03-17T23:00:33.994Z"
   },
   {
    "duration": 47,
    "start_time": "2022-03-17T23:00:34.020Z"
   },
   {
    "duration": 29,
    "start_time": "2022-03-17T23:00:34.070Z"
   },
   {
    "duration": 31,
    "start_time": "2022-03-17T23:00:34.101Z"
   },
   {
    "duration": 19,
    "start_time": "2022-03-17T23:00:34.135Z"
   },
   {
    "duration": 32,
    "start_time": "2022-03-17T23:00:34.157Z"
   },
   {
    "duration": 11,
    "start_time": "2022-03-17T23:00:34.192Z"
   },
   {
    "duration": 12,
    "start_time": "2022-03-17T23:00:34.205Z"
   },
   {
    "duration": 94,
    "start_time": "2022-03-17T23:00:34.220Z"
   },
   {
    "duration": 104,
    "start_time": "2022-03-28T19:13:35.882Z"
   },
   {
    "duration": 50,
    "start_time": "2022-03-28T19:48:40.016Z"
   },
   {
    "duration": 355,
    "start_time": "2022-03-28T19:48:49.089Z"
   },
   {
    "duration": 416,
    "start_time": "2022-03-28T19:49:23.306Z"
   },
   {
    "duration": 63,
    "start_time": "2022-03-28T19:49:23.724Z"
   },
   {
    "duration": 18,
    "start_time": "2022-03-28T19:49:23.789Z"
   },
   {
    "duration": 29,
    "start_time": "2022-03-28T19:49:23.809Z"
   },
   {
    "duration": 10,
    "start_time": "2022-03-28T19:49:23.839Z"
   },
   {
    "duration": 13,
    "start_time": "2022-03-28T19:49:23.850Z"
   },
   {
    "duration": 13,
    "start_time": "2022-03-28T19:49:23.864Z"
   },
   {
    "duration": 9,
    "start_time": "2022-03-28T19:49:23.879Z"
   },
   {
    "duration": 44,
    "start_time": "2022-03-28T19:49:23.889Z"
   },
   {
    "duration": 6,
    "start_time": "2022-03-28T19:49:23.935Z"
   },
   {
    "duration": 14,
    "start_time": "2022-03-28T19:49:23.942Z"
   },
   {
    "duration": 12,
    "start_time": "2022-03-28T19:49:23.957Z"
   },
   {
    "duration": 9,
    "start_time": "2022-03-28T19:49:23.970Z"
   },
   {
    "duration": 12,
    "start_time": "2022-03-28T19:49:23.981Z"
   },
   {
    "duration": 7,
    "start_time": "2022-03-28T19:49:23.995Z"
   },
   {
    "duration": 34,
    "start_time": "2022-03-28T19:49:24.004Z"
   },
   {
    "duration": 7,
    "start_time": "2022-03-28T19:49:24.040Z"
   },
   {
    "duration": 7,
    "start_time": "2022-03-28T19:49:24.049Z"
   },
   {
    "duration": 16,
    "start_time": "2022-03-28T19:49:24.057Z"
   },
   {
    "duration": 7,
    "start_time": "2022-03-28T19:49:24.075Z"
   },
   {
    "duration": 6,
    "start_time": "2022-03-28T19:49:24.084Z"
   },
   {
    "duration": 5,
    "start_time": "2022-03-28T19:49:24.091Z"
   },
   {
    "duration": 36,
    "start_time": "2022-03-28T19:49:24.098Z"
   },
   {
    "duration": 19,
    "start_time": "2022-03-28T19:49:24.135Z"
   },
   {
    "duration": 17,
    "start_time": "2022-03-28T19:49:24.155Z"
   },
   {
    "duration": 14,
    "start_time": "2022-03-28T19:49:24.174Z"
   },
   {
    "duration": 11,
    "start_time": "2022-03-28T19:49:24.189Z"
   },
   {
    "duration": 47,
    "start_time": "2022-03-28T19:49:24.203Z"
   },
   {
    "duration": 17,
    "start_time": "2022-03-28T19:49:24.252Z"
   },
   {
    "duration": 12,
    "start_time": "2022-03-28T19:49:24.271Z"
   },
   {
    "duration": 27,
    "start_time": "2022-03-28T19:49:24.284Z"
   },
   {
    "duration": 32,
    "start_time": "2022-03-28T19:49:24.313Z"
   },
   {
    "duration": 16,
    "start_time": "2022-03-28T19:49:24.347Z"
   },
   {
    "duration": 4,
    "start_time": "2022-03-28T19:49:24.365Z"
   },
   {
    "duration": 9,
    "start_time": "2022-03-28T19:49:24.370Z"
   },
   {
    "duration": 6,
    "start_time": "2022-03-28T19:49:24.380Z"
   },
   {
    "duration": 14,
    "start_time": "2022-03-28T19:49:24.387Z"
   },
   {
    "duration": 36,
    "start_time": "2022-03-28T19:49:24.402Z"
   },
   {
    "duration": 15,
    "start_time": "2022-03-28T19:49:24.440Z"
   },
   {
    "duration": 15,
    "start_time": "2022-03-28T19:49:24.457Z"
   },
   {
    "duration": 8,
    "start_time": "2022-03-28T19:49:24.474Z"
   },
   {
    "duration": 14,
    "start_time": "2022-03-28T19:49:24.484Z"
   },
   {
    "duration": 3,
    "start_time": "2022-03-28T19:49:24.500Z"
   },
   {
    "duration": 10,
    "start_time": "2022-03-28T19:49:24.532Z"
   },
   {
    "duration": 15,
    "start_time": "2022-03-28T19:49:24.544Z"
   },
   {
    "duration": 16,
    "start_time": "2022-03-28T19:49:24.560Z"
   },
   {
    "duration": 7,
    "start_time": "2022-03-28T19:49:24.577Z"
   },
   {
    "duration": 7,
    "start_time": "2022-03-28T19:49:24.586Z"
   },
   {
    "duration": 39,
    "start_time": "2022-03-28T19:49:24.595Z"
   },
   {
    "duration": 8,
    "start_time": "2022-03-28T19:49:24.635Z"
   },
   {
    "duration": 36,
    "start_time": "2022-03-28T19:49:24.645Z"
   },
   {
    "duration": 5,
    "start_time": "2022-03-28T19:50:52.086Z"
   },
   {
    "duration": 47,
    "start_time": "2022-03-28T19:51:07.209Z"
   },
   {
    "duration": 0,
    "start_time": "2022-03-28T19:51:07.257Z"
   },
   {
    "duration": 0,
    "start_time": "2022-03-28T19:51:07.259Z"
   },
   {
    "duration": 0,
    "start_time": "2022-03-28T19:51:07.260Z"
   },
   {
    "duration": 6,
    "start_time": "2022-03-28T19:51:07.272Z"
   },
   {
    "duration": 0,
    "start_time": "2022-03-28T19:51:07.279Z"
   },
   {
    "duration": 7,
    "start_time": "2022-03-28T19:51:07.285Z"
   },
   {
    "duration": 0,
    "start_time": "2022-03-28T19:51:07.294Z"
   },
   {
    "duration": 0,
    "start_time": "2022-03-28T19:51:07.296Z"
   },
   {
    "duration": 39,
    "start_time": "2022-03-28T19:51:07.298Z"
   },
   {
    "duration": 10,
    "start_time": "2022-03-28T19:51:07.339Z"
   },
   {
    "duration": 1,
    "start_time": "2022-03-28T19:51:07.350Z"
   },
   {
    "duration": 0,
    "start_time": "2022-03-28T19:51:07.351Z"
   },
   {
    "duration": 0,
    "start_time": "2022-03-28T19:51:07.352Z"
   },
   {
    "duration": 0,
    "start_time": "2022-03-28T19:51:07.354Z"
   },
   {
    "duration": 0,
    "start_time": "2022-03-28T19:51:07.355Z"
   },
   {
    "duration": 0,
    "start_time": "2022-03-28T19:51:07.355Z"
   },
   {
    "duration": 0,
    "start_time": "2022-03-28T19:51:07.357Z"
   },
   {
    "duration": 0,
    "start_time": "2022-03-28T19:51:07.358Z"
   },
   {
    "duration": 0,
    "start_time": "2022-03-28T19:51:07.359Z"
   },
   {
    "duration": 0,
    "start_time": "2022-03-28T19:51:07.360Z"
   },
   {
    "duration": 0,
    "start_time": "2022-03-28T19:51:07.361Z"
   },
   {
    "duration": 7,
    "start_time": "2022-03-28T19:51:07.363Z"
   },
   {
    "duration": 0,
    "start_time": "2022-03-28T19:51:07.371Z"
   },
   {
    "duration": 0,
    "start_time": "2022-03-28T19:51:07.373Z"
   },
   {
    "duration": 0,
    "start_time": "2022-03-28T19:51:07.373Z"
   },
   {
    "duration": 60,
    "start_time": "2022-03-28T19:51:07.375Z"
   },
   {
    "duration": 0,
    "start_time": "2022-03-28T19:51:07.437Z"
   },
   {
    "duration": 7,
    "start_time": "2022-03-28T19:51:07.438Z"
   },
   {
    "duration": 0,
    "start_time": "2022-03-28T19:51:07.446Z"
   },
   {
    "duration": 0,
    "start_time": "2022-03-28T19:51:07.447Z"
   },
   {
    "duration": 0,
    "start_time": "2022-03-28T19:51:07.448Z"
   },
   {
    "duration": 0,
    "start_time": "2022-03-28T19:51:07.450Z"
   },
   {
    "duration": 0,
    "start_time": "2022-03-28T19:51:07.451Z"
   },
   {
    "duration": 0,
    "start_time": "2022-03-28T19:51:07.452Z"
   },
   {
    "duration": 0,
    "start_time": "2022-03-28T19:51:07.453Z"
   },
   {
    "duration": 0,
    "start_time": "2022-03-28T19:51:07.454Z"
   },
   {
    "duration": 0,
    "start_time": "2022-03-28T19:51:07.455Z"
   },
   {
    "duration": 0,
    "start_time": "2022-03-28T19:51:07.456Z"
   },
   {
    "duration": 0,
    "start_time": "2022-03-28T19:51:07.457Z"
   },
   {
    "duration": 6,
    "start_time": "2022-03-28T19:51:07.459Z"
   },
   {
    "duration": 0,
    "start_time": "2022-03-28T19:51:07.466Z"
   },
   {
    "duration": 416,
    "start_time": "2022-03-28T19:51:42.207Z"
   },
   {
    "duration": 54,
    "start_time": "2022-03-28T19:51:42.625Z"
   },
   {
    "duration": 19,
    "start_time": "2022-03-28T19:51:42.681Z"
   },
   {
    "duration": 31,
    "start_time": "2022-03-28T19:51:42.702Z"
   },
   {
    "duration": 10,
    "start_time": "2022-03-28T19:51:42.735Z"
   },
   {
    "duration": 15,
    "start_time": "2022-03-28T19:51:42.747Z"
   },
   {
    "duration": 17,
    "start_time": "2022-03-28T19:51:42.764Z"
   },
   {
    "duration": 10,
    "start_time": "2022-03-28T19:51:42.782Z"
   },
   {
    "duration": 4,
    "start_time": "2022-03-28T19:51:42.794Z"
   },
   {
    "duration": 34,
    "start_time": "2022-03-28T19:51:42.800Z"
   },
   {
    "duration": 13,
    "start_time": "2022-03-28T19:51:42.835Z"
   },
   {
    "duration": 12,
    "start_time": "2022-03-28T19:51:42.850Z"
   },
   {
    "duration": 20,
    "start_time": "2022-03-28T19:51:42.864Z"
   },
   {
    "duration": 16,
    "start_time": "2022-03-28T19:51:42.885Z"
   },
   {
    "duration": 15,
    "start_time": "2022-03-28T19:51:42.903Z"
   },
   {
    "duration": 15,
    "start_time": "2022-03-28T19:51:42.920Z"
   },
   {
    "duration": 6,
    "start_time": "2022-03-28T19:51:42.937Z"
   },
   {
    "duration": 7,
    "start_time": "2022-03-28T19:51:42.945Z"
   },
   {
    "duration": 9,
    "start_time": "2022-03-28T19:51:42.954Z"
   },
   {
    "duration": 8,
    "start_time": "2022-03-28T19:51:42.964Z"
   },
   {
    "duration": 4,
    "start_time": "2022-03-28T19:51:42.974Z"
   },
   {
    "duration": 6,
    "start_time": "2022-03-28T19:51:42.979Z"
   },
   {
    "duration": 53,
    "start_time": "2022-03-28T19:51:42.986Z"
   },
   {
    "duration": 19,
    "start_time": "2022-03-28T19:51:43.041Z"
   },
   {
    "duration": 18,
    "start_time": "2022-03-28T19:51:43.062Z"
   },
   {
    "duration": 16,
    "start_time": "2022-03-28T19:51:43.081Z"
   },
   {
    "duration": 40,
    "start_time": "2022-03-28T19:51:43.099Z"
   },
   {
    "duration": 21,
    "start_time": "2022-03-28T19:51:43.144Z"
   },
   {
    "duration": 16,
    "start_time": "2022-03-28T19:51:43.167Z"
   },
   {
    "duration": 13,
    "start_time": "2022-03-28T19:51:43.185Z"
   },
   {
    "duration": 53,
    "start_time": "2022-03-28T19:51:43.200Z"
   },
   {
    "duration": 16,
    "start_time": "2022-03-28T19:51:43.255Z"
   },
   {
    "duration": 18,
    "start_time": "2022-03-28T19:51:43.273Z"
   },
   {
    "duration": 4,
    "start_time": "2022-03-28T19:51:43.293Z"
   },
   {
    "duration": 35,
    "start_time": "2022-03-28T19:51:43.299Z"
   },
   {
    "duration": 6,
    "start_time": "2022-03-28T19:51:43.336Z"
   },
   {
    "duration": 16,
    "start_time": "2022-03-28T19:51:43.343Z"
   },
   {
    "duration": 13,
    "start_time": "2022-03-28T19:51:43.361Z"
   },
   {
    "duration": 10,
    "start_time": "2022-03-28T19:51:43.375Z"
   },
   {
    "duration": 12,
    "start_time": "2022-03-28T19:51:43.386Z"
   },
   {
    "duration": 7,
    "start_time": "2022-03-28T19:51:43.400Z"
   },
   {
    "duration": 34,
    "start_time": "2022-03-28T19:51:43.409Z"
   },
   {
    "duration": 3,
    "start_time": "2022-03-28T19:51:43.444Z"
   },
   {
    "duration": 12,
    "start_time": "2022-03-28T19:51:43.448Z"
   },
   {
    "duration": 18,
    "start_time": "2022-03-28T19:51:43.462Z"
   },
   {
    "duration": 18,
    "start_time": "2022-03-28T19:51:43.481Z"
   },
   {
    "duration": 6,
    "start_time": "2022-03-28T19:51:43.501Z"
   },
   {
    "duration": 25,
    "start_time": "2022-03-28T19:51:43.509Z"
   },
   {
    "duration": 9,
    "start_time": "2022-03-28T19:51:43.536Z"
   },
   {
    "duration": 9,
    "start_time": "2022-03-28T19:51:43.546Z"
   },
   {
    "duration": 51,
    "start_time": "2022-03-28T19:51:43.556Z"
   },
   {
    "duration": 4,
    "start_time": "2022-03-28T19:56:58.403Z"
   },
   {
    "duration": 5,
    "start_time": "2022-03-28T19:58:08.667Z"
   },
   {
    "duration": 14,
    "start_time": "2022-03-28T20:36:03.922Z"
   },
   {
    "duration": 14,
    "start_time": "2022-03-28T20:41:53.209Z"
   },
   {
    "duration": 110,
    "start_time": "2022-03-28T20:42:31.020Z"
   },
   {
    "duration": 12,
    "start_time": "2022-03-28T20:42:47.264Z"
   },
   {
    "duration": 5,
    "start_time": "2022-03-28T20:49:28.001Z"
   },
   {
    "duration": 14,
    "start_time": "2022-03-28T20:49:34.810Z"
   },
   {
    "duration": 1801,
    "start_time": "2022-03-28T20:51:14.994Z"
   },
   {
    "duration": 426,
    "start_time": "2022-03-28T20:51:53.514Z"
   },
   {
    "duration": 64,
    "start_time": "2022-03-28T20:51:53.943Z"
   },
   {
    "duration": 34,
    "start_time": "2022-03-28T20:51:54.009Z"
   },
   {
    "duration": 17,
    "start_time": "2022-03-28T20:51:54.045Z"
   },
   {
    "duration": 12,
    "start_time": "2022-03-28T20:51:54.065Z"
   },
   {
    "duration": 14,
    "start_time": "2022-03-28T20:51:54.078Z"
   },
   {
    "duration": 51,
    "start_time": "2022-03-28T20:51:54.094Z"
   },
   {
    "duration": 13,
    "start_time": "2022-03-28T20:51:54.146Z"
   },
   {
    "duration": 6,
    "start_time": "2022-03-28T20:51:54.161Z"
   },
   {
    "duration": 8,
    "start_time": "2022-03-28T20:51:54.168Z"
   },
   {
    "duration": 13,
    "start_time": "2022-03-28T20:51:54.178Z"
   },
   {
    "duration": 41,
    "start_time": "2022-03-28T20:51:54.193Z"
   },
   {
    "duration": 10,
    "start_time": "2022-03-28T20:51:54.235Z"
   },
   {
    "duration": 8,
    "start_time": "2022-03-28T20:51:54.248Z"
   },
   {
    "duration": 7,
    "start_time": "2022-03-28T20:51:54.258Z"
   },
   {
    "duration": 7,
    "start_time": "2022-03-28T20:51:54.266Z"
   },
   {
    "duration": 5,
    "start_time": "2022-03-28T20:51:54.274Z"
   },
   {
    "duration": 8,
    "start_time": "2022-03-28T20:51:54.280Z"
   },
   {
    "duration": 11,
    "start_time": "2022-03-28T20:51:54.289Z"
   },
   {
    "duration": 6,
    "start_time": "2022-03-28T20:51:54.333Z"
   },
   {
    "duration": 5,
    "start_time": "2022-03-28T20:51:54.341Z"
   },
   {
    "duration": 8,
    "start_time": "2022-03-28T20:51:54.347Z"
   },
   {
    "duration": 7,
    "start_time": "2022-03-28T20:51:54.357Z"
   },
   {
    "duration": 8,
    "start_time": "2022-03-28T20:51:54.365Z"
   },
   {
    "duration": 21,
    "start_time": "2022-03-28T20:51:54.375Z"
   },
   {
    "duration": 39,
    "start_time": "2022-03-28T20:51:54.397Z"
   },
   {
    "duration": 16,
    "start_time": "2022-03-28T20:51:54.438Z"
   },
   {
    "duration": 14,
    "start_time": "2022-03-28T20:51:54.456Z"
   },
   {
    "duration": 13,
    "start_time": "2022-03-28T20:51:54.471Z"
   },
   {
    "duration": 23,
    "start_time": "2022-03-28T20:51:54.485Z"
   },
   {
    "duration": 36,
    "start_time": "2022-03-28T20:51:54.509Z"
   },
   {
    "duration": 13,
    "start_time": "2022-03-28T20:51:54.547Z"
   },
   {
    "duration": 26,
    "start_time": "2022-03-28T20:51:54.562Z"
   },
   {
    "duration": 16,
    "start_time": "2022-03-28T20:51:54.589Z"
   },
   {
    "duration": 17,
    "start_time": "2022-03-28T20:51:54.632Z"
   },
   {
    "duration": 14,
    "start_time": "2022-03-28T20:51:54.651Z"
   },
   {
    "duration": 12,
    "start_time": "2022-03-28T20:51:54.667Z"
   },
   {
    "duration": 8,
    "start_time": "2022-03-28T20:51:54.681Z"
   },
   {
    "duration": 14,
    "start_time": "2022-03-28T20:51:54.691Z"
   },
   {
    "duration": 11,
    "start_time": "2022-03-28T20:51:54.733Z"
   },
   {
    "duration": 14,
    "start_time": "2022-03-28T20:51:54.748Z"
   },
   {
    "duration": 8,
    "start_time": "2022-03-28T20:51:54.764Z"
   },
   {
    "duration": 14,
    "start_time": "2022-03-28T20:51:54.773Z"
   },
   {
    "duration": 4,
    "start_time": "2022-03-28T20:51:54.789Z"
   },
   {
    "duration": 11,
    "start_time": "2022-03-28T20:51:54.794Z"
   },
   {
    "duration": 12,
    "start_time": "2022-03-28T20:51:54.832Z"
   },
   {
    "duration": 10,
    "start_time": "2022-03-28T20:51:54.846Z"
   },
   {
    "duration": 6,
    "start_time": "2022-03-28T20:51:54.858Z"
   },
   {
    "duration": 91,
    "start_time": "2022-03-28T20:51:54.866Z"
   },
   {
    "duration": 0,
    "start_time": "2022-03-28T20:51:54.959Z"
   },
   {
    "duration": 0,
    "start_time": "2022-03-28T20:51:54.960Z"
   },
   {
    "duration": 0,
    "start_time": "2022-03-28T20:51:54.962Z"
   },
   {
    "duration": 17,
    "start_time": "2022-03-28T20:57:44.502Z"
   },
   {
    "duration": 3,
    "start_time": "2022-03-28T21:03:05.723Z"
   },
   {
    "duration": 15,
    "start_time": "2022-03-28T21:03:08.958Z"
   },
   {
    "duration": 3,
    "start_time": "2022-03-28T21:03:40.973Z"
   },
   {
    "duration": 28,
    "start_time": "2022-03-28T21:04:44.191Z"
   },
   {
    "duration": 41,
    "start_time": "2022-03-28T21:06:06.878Z"
   },
   {
    "duration": 15,
    "start_time": "2022-03-28T21:13:31.445Z"
   },
   {
    "duration": 50,
    "start_time": "2022-03-28T21:13:35.468Z"
   },
   {
    "duration": 440,
    "start_time": "2022-03-28T21:15:47.604Z"
   },
   {
    "duration": 66,
    "start_time": "2022-03-28T21:15:48.046Z"
   },
   {
    "duration": 20,
    "start_time": "2022-03-28T21:15:48.113Z"
   },
   {
    "duration": 17,
    "start_time": "2022-03-28T21:15:48.136Z"
   },
   {
    "duration": 10,
    "start_time": "2022-03-28T21:15:48.155Z"
   },
   {
    "duration": 13,
    "start_time": "2022-03-28T21:15:48.167Z"
   },
   {
    "duration": 13,
    "start_time": "2022-03-28T21:15:48.181Z"
   },
   {
    "duration": 43,
    "start_time": "2022-03-28T21:15:48.195Z"
   },
   {
    "duration": 8,
    "start_time": "2022-03-28T21:15:48.239Z"
   },
   {
    "duration": 8,
    "start_time": "2022-03-28T21:15:48.249Z"
   },
   {
    "duration": 15,
    "start_time": "2022-03-28T21:15:48.259Z"
   },
   {
    "duration": 12,
    "start_time": "2022-03-28T21:15:48.276Z"
   },
   {
    "duration": 14,
    "start_time": "2022-03-28T21:15:48.290Z"
   },
   {
    "duration": 9,
    "start_time": "2022-03-28T21:15:48.306Z"
   },
   {
    "duration": 6,
    "start_time": "2022-03-28T21:15:48.333Z"
   },
   {
    "duration": 9,
    "start_time": "2022-03-28T21:15:48.340Z"
   },
   {
    "duration": 10,
    "start_time": "2022-03-28T21:15:48.351Z"
   },
   {
    "duration": 8,
    "start_time": "2022-03-28T21:15:48.362Z"
   },
   {
    "duration": 8,
    "start_time": "2022-03-28T21:15:48.371Z"
   },
   {
    "duration": 7,
    "start_time": "2022-03-28T21:15:48.380Z"
   },
   {
    "duration": 6,
    "start_time": "2022-03-28T21:15:48.388Z"
   },
   {
    "duration": 14,
    "start_time": "2022-03-28T21:15:48.395Z"
   },
   {
    "duration": 23,
    "start_time": "2022-03-28T21:15:48.411Z"
   },
   {
    "duration": 8,
    "start_time": "2022-03-28T21:15:48.436Z"
   },
   {
    "duration": 20,
    "start_time": "2022-03-28T21:15:48.446Z"
   },
   {
    "duration": 19,
    "start_time": "2022-03-28T21:15:48.468Z"
   },
   {
    "duration": 19,
    "start_time": "2022-03-28T21:15:48.489Z"
   },
   {
    "duration": 16,
    "start_time": "2022-03-28T21:15:48.532Z"
   },
   {
    "duration": 12,
    "start_time": "2022-03-28T21:15:48.549Z"
   },
   {
    "duration": 23,
    "start_time": "2022-03-28T21:15:48.562Z"
   },
   {
    "duration": 16,
    "start_time": "2022-03-28T21:15:48.587Z"
   },
   {
    "duration": 39,
    "start_time": "2022-03-28T21:15:48.605Z"
   },
   {
    "duration": 28,
    "start_time": "2022-03-28T21:15:48.645Z"
   },
   {
    "duration": 15,
    "start_time": "2022-03-28T21:15:48.675Z"
   },
   {
    "duration": 18,
    "start_time": "2022-03-28T21:15:48.691Z"
   },
   {
    "duration": 12,
    "start_time": "2022-03-28T21:15:48.732Z"
   },
   {
    "duration": 12,
    "start_time": "2022-03-28T21:15:48.746Z"
   },
   {
    "duration": 18,
    "start_time": "2022-03-28T21:15:48.760Z"
   },
   {
    "duration": 21,
    "start_time": "2022-03-28T21:15:48.780Z"
   },
   {
    "duration": 10,
    "start_time": "2022-03-28T21:15:48.802Z"
   },
   {
    "duration": 23,
    "start_time": "2022-03-28T21:15:48.814Z"
   },
   {
    "duration": 12,
    "start_time": "2022-03-28T21:15:48.838Z"
   },
   {
    "duration": 14,
    "start_time": "2022-03-28T21:15:48.852Z"
   },
   {
    "duration": 3,
    "start_time": "2022-03-28T21:15:48.868Z"
   },
   {
    "duration": 13,
    "start_time": "2022-03-28T21:15:48.873Z"
   },
   {
    "duration": 25,
    "start_time": "2022-03-28T21:15:48.887Z"
   },
   {
    "duration": 19,
    "start_time": "2022-03-28T21:15:48.914Z"
   },
   {
    "duration": 3,
    "start_time": "2022-03-28T21:15:48.935Z"
   },
   {
    "duration": 37,
    "start_time": "2022-03-28T21:15:48.939Z"
   },
   {
    "duration": 11,
    "start_time": "2022-03-28T21:15:48.978Z"
   },
   {
    "duration": 47,
    "start_time": "2022-03-28T21:15:48.990Z"
   },
   {
    "duration": 8,
    "start_time": "2022-03-28T21:15:49.039Z"
   },
   {
    "duration": 10,
    "start_time": "2022-03-28T21:15:49.048Z"
   },
   {
    "duration": 88,
    "start_time": "2022-03-28T21:15:49.060Z"
   },
   {
    "duration": 429,
    "start_time": "2022-03-28T21:20:06.983Z"
   },
   {
    "duration": 62,
    "start_time": "2022-03-28T21:20:07.414Z"
   },
   {
    "duration": 19,
    "start_time": "2022-03-28T21:20:07.478Z"
   },
   {
    "duration": 15,
    "start_time": "2022-03-28T21:20:07.498Z"
   },
   {
    "duration": 26,
    "start_time": "2022-03-28T21:20:07.515Z"
   },
   {
    "duration": 17,
    "start_time": "2022-03-28T21:20:07.543Z"
   },
   {
    "duration": 13,
    "start_time": "2022-03-28T21:20:07.561Z"
   },
   {
    "duration": 13,
    "start_time": "2022-03-28T21:20:07.576Z"
   },
   {
    "duration": 6,
    "start_time": "2022-03-28T21:20:07.590Z"
   },
   {
    "duration": 6,
    "start_time": "2022-03-28T21:20:07.633Z"
   },
   {
    "duration": 13,
    "start_time": "2022-03-28T21:20:07.641Z"
   },
   {
    "duration": 13,
    "start_time": "2022-03-28T21:20:07.656Z"
   },
   {
    "duration": 12,
    "start_time": "2022-03-28T21:20:07.670Z"
   },
   {
    "duration": 6,
    "start_time": "2022-03-28T21:20:07.684Z"
   },
   {
    "duration": 42,
    "start_time": "2022-03-28T21:20:07.692Z"
   },
   {
    "duration": 7,
    "start_time": "2022-03-28T21:20:07.735Z"
   },
   {
    "duration": 5,
    "start_time": "2022-03-28T21:20:07.743Z"
   },
   {
    "duration": 7,
    "start_time": "2022-03-28T21:20:07.750Z"
   },
   {
    "duration": 19,
    "start_time": "2022-03-28T21:20:07.759Z"
   },
   {
    "duration": 7,
    "start_time": "2022-03-28T21:20:07.780Z"
   },
   {
    "duration": 6,
    "start_time": "2022-03-28T21:20:07.789Z"
   },
   {
    "duration": 5,
    "start_time": "2022-03-28T21:20:07.797Z"
   },
   {
    "duration": 29,
    "start_time": "2022-03-28T21:20:07.804Z"
   },
   {
    "duration": 5,
    "start_time": "2022-03-28T21:20:07.835Z"
   },
   {
    "duration": 22,
    "start_time": "2022-03-28T21:20:07.841Z"
   },
   {
    "duration": 20,
    "start_time": "2022-03-28T21:20:07.865Z"
   },
   {
    "duration": 17,
    "start_time": "2022-03-28T21:20:07.886Z"
   },
   {
    "duration": 14,
    "start_time": "2022-03-28T21:20:07.932Z"
   },
   {
    "duration": 14,
    "start_time": "2022-03-28T21:20:07.948Z"
   },
   {
    "duration": 23,
    "start_time": "2022-03-28T21:20:07.964Z"
   },
   {
    "duration": 15,
    "start_time": "2022-03-28T21:20:07.989Z"
   },
   {
    "duration": 35,
    "start_time": "2022-03-28T21:20:08.006Z"
   },
   {
    "duration": 35,
    "start_time": "2022-03-28T21:20:08.042Z"
   },
   {
    "duration": 15,
    "start_time": "2022-03-28T21:20:08.079Z"
   },
   {
    "duration": 20,
    "start_time": "2022-03-28T21:20:08.096Z"
   },
   {
    "duration": 19,
    "start_time": "2022-03-28T21:20:08.118Z"
   },
   {
    "duration": 19,
    "start_time": "2022-03-28T21:20:08.139Z"
   },
   {
    "duration": 5,
    "start_time": "2022-03-28T21:20:08.161Z"
   },
   {
    "duration": 15,
    "start_time": "2022-03-28T21:20:08.168Z"
   },
   {
    "duration": 9,
    "start_time": "2022-03-28T21:20:08.185Z"
   },
   {
    "duration": 15,
    "start_time": "2022-03-28T21:20:08.196Z"
   },
   {
    "duration": 7,
    "start_time": "2022-03-28T21:20:08.232Z"
   },
   {
    "duration": 15,
    "start_time": "2022-03-28T21:20:08.241Z"
   },
   {
    "duration": 3,
    "start_time": "2022-03-28T21:20:08.257Z"
   },
   {
    "duration": 15,
    "start_time": "2022-03-28T21:20:08.262Z"
   },
   {
    "duration": 16,
    "start_time": "2022-03-28T21:20:08.278Z"
   },
   {
    "duration": 16,
    "start_time": "2022-03-28T21:20:08.296Z"
   },
   {
    "duration": 20,
    "start_time": "2022-03-28T21:20:08.314Z"
   },
   {
    "duration": 39,
    "start_time": "2022-03-28T21:20:08.336Z"
   },
   {
    "duration": 13,
    "start_time": "2022-03-28T21:20:08.378Z"
   },
   {
    "duration": 55,
    "start_time": "2022-03-28T21:20:08.393Z"
   },
   {
    "duration": 8,
    "start_time": "2022-03-28T21:20:08.449Z"
   },
   {
    "duration": 12,
    "start_time": "2022-03-28T21:20:08.458Z"
   },
   {
    "duration": 66,
    "start_time": "2022-03-28T21:25:54.889Z"
   },
   {
    "duration": 407,
    "start_time": "2022-03-28T21:26:45.462Z"
   },
   {
    "duration": 62,
    "start_time": "2022-03-28T21:26:45.871Z"
   },
   {
    "duration": 19,
    "start_time": "2022-03-28T21:26:45.934Z"
   },
   {
    "duration": 13,
    "start_time": "2022-03-28T21:26:45.955Z"
   },
   {
    "duration": 11,
    "start_time": "2022-03-28T21:26:45.970Z"
   },
   {
    "duration": 13,
    "start_time": "2022-03-28T21:26:45.983Z"
   },
   {
    "duration": 38,
    "start_time": "2022-03-28T21:26:45.998Z"
   },
   {
    "duration": 10,
    "start_time": "2022-03-28T21:26:46.038Z"
   },
   {
    "duration": 4,
    "start_time": "2022-03-28T21:26:46.050Z"
   },
   {
    "duration": 5,
    "start_time": "2022-03-28T21:26:46.057Z"
   },
   {
    "duration": 12,
    "start_time": "2022-03-28T21:26:46.063Z"
   },
   {
    "duration": 10,
    "start_time": "2022-03-28T21:26:46.077Z"
   },
   {
    "duration": 44,
    "start_time": "2022-03-28T21:26:46.089Z"
   },
   {
    "duration": 6,
    "start_time": "2022-03-28T21:26:46.134Z"
   },
   {
    "duration": 8,
    "start_time": "2022-03-28T21:26:46.142Z"
   },
   {
    "duration": 7,
    "start_time": "2022-03-28T21:26:46.151Z"
   },
   {
    "duration": 5,
    "start_time": "2022-03-28T21:26:46.159Z"
   },
   {
    "duration": 9,
    "start_time": "2022-03-28T21:26:46.166Z"
   },
   {
    "duration": 9,
    "start_time": "2022-03-28T21:26:46.177Z"
   },
   {
    "duration": 6,
    "start_time": "2022-03-28T21:26:46.188Z"
   },
   {
    "duration": 3,
    "start_time": "2022-03-28T21:26:46.196Z"
   },
   {
    "duration": 36,
    "start_time": "2022-03-28T21:26:46.200Z"
   },
   {
    "duration": 5,
    "start_time": "2022-03-28T21:26:46.237Z"
   },
   {
    "duration": 5,
    "start_time": "2022-03-28T21:26:46.244Z"
   },
   {
    "duration": 19,
    "start_time": "2022-03-28T21:26:46.250Z"
   },
   {
    "duration": 19,
    "start_time": "2022-03-28T21:26:46.270Z"
   },
   {
    "duration": 45,
    "start_time": "2022-03-28T21:26:46.291Z"
   },
   {
    "duration": 14,
    "start_time": "2022-03-28T21:26:46.340Z"
   },
   {
    "duration": 11,
    "start_time": "2022-03-28T21:26:46.356Z"
   },
   {
    "duration": 21,
    "start_time": "2022-03-28T21:26:46.368Z"
   },
   {
    "duration": 14,
    "start_time": "2022-03-28T21:26:46.391Z"
   },
   {
    "duration": 36,
    "start_time": "2022-03-28T21:26:46.407Z"
   },
   {
    "duration": 24,
    "start_time": "2022-03-28T21:26:46.445Z"
   },
   {
    "duration": 15,
    "start_time": "2022-03-28T21:26:46.471Z"
   },
   {
    "duration": 18,
    "start_time": "2022-03-28T21:26:46.487Z"
   },
   {
    "duration": 37,
    "start_time": "2022-03-28T21:26:46.507Z"
   },
   {
    "duration": 12,
    "start_time": "2022-03-28T21:26:46.546Z"
   },
   {
    "duration": 4,
    "start_time": "2022-03-28T21:26:46.560Z"
   },
   {
    "duration": 14,
    "start_time": "2022-03-28T21:26:46.566Z"
   },
   {
    "duration": 11,
    "start_time": "2022-03-28T21:26:46.582Z"
   },
   {
    "duration": 45,
    "start_time": "2022-03-28T21:26:46.594Z"
   },
   {
    "duration": 7,
    "start_time": "2022-03-28T21:26:46.642Z"
   },
   {
    "duration": 13,
    "start_time": "2022-03-28T21:26:46.650Z"
   },
   {
    "duration": 4,
    "start_time": "2022-03-28T21:26:46.664Z"
   },
   {
    "duration": 17,
    "start_time": "2022-03-28T21:26:46.669Z"
   },
   {
    "duration": 20,
    "start_time": "2022-03-28T21:26:46.688Z"
   },
   {
    "duration": 27,
    "start_time": "2022-03-28T21:26:46.709Z"
   },
   {
    "duration": 3,
    "start_time": "2022-03-28T21:26:46.738Z"
   },
   {
    "duration": 29,
    "start_time": "2022-03-28T21:26:46.742Z"
   },
   {
    "duration": 11,
    "start_time": "2022-03-28T21:26:46.772Z"
   },
   {
    "duration": 54,
    "start_time": "2022-03-28T21:26:46.785Z"
   },
   {
    "duration": 7,
    "start_time": "2022-03-28T21:26:46.841Z"
   },
   {
    "duration": 12,
    "start_time": "2022-03-28T21:26:46.849Z"
   },
   {
    "duration": 415,
    "start_time": "2022-03-28T21:29:42.650Z"
   },
   {
    "duration": 58,
    "start_time": "2022-03-28T21:29:43.067Z"
   },
   {
    "duration": 24,
    "start_time": "2022-03-28T21:29:43.126Z"
   },
   {
    "duration": 14,
    "start_time": "2022-03-28T21:29:43.152Z"
   },
   {
    "duration": 9,
    "start_time": "2022-03-28T21:29:43.168Z"
   },
   {
    "duration": 13,
    "start_time": "2022-03-28T21:29:43.178Z"
   },
   {
    "duration": 45,
    "start_time": "2022-03-28T21:29:43.193Z"
   },
   {
    "duration": 11,
    "start_time": "2022-03-28T21:29:43.240Z"
   },
   {
    "duration": 5,
    "start_time": "2022-03-28T21:29:43.253Z"
   },
   {
    "duration": 6,
    "start_time": "2022-03-28T21:29:43.261Z"
   },
   {
    "duration": 12,
    "start_time": "2022-03-28T21:29:43.269Z"
   },
   {
    "duration": 11,
    "start_time": "2022-03-28T21:29:43.283Z"
   },
   {
    "duration": 45,
    "start_time": "2022-03-28T21:29:43.296Z"
   },
   {
    "duration": 5,
    "start_time": "2022-03-28T21:29:43.342Z"
   },
   {
    "duration": 6,
    "start_time": "2022-03-28T21:29:43.349Z"
   },
   {
    "duration": 6,
    "start_time": "2022-03-28T21:29:43.357Z"
   },
   {
    "duration": 5,
    "start_time": "2022-03-28T21:29:43.365Z"
   },
   {
    "duration": 6,
    "start_time": "2022-03-28T21:29:43.372Z"
   },
   {
    "duration": 7,
    "start_time": "2022-03-28T21:29:43.380Z"
   },
   {
    "duration": 44,
    "start_time": "2022-03-28T21:29:43.389Z"
   },
   {
    "duration": 6,
    "start_time": "2022-03-28T21:29:43.434Z"
   },
   {
    "duration": 6,
    "start_time": "2022-03-28T21:29:43.442Z"
   },
   {
    "duration": 7,
    "start_time": "2022-03-28T21:29:43.449Z"
   },
   {
    "duration": 6,
    "start_time": "2022-03-28T21:29:43.458Z"
   },
   {
    "duration": 19,
    "start_time": "2022-03-28T21:29:43.466Z"
   },
   {
    "duration": 19,
    "start_time": "2022-03-28T21:29:43.486Z"
   },
   {
    "duration": 37,
    "start_time": "2022-03-28T21:29:43.506Z"
   },
   {
    "duration": 15,
    "start_time": "2022-03-28T21:29:43.546Z"
   },
   {
    "duration": 10,
    "start_time": "2022-03-28T21:29:43.563Z"
   },
   {
    "duration": 22,
    "start_time": "2022-03-28T21:29:43.575Z"
   },
   {
    "duration": 39,
    "start_time": "2022-03-28T21:29:43.599Z"
   },
   {
    "duration": 28,
    "start_time": "2022-03-28T21:29:43.640Z"
   },
   {
    "duration": 24,
    "start_time": "2022-03-28T21:29:43.669Z"
   },
   {
    "duration": 15,
    "start_time": "2022-03-28T21:29:43.694Z"
   },
   {
    "duration": 28,
    "start_time": "2022-03-28T21:29:43.710Z"
   },
   {
    "duration": 12,
    "start_time": "2022-03-28T21:29:43.739Z"
   },
   {
    "duration": 11,
    "start_time": "2022-03-28T21:29:43.752Z"
   },
   {
    "duration": 4,
    "start_time": "2022-03-28T21:29:43.765Z"
   },
   {
    "duration": 15,
    "start_time": "2022-03-28T21:29:43.771Z"
   },
   {
    "duration": 11,
    "start_time": "2022-03-28T21:29:43.788Z"
   },
   {
    "duration": 38,
    "start_time": "2022-03-28T21:29:43.800Z"
   },
   {
    "duration": 12,
    "start_time": "2022-03-28T21:29:43.839Z"
   },
   {
    "duration": 19,
    "start_time": "2022-03-28T21:29:43.852Z"
   },
   {
    "duration": 3,
    "start_time": "2022-03-28T21:29:43.873Z"
   },
   {
    "duration": 14,
    "start_time": "2022-03-28T21:29:43.878Z"
   },
   {
    "duration": 18,
    "start_time": "2022-03-28T21:29:43.893Z"
   },
   {
    "duration": 22,
    "start_time": "2022-03-28T21:29:43.912Z"
   },
   {
    "duration": 6,
    "start_time": "2022-03-28T21:29:43.936Z"
   },
   {
    "duration": 30,
    "start_time": "2022-03-28T21:29:43.943Z"
   },
   {
    "duration": 10,
    "start_time": "2022-03-28T21:29:43.975Z"
   },
   {
    "duration": 53,
    "start_time": "2022-03-28T21:29:43.987Z"
   },
   {
    "duration": 8,
    "start_time": "2022-03-28T21:29:44.041Z"
   },
   {
    "duration": 13,
    "start_time": "2022-03-28T21:29:44.050Z"
   },
   {
    "duration": 89,
    "start_time": "2022-03-29T12:20:10.118Z"
   }
  ],
  "kernelspec": {
   "display_name": "Python 3 (ipykernel)",
   "language": "python",
   "name": "python3"
  },
  "language_info": {
   "codemirror_mode": {
    "name": "ipython",
    "version": 3
   },
   "file_extension": ".py",
   "mimetype": "text/x-python",
   "name": "python",
   "nbconvert_exporter": "python",
   "pygments_lexer": "ipython3",
   "version": "3.9.7"
  },
  "toc": {
   "base_numbering": 1,
   "nav_menu": {},
   "number_sections": true,
   "sideBar": true,
   "skip_h1_title": true,
   "title_cell": "Table of Contents",
   "title_sidebar": "Contents",
   "toc_cell": false,
   "toc_position": {
    "height": "calc(100% - 180px)",
    "left": "10px",
    "top": "150px",
    "width": "286.237px"
   },
   "toc_section_display": true,
   "toc_window_display": false
  }
 },
 "nbformat": 4,
 "nbformat_minor": 5
}
