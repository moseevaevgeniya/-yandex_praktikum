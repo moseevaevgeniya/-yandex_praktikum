{
 "cells": [
  {
   "cell_type": "markdown",
   "metadata": {
    "id": "E0vqbgi9ay0H"
   },
   "source": [
    "# Яндекс.Музыка"
   ]
  },
  {
   "cell_type": "markdown",
   "metadata": {
    "id": "VUC88oWjTJw2"
   },
   "source": [
    "Сравнение Москвы и Петербурга окружено мифами. Например:\n",
    " * Москва — мегаполис, подчинённый жёсткому ритму рабочей недели;\n",
    " * Петербург — культурная столица, со своими вкусами.\n",
    "\n",
    "На данных Яндекс.Музыки мы будем стравнивать поведение пользователей двух столиц.\n",
    "\n",
    "**Цель исследования** — проверить три гипотезы:\n",
    "1. Активность пользователей зависит от дня недели. Причём в Москве и Петербурге это проявляется по-разному.\n",
    "2. В понедельник утром в Москве преобладают одни жанры, а в Петербурге — другие. Так же и вечером пятницы преобладают разные жанры — в зависимости от города. \n",
    "3. Москва и Петербург предпочитают разные жанры музыки. В Москве чаще слушают поп-музыку, в Петербурге — русский рэп.\n",
    "\n",
    "**Ход исследования**\n",
    "\n",
    "Данные о поведении пользователей мы получим из файла `yandex_music_project.csv`. О качестве данных ничего не известно. Поэтому перед проверкой гипотез понадобится обзор данных. \n",
    "\n",
    "Мы проверим данные на ошибки и оценим их влияние на исследование. Затем, на этапе предобработки мы поищем возможность исправить самые критичные ошибки данных.\n",
    " \n",
    "Таким образом, исследование пройдёт в три этапа:\n",
    " 1. Обзор данных.\n",
    " 2. Предобработка данных.\n",
    " 3. Проверка гипотез.\n",
    "\n"
   ]
  },
  {
   "cell_type": "markdown",
   "metadata": {
    "id": "Ml1hmfXC_Zcs"
   },
   "source": [
    "## Обзор данных\n",
    "\n",
    "Составим первое представление о данных Яндекс.Музыки.\n",
    "\n",
    "\n"
   ]
  },
  {
   "cell_type": "markdown",
   "metadata": {
    "id": "57eAOGIz_Zcs"
   },
   "source": [
    "Основной инструмент аналитика — `pandas`. Импортируем эту библиотеку."
   ]
  },
  {
   "cell_type": "code",
   "execution_count": 1,
   "metadata": {
    "id": "AXN7PHPN_Zcs"
   },
   "outputs": [],
   "source": [
    "import pandas as pd # импорт библиотеки pandas"
   ]
  },
  {
   "cell_type": "markdown",
   "metadata": {
    "id": "SG23P8tt_Zcs"
   },
   "source": [
    "Прочитаем файл `yandex_music_project.csv` из локального Jupyter Notebook и сохраним его в переменную `df`:"
   ]
  },
  {
   "cell_type": "code",
   "execution_count": 2,
   "metadata": {
    "id": "fFVu7vqh_Zct"
   },
   "outputs": [],
   "source": [
    "df = pd.read_csv('yandex_music_project.csv') # чтение файла с данными и сохранение в df"
   ]
  },
  {
   "cell_type": "markdown",
   "metadata": {
    "id": "rDoOMd3uTqnZ"
   },
   "source": [
    "Выведем на экран первые десять строк таблицы:"
   ]
  },
  {
   "cell_type": "code",
   "execution_count": 3,
   "metadata": {
    "id": "oWTVX3gW_Zct"
   },
   "outputs": [
    {
     "data": {
      "text/html": [
       "<div>\n",
       "<style scoped>\n",
       "    .dataframe tbody tr th:only-of-type {\n",
       "        vertical-align: middle;\n",
       "    }\n",
       "\n",
       "    .dataframe tbody tr th {\n",
       "        vertical-align: top;\n",
       "    }\n",
       "\n",
       "    .dataframe thead th {\n",
       "        text-align: right;\n",
       "    }\n",
       "</style>\n",
       "<table border=\"1\" class=\"dataframe\">\n",
       "  <thead>\n",
       "    <tr style=\"text-align: right;\">\n",
       "      <th></th>\n",
       "      <th>userID</th>\n",
       "      <th>Track</th>\n",
       "      <th>artist</th>\n",
       "      <th>genre</th>\n",
       "      <th>City</th>\n",
       "      <th>time</th>\n",
       "      <th>Day</th>\n",
       "    </tr>\n",
       "  </thead>\n",
       "  <tbody>\n",
       "    <tr>\n",
       "      <th>0</th>\n",
       "      <td>FFB692EC</td>\n",
       "      <td>Kamigata To Boots</td>\n",
       "      <td>The Mass Missile</td>\n",
       "      <td>rock</td>\n",
       "      <td>Saint-Petersburg</td>\n",
       "      <td>20:28:33</td>\n",
       "      <td>Wednesday</td>\n",
       "    </tr>\n",
       "    <tr>\n",
       "      <th>1</th>\n",
       "      <td>55204538</td>\n",
       "      <td>Delayed Because of Accident</td>\n",
       "      <td>Andreas Rönnberg</td>\n",
       "      <td>rock</td>\n",
       "      <td>Moscow</td>\n",
       "      <td>14:07:09</td>\n",
       "      <td>Friday</td>\n",
       "    </tr>\n",
       "    <tr>\n",
       "      <th>2</th>\n",
       "      <td>20EC38</td>\n",
       "      <td>Funiculì funiculà</td>\n",
       "      <td>Mario Lanza</td>\n",
       "      <td>pop</td>\n",
       "      <td>Saint-Petersburg</td>\n",
       "      <td>20:58:07</td>\n",
       "      <td>Wednesday</td>\n",
       "    </tr>\n",
       "    <tr>\n",
       "      <th>3</th>\n",
       "      <td>A3DD03C9</td>\n",
       "      <td>Dragons in the Sunset</td>\n",
       "      <td>Fire + Ice</td>\n",
       "      <td>folk</td>\n",
       "      <td>Saint-Petersburg</td>\n",
       "      <td>08:37:09</td>\n",
       "      <td>Monday</td>\n",
       "    </tr>\n",
       "    <tr>\n",
       "      <th>4</th>\n",
       "      <td>E2DC1FAE</td>\n",
       "      <td>Soul People</td>\n",
       "      <td>Space Echo</td>\n",
       "      <td>dance</td>\n",
       "      <td>Moscow</td>\n",
       "      <td>08:34:34</td>\n",
       "      <td>Monday</td>\n",
       "    </tr>\n",
       "    <tr>\n",
       "      <th>5</th>\n",
       "      <td>842029A1</td>\n",
       "      <td>Преданная</td>\n",
       "      <td>IMPERVTOR</td>\n",
       "      <td>rusrap</td>\n",
       "      <td>Saint-Petersburg</td>\n",
       "      <td>13:09:41</td>\n",
       "      <td>Friday</td>\n",
       "    </tr>\n",
       "    <tr>\n",
       "      <th>6</th>\n",
       "      <td>4CB90AA5</td>\n",
       "      <td>True</td>\n",
       "      <td>Roman Messer</td>\n",
       "      <td>dance</td>\n",
       "      <td>Moscow</td>\n",
       "      <td>13:00:07</td>\n",
       "      <td>Wednesday</td>\n",
       "    </tr>\n",
       "    <tr>\n",
       "      <th>7</th>\n",
       "      <td>F03E1C1F</td>\n",
       "      <td>Feeling This Way</td>\n",
       "      <td>Polina Griffith</td>\n",
       "      <td>dance</td>\n",
       "      <td>Moscow</td>\n",
       "      <td>20:47:49</td>\n",
       "      <td>Wednesday</td>\n",
       "    </tr>\n",
       "    <tr>\n",
       "      <th>8</th>\n",
       "      <td>8FA1D3BE</td>\n",
       "      <td>И вновь продолжается бой</td>\n",
       "      <td>NaN</td>\n",
       "      <td>ruspop</td>\n",
       "      <td>Moscow</td>\n",
       "      <td>09:17:40</td>\n",
       "      <td>Friday</td>\n",
       "    </tr>\n",
       "    <tr>\n",
       "      <th>9</th>\n",
       "      <td>E772D5C0</td>\n",
       "      <td>Pessimist</td>\n",
       "      <td>NaN</td>\n",
       "      <td>dance</td>\n",
       "      <td>Saint-Petersburg</td>\n",
       "      <td>21:20:49</td>\n",
       "      <td>Wednesday</td>\n",
       "    </tr>\n",
       "  </tbody>\n",
       "</table>\n",
       "</div>"
      ],
      "text/plain": [
       "     userID                        Track            artist   genre  \\\n",
       "0  FFB692EC            Kamigata To Boots  The Mass Missile    rock   \n",
       "1  55204538  Delayed Because of Accident  Andreas Rönnberg    rock   \n",
       "2    20EC38            Funiculì funiculà       Mario Lanza     pop   \n",
       "3  A3DD03C9        Dragons in the Sunset        Fire + Ice    folk   \n",
       "4  E2DC1FAE                  Soul People        Space Echo   dance   \n",
       "5  842029A1                    Преданная         IMPERVTOR  rusrap   \n",
       "6  4CB90AA5                         True      Roman Messer   dance   \n",
       "7  F03E1C1F             Feeling This Way   Polina Griffith   dance   \n",
       "8  8FA1D3BE     И вновь продолжается бой               NaN  ruspop   \n",
       "9  E772D5C0                    Pessimist               NaN   dance   \n",
       "\n",
       "             City        time        Day  \n",
       "0  Saint-Petersburg  20:28:33  Wednesday  \n",
       "1            Moscow  14:07:09     Friday  \n",
       "2  Saint-Petersburg  20:58:07  Wednesday  \n",
       "3  Saint-Petersburg  08:37:09     Monday  \n",
       "4            Moscow  08:34:34     Monday  \n",
       "5  Saint-Petersburg  13:09:41     Friday  \n",
       "6            Moscow  13:00:07  Wednesday  \n",
       "7            Moscow  20:47:49  Wednesday  \n",
       "8            Moscow  09:17:40     Friday  \n",
       "9  Saint-Petersburg  21:20:49  Wednesday  "
      ]
     },
     "execution_count": 3,
     "metadata": {},
     "output_type": "execute_result"
    }
   ],
   "source": [
    "df.head(10) #получение первых 10 строк таблицы "
   ]
  },
  {
   "cell_type": "markdown",
   "metadata": {
    "id": "EO73Kwic_Zct"
   },
   "source": [
    "Одной командой получим общую информацию о таблице:"
   ]
  },
  {
   "cell_type": "code",
   "execution_count": 4,
   "metadata": {
    "id": "DSf2kIb-_Zct"
   },
   "outputs": [
    {
     "name": "stdout",
     "output_type": "stream",
     "text": [
      "<class 'pandas.core.frame.DataFrame'>\n",
      "RangeIndex: 65079 entries, 0 to 65078\n",
      "Data columns (total 7 columns):\n",
      " #   Column    Non-Null Count  Dtype \n",
      "---  ------    --------------  ----- \n",
      " 0     userID  65079 non-null  object\n",
      " 1   Track     63848 non-null  object\n",
      " 2   artist    57876 non-null  object\n",
      " 3   genre     63881 non-null  object\n",
      " 4     City    65079 non-null  object\n",
      " 5   time      65079 non-null  object\n",
      " 6   Day       65079 non-null  object\n",
      "dtypes: object(7)\n",
      "memory usage: 3.5+ MB\n"
     ]
    }
   ],
   "source": [
    "df.info() # получение общей информации о данных в таблице df"
   ]
  },
  {
   "cell_type": "markdown",
   "metadata": {
    "id": "TaQ2Iwbr_Zct"
   },
   "source": [
    "Итак, в таблице семь столбцов. Тип данных во всех столбцах — `object`.\n",
    "\n",
    "Согласно документации к данным:\n",
    "* `userID` — идентификатор пользователя;\n",
    "* `Track` — название трека;  \n",
    "* `artist` — имя исполнителя;\n",
    "* `genre` — название жанра;\n",
    "* `City` — город пользователя;\n",
    "* `time` — время начала прослушивания;\n",
    "* `Day` — день недели.\n",
    "\n",
    "В названиях колонок видны три нарушения стиля:\n",
    "1. Строчные буквы сочетаются с прописными.\n",
    "2. Встречаются пробелы.\n",
    "3. Найдите ещё одну проблему в названии колонок и опишите её в этом пункте.\n",
    "\n",
    "\n",
    "\n",
    "Количество значений в столбцах различается. Значит, в данных есть пропущенные значения.\n"
   ]
  },
  {
   "cell_type": "markdown",
   "metadata": {
    "id": "MCB6-dXG_Zct"
   },
   "source": [
    "**Выводы**\n",
    "\n",
    "В каждой строке таблицы — данные о прослушанном треке. Часть колонок описывает саму композицию: название, исполнителя и жанр. Остальные данные рассказывают о пользователе: из какого он города, когда он слушал музыку. \n",
    "\n",
    "Предварительно можно утверждать, что, данных достаточно для проверки гипотез. Но встречаются пропуски в данных, а в названиях колонок — расхождения с хорошим стилем.\n",
    "\n",
    "Чтобы двигаться дальше, нужно устранить проблемы в данных."
   ]
  },
  {
   "cell_type": "markdown",
   "metadata": {
    "id": "SjYF6Ub9_Zct"
   },
   "source": [
    "## Предобработка данных\n",
    "Исправим стиль в заголовках столбцов, исключите пропуски. Затем проверьте данные на дубликаты."
   ]
  },
  {
   "cell_type": "markdown",
   "metadata": {
    "id": "dIaKXr29_Zct"
   },
   "source": [
    "### Стиль заголовков\n",
    "Выведем на экран названия столбцов:"
   ]
  },
  {
   "cell_type": "code",
   "execution_count": 5,
   "metadata": {
    "id": "oKOTdF_Q_Zct"
   },
   "outputs": [
    {
     "data": {
      "text/plain": [
       "Index(['  userID', 'Track', 'artist', 'genre', '  City  ', 'time', 'Day'], dtype='object')"
      ]
     },
     "execution_count": 5,
     "metadata": {},
     "output_type": "execute_result"
    }
   ],
   "source": [
    "df.columns # перечень названий столбцов таблицы df"
   ]
  },
  {
   "cell_type": "markdown",
   "metadata": {
    "id": "zj5534cv_Zct"
   },
   "source": [
    "Приведем названия в соответствие с хорошим стилем:\n",
    "* несколько слов в названии запишем в «змеином_регистре»,\n",
    "* все символы сделаем строчными,\n",
    "* устраним пробелы.\n",
    "\n",
    "Для этого переименуем колонки так:\n",
    "* `'  userID'` → `'user_id'`;\n",
    "* `'Track'` → `'track'`;\n",
    "* `'  City  '` → `'city'`;\n",
    "* `'Day'` → `'day'`."
   ]
  },
  {
   "cell_type": "code",
   "execution_count": 6,
   "metadata": {
    "id": "ISlFqs5y_Zct"
   },
   "outputs": [],
   "source": [
    "df = df.rename(columns = {'  userID': 'user_id', 'Track': 'track', '  City  ':'city', 'Day': 'day'}) # переименование столбцов"
   ]
  },
  {
   "cell_type": "markdown",
   "metadata": {
    "id": "1dqbh00J_Zct"
   },
   "source": [
    "Проверим результат. Для этого ещё раз выведем на экран названия столбцов:\n"
   ]
  },
  {
   "cell_type": "code",
   "execution_count": 7,
   "metadata": {
    "id": "d4NOAmTW_Zct"
   },
   "outputs": [
    {
     "data": {
      "text/plain": [
       "Index(['user_id', 'track', 'artist', 'genre', 'city', 'time', 'day'], dtype='object')"
      ]
     },
     "execution_count": 7,
     "metadata": {},
     "output_type": "execute_result"
    }
   ],
   "source": [
    "df.columns # проверка результатов - перечень названий столбцов"
   ]
  },
  {
   "cell_type": "markdown",
   "metadata": {
    "id": "5ISfbcfY_Zct"
   },
   "source": [
    "### Пропуски значений\n",
    "Сначала посчитаем, сколько в таблице пропущенных значений. Для этого достаточно двух методов `pandas`:"
   ]
  },
  {
   "cell_type": "code",
   "execution_count": 8,
   "metadata": {
    "id": "RskX29qr_Zct"
   },
   "outputs": [
    {
     "data": {
      "text/plain": [
       "user_id       0\n",
       "track      1231\n",
       "artist     7203\n",
       "genre      1198\n",
       "city          0\n",
       "time          0\n",
       "day           0\n",
       "dtype: int64"
      ]
     },
     "execution_count": 8,
     "metadata": {},
     "output_type": "execute_result"
    }
   ],
   "source": [
    "df.isna().sum() # подсчёт пропусков"
   ]
  },
  {
   "cell_type": "markdown",
   "metadata": {
    "id": "qubhgnlO_Zct"
   },
   "source": [
    "Не все пропущенные значения влияют на исследование. Так в `track` и `artist` пропуски не важны для нашей работы. Достаточно заменить их явными обозначениями.\n",
    "\n",
    "Но пропуски в `genre` могут помешать сравнению музыкальных вкусов в Москве и Санкт-Петербурге. На практике было бы правильно установить причину пропусков и восстановить данные. Такой возможности нет в учебном проекте. Придётся:\n",
    "* заполнить и эти пропуски явными обозначениями,\n",
    "* оценить, насколько они повредят расчётам. "
   ]
  },
  {
   "cell_type": "markdown",
   "metadata": {
    "id": "fSv2laPA_Zct"
   },
   "source": [
    "Заменим пропущенные значения в столбцах `track`, `artist` и `genre` на строку `'unknown'`. Для этого создим список `columns_to_replace`, переберите его элементы циклом `for` и для каждого столбца выполните замену пропущенных значений:"
   ]
  },
  {
   "cell_type": "code",
   "execution_count": 9,
   "metadata": {
    "id": "KplB5qWs_Zct"
   },
   "outputs": [],
   "source": [
    "# перебор названий столбцов в цикле и замена пропущенных значений на 'unknown'\n",
    "columns_to_replace = ['track', 'artist', 'genre']\n",
    "for column in columns_to_replace:\n",
    "    df[column] = df[column].fillna('unknown') "
   ]
  },
  {
   "cell_type": "markdown",
   "metadata": {
    "id": "Ilsm-MZo_Zct"
   },
   "source": [
    "Убедимся, что в таблице не осталось пропусков. Для этого ещё раз посчитаем пропущенные значения."
   ]
  },
  {
   "cell_type": "code",
   "execution_count": 10,
   "metadata": {
    "id": "Tq4nYRX4_Zct"
   },
   "outputs": [
    {
     "data": {
      "text/plain": [
       "user_id    0\n",
       "track      0\n",
       "artist     0\n",
       "genre      0\n",
       "city       0\n",
       "time       0\n",
       "day        0\n",
       "dtype: int64"
      ]
     },
     "execution_count": 10,
     "metadata": {},
     "output_type": "execute_result"
    }
   ],
   "source": [
    "df.isna().sum() # подсчёт пропусков"
   ]
  },
  {
   "cell_type": "markdown",
   "metadata": {
    "id": "BWKRtBJ3_Zct"
   },
   "source": [
    "### Дубликаты\n",
    "Посчитаем явные дубликаты в таблице одной командой:"
   ]
  },
  {
   "cell_type": "code",
   "execution_count": 11,
   "metadata": {
    "id": "36eES_S0_Zct"
   },
   "outputs": [
    {
     "data": {
      "text/plain": [
       "3826"
      ]
     },
     "execution_count": 11,
     "metadata": {},
     "output_type": "execute_result"
    }
   ],
   "source": [
    "df.duplicated().sum() # подсчёт явных дубликатов"
   ]
  },
  {
   "cell_type": "markdown",
   "metadata": {},
   "source": [
    "У нас получилось 3826 дубликатов."
   ]
  },
  {
   "cell_type": "markdown",
   "metadata": {
    "id": "Ot25h6XR_Zct"
   },
   "source": [
    "Вызовим специальный метод `pandas`, чтобы удалить явные дубликаты:"
   ]
  },
  {
   "cell_type": "code",
   "execution_count": 12,
   "metadata": {
    "id": "exFHq6tt_Zct"
   },
   "outputs": [],
   "source": [
    "# удаление явных дубликатов (с удалением старых индексов и формированием новых)\n",
    "df = df.drop_duplicates().reset_index(drop=True) "
   ]
  },
  {
   "cell_type": "markdown",
   "metadata": {
    "id": "Im2YwBEG_Zct"
   },
   "source": [
    "Ещё раз посчитаем явные дубликаты в таблице — убедимся, что полностью от них избавились:"
   ]
  },
  {
   "cell_type": "code",
   "execution_count": 13,
   "metadata": {
    "id": "-8PuNWQ0_Zct"
   },
   "outputs": [
    {
     "data": {
      "text/plain": [
       "0"
      ]
     },
     "execution_count": 13,
     "metadata": {},
     "output_type": "execute_result"
    }
   ],
   "source": [
    "df.duplicated().sum() # проверка на отсутствие дубликатов"
   ]
  },
  {
   "cell_type": "markdown",
   "metadata": {},
   "source": [
    "Всё отлично!  Дубликатов нет!"
   ]
  },
  {
   "cell_type": "markdown",
   "metadata": {
    "id": "QlFBsxAr_Zct"
   },
   "source": [
    "Теперь избавимся от неявных дубликатов в колонке `genre`. Например, название одного и того же жанра может быть записано немного по-разному. Такие ошибки тоже повлияют на результат исследования."
   ]
  },
  {
   "cell_type": "markdown",
   "metadata": {
    "id": "eSjWwsOh_Zct"
   },
   "source": [
    "Выведим на экран список уникальных названий жанров, отсортированный в алфавитном порядке. Для этого:\n",
    "* извлечём нужный столбец датафрейма, \n",
    "* применим к нему метод сортировки,\n",
    "* для отсортированного столбца вызовим метод, который вернёт уникальные значения из столбца."
   ]
  },
  {
   "cell_type": "code",
   "execution_count": 14,
   "metadata": {
    "id": "JIUcqzZN_Zct"
   },
   "outputs": [
    {
     "data": {
      "text/plain": [
       "array(['acid', 'acoustic', 'action', 'adult', 'africa', 'afrikaans',\n",
       "       'alternative', 'alternativepunk', 'ambient', 'americana',\n",
       "       'animated', 'anime', 'arabesk', 'arabic', 'arena',\n",
       "       'argentinetango', 'art', 'audiobook', 'author', 'avantgarde',\n",
       "       'axé', 'baile', 'balkan', 'beats', 'bigroom', 'black', 'bluegrass',\n",
       "       'blues', 'bollywood', 'bossa', 'brazilian', 'breakbeat', 'breaks',\n",
       "       'broadway', 'cantautori', 'cantopop', 'canzone', 'caribbean',\n",
       "       'caucasian', 'celtic', 'chamber', 'chanson', 'children', 'chill',\n",
       "       'chinese', 'choral', 'christian', 'christmas', 'classical',\n",
       "       'classicmetal', 'club', 'colombian', 'comedy', 'conjazz',\n",
       "       'contemporary', 'country', 'cuban', 'dance', 'dancehall',\n",
       "       'dancepop', 'dark', 'death', 'deep', 'deutschrock', 'deutschspr',\n",
       "       'dirty', 'disco', 'dnb', 'documentary', 'downbeat', 'downtempo',\n",
       "       'drum', 'dub', 'dubstep', 'eastern', 'easy', 'electronic',\n",
       "       'electropop', 'emo', 'entehno', 'epicmetal', 'estrada', 'ethnic',\n",
       "       'eurofolk', 'european', 'experimental', 'extrememetal', 'fado',\n",
       "       'fairytail', 'film', 'fitness', 'flamenco', 'folk', 'folklore',\n",
       "       'folkmetal', 'folkrock', 'folktronica', 'forró', 'frankreich',\n",
       "       'französisch', 'french', 'funk', 'future', 'gangsta', 'garage',\n",
       "       'german', 'ghazal', 'gitarre', 'glitch', 'gospel', 'gothic',\n",
       "       'grime', 'grunge', 'gypsy', 'handsup', \"hard'n'heavy\", 'hardcore',\n",
       "       'hardstyle', 'hardtechno', 'hip', 'hip-hop', 'hiphop',\n",
       "       'historisch', 'holiday', 'hop', 'horror', 'house', 'hymn', 'idm',\n",
       "       'independent', 'indian', 'indie', 'indipop', 'industrial',\n",
       "       'inspirational', 'instrumental', 'international', 'irish', 'jam',\n",
       "       'japanese', 'jazz', 'jewish', 'jpop', 'jungle', 'k-pop',\n",
       "       'karadeniz', 'karaoke', 'kayokyoku', 'korean', 'laiko', 'latin',\n",
       "       'latino', 'leftfield', 'local', 'lounge', 'loungeelectronic',\n",
       "       'lovers', 'malaysian', 'mandopop', 'marschmusik', 'meditative',\n",
       "       'mediterranean', 'melodic', 'metal', 'metalcore', 'mexican',\n",
       "       'middle', 'minimal', 'miscellaneous', 'modern', 'mood', 'mpb',\n",
       "       'muslim', 'native', 'neoklassik', 'neue', 'new', 'newage',\n",
       "       'newwave', 'nu', 'nujazz', 'numetal', 'oceania', 'old', 'opera',\n",
       "       'orchestral', 'other', 'piano', 'podcasts', 'pop', 'popdance',\n",
       "       'popelectronic', 'popeurodance', 'poprussian', 'post',\n",
       "       'posthardcore', 'postrock', 'power', 'progmetal', 'progressive',\n",
       "       'psychedelic', 'punjabi', 'punk', 'quebecois', 'ragga', 'ram',\n",
       "       'rancheras', 'rap', 'rave', 'reggae', 'reggaeton', 'regional',\n",
       "       'relax', 'religious', 'retro', 'rhythm', 'rnb', 'rnr', 'rock',\n",
       "       'rockabilly', 'rockalternative', 'rockindie', 'rockother',\n",
       "       'romance', 'roots', 'ruspop', 'rusrap', 'rusrock', 'russian',\n",
       "       'salsa', 'samba', 'scenic', 'schlager', 'self', 'sertanejo',\n",
       "       'shanson', 'shoegazing', 'showtunes', 'singer', 'ska', 'skarock',\n",
       "       'slow', 'smooth', 'soft', 'soul', 'soulful', 'sound', 'soundtrack',\n",
       "       'southern', 'specialty', 'speech', 'spiritual', 'sport',\n",
       "       'stonerrock', 'surf', 'swing', 'synthpop', 'synthrock',\n",
       "       'sängerportrait', 'tango', 'tanzorchester', 'taraftar', 'tatar',\n",
       "       'tech', 'techno', 'teen', 'thrash', 'top', 'traditional',\n",
       "       'tradjazz', 'trance', 'tribal', 'trip', 'triphop', 'tropical',\n",
       "       'türk', 'türkçe', 'ukrrock', 'unknown', 'urban', 'uzbek',\n",
       "       'variété', 'vi', 'videogame', 'vocal', 'western', 'world',\n",
       "       'worldbeat', 'ïîï', 'электроника'], dtype=object)"
      ]
     },
     "execution_count": 14,
     "metadata": {},
     "output_type": "execute_result"
    }
   ],
   "source": [
    "df['genre'].sort_values().unique()# Просмотр уникальных названий жанров"
   ]
  },
  {
   "cell_type": "markdown",
   "metadata": {
    "id": "qej-Qmuo_Zct"
   },
   "source": [
    "Просмотрим список и найдём неявные дубликаты названия `hiphop`. Это могут быть названия с ошибками или альтернативные названия того же жанра.\n",
    "\n",
    "Мы увидели следующие неявные дубликаты:\n",
    "* *hip*,\n",
    "* *hop*,\n",
    "* *hip-hop*.\n",
    "\n",
    "Чтобы очистить от них таблицу, напишем функцию `replace_wrong_genres()` с двумя параметрами: \n",
    "* `wrong_genres` — список дубликатов,\n",
    "* `correct_genre` — строка с правильным значением.\n",
    "\n",
    "Функция должна исправить колонку `genre` в таблице `df`: заменим каждое значение из списка `wrong_genres` на значение из `correct_genre`."
   ]
  },
  {
   "cell_type": "code",
   "execution_count": 15,
   "metadata": {
    "id": "ErNDkmns_Zct"
   },
   "outputs": [],
   "source": [
    "def replace_wrong_genres(wrong_genres, correct_genre): # на вход функции подаются список неправильных значений и строка с правильным значением\n",
    "    for wrong_genre in wrong_genres: # перебираем неправильные имена\n",
    "        df['genre'] = df['genre'].replace(wrong_genre, correct_genre) # и для каждого неправильного имени вызываем метод replace()"
   ]
  },
  {
   "cell_type": "markdown",
   "metadata": {
    "id": "aDoBJxbA_Zct"
   },
   "source": [
    "Вызовем `replace_wrong_genres()` и передадим ей такие аргументы, чтобы она устранила неявные дубликаты: вместо `hip`, `hop` и `hip-hop` в таблице должно быть значение `hiphop`:"
   ]
  },
  {
   "cell_type": "code",
   "execution_count": 16,
   "metadata": {
    "id": "YN5i2hpmSo09"
   },
   "outputs": [],
   "source": [
    "duplicates = ['hip', 'hop', 'hip-hop'] # список неправильных имён\n",
    "name = 'hiphop' # правильное имя\n",
    "replace_wrong_genres(duplicates, name) # вызов функции, replace() внутри будет вызван 3 раза\n",
    "# Устранение неявных дубликатов"
   ]
  },
  {
   "cell_type": "markdown",
   "metadata": {
    "id": "zQKF16_RG15m"
   },
   "source": [
    "Проверим, что заменили неправильные названия:\n",
    "\n",
    "*   hip\n",
    "*   hop\n",
    "*   hip-hop\n",
    "\n",
    "Выведем отсортированный список уникальных значений столбца `genre`:"
   ]
  },
  {
   "cell_type": "code",
   "execution_count": 17,
   "metadata": {
    "id": "wvixALnFG15m"
   },
   "outputs": [
    {
     "data": {
      "text/plain": [
       "array(['acid', 'acoustic', 'action', 'adult', 'africa', 'afrikaans',\n",
       "       'alternative', 'alternativepunk', 'ambient', 'americana',\n",
       "       'animated', 'anime', 'arabesk', 'arabic', 'arena',\n",
       "       'argentinetango', 'art', 'audiobook', 'author', 'avantgarde',\n",
       "       'axé', 'baile', 'balkan', 'beats', 'bigroom', 'black', 'bluegrass',\n",
       "       'blues', 'bollywood', 'bossa', 'brazilian', 'breakbeat', 'breaks',\n",
       "       'broadway', 'cantautori', 'cantopop', 'canzone', 'caribbean',\n",
       "       'caucasian', 'celtic', 'chamber', 'chanson', 'children', 'chill',\n",
       "       'chinese', 'choral', 'christian', 'christmas', 'classical',\n",
       "       'classicmetal', 'club', 'colombian', 'comedy', 'conjazz',\n",
       "       'contemporary', 'country', 'cuban', 'dance', 'dancehall',\n",
       "       'dancepop', 'dark', 'death', 'deep', 'deutschrock', 'deutschspr',\n",
       "       'dirty', 'disco', 'dnb', 'documentary', 'downbeat', 'downtempo',\n",
       "       'drum', 'dub', 'dubstep', 'eastern', 'easy', 'electronic',\n",
       "       'electropop', 'emo', 'entehno', 'epicmetal', 'estrada', 'ethnic',\n",
       "       'eurofolk', 'european', 'experimental', 'extrememetal', 'fado',\n",
       "       'fairytail', 'film', 'fitness', 'flamenco', 'folk', 'folklore',\n",
       "       'folkmetal', 'folkrock', 'folktronica', 'forró', 'frankreich',\n",
       "       'französisch', 'french', 'funk', 'future', 'gangsta', 'garage',\n",
       "       'german', 'ghazal', 'gitarre', 'glitch', 'gospel', 'gothic',\n",
       "       'grime', 'grunge', 'gypsy', 'handsup', \"hard'n'heavy\", 'hardcore',\n",
       "       'hardstyle', 'hardtechno', 'hiphop', 'historisch', 'holiday',\n",
       "       'horror', 'house', 'hymn', 'idm', 'independent', 'indian', 'indie',\n",
       "       'indipop', 'industrial', 'inspirational', 'instrumental',\n",
       "       'international', 'irish', 'jam', 'japanese', 'jazz', 'jewish',\n",
       "       'jpop', 'jungle', 'k-pop', 'karadeniz', 'karaoke', 'kayokyoku',\n",
       "       'korean', 'laiko', 'latin', 'latino', 'leftfield', 'local',\n",
       "       'lounge', 'loungeelectronic', 'lovers', 'malaysian', 'mandopop',\n",
       "       'marschmusik', 'meditative', 'mediterranean', 'melodic', 'metal',\n",
       "       'metalcore', 'mexican', 'middle', 'minimal', 'miscellaneous',\n",
       "       'modern', 'mood', 'mpb', 'muslim', 'native', 'neoklassik', 'neue',\n",
       "       'new', 'newage', 'newwave', 'nu', 'nujazz', 'numetal', 'oceania',\n",
       "       'old', 'opera', 'orchestral', 'other', 'piano', 'podcasts', 'pop',\n",
       "       'popdance', 'popelectronic', 'popeurodance', 'poprussian', 'post',\n",
       "       'posthardcore', 'postrock', 'power', 'progmetal', 'progressive',\n",
       "       'psychedelic', 'punjabi', 'punk', 'quebecois', 'ragga', 'ram',\n",
       "       'rancheras', 'rap', 'rave', 'reggae', 'reggaeton', 'regional',\n",
       "       'relax', 'religious', 'retro', 'rhythm', 'rnb', 'rnr', 'rock',\n",
       "       'rockabilly', 'rockalternative', 'rockindie', 'rockother',\n",
       "       'romance', 'roots', 'ruspop', 'rusrap', 'rusrock', 'russian',\n",
       "       'salsa', 'samba', 'scenic', 'schlager', 'self', 'sertanejo',\n",
       "       'shanson', 'shoegazing', 'showtunes', 'singer', 'ska', 'skarock',\n",
       "       'slow', 'smooth', 'soft', 'soul', 'soulful', 'sound', 'soundtrack',\n",
       "       'southern', 'specialty', 'speech', 'spiritual', 'sport',\n",
       "       'stonerrock', 'surf', 'swing', 'synthpop', 'synthrock',\n",
       "       'sängerportrait', 'tango', 'tanzorchester', 'taraftar', 'tatar',\n",
       "       'tech', 'techno', 'teen', 'thrash', 'top', 'traditional',\n",
       "       'tradjazz', 'trance', 'tribal', 'trip', 'triphop', 'tropical',\n",
       "       'türk', 'türkçe', 'ukrrock', 'unknown', 'urban', 'uzbek',\n",
       "       'variété', 'vi', 'videogame', 'vocal', 'western', 'world',\n",
       "       'worldbeat', 'ïîï', 'электроника'], dtype=object)"
      ]
     },
     "execution_count": 17,
     "metadata": {},
     "output_type": "execute_result"
    }
   ],
   "source": [
    "df['genre'].sort_values().unique()  # датафрейм изменился, неявные дубликаты устранены \n",
    "# Проверка на неявные дубликаты"
   ]
  },
  {
   "cell_type": "markdown",
   "metadata": {
    "id": "jz6a9-7HQUDd"
   },
   "source": [
    "**Выводы**\n",
    "\n",
    "Предобработка обнаружила три проблемы в данных:\n",
    "\n",
    "- нарушения в стиле заголовков,\n",
    "- пропущенные значения,\n",
    "- дубликаты — явные и неявные.\n",
    "\n",
    "Мы исправили заголовки, чтобы упростить работу с таблицей. Без дубликатов исследование станет более точным.\n",
    "\n",
    "Пропущенные значения мы заменили на `'unknown'`. Ещё предстоит увидеть, не повредят ли исследованию пропуски в колонке `genre`.\n",
    "\n",
    "Теперь можно перейти к проверке гипотез. "
   ]
  },
  {
   "cell_type": "markdown",
   "metadata": {
    "id": "WttZHXH0SqKk"
   },
   "source": [
    "## Проверка гипотез"
   ]
  },
  {
   "cell_type": "markdown",
   "metadata": {
    "id": "Im936VVi_Zcu"
   },
   "source": [
    "### Сравнение поведения пользователей двух столиц"
   ]
  },
  {
   "cell_type": "markdown",
   "metadata": {
    "id": "nwt_MuaL_Zcu"
   },
   "source": [
    "Первая гипотеза утверждает, что пользователи по-разному слушают музыку в Москве и Санкт-Петербурге. Проверим это предположение по данным о трёх днях недели — понедельнике, среде и пятнице. Для этого:\n",
    "\n",
    "* Разделим пользователей Москвы и Санкт-Петербурга\n",
    "* Сравним, сколько треков послушала каждая группа пользователей в понедельник, среду и пятницу.\n"
   ]
  },
  {
   "cell_type": "markdown",
   "metadata": {
    "id": "8Dw_YMmT_Zcu"
   },
   "source": [
    "Для тренировки сначала выполним каждый из расчётов по отдельности. \n",
    "\n",
    "Оценим активность пользователей в каждом городе. Сгруппируем данные по городу и посчитаем прослушивания в каждой группе.\n",
    "\n"
   ]
  },
  {
   "cell_type": "code",
   "execution_count": 18,
   "metadata": {
    "id": "0_Qs96oh_Zcu"
   },
   "outputs": [
    {
     "data": {
      "text/plain": [
       "city\n",
       "Moscow              42741\n",
       "Saint-Petersburg    18512\n",
       "Name: user_id, dtype: int64"
      ]
     },
     "execution_count": 18,
     "metadata": {},
     "output_type": "execute_result"
    }
   ],
   "source": [
    "df.groupby('city')['user_id'].count() # Подсчёт прослушиваний в каждом городе"
   ]
  },
  {
   "cell_type": "markdown",
   "metadata": {
    "id": "dzli3w8o_Zcu"
   },
   "source": [
    "В Москве прослушиваний больше, чем в Петербурге. Из этого не следует, что московские пользователи чаще слушают музыку. Просто самих пользователей в Москве больше.\n",
    "\n",
    "Теперь сгруппируйте данные по дню недели и подсчитаем прослушивания в понедельник, среду и пятницу. Учтём, что в данных есть информация только о прослушиваниях только за эти дни.\n"
   ]
  },
  {
   "cell_type": "code",
   "execution_count": 19,
   "metadata": {
    "id": "uZMKjiJz_Zcu"
   },
   "outputs": [
    {
     "data": {
      "text/plain": [
       "day\n",
       "Friday       21840\n",
       "Monday       21354\n",
       "Wednesday    18059\n",
       "Name: day, dtype: int64"
      ]
     },
     "execution_count": 19,
     "metadata": {},
     "output_type": "execute_result"
    }
   ],
   "source": [
    "df.groupby('day')['day'].count() # Подсчёт прослушиваний в каждый из трёх дней"
   ]
  },
  {
   "cell_type": "markdown",
   "metadata": {
    "id": "cC2tNrlL_Zcu"
   },
   "source": [
    "В среднем пользователи из двух городов менее активны по средам. Но картина может измениться, если рассмотреть каждый город в отдельности."
   ]
  },
  {
   "cell_type": "markdown",
   "metadata": {
    "id": "POzs8bGa_Zcu"
   },
   "source": [
    "Мы видели, как работает группировка по городу и по дням недели. Теперь напишем функцию, которая объединит два эти расчёта.\n",
    "\n",
    "Создадим функцию `number_tracks()`, которая посчитает прослушивания для заданного дня и города. Ей понадобятся два параметра:\n",
    "* день недели,\n",
    "* название города.\n",
    "\n",
    "В функции сохраним в переменную строки исходной таблицы, у которых значение:\n",
    "  * в колонке `day` равно параметру `day`,\n",
    "  * в колонке `city` равно параметру `city`.\n",
    "\n",
    "Для этого применим последовательную фильтрацию с логической индексацией.\n",
    "\n",
    "Затем посчитаем значения в столбце `user_id` получившейся таблицы. Результат сохраним в новую переменную. Вернём эту переменную из функции."
   ]
  },
  {
   "cell_type": "code",
   "execution_count": 20,
   "metadata": {
    "id": "Nz3GdQB1_Zcu"
   },
   "outputs": [],
   "source": [
    "# <создание функции number_tracks()>\n",
    "def number_tracks(day,city): # Объявляется функция с двумя параметрами: day, city.\n",
    "# В переменной track_list сохраняются те строки таблицы df, для которых \n",
    "# значение в столбце 'day' равно параметру day и одновременно значение\n",
    "# в столбце 'city' равно параметру city (используйте последовательную фильтрацию\n",
    "# с помощью логической индексации).\n",
    "    track_list = df[(df['day'] == day)&(df['city'] == city)]\n",
    "# В переменной track_list_count сохраняется число значений столбца 'user_id',\n",
    "# рассчитанное методом count() для таблицы track_list.\n",
    "    track_list_count = track_list['user_id'].count() \n",
    "    return track_list_count # Функция возвращает число - значение track_list_count.\n",
    "\n",
    "# Функция для подсчёта прослушиваний для конкретного города и дня.\n",
    "# С помощью последовательной фильтрации с логической индексацией она \n",
    "# сначала получит из исходной таблицы строки с нужным днём,\n",
    "# затем из результата отфильтрует строки с нужным городом,\n",
    "# методом count() посчитает количество значений в колонке user_id. \n",
    "# Это количество функция вернёт в качестве результата\n"
   ]
  },
  {
   "cell_type": "markdown",
   "metadata": {
    "id": "ytf7xFrFJQ2r"
   },
   "source": [
    "Вызовем `number_tracks()` шесть раз, меняя значение параметров — так, чтобы получить данные для каждого города в каждый из трёх дней.\n"
   ]
  },
  {
   "cell_type": "code",
   "execution_count": 21,
   "metadata": {
    "id": "rJcRATNQ_Zcu"
   },
   "outputs": [
    {
     "data": {
      "text/plain": [
       "15740"
      ]
     },
     "execution_count": 21,
     "metadata": {},
     "output_type": "execute_result"
    }
   ],
   "source": [
    "number_tracks('Monday','Moscow') # количество прослушиваний в Москве по понедельникам"
   ]
  },
  {
   "cell_type": "code",
   "execution_count": 22,
   "metadata": {
    "id": "hq_ncZ5T_Zcu"
   },
   "outputs": [
    {
     "data": {
      "text/plain": [
       "5614"
      ]
     },
     "execution_count": 22,
     "metadata": {},
     "output_type": "execute_result"
    }
   ],
   "source": [
    "number_tracks('Monday','Saint-Petersburg') # количество прослушиваний в Санкт-Петербурге по понедельникам"
   ]
  },
  {
   "cell_type": "code",
   "execution_count": 23,
   "metadata": {
    "id": "_NTy2VPU_Zcu"
   },
   "outputs": [
    {
     "data": {
      "text/plain": [
       "11056"
      ]
     },
     "execution_count": 23,
     "metadata": {},
     "output_type": "execute_result"
    }
   ],
   "source": [
    "number_tracks('Wednesday','Moscow') # количество прослушиваний в Москве по средам"
   ]
  },
  {
   "cell_type": "code",
   "execution_count": 24,
   "metadata": {
    "id": "j2y3TAwo_Zcu"
   },
   "outputs": [
    {
     "data": {
      "text/plain": [
       "7003"
      ]
     },
     "execution_count": 24,
     "metadata": {},
     "output_type": "execute_result"
    }
   ],
   "source": [
    "number_tracks('Wednesday','Saint-Petersburg') # количество прослушиваний в Санкт-Петербурге по средам"
   ]
  },
  {
   "cell_type": "code",
   "execution_count": 25,
   "metadata": {
    "id": "vYDw5u_K_Zcu"
   },
   "outputs": [
    {
     "data": {
      "text/plain": [
       "15945"
      ]
     },
     "execution_count": 25,
     "metadata": {},
     "output_type": "execute_result"
    }
   ],
   "source": [
    "number_tracks('Friday','Moscow') # количество прослушиваний в Москве по пятницам"
   ]
  },
  {
   "cell_type": "code",
   "execution_count": 26,
   "metadata": {
    "id": "8_yzFtW3_Zcu"
   },
   "outputs": [
    {
     "data": {
      "text/plain": [
       "5895"
      ]
     },
     "execution_count": 26,
     "metadata": {},
     "output_type": "execute_result"
    }
   ],
   "source": [
    "number_tracks('Friday','Saint-Petersburg') # количество прослушиваний в Санкт-Петербурге по пятницам"
   ]
  },
  {
   "cell_type": "markdown",
   "metadata": {
    "id": "7QXffbO-_Zcu"
   },
   "source": [
    "Создадим c помощью конструктора `pd.DataFrame` таблицу, где\n",
    "* названия колонок — `['city', 'monday', 'wednesday', 'friday']`;\n",
    "* данные — результаты, которые мы получили с помощью `number_tracks`."
   ]
  },
  {
   "cell_type": "code",
   "execution_count": 27,
   "metadata": {
    "id": "APAcLpOr_Zcu"
   },
   "outputs": [
    {
     "data": {
      "text/html": [
       "<div>\n",
       "<style scoped>\n",
       "    .dataframe tbody tr th:only-of-type {\n",
       "        vertical-align: middle;\n",
       "    }\n",
       "\n",
       "    .dataframe tbody tr th {\n",
       "        vertical-align: top;\n",
       "    }\n",
       "\n",
       "    .dataframe thead th {\n",
       "        text-align: right;\n",
       "    }\n",
       "</style>\n",
       "<table border=\"1\" class=\"dataframe\">\n",
       "  <thead>\n",
       "    <tr style=\"text-align: right;\">\n",
       "      <th></th>\n",
       "      <th>city</th>\n",
       "      <th>monday</th>\n",
       "      <th>wednesday</th>\n",
       "      <th>friday</th>\n",
       "    </tr>\n",
       "  </thead>\n",
       "  <tbody>\n",
       "    <tr>\n",
       "      <th>0</th>\n",
       "      <td>Moscow</td>\n",
       "      <td>15740</td>\n",
       "      <td>11056</td>\n",
       "      <td>15945</td>\n",
       "    </tr>\n",
       "    <tr>\n",
       "      <th>1</th>\n",
       "      <td>Saint-Petersburg</td>\n",
       "      <td>5614</td>\n",
       "      <td>7003</td>\n",
       "      <td>5895</td>\n",
       "    </tr>\n",
       "  </tbody>\n",
       "</table>\n",
       "</div>"
      ],
      "text/plain": [
       "               city  monday  wednesday  friday\n",
       "0            Moscow   15740      11056   15945\n",
       "1  Saint-Petersburg    5614       7003    5895"
      ]
     },
     "execution_count": 27,
     "metadata": {},
     "output_type": "execute_result"
    }
   ],
   "source": [
    "data = [['Moscow', 15740, 11056, 15945],\n",
    "       ['Saint-Petersburg', 5614, 7003, 5895]]\n",
    "columns = ['city','monday','wednesday','friday']\n",
    "table = pd.DataFrame(data = data, columns = columns) # Таблица с результатами\n",
    "table"
   ]
  },
  {
   "cell_type": "markdown",
   "metadata": {
    "id": "-EgPIHYu_Zcu"
   },
   "source": [
    "**Выводы**\n",
    "\n",
    "Данные показывают разницу поведения пользователей:\n",
    "\n",
    "- В Москве пик прослушиваний приходится на понедельник и пятницу, а в среду заметен спад.\n",
    "- В Петербурге, наоборот, больше слушают музыку по средам. Активность в понедельник и пятницу здесь почти в равной мере уступает среде.\n",
    "\n",
    "Значит, данные говорят в пользу первой гипотезы."
   ]
  },
  {
   "cell_type": "markdown",
   "metadata": {
    "id": "atZAxtq4_Zcu"
   },
   "source": [
    "### Музыка в начале и в конце недели"
   ]
  },
  {
   "cell_type": "markdown",
   "metadata": {
    "id": "eXrQqXFH_Zcu"
   },
   "source": [
    "Согласно второй гипотезе, утром в понедельник в Москве преобладают одни жанры, а в Петербурге — другие. Так же и вечером пятницы преобладают разные жанры — в зависимости от города."
   ]
  },
  {
   "cell_type": "markdown",
   "metadata": {
    "id": "S8UcW6Hw_Zcu"
   },
   "source": [
    "Сохраним таблицы с данными в две переменные:\n",
    "* по Москве — в `moscow_general`;\n",
    "* по Санкт-Петербургу — в `spb_general`.\n"
   ]
  },
  {
   "cell_type": "code",
   "execution_count": 28,
   "metadata": {
    "id": "qeaFfM_P_Zcu"
   },
   "outputs": [],
   "source": [
    "# получение таблицы moscow_general из тех строк таблицы df, \n",
    "# для которых значение в столбце 'city' равно 'Moscow'\n",
    "moscow_general = df[df['city'] == 'Moscow']"
   ]
  },
  {
   "cell_type": "code",
   "execution_count": 29,
   "metadata": {
    "id": "ORaVRKto_Zcu"
   },
   "outputs": [],
   "source": [
    "# получение таблицы spb_general из тех строк таблицы df,\n",
    "# для которых значение в столбце 'city' равно 'Saint-Petersburg'\n",
    "spb_general = df[df['city'] == 'Saint-Petersburg']"
   ]
  },
  {
   "cell_type": "markdown",
   "metadata": {
    "id": "MEJV-CX2_Zcu"
   },
   "source": [
    "Создадим функцию `genre_weekday()` с четырьмя параметрами:\n",
    "* таблица (датафрейм) с данными,\n",
    "* день недели,\n",
    "* начальная временная метка в формате 'hh:mm', \n",
    "* последняя временная метка в формате 'hh:mm'.\n",
    "\n",
    "Функция должна вернуть информацию о топ-10 жанров тех треков, которые прослушивали в указанный день, в промежутке между двумя отметками времени."
   ]
  },
  {
   "cell_type": "code",
   "execution_count": 30,
   "metadata": {
    "id": "laJT9BYl_Zcu"
   },
   "outputs": [],
   "source": [
    "# Объявление функции genre_weekday() с параметрами table, day, time1, time2,\n",
    "# которая возвращает информацию о самых популярных жанрах в указанный день в\n",
    "# заданное время:\n",
    "def genre_weekday(df, day, time1, time2):\n",
    "# 1) в переменную genre_df сохраняются те строки переданного датафрейма table, для\n",
    "#    которых одновременно:\n",
    "#    - значение в столбце day равно значению аргумента day\n",
    "#    - значение в столбце time больше значения аргумента time1\n",
    "#    - значение в столбце time меньше значения аргумента time2\n",
    "#    Используйте последовательную фильтрацию с помощью логической индексации.\n",
    "    genre_df = df[(df['day']==day) & (df['time']>time1)& (df['time']<=time2)]\n",
    "# 2) сгруппировать датафрейм genre_df по столбцу genre, взять один из его\n",
    "#    столбцов и посчитать методом count() количество записей для каждого из\n",
    "#    присутствующих жанров, получившийся Series записать в переменную\n",
    "#    genre_df_count\n",
    "    genre_df_count = genre_df.groupby('genre')['genre'].count()\n",
    "# 3) отсортировать genre_df_count по убыванию встречаемости и сохранить\n",
    "# в переменную genre_df_sorted\n",
    "    genre_df_sorted = genre_df_count.sort_values(ascending = False).head(10)\n",
    "# 4) вернуть Series из 10 первых значений genre_df_sorted, это будут топ-10\n",
    "# популярных жанров (в указанный день, в заданное время)\n",
    "    return genre_df_sorted"
   ]
  },
  {
   "cell_type": "markdown",
   "metadata": {
    "id": "la2s2_PF_Zcu"
   },
   "source": [
    "Cравним результаты функции `genre_weekday()` для Москвы и Санкт-Петербурга в понедельник утром (с 7:00 до 11:00) и в пятницу вечером (с 17:00 до 23:00):"
   ]
  },
  {
   "cell_type": "code",
   "execution_count": 31,
   "metadata": {
    "id": "yz7itPUQ_Zcu"
   },
   "outputs": [
    {
     "data": {
      "text/plain": [
       "genre\n",
       "pop            781\n",
       "dance          549\n",
       "electronic     480\n",
       "rock           474\n",
       "hiphop         286\n",
       "ruspop         186\n",
       "world          181\n",
       "rusrap         175\n",
       "alternative    164\n",
       "unknown        161\n",
       "Name: genre, dtype: int64"
      ]
     },
     "execution_count": 31,
     "metadata": {},
     "output_type": "execute_result"
    }
   ],
   "source": [
    "# вызов функции для утра понедельника в Москве (вместо df — таблица moscow_general)\n",
    "# объекты, хранящие время, являются строками и сравниваются как строки\n",
    "# пример вызова: genre_weekday(moscow_general, 'Monday', '07:00', '11:00')\n",
    "genre_weekday(moscow_general, 'Monday', '07:00:00', '11:00:00')"
   ]
  },
  {
   "cell_type": "code",
   "execution_count": 32,
   "metadata": {
    "id": "kwUcHPdy_Zcu"
   },
   "outputs": [
    {
     "data": {
      "text/plain": [
       "genre\n",
       "pop            218\n",
       "dance          182\n",
       "rock           162\n",
       "electronic     147\n",
       "hiphop          80\n",
       "ruspop          64\n",
       "alternative     58\n",
       "rusrap          55\n",
       "jazz            44\n",
       "classical       40\n",
       "Name: genre, dtype: int64"
      ]
     },
     "execution_count": 32,
     "metadata": {},
     "output_type": "execute_result"
    }
   ],
   "source": [
    "# вызов функции для утра понедельника в Петербурге (вместо df — таблица spb_general)\n",
    "genre_weekday(spb_general, 'Monday', '07:00:00', '11:00:00')"
   ]
  },
  {
   "cell_type": "code",
   "execution_count": 33,
   "metadata": {
    "id": "EzXVRE1o_Zcu"
   },
   "outputs": [
    {
     "data": {
      "text/plain": [
       "genre\n",
       "pop            713\n",
       "rock           517\n",
       "dance          495\n",
       "electronic     482\n",
       "hiphop         273\n",
       "world          208\n",
       "ruspop         170\n",
       "alternative    163\n",
       "classical      163\n",
       "rusrap         142\n",
       "Name: genre, dtype: int64"
      ]
     },
     "execution_count": 33,
     "metadata": {},
     "output_type": "execute_result"
    }
   ],
   "source": [
    "# вызов функции для вечера пятницы в Москве\n",
    "genre_weekday(moscow_general, 'Friday', '17:00:00', '23:00:00')"
   ]
  },
  {
   "cell_type": "code",
   "execution_count": 34,
   "metadata": {
    "id": "JZaEKu5v_Zcu"
   },
   "outputs": [
    {
     "data": {
      "text/plain": [
       "genre\n",
       "pop            256\n",
       "electronic     216\n",
       "rock           216\n",
       "dance          210\n",
       "hiphop          97\n",
       "alternative     63\n",
       "jazz            61\n",
       "classical       60\n",
       "rusrap          59\n",
       "world           54\n",
       "Name: genre, dtype: int64"
      ]
     },
     "execution_count": 34,
     "metadata": {},
     "output_type": "execute_result"
    }
   ],
   "source": [
    "# вызов функции для вечера пятницы в Петербурге\n",
    "genre_weekday(spb_general, 'Friday', '17:00:00', '23:00:00')"
   ]
  },
  {
   "cell_type": "markdown",
   "metadata": {
    "id": "wrCe4MNX_Zcu"
   },
   "source": [
    "**Выводы**\n",
    "\n",
    "Если сравнить топ-10 жанров в понедельник утром, можно сделать такие выводы:\n",
    "\n",
    "1. В Москве и Петербурге слушают похожую музыку. Единственное отличие — в московский рейтинг вошёл жанр “world”, а в петербургский — джаз и классика.\n",
    "\n",
    "2. В Москве пропущенных значений оказалось так много, что значение `'unknown'` заняло десятое место среди самых популярных жанров. Значит, пропущенные значения занимают существенную долю в данных и угрожают достоверности исследования.\n",
    "\n",
    "Вечер пятницы не меняет эту картину. Некоторые жанры поднимаются немного выше, другие спускаются, но в целом топ-10 остаётся тем же самым.\n",
    "\n",
    "Таким образом, вторая гипотеза подтвердилась лишь частично:\n",
    "* Пользователи слушают похожую музыку в начале недели и в конце.\n",
    "* Разница между Москвой и Петербургом не слишком выражена. В Москве чаще слушают русскую популярную музыку, в Петербурге — джаз.\n",
    "\n",
    "Однако пропуски в данных ставят под сомнение этот результат. В Москве их так много, что рейтинг топ-10 мог бы выглядеть иначе, если бы не утерянные  данные о жанрах."
   ]
  },
  {
   "cell_type": "markdown",
   "metadata": {
    "id": "JolODAqr_Zcu"
   },
   "source": [
    "### Жанровые предпочтения в Москве и Петербурге\n",
    "\n",
    "Гипотеза: Петербург — столица рэпа, музыку этого жанра там слушают чаще, чем в Москве.  А Москва — город контрастов, в котором, тем не менее, преобладает поп-музыка."
   ]
  },
  {
   "cell_type": "markdown",
   "metadata": {
    "id": "DlegSvaT_Zcu"
   },
   "source": [
    "Сгруппируем таблицу `moscow_general` по жанру и посчитаем прослушивания треков каждого жанра методом `count()`. Затем отсортируем результат в порядке убывания и сохраним его в таблице `moscow_genres`."
   ]
  },
  {
   "cell_type": "code",
   "execution_count": 35,
   "metadata": {
    "id": "r19lIPke_Zcu"
   },
   "outputs": [],
   "source": [
    "# одной строкой: группировка таблицы moscow_general по столбцу 'genre', \n",
    "# подсчёт числа значений 'genre' в этой группировке методом count(), \n",
    "# сортировка получившегося Series в порядке убывания и сохранение в moscow_genres\n",
    "moscow_genres = moscow_general.groupby('genre')['genre'].count().sort_values(ascending = False)"
   ]
  },
  {
   "cell_type": "markdown",
   "metadata": {
    "id": "6kMuomxTiIr8"
   },
   "source": [
    "Выведем на экран первые десять строк `moscow_genres`:"
   ]
  },
  {
   "cell_type": "code",
   "execution_count": 36,
   "metadata": {
    "id": "WhCSooF8_Zcv"
   },
   "outputs": [
    {
     "data": {
      "text/plain": [
       "genre\n",
       "pop            5892\n",
       "dance          4435\n",
       "rock           3965\n",
       "electronic     3786\n",
       "hiphop         2096\n",
       "classical      1616\n",
       "world          1432\n",
       "alternative    1379\n",
       "ruspop         1372\n",
       "rusrap         1161\n",
       "Name: genre, dtype: int64"
      ]
     },
     "execution_count": 36,
     "metadata": {},
     "output_type": "execute_result"
    }
   ],
   "source": [
    "# просмотр первых 10 строк moscow_genres\n",
    "moscow_genres.head(10)"
   ]
  },
  {
   "cell_type": "markdown",
   "metadata": {
    "id": "cnPG2vnN_Zcv"
   },
   "source": [
    "Теперь повторим то же и для Петербурга.\n",
    "\n",
    "Сгруппируем таблицу `spb_general` по жанру. Посчитаем прослушивания треков каждого жанра. Результат отсортируем в порядке убывания и сохраним в таблице `spb_genres`:\n"
   ]
  },
  {
   "cell_type": "code",
   "execution_count": 37,
   "metadata": {
    "id": "gluLIpE7_Zcv"
   },
   "outputs": [],
   "source": [
    "# одной строкой: группировка таблицы spb_general по столбцу 'genre', \n",
    "# подсчёт числа значений 'genre' в этой группировке методом count(), \n",
    "# сортировка получившегося Series в порядке убывания и сохранение в spb_genres\n",
    "spb_genres = spb_general.groupby('genre')['genre'].count().sort_values(ascending = False)"
   ]
  },
  {
   "cell_type": "markdown",
   "metadata": {
    "id": "5Doha_ODgyQ8"
   },
   "source": [
    "Выведем на экран первые десять строк `spb_genres`:"
   ]
  },
  {
   "cell_type": "code",
   "execution_count": 38,
   "metadata": {
    "id": "uaGJHjVU_Zcv"
   },
   "outputs": [
    {
     "data": {
      "text/plain": [
       "genre\n",
       "pop            2431\n",
       "dance          1932\n",
       "rock           1879\n",
       "electronic     1736\n",
       "hiphop          960\n",
       "alternative     649\n",
       "classical       646\n",
       "rusrap          564\n",
       "ruspop          538\n",
       "world           515\n",
       "Name: genre, dtype: int64"
      ]
     },
     "execution_count": 38,
     "metadata": {},
     "output_type": "execute_result"
    }
   ],
   "source": [
    "# просмотр первых 10 строк spb_genres\n",
    "spb_genres.head(10)"
   ]
  },
  {
   "cell_type": "markdown",
   "metadata": {
    "id": "RY51YJYu_Zcv"
   },
   "source": [
    "**Выводы**"
   ]
  },
  {
   "cell_type": "markdown",
   "metadata": {
    "id": "nVhnJEm__Zcv"
   },
   "source": [
    "Гипотеза частично подтвердилась:\n",
    "* Поп-музыка — самый популярный жанр в Москве, как и предполагала гипотеза. Более того, в топ-10 жанров встречается близкий жанр — русская популярная музыка.\n",
    "* Вопреки ожиданиям, рэп одинаково популярен в Москве и Петербурге. \n"
   ]
  },
  {
   "cell_type": "markdown",
   "metadata": {
    "id": "ykKQ0N65_Zcv"
   },
   "source": [
    "## Итоги исследования"
   ]
  },
  {
   "cell_type": "markdown",
   "metadata": {
    "id": "tjUwbHb3_Zcv"
   },
   "source": [
    "Вы проверили три гипотезы и установили:\n",
    "\n",
    "1. День недели по-разному влияет на активность пользователей в Москве и Петербурге. \n",
    "\n",
    "Первая гипотеза полностью подтвердилась.\n",
    "\n",
    "2. Музыкальные предпочтения не сильно меняются в течение недели — будь то Москва или Петербург. Небольшие различия заметны в начале недели, по понедельникам:\n",
    "* в Москве слушают музыку жанра “world”,\n",
    "* в Петербурге — джаз и классику.\n",
    "\n",
    "Таким образом, вторая гипотеза подтвердилась лишь отчасти. Этот результат мог оказаться иным, если бы не пропуски в данных.\n",
    "\n",
    "3. Во вкусах пользователей Москвы и Петербурга больше общего чем различий. Вопреки ожиданиям, предпочтения жанров в Петербурге напоминают московские.\n",
    "\n",
    "Третья гипотеза не подтвердилась. Если различия в предпочтениях и существуют, на основной массе пользователей они незаметны.\n",
    "\n",
    "**На практике исследования содержат проверки статистических гипотез.**\n",
    "Из данных одного сервиса не всегда можно сделать вывод о всех жителях города.\n",
    "Проверки статистических гипотез покажут, насколько они достоверны, исходя из имеющихся данных. \n",
    "С методами проверок гипотез мы ещё познакомимся в следующих темах."
   ]
  },
  {
   "cell_type": "code",
   "execution_count": null,
   "metadata": {},
   "outputs": [],
   "source": []
  }
 ],
 "metadata": {
  "ExecuteTimeLog": [
   {
    "duration": 580,
    "start_time": "2022-02-15T15:37:37.282Z"
   },
   {
    "duration": 130,
    "start_time": "2022-02-15T15:46:52.270Z"
   },
   {
    "duration": 17,
    "start_time": "2022-02-15T15:47:14.850Z"
   },
   {
    "duration": 8,
    "start_time": "2022-02-15T15:47:44.304Z"
   },
   {
    "duration": 4,
    "start_time": "2022-02-15T16:03:40.712Z"
   },
   {
    "duration": 20,
    "start_time": "2022-02-15T16:31:43.437Z"
   },
   {
    "duration": 4,
    "start_time": "2022-02-15T16:32:00.230Z"
   },
   {
    "duration": 20,
    "start_time": "2022-02-15T16:33:16.641Z"
   },
   {
    "duration": 4,
    "start_time": "2022-02-15T16:33:21.153Z"
   },
   {
    "duration": 41,
    "start_time": "2022-02-15T16:51:16.771Z"
   },
   {
    "duration": 23,
    "start_time": "2022-02-15T16:51:40.253Z"
   },
   {
    "duration": 16,
    "start_time": "2022-02-15T16:52:16.545Z"
   },
   {
    "duration": 24,
    "start_time": "2022-02-15T16:53:07.554Z"
   },
   {
    "duration": 57,
    "start_time": "2022-02-15T17:10:19.208Z"
   },
   {
    "duration": 56,
    "start_time": "2022-02-15T17:10:34.188Z"
   },
   {
    "duration": 53,
    "start_time": "2022-02-15T17:10:57.998Z"
   },
   {
    "duration": 7,
    "start_time": "2022-02-15T17:29:34.755Z"
   },
   {
    "duration": 401,
    "start_time": "2022-02-15T20:43:24.265Z"
   },
   {
    "duration": 290,
    "start_time": "2022-02-15T20:43:48.843Z"
   },
   {
    "duration": 275,
    "start_time": "2022-02-15T20:43:55.954Z"
   },
   {
    "duration": 269,
    "start_time": "2022-02-15T20:44:20.054Z"
   },
   {
    "duration": 764,
    "start_time": "2022-02-15T20:44:33.521Z"
   },
   {
    "duration": 174,
    "start_time": "2022-02-15T20:44:34.288Z"
   },
   {
    "duration": 28,
    "start_time": "2022-02-15T20:44:34.466Z"
   },
   {
    "duration": 13,
    "start_time": "2022-02-15T20:44:34.497Z"
   },
   {
    "duration": 40,
    "start_time": "2022-02-15T20:44:34.513Z"
   },
   {
    "duration": 26,
    "start_time": "2022-02-15T20:44:34.555Z"
   },
   {
    "duration": 5,
    "start_time": "2022-02-15T20:44:34.584Z"
   },
   {
    "duration": 61,
    "start_time": "2022-02-15T20:44:34.593Z"
   },
   {
    "duration": 24,
    "start_time": "2022-02-15T20:44:34.657Z"
   },
   {
    "duration": 29,
    "start_time": "2022-02-15T20:44:34.684Z"
   },
   {
    "duration": 109,
    "start_time": "2022-02-15T20:44:34.715Z"
   },
   {
    "duration": 100,
    "start_time": "2022-02-15T20:44:34.827Z"
   },
   {
    "duration": 86,
    "start_time": "2022-02-15T20:44:34.929Z"
   },
   {
    "duration": 10,
    "start_time": "2022-02-15T20:44:35.017Z"
   },
   {
    "duration": 21,
    "start_time": "2022-02-15T20:44:35.029Z"
   },
   {
    "duration": 15,
    "start_time": "2022-02-15T20:44:35.053Z"
   },
   {
    "duration": 8,
    "start_time": "2022-02-15T20:44:35.071Z"
   },
   {
    "duration": 9,
    "start_time": "2022-02-15T20:44:35.081Z"
   },
   {
    "duration": 7,
    "start_time": "2022-02-15T20:44:35.092Z"
   },
   {
    "duration": 6,
    "start_time": "2022-02-15T20:44:35.102Z"
   },
   {
    "duration": 11,
    "start_time": "2022-02-15T20:44:35.110Z"
   },
   {
    "duration": 25,
    "start_time": "2022-02-15T20:44:35.123Z"
   },
   {
    "duration": 3,
    "start_time": "2022-02-15T20:44:35.153Z"
   },
   {
    "duration": 10,
    "start_time": "2022-02-15T20:44:35.159Z"
   },
   {
    "duration": 7,
    "start_time": "2022-02-15T20:44:35.171Z"
   },
   {
    "duration": 7,
    "start_time": "2022-02-15T20:44:35.180Z"
   },
   {
    "duration": 8,
    "start_time": "2022-02-15T20:44:35.189Z"
   },
   {
    "duration": 10,
    "start_time": "2022-02-15T20:44:35.199Z"
   },
   {
    "duration": 9,
    "start_time": "2022-02-15T20:44:35.211Z"
   },
   {
    "duration": 26,
    "start_time": "2022-02-15T20:44:35.222Z"
   },
   {
    "duration": 14,
    "start_time": "2022-02-15T20:44:35.251Z"
   },
   {
    "duration": 9,
    "start_time": "2022-02-15T20:44:35.267Z"
   },
   {
    "duration": 16,
    "start_time": "2022-02-15T20:44:35.278Z"
   },
   {
    "duration": 7,
    "start_time": "2022-02-15T20:44:35.296Z"
   },
   {
    "duration": 19,
    "start_time": "2022-02-15T20:44:35.305Z"
   },
   {
    "duration": 11,
    "start_time": "2022-02-15T20:44:35.327Z"
   },
   {
    "duration": 8,
    "start_time": "2022-02-15T20:44:35.341Z"
   },
   {
    "duration": 9,
    "start_time": "2022-02-15T20:44:35.352Z"
   },
   {
    "duration": 11,
    "start_time": "2022-02-15T20:45:00.529Z"
   },
   {
    "duration": 17,
    "start_time": "2022-02-15T20:45:55.217Z"
   },
   {
    "duration": 18,
    "start_time": "2022-02-15T20:46:22.945Z"
   },
   {
    "duration": 585,
    "start_time": "2022-02-16T15:41:19.874Z"
   },
   {
    "duration": 139,
    "start_time": "2022-02-16T15:41:20.461Z"
   },
   {
    "duration": 17,
    "start_time": "2022-02-16T15:41:20.602Z"
   },
   {
    "duration": 9,
    "start_time": "2022-02-16T15:41:20.622Z"
   },
   {
    "duration": 29,
    "start_time": "2022-02-16T15:41:20.632Z"
   },
   {
    "duration": 35,
    "start_time": "2022-02-16T15:41:20.663Z"
   },
   {
    "duration": 7,
    "start_time": "2022-02-16T15:41:20.700Z"
   },
   {
    "duration": 29,
    "start_time": "2022-02-16T15:41:20.710Z"
   },
   {
    "duration": 27,
    "start_time": "2022-02-16T15:41:20.741Z"
   },
   {
    "duration": 22,
    "start_time": "2022-02-16T15:41:20.769Z"
   },
   {
    "duration": 75,
    "start_time": "2022-02-16T15:41:20.792Z"
   },
   {
    "duration": 62,
    "start_time": "2022-02-16T15:41:20.868Z"
   },
   {
    "duration": 67,
    "start_time": "2022-02-16T15:41:20.932Z"
   },
   {
    "duration": 8,
    "start_time": "2022-02-16T15:41:21.000Z"
   },
   {
    "duration": 5,
    "start_time": "2022-02-16T15:41:21.010Z"
   },
   {
    "duration": 20,
    "start_time": "2022-02-16T15:41:21.017Z"
   },
   {
    "duration": 18,
    "start_time": "2022-02-16T15:41:21.038Z"
   },
   {
    "duration": 16,
    "start_time": "2022-02-16T15:41:21.058Z"
   },
   {
    "duration": 10,
    "start_time": "2022-02-16T15:41:21.076Z"
   },
   {
    "duration": 9,
    "start_time": "2022-02-16T15:41:21.087Z"
   },
   {
    "duration": 12,
    "start_time": "2022-02-16T15:41:21.098Z"
   },
   {
    "duration": 5,
    "start_time": "2022-02-16T15:41:21.112Z"
   },
   {
    "duration": 4,
    "start_time": "2022-02-16T15:41:21.121Z"
   },
   {
    "duration": 10,
    "start_time": "2022-02-16T15:41:21.127Z"
   },
   {
    "duration": 11,
    "start_time": "2022-02-16T15:41:21.138Z"
   },
   {
    "duration": 13,
    "start_time": "2022-02-16T15:41:21.151Z"
   },
   {
    "duration": 8,
    "start_time": "2022-02-16T15:41:21.166Z"
   },
   {
    "duration": 10,
    "start_time": "2022-02-16T15:41:21.176Z"
   },
   {
    "duration": 14,
    "start_time": "2022-02-16T15:41:21.188Z"
   },
   {
    "duration": 7,
    "start_time": "2022-02-16T15:41:21.204Z"
   },
   {
    "duration": 6,
    "start_time": "2022-02-16T15:41:21.213Z"
   },
   {
    "duration": 5,
    "start_time": "2022-02-16T15:41:21.221Z"
   },
   {
    "duration": 18,
    "start_time": "2022-02-16T15:41:21.228Z"
   },
   {
    "duration": 6,
    "start_time": "2022-02-16T15:41:21.248Z"
   },
   {
    "duration": 5,
    "start_time": "2022-02-16T15:41:21.255Z"
   },
   {
    "duration": 24,
    "start_time": "2022-02-16T15:41:21.262Z"
   },
   {
    "duration": 11,
    "start_time": "2022-02-16T15:41:21.287Z"
   },
   {
    "duration": 6,
    "start_time": "2022-02-16T15:41:21.300Z"
   },
   {
    "duration": 3,
    "start_time": "2022-02-16T16:19:08.601Z"
   },
   {
    "duration": 152,
    "start_time": "2022-02-16T16:19:08.607Z"
   },
   {
    "duration": 10,
    "start_time": "2022-02-16T16:19:08.761Z"
   },
   {
    "duration": 13,
    "start_time": "2022-02-16T16:19:08.773Z"
   },
   {
    "duration": 5,
    "start_time": "2022-02-16T16:19:08.788Z"
   },
   {
    "duration": 18,
    "start_time": "2022-02-16T16:19:08.795Z"
   },
   {
    "duration": 5,
    "start_time": "2022-02-16T16:19:08.814Z"
   },
   {
    "duration": 53,
    "start_time": "2022-02-16T16:19:08.821Z"
   },
   {
    "duration": 19,
    "start_time": "2022-02-16T16:19:08.877Z"
   },
   {
    "duration": 24,
    "start_time": "2022-02-16T16:19:08.899Z"
   },
   {
    "duration": 81,
    "start_time": "2022-02-16T16:19:08.925Z"
   },
   {
    "duration": 74,
    "start_time": "2022-02-16T16:19:09.008Z"
   },
   {
    "duration": 54,
    "start_time": "2022-02-16T16:19:09.084Z"
   },
   {
    "duration": 20,
    "start_time": "2022-02-16T16:19:09.140Z"
   },
   {
    "duration": 262,
    "start_time": "2022-02-16T16:19:09.162Z"
   },
   {
    "duration": -71,
    "start_time": "2022-02-16T16:19:09.498Z"
   },
   {
    "duration": -76,
    "start_time": "2022-02-16T16:19:09.504Z"
   },
   {
    "duration": -88,
    "start_time": "2022-02-16T16:19:09.517Z"
   },
   {
    "duration": -91,
    "start_time": "2022-02-16T16:19:09.522Z"
   },
   {
    "duration": -94,
    "start_time": "2022-02-16T16:19:09.526Z"
   },
   {
    "duration": -97,
    "start_time": "2022-02-16T16:19:09.531Z"
   },
   {
    "duration": -99,
    "start_time": "2022-02-16T16:19:09.534Z"
   },
   {
    "duration": -100,
    "start_time": "2022-02-16T16:19:09.537Z"
   },
   {
    "duration": -102,
    "start_time": "2022-02-16T16:19:09.540Z"
   },
   {
    "duration": -104,
    "start_time": "2022-02-16T16:19:09.543Z"
   },
   {
    "duration": -111,
    "start_time": "2022-02-16T16:19:09.552Z"
   },
   {
    "duration": -114,
    "start_time": "2022-02-16T16:19:09.556Z"
   },
   {
    "duration": -116,
    "start_time": "2022-02-16T16:19:09.559Z"
   },
   {
    "duration": -119,
    "start_time": "2022-02-16T16:19:09.564Z"
   },
   {
    "duration": -120,
    "start_time": "2022-02-16T16:19:09.566Z"
   },
   {
    "duration": -122,
    "start_time": "2022-02-16T16:19:09.570Z"
   },
   {
    "duration": -124,
    "start_time": "2022-02-16T16:19:09.573Z"
   },
   {
    "duration": -126,
    "start_time": "2022-02-16T16:19:09.576Z"
   },
   {
    "duration": -126,
    "start_time": "2022-02-16T16:19:09.578Z"
   },
   {
    "duration": -128,
    "start_time": "2022-02-16T16:19:09.581Z"
   },
   {
    "duration": -129,
    "start_time": "2022-02-16T16:19:09.584Z"
   },
   {
    "duration": -131,
    "start_time": "2022-02-16T16:19:09.587Z"
   },
   {
    "duration": -132,
    "start_time": "2022-02-16T16:19:09.589Z"
   },
   {
    "duration": 407,
    "start_time": "2022-02-16T16:25:02.227Z"
   },
   {
    "duration": 2,
    "start_time": "2022-02-16T16:25:12.664Z"
   },
   {
    "duration": 175,
    "start_time": "2022-02-16T16:25:12.668Z"
   },
   {
    "duration": 15,
    "start_time": "2022-02-16T16:25:12.845Z"
   },
   {
    "duration": 31,
    "start_time": "2022-02-16T16:25:12.863Z"
   },
   {
    "duration": 26,
    "start_time": "2022-02-16T16:25:12.896Z"
   },
   {
    "duration": 36,
    "start_time": "2022-02-16T16:25:12.924Z"
   },
   {
    "duration": 19,
    "start_time": "2022-02-16T16:25:12.963Z"
   },
   {
    "duration": 35,
    "start_time": "2022-02-16T16:25:12.984Z"
   },
   {
    "duration": 39,
    "start_time": "2022-02-16T16:25:13.021Z"
   },
   {
    "duration": 27,
    "start_time": "2022-02-16T16:25:13.062Z"
   },
   {
    "duration": 96,
    "start_time": "2022-02-16T16:25:13.091Z"
   },
   {
    "duration": 80,
    "start_time": "2022-02-16T16:25:13.189Z"
   },
   {
    "duration": 52,
    "start_time": "2022-02-16T16:25:13.271Z"
   },
   {
    "duration": 8,
    "start_time": "2022-02-16T16:25:13.325Z"
   },
   {
    "duration": 328,
    "start_time": "2022-02-16T16:25:13.335Z"
   },
   {
    "duration": -87,
    "start_time": "2022-02-16T16:25:13.753Z"
   },
   {
    "duration": -90,
    "start_time": "2022-02-16T16:25:13.757Z"
   },
   {
    "duration": -91,
    "start_time": "2022-02-16T16:25:13.760Z"
   },
   {
    "duration": -94,
    "start_time": "2022-02-16T16:25:13.764Z"
   },
   {
    "duration": -95,
    "start_time": "2022-02-16T16:25:13.767Z"
   },
   {
    "duration": -97,
    "start_time": "2022-02-16T16:25:13.770Z"
   },
   {
    "duration": -98,
    "start_time": "2022-02-16T16:25:13.772Z"
   },
   {
    "duration": -99,
    "start_time": "2022-02-16T16:25:13.775Z"
   },
   {
    "duration": -100,
    "start_time": "2022-02-16T16:25:13.777Z"
   },
   {
    "duration": -102,
    "start_time": "2022-02-16T16:25:13.780Z"
   },
   {
    "duration": -121,
    "start_time": "2022-02-16T16:25:13.801Z"
   },
   {
    "duration": -127,
    "start_time": "2022-02-16T16:25:13.808Z"
   },
   {
    "duration": -128,
    "start_time": "2022-02-16T16:25:13.810Z"
   },
   {
    "duration": -129,
    "start_time": "2022-02-16T16:25:13.813Z"
   },
   {
    "duration": -133,
    "start_time": "2022-02-16T16:25:13.818Z"
   },
   {
    "duration": -135,
    "start_time": "2022-02-16T16:25:13.821Z"
   },
   {
    "duration": -135,
    "start_time": "2022-02-16T16:25:13.823Z"
   },
   {
    "duration": -137,
    "start_time": "2022-02-16T16:25:13.826Z"
   },
   {
    "duration": -138,
    "start_time": "2022-02-16T16:25:13.829Z"
   },
   {
    "duration": -140,
    "start_time": "2022-02-16T16:25:13.832Z"
   },
   {
    "duration": -141,
    "start_time": "2022-02-16T16:25:13.835Z"
   },
   {
    "duration": -143,
    "start_time": "2022-02-16T16:25:13.838Z"
   },
   {
    "duration": -152,
    "start_time": "2022-02-16T16:25:13.848Z"
   },
   {
    "duration": 21,
    "start_time": "2022-02-16T16:25:57.425Z"
   },
   {
    "duration": 12,
    "start_time": "2022-02-16T16:26:36.801Z"
   },
   {
    "duration": 14,
    "start_time": "2022-02-16T16:27:29.761Z"
   },
   {
    "duration": 2,
    "start_time": "2022-02-16T16:53:42.745Z"
   },
   {
    "duration": 151,
    "start_time": "2022-02-16T16:53:42.751Z"
   },
   {
    "duration": 10,
    "start_time": "2022-02-16T16:53:42.903Z"
   },
   {
    "duration": 8,
    "start_time": "2022-02-16T16:53:42.915Z"
   },
   {
    "duration": 6,
    "start_time": "2022-02-16T16:53:42.924Z"
   },
   {
    "duration": 30,
    "start_time": "2022-02-16T16:53:42.931Z"
   },
   {
    "duration": 4,
    "start_time": "2022-02-16T16:53:42.962Z"
   },
   {
    "duration": 24,
    "start_time": "2022-02-16T16:53:42.967Z"
   },
   {
    "duration": 16,
    "start_time": "2022-02-16T16:53:42.994Z"
   },
   {
    "duration": 21,
    "start_time": "2022-02-16T16:53:43.012Z"
   },
   {
    "duration": 80,
    "start_time": "2022-02-16T16:53:43.034Z"
   },
   {
    "duration": 71,
    "start_time": "2022-02-16T16:53:43.116Z"
   },
   {
    "duration": 49,
    "start_time": "2022-02-16T16:53:43.189Z"
   },
   {
    "duration": 6,
    "start_time": "2022-02-16T16:53:43.240Z"
   },
   {
    "duration": 14,
    "start_time": "2022-02-16T16:53:43.259Z"
   },
   {
    "duration": 2,
    "start_time": "2022-02-16T16:53:43.274Z"
   },
   {
    "duration": 6,
    "start_time": "2022-02-16T16:53:43.278Z"
   },
   {
    "duration": 7,
    "start_time": "2022-02-16T16:53:43.285Z"
   },
   {
    "duration": 6,
    "start_time": "2022-02-16T16:53:43.293Z"
   },
   {
    "duration": 9,
    "start_time": "2022-02-16T16:53:43.300Z"
   },
   {
    "duration": 8,
    "start_time": "2022-02-16T16:53:43.310Z"
   },
   {
    "duration": 5,
    "start_time": "2022-02-16T16:53:43.320Z"
   },
   {
    "duration": 5,
    "start_time": "2022-02-16T16:53:43.326Z"
   },
   {
    "duration": 3,
    "start_time": "2022-02-16T16:53:43.334Z"
   },
   {
    "duration": 19,
    "start_time": "2022-02-16T16:53:43.339Z"
   },
   {
    "duration": 3,
    "start_time": "2022-02-16T16:53:43.360Z"
   },
   {
    "duration": 6,
    "start_time": "2022-02-16T16:53:43.364Z"
   },
   {
    "duration": 5,
    "start_time": "2022-02-16T16:53:43.371Z"
   },
   {
    "duration": 5,
    "start_time": "2022-02-16T16:53:43.378Z"
   },
   {
    "duration": 5,
    "start_time": "2022-02-16T16:53:43.384Z"
   },
   {
    "duration": 10,
    "start_time": "2022-02-16T16:53:43.391Z"
   },
   {
    "duration": 5,
    "start_time": "2022-02-16T16:53:43.403Z"
   },
   {
    "duration": 9,
    "start_time": "2022-02-16T16:53:43.409Z"
   },
   {
    "duration": 5,
    "start_time": "2022-02-16T16:53:43.419Z"
   },
   {
    "duration": 9,
    "start_time": "2022-02-16T16:53:43.425Z"
   },
   {
    "duration": 8,
    "start_time": "2022-02-16T16:53:43.436Z"
   },
   {
    "duration": 5,
    "start_time": "2022-02-16T16:53:43.445Z"
   },
   {
    "duration": 9,
    "start_time": "2022-02-16T16:53:43.452Z"
   },
   {
    "duration": 3,
    "start_time": "2022-02-16T16:57:55.316Z"
   },
   {
    "duration": 13,
    "start_time": "2022-02-16T16:58:03.587Z"
   },
   {
    "duration": 8,
    "start_time": "2022-02-16T16:59:44.872Z"
   },
   {
    "duration": 10,
    "start_time": "2022-02-16T17:00:49.940Z"
   },
   {
    "duration": 2,
    "start_time": "2022-02-16T17:49:03.034Z"
   },
   {
    "duration": 157,
    "start_time": "2022-02-16T17:49:03.038Z"
   },
   {
    "duration": 10,
    "start_time": "2022-02-16T17:49:03.197Z"
   },
   {
    "duration": 11,
    "start_time": "2022-02-16T17:49:03.208Z"
   },
   {
    "duration": 5,
    "start_time": "2022-02-16T17:49:03.221Z"
   },
   {
    "duration": 32,
    "start_time": "2022-02-16T17:49:03.227Z"
   },
   {
    "duration": 3,
    "start_time": "2022-02-16T17:49:03.261Z"
   },
   {
    "duration": 26,
    "start_time": "2022-02-16T17:49:03.267Z"
   },
   {
    "duration": 17,
    "start_time": "2022-02-16T17:49:03.295Z"
   },
   {
    "duration": 23,
    "start_time": "2022-02-16T17:49:03.314Z"
   },
   {
    "duration": 92,
    "start_time": "2022-02-16T17:49:03.339Z"
   },
   {
    "duration": 65,
    "start_time": "2022-02-16T17:49:03.432Z"
   },
   {
    "duration": 51,
    "start_time": "2022-02-16T17:49:03.499Z"
   },
   {
    "duration": 7,
    "start_time": "2022-02-16T17:49:03.559Z"
   },
   {
    "duration": 22,
    "start_time": "2022-02-16T17:49:03.568Z"
   },
   {
    "duration": 24,
    "start_time": "2022-02-16T17:49:03.591Z"
   },
   {
    "duration": 27,
    "start_time": "2022-02-16T17:49:03.617Z"
   },
   {
    "duration": 4,
    "start_time": "2022-02-16T17:49:03.646Z"
   },
   {
    "duration": 14,
    "start_time": "2022-02-16T17:49:03.651Z"
   },
   {
    "duration": 10,
    "start_time": "2022-02-16T17:49:03.666Z"
   },
   {
    "duration": 6,
    "start_time": "2022-02-16T17:49:03.677Z"
   },
   {
    "duration": 7,
    "start_time": "2022-02-16T17:49:03.684Z"
   },
   {
    "duration": 6,
    "start_time": "2022-02-16T17:49:03.694Z"
   },
   {
    "duration": 7,
    "start_time": "2022-02-16T17:49:03.702Z"
   },
   {
    "duration": 8,
    "start_time": "2022-02-16T17:49:03.711Z"
   },
   {
    "duration": 13,
    "start_time": "2022-02-16T17:49:03.721Z"
   },
   {
    "duration": 10,
    "start_time": "2022-02-16T17:49:03.735Z"
   },
   {
    "duration": 20,
    "start_time": "2022-02-16T17:49:03.747Z"
   },
   {
    "duration": 40,
    "start_time": "2022-02-16T17:49:03.768Z"
   },
   {
    "duration": 20,
    "start_time": "2022-02-16T17:49:03.810Z"
   },
   {
    "duration": 14,
    "start_time": "2022-02-16T17:49:03.831Z"
   },
   {
    "duration": 17,
    "start_time": "2022-02-16T17:49:03.847Z"
   },
   {
    "duration": 16,
    "start_time": "2022-02-16T17:49:03.866Z"
   },
   {
    "duration": 19,
    "start_time": "2022-02-16T17:49:03.883Z"
   },
   {
    "duration": 25,
    "start_time": "2022-02-16T17:49:03.904Z"
   },
   {
    "duration": 9,
    "start_time": "2022-02-16T17:49:03.930Z"
   },
   {
    "duration": 9,
    "start_time": "2022-02-16T17:49:03.941Z"
   },
   {
    "duration": 16,
    "start_time": "2022-02-16T17:49:03.951Z"
   },
   {
    "duration": 11,
    "start_time": "2022-02-16T18:13:40.575Z"
   },
   {
    "duration": 3,
    "start_time": "2022-02-16T18:14:09.160Z"
   },
   {
    "duration": 164,
    "start_time": "2022-02-16T18:14:09.165Z"
   },
   {
    "duration": 11,
    "start_time": "2022-02-16T18:14:09.331Z"
   },
   {
    "duration": 8,
    "start_time": "2022-02-16T18:14:09.358Z"
   },
   {
    "duration": 7,
    "start_time": "2022-02-16T18:14:09.368Z"
   },
   {
    "duration": 18,
    "start_time": "2022-02-16T18:14:09.376Z"
   },
   {
    "duration": 3,
    "start_time": "2022-02-16T18:14:09.396Z"
   },
   {
    "duration": 30,
    "start_time": "2022-02-16T18:14:09.402Z"
   },
   {
    "duration": 38,
    "start_time": "2022-02-16T18:14:09.434Z"
   },
   {
    "duration": 25,
    "start_time": "2022-02-16T18:14:09.473Z"
   },
   {
    "duration": 76,
    "start_time": "2022-02-16T18:14:09.500Z"
   },
   {
    "duration": 68,
    "start_time": "2022-02-16T18:14:09.578Z"
   },
   {
    "duration": 61,
    "start_time": "2022-02-16T18:14:09.648Z"
   },
   {
    "duration": 10,
    "start_time": "2022-02-16T18:14:09.711Z"
   },
   {
    "duration": 3,
    "start_time": "2022-02-16T18:14:09.723Z"
   },
   {
    "duration": 34,
    "start_time": "2022-02-16T18:14:09.728Z"
   },
   {
    "duration": 15,
    "start_time": "2022-02-16T18:14:09.764Z"
   },
   {
    "duration": 11,
    "start_time": "2022-02-16T18:14:09.781Z"
   },
   {
    "duration": 2,
    "start_time": "2022-02-16T18:14:09.794Z"
   },
   {
    "duration": 7,
    "start_time": "2022-02-16T18:14:09.798Z"
   },
   {
    "duration": 6,
    "start_time": "2022-02-16T18:14:09.806Z"
   },
   {
    "duration": 11,
    "start_time": "2022-02-16T18:14:09.813Z"
   },
   {
    "duration": 5,
    "start_time": "2022-02-16T18:14:09.827Z"
   },
   {
    "duration": 25,
    "start_time": "2022-02-16T18:14:09.834Z"
   },
   {
    "duration": 8,
    "start_time": "2022-02-16T18:14:09.861Z"
   },
   {
    "duration": 6,
    "start_time": "2022-02-16T18:14:09.871Z"
   },
   {
    "duration": 7,
    "start_time": "2022-02-16T18:14:09.879Z"
   },
   {
    "duration": 11,
    "start_time": "2022-02-16T18:14:09.887Z"
   },
   {
    "duration": 9,
    "start_time": "2022-02-16T18:14:09.899Z"
   },
   {
    "duration": 6,
    "start_time": "2022-02-16T18:14:09.909Z"
   },
   {
    "duration": 10,
    "start_time": "2022-02-16T18:14:09.916Z"
   },
   {
    "duration": 6,
    "start_time": "2022-02-16T18:14:09.928Z"
   },
   {
    "duration": 8,
    "start_time": "2022-02-16T18:14:09.935Z"
   },
   {
    "duration": 5,
    "start_time": "2022-02-16T18:14:09.945Z"
   },
   {
    "duration": 5,
    "start_time": "2022-02-16T18:14:09.951Z"
   },
   {
    "duration": 5,
    "start_time": "2022-02-16T18:14:09.958Z"
   },
   {
    "duration": 6,
    "start_time": "2022-02-16T18:14:09.964Z"
   },
   {
    "duration": 5,
    "start_time": "2022-02-16T18:14:09.972Z"
   },
   {
    "duration": 12,
    "start_time": "2022-02-16T18:17:14.335Z"
   },
   {
    "duration": 12,
    "start_time": "2022-02-16T18:19:44.910Z"
   },
   {
    "duration": 16,
    "start_time": "2022-02-16T18:24:28.701Z"
   },
   {
    "duration": 13,
    "start_time": "2022-02-16T18:25:02.736Z"
   },
   {
    "duration": 2,
    "start_time": "2022-02-16T18:42:02.693Z"
   },
   {
    "duration": 143,
    "start_time": "2022-02-16T18:42:02.699Z"
   },
   {
    "duration": 24,
    "start_time": "2022-02-16T18:42:02.844Z"
   },
   {
    "duration": 21,
    "start_time": "2022-02-16T18:42:02.870Z"
   },
   {
    "duration": 9,
    "start_time": "2022-02-16T18:42:02.893Z"
   },
   {
    "duration": 21,
    "start_time": "2022-02-16T18:42:02.903Z"
   },
   {
    "duration": 3,
    "start_time": "2022-02-16T18:42:02.926Z"
   },
   {
    "duration": 34,
    "start_time": "2022-02-16T18:42:02.931Z"
   },
   {
    "duration": 22,
    "start_time": "2022-02-16T18:42:02.967Z"
   },
   {
    "duration": 23,
    "start_time": "2022-02-16T18:42:02.992Z"
   },
   {
    "duration": 70,
    "start_time": "2022-02-16T18:42:03.017Z"
   },
   {
    "duration": 59,
    "start_time": "2022-02-16T18:42:03.089Z"
   },
   {
    "duration": 49,
    "start_time": "2022-02-16T18:42:03.159Z"
   },
   {
    "duration": 8,
    "start_time": "2022-02-16T18:42:03.210Z"
   },
   {
    "duration": 2,
    "start_time": "2022-02-16T18:42:03.220Z"
   },
   {
    "duration": 17,
    "start_time": "2022-02-16T18:42:03.224Z"
   },
   {
    "duration": 23,
    "start_time": "2022-02-16T18:42:03.243Z"
   },
   {
    "duration": 11,
    "start_time": "2022-02-16T18:42:03.268Z"
   },
   {
    "duration": 13,
    "start_time": "2022-02-16T18:42:03.280Z"
   },
   {
    "duration": 3,
    "start_time": "2022-02-16T18:42:03.294Z"
   },
   {
    "duration": 11,
    "start_time": "2022-02-16T18:42:03.298Z"
   },
   {
    "duration": 4,
    "start_time": "2022-02-16T18:42:03.310Z"
   },
   {
    "duration": 5,
    "start_time": "2022-02-16T18:42:03.316Z"
   },
   {
    "duration": 8,
    "start_time": "2022-02-16T18:42:03.323Z"
   },
   {
    "duration": 5,
    "start_time": "2022-02-16T18:42:03.332Z"
   },
   {
    "duration": 2,
    "start_time": "2022-02-16T18:42:03.359Z"
   },
   {
    "duration": 6,
    "start_time": "2022-02-16T18:42:03.363Z"
   },
   {
    "duration": 9,
    "start_time": "2022-02-16T18:42:03.372Z"
   },
   {
    "duration": 4,
    "start_time": "2022-02-16T18:42:03.383Z"
   },
   {
    "duration": 6,
    "start_time": "2022-02-16T18:42:03.388Z"
   },
   {
    "duration": 27,
    "start_time": "2022-02-16T18:42:03.396Z"
   },
   {
    "duration": 5,
    "start_time": "2022-02-16T18:42:03.424Z"
   },
   {
    "duration": 11,
    "start_time": "2022-02-16T18:42:03.431Z"
   },
   {
    "duration": 9,
    "start_time": "2022-02-16T18:42:03.444Z"
   },
   {
    "duration": 8,
    "start_time": "2022-02-16T18:42:03.454Z"
   },
   {
    "duration": 15,
    "start_time": "2022-02-16T18:42:03.463Z"
   },
   {
    "duration": 7,
    "start_time": "2022-02-16T18:42:03.480Z"
   },
   {
    "duration": 8,
    "start_time": "2022-02-16T18:42:03.488Z"
   },
   {
    "duration": 3,
    "start_time": "2022-02-16T18:49:13.312Z"
   },
   {
    "duration": 191,
    "start_time": "2022-02-16T18:49:13.317Z"
   },
   {
    "duration": 10,
    "start_time": "2022-02-16T18:49:13.510Z"
   },
   {
    "duration": 17,
    "start_time": "2022-02-16T18:49:13.522Z"
   },
   {
    "duration": 22,
    "start_time": "2022-02-16T18:49:13.541Z"
   },
   {
    "duration": 26,
    "start_time": "2022-02-16T18:49:13.565Z"
   },
   {
    "duration": 16,
    "start_time": "2022-02-16T18:49:13.592Z"
   },
   {
    "duration": 46,
    "start_time": "2022-02-16T18:49:13.610Z"
   },
   {
    "duration": 29,
    "start_time": "2022-02-16T18:49:13.658Z"
   },
   {
    "duration": 530,
    "start_time": "2022-02-16T18:49:13.689Z"
   },
   {
    "duration": 71,
    "start_time": "2022-02-16T18:49:14.221Z"
   },
   {
    "duration": 82,
    "start_time": "2022-02-16T18:49:14.294Z"
   },
   {
    "duration": 52,
    "start_time": "2022-02-16T18:49:14.378Z"
   },
   {
    "duration": 8,
    "start_time": "2022-02-16T18:49:14.432Z"
   },
   {
    "duration": 13,
    "start_time": "2022-02-16T18:49:14.442Z"
   },
   {
    "duration": 32,
    "start_time": "2022-02-16T18:49:14.459Z"
   },
   {
    "duration": 8,
    "start_time": "2022-02-16T18:49:14.493Z"
   },
   {
    "duration": 13,
    "start_time": "2022-02-16T18:49:14.503Z"
   },
   {
    "duration": 922,
    "start_time": "2022-02-16T18:49:14.517Z"
   },
   {
    "duration": -60,
    "start_time": "2022-02-16T18:49:15.501Z"
   },
   {
    "duration": -62,
    "start_time": "2022-02-16T18:49:15.504Z"
   },
   {
    "duration": -64,
    "start_time": "2022-02-16T18:49:15.507Z"
   },
   {
    "duration": -67,
    "start_time": "2022-02-16T18:49:15.510Z"
   },
   {
    "duration": -87,
    "start_time": "2022-02-16T18:49:15.531Z"
   },
   {
    "duration": -90,
    "start_time": "2022-02-16T18:49:15.535Z"
   },
   {
    "duration": -93,
    "start_time": "2022-02-16T18:49:15.539Z"
   },
   {
    "duration": -94,
    "start_time": "2022-02-16T18:49:15.541Z"
   },
   {
    "duration": -96,
    "start_time": "2022-02-16T18:49:15.544Z"
   },
   {
    "duration": -99,
    "start_time": "2022-02-16T18:49:15.547Z"
   },
   {
    "duration": -100,
    "start_time": "2022-02-16T18:49:15.549Z"
   },
   {
    "duration": -101,
    "start_time": "2022-02-16T18:49:15.552Z"
   },
   {
    "duration": -103,
    "start_time": "2022-02-16T18:49:15.555Z"
   },
   {
    "duration": -105,
    "start_time": "2022-02-16T18:49:15.558Z"
   },
   {
    "duration": -107,
    "start_time": "2022-02-16T18:49:15.561Z"
   },
   {
    "duration": -108,
    "start_time": "2022-02-16T18:49:15.563Z"
   },
   {
    "duration": -120,
    "start_time": "2022-02-16T18:49:15.576Z"
   },
   {
    "duration": -122,
    "start_time": "2022-02-16T18:49:15.579Z"
   },
   {
    "duration": -124,
    "start_time": "2022-02-16T18:49:15.582Z"
   },
   {
    "duration": 16,
    "start_time": "2022-02-16T18:50:29.336Z"
   },
   {
    "duration": 61,
    "start_time": "2022-02-16T18:53:02.915Z"
   },
   {
    "duration": 55,
    "start_time": "2022-02-16T18:53:23.561Z"
   },
   {
    "duration": 55,
    "start_time": "2022-02-16T18:53:43.457Z"
   },
   {
    "duration": 63,
    "start_time": "2022-02-16T18:54:13.330Z"
   },
   {
    "duration": 72,
    "start_time": "2022-02-16T18:54:30.035Z"
   },
   {
    "duration": 91,
    "start_time": "2022-02-16T19:04:28.804Z"
   },
   {
    "duration": 57,
    "start_time": "2022-02-16T19:04:51.985Z"
   },
   {
    "duration": 2305,
    "start_time": "2022-02-16T19:05:01.628Z"
   },
   {
    "duration": 2183,
    "start_time": "2022-02-16T19:05:41.623Z"
   },
   {
    "duration": 5,
    "start_time": "2022-02-16T19:07:19.566Z"
   },
   {
    "duration": 2221,
    "start_time": "2022-02-16T19:08:36.406Z"
   },
   {
    "duration": 12,
    "start_time": "2022-02-16T19:09:40.761Z"
   },
   {
    "duration": 13,
    "start_time": "2022-02-16T19:10:13.333Z"
   },
   {
    "duration": 202,
    "start_time": "2022-02-16T19:11:42.319Z"
   },
   {
    "duration": 174,
    "start_time": "2022-02-16T19:11:48.887Z"
   },
   {
    "duration": 11,
    "start_time": "2022-02-16T19:27:32.990Z"
   },
   {
    "duration": 10,
    "start_time": "2022-02-16T19:27:49.741Z"
   },
   {
    "duration": 9,
    "start_time": "2022-02-16T19:56:23.432Z"
   },
   {
    "duration": 19,
    "start_time": "2022-02-16T19:56:38.359Z"
   },
   {
    "duration": 19,
    "start_time": "2022-02-16T19:57:29.783Z"
   },
   {
    "duration": 21,
    "start_time": "2022-02-16T19:58:51.262Z"
   },
   {
    "duration": 34,
    "start_time": "2022-02-16T20:00:18.442Z"
   },
   {
    "duration": 4,
    "start_time": "2022-02-16T20:27:35.483Z"
   },
   {
    "duration": 10,
    "start_time": "2022-02-16T20:28:09.043Z"
   },
   {
    "duration": 11,
    "start_time": "2022-02-16T20:41:13.058Z"
   },
   {
    "duration": 13,
    "start_time": "2022-02-16T20:42:00.905Z"
   },
   {
    "duration": 15,
    "start_time": "2022-02-16T20:42:15.200Z"
   },
   {
    "duration": 808,
    "start_time": "2022-02-22T10:39:23.603Z"
   },
   {
    "duration": 191,
    "start_time": "2022-02-22T10:39:24.413Z"
   },
   {
    "duration": 27,
    "start_time": "2022-02-22T10:39:24.607Z"
   },
   {
    "duration": 13,
    "start_time": "2022-02-22T10:39:24.638Z"
   },
   {
    "duration": 7,
    "start_time": "2022-02-22T10:39:24.654Z"
   },
   {
    "duration": 68,
    "start_time": "2022-02-22T10:39:24.663Z"
   },
   {
    "duration": 7,
    "start_time": "2022-02-22T10:39:24.733Z"
   },
   {
    "duration": 31,
    "start_time": "2022-02-22T10:39:24.744Z"
   },
   {
    "duration": 51,
    "start_time": "2022-02-22T10:39:24.778Z"
   },
   {
    "duration": 31,
    "start_time": "2022-02-22T10:39:24.832Z"
   },
   {
    "duration": 112,
    "start_time": "2022-02-22T10:39:24.865Z"
   },
   {
    "duration": 109,
    "start_time": "2022-02-22T10:39:24.980Z"
   },
   {
    "duration": 82,
    "start_time": "2022-02-22T10:39:25.091Z"
   },
   {
    "duration": 14,
    "start_time": "2022-02-22T10:39:25.175Z"
   },
   {
    "duration": 20,
    "start_time": "2022-02-22T10:39:25.191Z"
   },
   {
    "duration": 18,
    "start_time": "2022-02-22T10:39:25.213Z"
   },
   {
    "duration": 18,
    "start_time": "2022-02-22T10:39:25.233Z"
   },
   {
    "duration": 14,
    "start_time": "2022-02-22T10:39:25.253Z"
   },
   {
    "duration": 48,
    "start_time": "2022-02-22T10:39:25.270Z"
   },
   {
    "duration": 123,
    "start_time": "2022-02-22T10:39:25.321Z"
   },
   {
    "duration": -278,
    "start_time": "2022-02-22T10:39:25.726Z"
   },
   {
    "duration": -279,
    "start_time": "2022-02-22T10:39:25.729Z"
   },
   {
    "duration": -280,
    "start_time": "2022-02-22T10:39:25.732Z"
   },
   {
    "duration": -282,
    "start_time": "2022-02-22T10:39:25.735Z"
   },
   {
    "duration": -287,
    "start_time": "2022-02-22T10:39:25.742Z"
   },
   {
    "duration": -287,
    "start_time": "2022-02-22T10:39:25.745Z"
   },
   {
    "duration": -288,
    "start_time": "2022-02-22T10:39:25.748Z"
   },
   {
    "duration": -289,
    "start_time": "2022-02-22T10:39:25.751Z"
   },
   {
    "duration": -297,
    "start_time": "2022-02-22T10:39:25.761Z"
   },
   {
    "duration": -296,
    "start_time": "2022-02-22T10:39:25.763Z"
   },
   {
    "duration": -297,
    "start_time": "2022-02-22T10:39:25.766Z"
   },
   {
    "duration": -298,
    "start_time": "2022-02-22T10:39:25.770Z"
   },
   {
    "duration": -303,
    "start_time": "2022-02-22T10:39:25.776Z"
   },
   {
    "duration": -303,
    "start_time": "2022-02-22T10:39:25.779Z"
   },
   {
    "duration": -304,
    "start_time": "2022-02-22T10:39:25.782Z"
   },
   {
    "duration": -304,
    "start_time": "2022-02-22T10:39:25.784Z"
   },
   {
    "duration": -310,
    "start_time": "2022-02-22T10:39:25.792Z"
   },
   {
    "duration": -309,
    "start_time": "2022-02-22T10:39:25.794Z"
   },
   {
    "duration": 4,
    "start_time": "2022-02-22T11:42:10.183Z"
   },
   {
    "duration": 209,
    "start_time": "2022-02-22T11:42:10.189Z"
   },
   {
    "duration": 18,
    "start_time": "2022-02-22T11:42:10.402Z"
   },
   {
    "duration": 12,
    "start_time": "2022-02-22T11:42:10.423Z"
   },
   {
    "duration": 10,
    "start_time": "2022-02-22T11:42:10.438Z"
   },
   {
    "duration": 66,
    "start_time": "2022-02-22T11:42:10.451Z"
   },
   {
    "duration": 7,
    "start_time": "2022-02-22T11:42:10.520Z"
   },
   {
    "duration": 53,
    "start_time": "2022-02-22T11:42:10.532Z"
   },
   {
    "duration": 43,
    "start_time": "2022-02-22T11:42:10.588Z"
   },
   {
    "duration": 34,
    "start_time": "2022-02-22T11:42:10.634Z"
   },
   {
    "duration": 116,
    "start_time": "2022-02-22T11:42:10.671Z"
   },
   {
    "duration": 102,
    "start_time": "2022-02-22T11:42:10.790Z"
   },
   {
    "duration": 89,
    "start_time": "2022-02-22T11:42:10.894Z"
   },
   {
    "duration": 31,
    "start_time": "2022-02-22T11:42:10.985Z"
   },
   {
    "duration": 4,
    "start_time": "2022-02-22T11:42:11.018Z"
   },
   {
    "duration": 27,
    "start_time": "2022-02-22T11:42:11.024Z"
   },
   {
    "duration": 15,
    "start_time": "2022-02-22T11:42:11.054Z"
   },
   {
    "duration": 43,
    "start_time": "2022-02-22T11:42:11.071Z"
   },
   {
    "duration": 14,
    "start_time": "2022-02-22T11:42:11.116Z"
   },
   {
    "duration": 137,
    "start_time": "2022-02-22T11:42:11.133Z"
   },
   {
    "duration": -261,
    "start_time": "2022-02-22T11:42:11.535Z"
   },
   {
    "duration": -267,
    "start_time": "2022-02-22T11:42:11.543Z"
   },
   {
    "duration": -267,
    "start_time": "2022-02-22T11:42:11.545Z"
   },
   {
    "duration": -268,
    "start_time": "2022-02-22T11:42:11.548Z"
   },
   {
    "duration": -270,
    "start_time": "2022-02-22T11:42:11.553Z"
   },
   {
    "duration": -271,
    "start_time": "2022-02-22T11:42:11.556Z"
   },
   {
    "duration": -272,
    "start_time": "2022-02-22T11:42:11.559Z"
   },
   {
    "duration": -281,
    "start_time": "2022-02-22T11:42:11.570Z"
   },
   {
    "duration": -281,
    "start_time": "2022-02-22T11:42:11.573Z"
   },
   {
    "duration": -292,
    "start_time": "2022-02-22T11:42:11.586Z"
   },
   {
    "duration": -291,
    "start_time": "2022-02-22T11:42:11.588Z"
   },
   {
    "duration": -293,
    "start_time": "2022-02-22T11:42:11.592Z"
   },
   {
    "duration": -294,
    "start_time": "2022-02-22T11:42:11.595Z"
   },
   {
    "duration": -295,
    "start_time": "2022-02-22T11:42:11.598Z"
   },
   {
    "duration": -297,
    "start_time": "2022-02-22T11:42:11.602Z"
   },
   {
    "duration": -306,
    "start_time": "2022-02-22T11:42:11.613Z"
   },
   {
    "duration": -305,
    "start_time": "2022-02-22T11:42:11.615Z"
   },
   {
    "duration": -307,
    "start_time": "2022-02-22T11:42:11.619Z"
   },
   {
    "duration": 622,
    "start_time": "2022-02-22T16:41:17.286Z"
   },
   {
    "duration": 161,
    "start_time": "2022-02-22T16:41:17.910Z"
   },
   {
    "duration": 19,
    "start_time": "2022-02-22T16:41:18.074Z"
   },
   {
    "duration": 16,
    "start_time": "2022-02-22T16:41:18.095Z"
   },
   {
    "duration": 21,
    "start_time": "2022-02-22T16:41:18.113Z"
   },
   {
    "duration": 42,
    "start_time": "2022-02-22T16:41:18.136Z"
   },
   {
    "duration": 21,
    "start_time": "2022-02-22T16:41:18.180Z"
   },
   {
    "duration": 47,
    "start_time": "2022-02-22T16:41:18.203Z"
   },
   {
    "duration": 28,
    "start_time": "2022-02-22T16:41:18.253Z"
   },
   {
    "duration": 30,
    "start_time": "2022-02-22T16:41:18.282Z"
   },
   {
    "duration": 91,
    "start_time": "2022-02-22T16:41:18.313Z"
   },
   {
    "duration": 69,
    "start_time": "2022-02-22T16:41:18.406Z"
   },
   {
    "duration": 57,
    "start_time": "2022-02-22T16:41:18.477Z"
   },
   {
    "duration": 33,
    "start_time": "2022-02-22T16:41:18.536Z"
   },
   {
    "duration": 4,
    "start_time": "2022-02-22T16:41:18.571Z"
   },
   {
    "duration": 45,
    "start_time": "2022-02-22T16:41:18.577Z"
   },
   {
    "duration": 32,
    "start_time": "2022-02-22T16:41:18.625Z"
   },
   {
    "duration": 49,
    "start_time": "2022-02-22T16:41:18.660Z"
   },
   {
    "duration": 16,
    "start_time": "2022-02-22T16:41:18.711Z"
   },
   {
    "duration": 124,
    "start_time": "2022-02-22T16:41:18.730Z"
   },
   {
    "duration": -981,
    "start_time": "2022-02-22T16:41:19.839Z"
   },
   {
    "duration": -982,
    "start_time": "2022-02-22T16:41:19.842Z"
   },
   {
    "duration": -995,
    "start_time": "2022-02-22T16:41:19.856Z"
   },
   {
    "duration": -997,
    "start_time": "2022-02-22T16:41:19.860Z"
   },
   {
    "duration": -998,
    "start_time": "2022-02-22T16:41:19.863Z"
   },
   {
    "duration": -1003,
    "start_time": "2022-02-22T16:41:19.869Z"
   },
   {
    "duration": -1005,
    "start_time": "2022-02-22T16:41:19.873Z"
   },
   {
    "duration": -1007,
    "start_time": "2022-02-22T16:41:19.876Z"
   },
   {
    "duration": -1007,
    "start_time": "2022-02-22T16:41:19.878Z"
   },
   {
    "duration": -1008,
    "start_time": "2022-02-22T16:41:19.881Z"
   },
   {
    "duration": -1010,
    "start_time": "2022-02-22T16:41:19.884Z"
   },
   {
    "duration": -1011,
    "start_time": "2022-02-22T16:41:19.887Z"
   },
   {
    "duration": -1013,
    "start_time": "2022-02-22T16:41:19.890Z"
   },
   {
    "duration": -1014,
    "start_time": "2022-02-22T16:41:19.892Z"
   },
   {
    "duration": -1016,
    "start_time": "2022-02-22T16:41:19.895Z"
   },
   {
    "duration": -1018,
    "start_time": "2022-02-22T16:41:19.898Z"
   },
   {
    "duration": -1019,
    "start_time": "2022-02-22T16:41:19.900Z"
   },
   {
    "duration": -1020,
    "start_time": "2022-02-22T16:41:19.903Z"
   },
   {
    "duration": 3,
    "start_time": "2022-02-22T18:30:02.071Z"
   },
   {
    "duration": 195,
    "start_time": "2022-02-22T18:30:02.076Z"
   },
   {
    "duration": 12,
    "start_time": "2022-02-22T18:30:02.273Z"
   },
   {
    "duration": 15,
    "start_time": "2022-02-22T18:30:02.287Z"
   },
   {
    "duration": 10,
    "start_time": "2022-02-22T18:30:02.303Z"
   },
   {
    "duration": 30,
    "start_time": "2022-02-22T18:30:02.316Z"
   },
   {
    "duration": 24,
    "start_time": "2022-02-22T18:30:02.350Z"
   },
   {
    "duration": 50,
    "start_time": "2022-02-22T18:30:02.377Z"
   },
   {
    "duration": 20,
    "start_time": "2022-02-22T18:30:02.429Z"
   },
   {
    "duration": 41,
    "start_time": "2022-02-22T18:30:02.451Z"
   },
   {
    "duration": 80,
    "start_time": "2022-02-22T18:30:02.493Z"
   },
   {
    "duration": 67,
    "start_time": "2022-02-22T18:30:02.575Z"
   },
   {
    "duration": 74,
    "start_time": "2022-02-22T18:30:02.645Z"
   },
   {
    "duration": 10,
    "start_time": "2022-02-22T18:30:02.721Z"
   },
   {
    "duration": 3,
    "start_time": "2022-02-22T18:30:02.733Z"
   },
   {
    "duration": 38,
    "start_time": "2022-02-22T18:30:02.738Z"
   },
   {
    "duration": 19,
    "start_time": "2022-02-22T18:30:02.778Z"
   },
   {
    "duration": 12,
    "start_time": "2022-02-22T18:30:02.799Z"
   },
   {
    "duration": 27,
    "start_time": "2022-02-22T18:30:02.814Z"
   },
   {
    "duration": 413,
    "start_time": "2022-02-22T18:30:02.844Z"
   },
   {
    "duration": -1005,
    "start_time": "2022-02-22T18:30:04.264Z"
   },
   {
    "duration": -1027,
    "start_time": "2022-02-22T18:30:04.287Z"
   },
   {
    "duration": -1035,
    "start_time": "2022-02-22T18:30:04.296Z"
   },
   {
    "duration": -1035,
    "start_time": "2022-02-22T18:30:04.298Z"
   },
   {
    "duration": -1068,
    "start_time": "2022-02-22T18:30:04.332Z"
   },
   {
    "duration": -1069,
    "start_time": "2022-02-22T18:30:04.334Z"
   },
   {
    "duration": -1071,
    "start_time": "2022-02-22T18:30:04.337Z"
   },
   {
    "duration": -1072,
    "start_time": "2022-02-22T18:30:04.339Z"
   },
   {
    "duration": -1073,
    "start_time": "2022-02-22T18:30:04.342Z"
   },
   {
    "duration": -1075,
    "start_time": "2022-02-22T18:30:04.345Z"
   },
   {
    "duration": -1100,
    "start_time": "2022-02-22T18:30:04.371Z"
   },
   {
    "duration": -1104,
    "start_time": "2022-02-22T18:30:04.376Z"
   },
   {
    "duration": -1106,
    "start_time": "2022-02-22T18:30:04.380Z"
   },
   {
    "duration": -1106,
    "start_time": "2022-02-22T18:30:04.382Z"
   },
   {
    "duration": -1107,
    "start_time": "2022-02-22T18:30:04.385Z"
   },
   {
    "duration": -1108,
    "start_time": "2022-02-22T18:30:04.387Z"
   },
   {
    "duration": -1137,
    "start_time": "2022-02-22T18:30:04.418Z"
   },
   {
    "duration": -1139,
    "start_time": "2022-02-22T18:30:04.421Z"
   },
   {
    "duration": 3,
    "start_time": "2022-02-22T18:31:46.903Z"
   },
   {
    "duration": 177,
    "start_time": "2022-02-22T18:31:46.909Z"
   },
   {
    "duration": 11,
    "start_time": "2022-02-22T18:31:47.088Z"
   },
   {
    "duration": 10,
    "start_time": "2022-02-22T18:31:47.101Z"
   },
   {
    "duration": 14,
    "start_time": "2022-02-22T18:31:47.113Z"
   },
   {
    "duration": 51,
    "start_time": "2022-02-22T18:31:47.129Z"
   },
   {
    "duration": 5,
    "start_time": "2022-02-22T18:31:47.181Z"
   },
   {
    "duration": 52,
    "start_time": "2022-02-22T18:31:47.190Z"
   },
   {
    "duration": 33,
    "start_time": "2022-02-22T18:31:47.244Z"
   },
   {
    "duration": 49,
    "start_time": "2022-02-22T18:31:47.279Z"
   },
   {
    "duration": 109,
    "start_time": "2022-02-22T18:31:47.331Z"
   },
   {
    "duration": 78,
    "start_time": "2022-02-22T18:31:47.441Z"
   },
   {
    "duration": 68,
    "start_time": "2022-02-22T18:31:47.521Z"
   },
   {
    "duration": 11,
    "start_time": "2022-02-22T18:31:47.590Z"
   },
   {
    "duration": 4,
    "start_time": "2022-02-22T18:31:47.602Z"
   },
   {
    "duration": 13,
    "start_time": "2022-02-22T18:31:47.608Z"
   },
   {
    "duration": 26,
    "start_time": "2022-02-22T18:31:47.623Z"
   },
   {
    "duration": 29,
    "start_time": "2022-02-22T18:31:47.652Z"
   },
   {
    "duration": 18,
    "start_time": "2022-02-22T18:31:47.684Z"
   },
   {
    "duration": 91,
    "start_time": "2022-02-22T18:31:47.705Z"
   },
   {
    "duration": -1071,
    "start_time": "2022-02-22T18:31:48.869Z"
   },
   {
    "duration": -1073,
    "start_time": "2022-02-22T18:31:48.872Z"
   },
   {
    "duration": -1074,
    "start_time": "2022-02-22T18:31:48.874Z"
   },
   {
    "duration": -1076,
    "start_time": "2022-02-22T18:31:48.877Z"
   },
   {
    "duration": -1077,
    "start_time": "2022-02-22T18:31:48.880Z"
   },
   {
    "duration": -1078,
    "start_time": "2022-02-22T18:31:48.882Z"
   },
   {
    "duration": -1086,
    "start_time": "2022-02-22T18:31:48.891Z"
   },
   {
    "duration": -1088,
    "start_time": "2022-02-22T18:31:48.894Z"
   },
   {
    "duration": -1090,
    "start_time": "2022-02-22T18:31:48.898Z"
   },
   {
    "duration": -1096,
    "start_time": "2022-02-22T18:31:48.906Z"
   },
   {
    "duration": -1098,
    "start_time": "2022-02-22T18:31:48.909Z"
   },
   {
    "duration": -1100,
    "start_time": "2022-02-22T18:31:48.912Z"
   },
   {
    "duration": -1122,
    "start_time": "2022-02-22T18:31:48.935Z"
   },
   {
    "duration": -1123,
    "start_time": "2022-02-22T18:31:48.937Z"
   },
   {
    "duration": -1137,
    "start_time": "2022-02-22T18:31:48.953Z"
   },
   {
    "duration": -1139,
    "start_time": "2022-02-22T18:31:48.956Z"
   },
   {
    "duration": -1169,
    "start_time": "2022-02-22T18:31:48.987Z"
   },
   {
    "duration": -1171,
    "start_time": "2022-02-22T18:31:48.990Z"
   },
   {
    "duration": 3,
    "start_time": "2022-02-22T18:32:07.607Z"
   },
   {
    "duration": 206,
    "start_time": "2022-02-22T18:32:07.613Z"
   },
   {
    "duration": 12,
    "start_time": "2022-02-22T18:32:07.822Z"
   },
   {
    "duration": 14,
    "start_time": "2022-02-22T18:32:07.836Z"
   },
   {
    "duration": 9,
    "start_time": "2022-02-22T18:32:07.869Z"
   },
   {
    "duration": 25,
    "start_time": "2022-02-22T18:32:07.880Z"
   },
   {
    "duration": 5,
    "start_time": "2022-02-22T18:32:07.909Z"
   },
   {
    "duration": 35,
    "start_time": "2022-02-22T18:32:07.918Z"
   },
   {
    "duration": 31,
    "start_time": "2022-02-22T18:32:07.969Z"
   },
   {
    "duration": 34,
    "start_time": "2022-02-22T18:32:08.003Z"
   },
   {
    "duration": 118,
    "start_time": "2022-02-22T18:32:08.040Z"
   },
   {
    "duration": 84,
    "start_time": "2022-02-22T18:32:08.159Z"
   },
   {
    "duration": 80,
    "start_time": "2022-02-22T18:32:08.245Z"
   },
   {
    "duration": 11,
    "start_time": "2022-02-22T18:32:08.327Z"
   },
   {
    "duration": 5,
    "start_time": "2022-02-22T18:32:08.339Z"
   },
   {
    "duration": 39,
    "start_time": "2022-02-22T18:32:08.346Z"
   },
   {
    "duration": 21,
    "start_time": "2022-02-22T18:32:08.388Z"
   },
   {
    "duration": 11,
    "start_time": "2022-02-22T18:32:08.412Z"
   },
   {
    "duration": 14,
    "start_time": "2022-02-22T18:32:08.425Z"
   },
   {
    "duration": 115,
    "start_time": "2022-02-22T18:32:08.440Z"
   },
   {
    "duration": -1076,
    "start_time": "2022-02-22T18:32:09.634Z"
   },
   {
    "duration": -1084,
    "start_time": "2022-02-22T18:32:09.643Z"
   },
   {
    "duration": -1086,
    "start_time": "2022-02-22T18:32:09.646Z"
   },
   {
    "duration": -1088,
    "start_time": "2022-02-22T18:32:09.649Z"
   },
   {
    "duration": -1088,
    "start_time": "2022-02-22T18:32:09.651Z"
   },
   {
    "duration": -1106,
    "start_time": "2022-02-22T18:32:09.670Z"
   },
   {
    "duration": -1107,
    "start_time": "2022-02-22T18:32:09.672Z"
   },
   {
    "duration": -1109,
    "start_time": "2022-02-22T18:32:09.676Z"
   },
   {
    "duration": -1113,
    "start_time": "2022-02-22T18:32:09.684Z"
   },
   {
    "duration": -1114,
    "start_time": "2022-02-22T18:32:09.687Z"
   },
   {
    "duration": -1123,
    "start_time": "2022-02-22T18:32:09.698Z"
   },
   {
    "duration": -1123,
    "start_time": "2022-02-22T18:32:09.700Z"
   },
   {
    "duration": -1125,
    "start_time": "2022-02-22T18:32:09.703Z"
   },
   {
    "duration": -1133,
    "start_time": "2022-02-22T18:32:09.716Z"
   },
   {
    "duration": -1133,
    "start_time": "2022-02-22T18:32:09.718Z"
   },
   {
    "duration": -1134,
    "start_time": "2022-02-22T18:32:09.721Z"
   },
   {
    "duration": -1135,
    "start_time": "2022-02-22T18:32:09.723Z"
   },
   {
    "duration": -1133,
    "start_time": "2022-02-22T18:32:09.726Z"
   },
   {
    "duration": 1559,
    "start_time": "2022-02-22T18:35:44.480Z"
   },
   {
    "duration": 4,
    "start_time": "2022-02-22T18:36:11.049Z"
   },
   {
    "duration": 3,
    "start_time": "2022-02-22T18:39:03.024Z"
   },
   {
    "duration": 3,
    "start_time": "2022-02-22T18:39:53.528Z"
   },
   {
    "duration": 12,
    "start_time": "2022-02-22T18:47:14.044Z"
   },
   {
    "duration": 4,
    "start_time": "2022-02-22T18:47:40.927Z"
   },
   {
    "duration": 12,
    "start_time": "2022-02-22T18:47:45.238Z"
   },
   {
    "duration": 2,
    "start_time": "2022-02-22T18:48:14.900Z"
   },
   {
    "duration": 172,
    "start_time": "2022-02-22T18:48:14.904Z"
   },
   {
    "duration": 12,
    "start_time": "2022-02-22T18:48:15.079Z"
   },
   {
    "duration": 13,
    "start_time": "2022-02-22T18:48:15.093Z"
   },
   {
    "duration": 13,
    "start_time": "2022-02-22T18:48:15.107Z"
   },
   {
    "duration": 26,
    "start_time": "2022-02-22T18:48:15.121Z"
   },
   {
    "duration": 27,
    "start_time": "2022-02-22T18:48:15.150Z"
   },
   {
    "duration": 24,
    "start_time": "2022-02-22T18:48:15.179Z"
   },
   {
    "duration": 17,
    "start_time": "2022-02-22T18:48:15.205Z"
   },
   {
    "duration": 26,
    "start_time": "2022-02-22T18:48:15.224Z"
   },
   {
    "duration": 83,
    "start_time": "2022-02-22T18:48:15.252Z"
   },
   {
    "duration": 82,
    "start_time": "2022-02-22T18:48:15.337Z"
   },
   {
    "duration": 68,
    "start_time": "2022-02-22T18:48:15.421Z"
   },
   {
    "duration": 9,
    "start_time": "2022-02-22T18:48:15.491Z"
   },
   {
    "duration": 3,
    "start_time": "2022-02-22T18:48:15.502Z"
   },
   {
    "duration": 20,
    "start_time": "2022-02-22T18:48:15.508Z"
   },
   {
    "duration": 10,
    "start_time": "2022-02-22T18:48:15.530Z"
   },
   {
    "duration": 36,
    "start_time": "2022-02-22T18:48:15.542Z"
   },
   {
    "duration": 12,
    "start_time": "2022-02-22T18:48:15.581Z"
   },
   {
    "duration": 3,
    "start_time": "2022-02-22T18:48:15.595Z"
   },
   {
    "duration": 18,
    "start_time": "2022-02-22T18:48:15.600Z"
   },
   {
    "duration": 3,
    "start_time": "2022-02-22T18:48:15.619Z"
   },
   {
    "duration": 6,
    "start_time": "2022-02-22T18:48:15.624Z"
   },
   {
    "duration": 16,
    "start_time": "2022-02-22T18:48:15.631Z"
   },
   {
    "duration": 24,
    "start_time": "2022-02-22T18:48:15.648Z"
   },
   {
    "duration": 18,
    "start_time": "2022-02-22T18:48:15.674Z"
   },
   {
    "duration": 7,
    "start_time": "2022-02-22T18:48:15.693Z"
   },
   {
    "duration": 6,
    "start_time": "2022-02-22T18:48:15.701Z"
   },
   {
    "duration": 9,
    "start_time": "2022-02-22T18:48:15.709Z"
   },
   {
    "duration": 5,
    "start_time": "2022-02-22T18:48:15.720Z"
   },
   {
    "duration": 11,
    "start_time": "2022-02-22T18:48:15.727Z"
   },
   {
    "duration": 12,
    "start_time": "2022-02-22T18:48:15.740Z"
   },
   {
    "duration": 10,
    "start_time": "2022-02-22T18:48:15.754Z"
   },
   {
    "duration": 21,
    "start_time": "2022-02-22T18:48:15.765Z"
   },
   {
    "duration": 5,
    "start_time": "2022-02-22T18:48:15.788Z"
   },
   {
    "duration": 7,
    "start_time": "2022-02-22T18:48:15.795Z"
   },
   {
    "duration": 13,
    "start_time": "2022-02-22T18:48:15.804Z"
   },
   {
    "duration": 10,
    "start_time": "2022-02-22T18:48:15.819Z"
   },
   {
    "duration": 313,
    "start_time": "2022-02-22T18:49:30.598Z"
   },
   {
    "duration": 4,
    "start_time": "2022-02-22T18:49:40.681Z"
   },
   {
    "duration": 13,
    "start_time": "2022-02-22T18:49:46.726Z"
   },
   {
    "duration": 2,
    "start_time": "2022-02-22T19:38:33.126Z"
   },
   {
    "duration": 157,
    "start_time": "2022-02-22T19:38:33.130Z"
   },
   {
    "duration": 11,
    "start_time": "2022-02-22T19:38:33.289Z"
   },
   {
    "duration": 13,
    "start_time": "2022-02-22T19:38:33.301Z"
   },
   {
    "duration": 7,
    "start_time": "2022-02-22T19:38:33.316Z"
   },
   {
    "duration": 16,
    "start_time": "2022-02-22T19:38:33.325Z"
   },
   {
    "duration": 4,
    "start_time": "2022-02-22T19:38:33.342Z"
   },
   {
    "duration": 25,
    "start_time": "2022-02-22T19:38:33.369Z"
   },
   {
    "duration": 19,
    "start_time": "2022-02-22T19:38:33.398Z"
   },
   {
    "duration": 26,
    "start_time": "2022-02-22T19:38:33.420Z"
   },
   {
    "duration": 81,
    "start_time": "2022-02-22T19:38:33.448Z"
   },
   {
    "duration": 87,
    "start_time": "2022-02-22T19:38:33.531Z"
   },
   {
    "duration": 60,
    "start_time": "2022-02-22T19:38:33.620Z"
   },
   {
    "duration": 11,
    "start_time": "2022-02-22T19:38:33.682Z"
   },
   {
    "duration": 11,
    "start_time": "2022-02-22T19:38:33.695Z"
   },
   {
    "duration": 27,
    "start_time": "2022-02-22T19:38:33.708Z"
   },
   {
    "duration": 12,
    "start_time": "2022-02-22T19:38:33.737Z"
   },
   {
    "duration": 24,
    "start_time": "2022-02-22T19:38:33.751Z"
   },
   {
    "duration": 11,
    "start_time": "2022-02-22T19:38:33.777Z"
   },
   {
    "duration": 8,
    "start_time": "2022-02-22T19:38:33.789Z"
   },
   {
    "duration": 19,
    "start_time": "2022-02-22T19:38:33.799Z"
   },
   {
    "duration": 4,
    "start_time": "2022-02-22T19:38:33.820Z"
   },
   {
    "duration": 7,
    "start_time": "2022-02-22T19:38:33.825Z"
   },
   {
    "duration": 10,
    "start_time": "2022-02-22T19:38:33.834Z"
   },
   {
    "duration": 7,
    "start_time": "2022-02-22T19:38:33.846Z"
   },
   {
    "duration": 15,
    "start_time": "2022-02-22T19:38:33.870Z"
   },
   {
    "duration": 4,
    "start_time": "2022-02-22T19:38:33.888Z"
   },
   {
    "duration": 6,
    "start_time": "2022-02-22T19:38:33.894Z"
   },
   {
    "duration": 9,
    "start_time": "2022-02-22T19:38:33.903Z"
   },
   {
    "duration": 6,
    "start_time": "2022-02-22T19:38:33.914Z"
   },
   {
    "duration": 9,
    "start_time": "2022-02-22T19:38:33.921Z"
   },
   {
    "duration": 7,
    "start_time": "2022-02-22T19:38:33.932Z"
   },
   {
    "duration": 18,
    "start_time": "2022-02-22T19:38:33.941Z"
   },
   {
    "duration": 5,
    "start_time": "2022-02-22T19:38:33.960Z"
   },
   {
    "duration": 7,
    "start_time": "2022-02-22T19:38:33.967Z"
   },
   {
    "duration": 6,
    "start_time": "2022-02-22T19:38:33.975Z"
   },
   {
    "duration": 4,
    "start_time": "2022-02-22T19:38:33.983Z"
   },
   {
    "duration": 5,
    "start_time": "2022-02-22T19:38:33.989Z"
   },
   {
    "duration": 2,
    "start_time": "2022-02-22T19:38:39.334Z"
   },
   {
    "duration": 170,
    "start_time": "2022-02-22T19:38:39.345Z"
   },
   {
    "duration": 11,
    "start_time": "2022-02-22T19:38:39.517Z"
   },
   {
    "duration": 12,
    "start_time": "2022-02-22T19:38:39.530Z"
   },
   {
    "duration": 6,
    "start_time": "2022-02-22T19:38:39.544Z"
   },
   {
    "duration": 17,
    "start_time": "2022-02-22T19:38:39.569Z"
   },
   {
    "duration": 4,
    "start_time": "2022-02-22T19:38:39.588Z"
   },
   {
    "duration": 27,
    "start_time": "2022-02-22T19:38:39.594Z"
   },
   {
    "duration": 20,
    "start_time": "2022-02-22T19:38:39.623Z"
   },
   {
    "duration": 47,
    "start_time": "2022-02-22T19:38:39.645Z"
   },
   {
    "duration": 77,
    "start_time": "2022-02-22T19:38:39.693Z"
   },
   {
    "duration": 65,
    "start_time": "2022-02-22T19:38:39.772Z"
   },
   {
    "duration": 71,
    "start_time": "2022-02-22T19:38:39.839Z"
   },
   {
    "duration": 9,
    "start_time": "2022-02-22T19:38:39.911Z"
   },
   {
    "duration": 3,
    "start_time": "2022-02-22T19:38:39.922Z"
   },
   {
    "duration": 14,
    "start_time": "2022-02-22T19:38:39.926Z"
   },
   {
    "duration": 28,
    "start_time": "2022-02-22T19:38:39.942Z"
   },
   {
    "duration": 12,
    "start_time": "2022-02-22T19:38:39.972Z"
   },
   {
    "duration": 10,
    "start_time": "2022-02-22T19:38:39.986Z"
   },
   {
    "duration": 3,
    "start_time": "2022-02-22T19:38:39.998Z"
   },
   {
    "duration": 17,
    "start_time": "2022-02-22T19:38:40.003Z"
   },
   {
    "duration": 6,
    "start_time": "2022-02-22T19:38:40.022Z"
   },
   {
    "duration": 10,
    "start_time": "2022-02-22T19:38:40.029Z"
   },
   {
    "duration": 2,
    "start_time": "2022-02-22T19:38:40.072Z"
   },
   {
    "duration": 5,
    "start_time": "2022-02-22T19:38:40.076Z"
   },
   {
    "duration": 7,
    "start_time": "2022-02-22T19:38:40.083Z"
   },
   {
    "duration": 6,
    "start_time": "2022-02-22T19:38:40.092Z"
   },
   {
    "duration": 6,
    "start_time": "2022-02-22T19:38:40.100Z"
   },
   {
    "duration": 5,
    "start_time": "2022-02-22T19:38:40.108Z"
   },
   {
    "duration": 8,
    "start_time": "2022-02-22T19:38:40.115Z"
   },
   {
    "duration": 15,
    "start_time": "2022-02-22T19:38:40.125Z"
   },
   {
    "duration": 4,
    "start_time": "2022-02-22T19:38:40.142Z"
   },
   {
    "duration": 8,
    "start_time": "2022-02-22T19:38:40.157Z"
   },
   {
    "duration": 5,
    "start_time": "2022-02-22T19:38:40.168Z"
   },
   {
    "duration": 5,
    "start_time": "2022-02-22T19:38:40.175Z"
   },
   {
    "duration": 6,
    "start_time": "2022-02-22T19:38:40.182Z"
   },
   {
    "duration": 5,
    "start_time": "2022-02-22T19:38:40.190Z"
   },
   {
    "duration": 15,
    "start_time": "2022-02-22T19:38:40.197Z"
   },
   {
    "duration": 3,
    "start_time": "2022-02-22T19:51:15.735Z"
   },
   {
    "duration": 184,
    "start_time": "2022-02-22T19:51:15.742Z"
   },
   {
    "duration": 10,
    "start_time": "2022-02-22T19:51:15.928Z"
   },
   {
    "duration": 9,
    "start_time": "2022-02-22T19:51:15.941Z"
   },
   {
    "duration": 20,
    "start_time": "2022-02-22T19:51:15.952Z"
   },
   {
    "duration": 18,
    "start_time": "2022-02-22T19:51:15.974Z"
   },
   {
    "duration": 5,
    "start_time": "2022-02-22T19:51:15.993Z"
   },
   {
    "duration": 28,
    "start_time": "2022-02-22T19:51:16.000Z"
   },
   {
    "duration": 50,
    "start_time": "2022-02-22T19:51:16.030Z"
   },
   {
    "duration": 25,
    "start_time": "2022-02-22T19:51:16.083Z"
   },
   {
    "duration": 82,
    "start_time": "2022-02-22T19:51:16.110Z"
   },
   {
    "duration": 85,
    "start_time": "2022-02-22T19:51:16.194Z"
   },
   {
    "duration": 59,
    "start_time": "2022-02-22T19:51:16.281Z"
   },
   {
    "duration": 11,
    "start_time": "2022-02-22T19:51:16.341Z"
   },
   {
    "duration": 17,
    "start_time": "2022-02-22T19:51:16.353Z"
   },
   {
    "duration": 13,
    "start_time": "2022-02-22T19:51:16.372Z"
   },
   {
    "duration": 9,
    "start_time": "2022-02-22T19:51:16.388Z"
   },
   {
    "duration": 13,
    "start_time": "2022-02-22T19:51:16.399Z"
   },
   {
    "duration": 10,
    "start_time": "2022-02-22T19:51:16.414Z"
   },
   {
    "duration": 149,
    "start_time": "2022-02-22T19:51:16.426Z"
   },
   {
    "duration": -1019,
    "start_time": "2022-02-22T19:51:17.596Z"
   },
   {
    "duration": -1025,
    "start_time": "2022-02-22T19:51:17.603Z"
   },
   {
    "duration": -1027,
    "start_time": "2022-02-22T19:51:17.606Z"
   },
   {
    "duration": -1030,
    "start_time": "2022-02-22T19:51:17.610Z"
   },
   {
    "duration": -1031,
    "start_time": "2022-02-22T19:51:17.613Z"
   },
   {
    "duration": -1033,
    "start_time": "2022-02-22T19:51:17.616Z"
   },
   {
    "duration": -1035,
    "start_time": "2022-02-22T19:51:17.619Z"
   },
   {
    "duration": -1044,
    "start_time": "2022-02-22T19:51:17.629Z"
   },
   {
    "duration": -1047,
    "start_time": "2022-02-22T19:51:17.633Z"
   },
   {
    "duration": -1049,
    "start_time": "2022-02-22T19:51:17.636Z"
   },
   {
    "duration": -1050,
    "start_time": "2022-02-22T19:51:17.639Z"
   },
   {
    "duration": -1054,
    "start_time": "2022-02-22T19:51:17.644Z"
   },
   {
    "duration": -1056,
    "start_time": "2022-02-22T19:51:17.647Z"
   },
   {
    "duration": -1058,
    "start_time": "2022-02-22T19:51:17.650Z"
   },
   {
    "duration": -1060,
    "start_time": "2022-02-22T19:51:17.653Z"
   },
   {
    "duration": -1062,
    "start_time": "2022-02-22T19:51:17.656Z"
   },
   {
    "duration": -1064,
    "start_time": "2022-02-22T19:51:17.659Z"
   },
   {
    "duration": -1066,
    "start_time": "2022-02-22T19:51:17.662Z"
   },
   {
    "duration": 4,
    "start_time": "2022-02-22T19:55:11.597Z"
   },
   {
    "duration": -1064,
    "start_time": "2022-02-22T19:55:28.308Z"
   },
   {
    "duration": 3,
    "start_time": "2022-02-22T19:55:33.715Z"
   },
   {
    "duration": 6915,
    "start_time": "2022-02-22T19:55:42.719Z"
   },
   {
    "duration": 3,
    "start_time": "2022-02-22T19:56:44.359Z"
   },
   {
    "duration": 169,
    "start_time": "2022-02-22T19:56:44.364Z"
   },
   {
    "duration": 11,
    "start_time": "2022-02-22T19:56:44.535Z"
   },
   {
    "duration": 11,
    "start_time": "2022-02-22T19:56:44.548Z"
   },
   {
    "duration": 4,
    "start_time": "2022-02-22T19:56:44.570Z"
   },
   {
    "duration": 19,
    "start_time": "2022-02-22T19:56:44.576Z"
   },
   {
    "duration": 4,
    "start_time": "2022-02-22T19:56:44.597Z"
   },
   {
    "duration": 33,
    "start_time": "2022-02-22T19:56:44.603Z"
   },
   {
    "duration": 39,
    "start_time": "2022-02-22T19:56:44.638Z"
   },
   {
    "duration": 25,
    "start_time": "2022-02-22T19:56:44.679Z"
   },
   {
    "duration": 72,
    "start_time": "2022-02-22T19:56:44.706Z"
   },
   {
    "duration": 65,
    "start_time": "2022-02-22T19:56:44.780Z"
   },
   {
    "duration": 67,
    "start_time": "2022-02-22T19:56:44.847Z"
   },
   {
    "duration": 9,
    "start_time": "2022-02-22T19:56:44.916Z"
   },
   {
    "duration": 3,
    "start_time": "2022-02-22T19:56:44.927Z"
   },
   {
    "duration": 15,
    "start_time": "2022-02-22T19:56:44.932Z"
   },
   {
    "duration": 28,
    "start_time": "2022-02-22T19:56:44.949Z"
   },
   {
    "duration": 13,
    "start_time": "2022-02-22T19:56:44.979Z"
   },
   {
    "duration": 16,
    "start_time": "2022-02-22T19:56:44.995Z"
   },
   {
    "duration": 3,
    "start_time": "2022-02-22T19:56:45.015Z"
   },
   {
    "duration": 6305,
    "start_time": "2022-02-22T19:56:45.020Z"
   },
   {
    "duration": -1057,
    "start_time": "2022-02-22T19:56:52.384Z"
   },
   {
    "duration": -1058,
    "start_time": "2022-02-22T19:56:52.386Z"
   },
   {
    "duration": -1060,
    "start_time": "2022-02-22T19:56:52.389Z"
   },
   {
    "duration": -1061,
    "start_time": "2022-02-22T19:56:52.391Z"
   },
   {
    "duration": -1063,
    "start_time": "2022-02-22T19:56:52.394Z"
   },
   {
    "duration": -1065,
    "start_time": "2022-02-22T19:56:52.397Z"
   },
   {
    "duration": -1066,
    "start_time": "2022-02-22T19:56:52.399Z"
   },
   {
    "duration": -1068,
    "start_time": "2022-02-22T19:56:52.402Z"
   },
   {
    "duration": -1069,
    "start_time": "2022-02-22T19:56:52.404Z"
   },
   {
    "duration": -1071,
    "start_time": "2022-02-22T19:56:52.407Z"
   },
   {
    "duration": -1073,
    "start_time": "2022-02-22T19:56:52.410Z"
   },
   {
    "duration": -1074,
    "start_time": "2022-02-22T19:56:52.413Z"
   },
   {
    "duration": -1075,
    "start_time": "2022-02-22T19:56:52.415Z"
   },
   {
    "duration": -1089,
    "start_time": "2022-02-22T19:56:52.430Z"
   },
   {
    "duration": -1090,
    "start_time": "2022-02-22T19:56:52.432Z"
   },
   {
    "duration": -1092,
    "start_time": "2022-02-22T19:56:52.435Z"
   },
   {
    "duration": -1095,
    "start_time": "2022-02-22T19:56:52.439Z"
   },
   {
    "duration": 3,
    "start_time": "2022-02-22T19:57:49.518Z"
   },
   {
    "duration": 162,
    "start_time": "2022-02-22T19:57:49.524Z"
   },
   {
    "duration": 11,
    "start_time": "2022-02-22T19:57:49.689Z"
   },
   {
    "duration": 10,
    "start_time": "2022-02-22T19:57:49.702Z"
   },
   {
    "duration": 10,
    "start_time": "2022-02-22T19:57:49.713Z"
   },
   {
    "duration": 16,
    "start_time": "2022-02-22T19:57:49.725Z"
   },
   {
    "duration": 4,
    "start_time": "2022-02-22T19:57:49.743Z"
   },
   {
    "duration": 26,
    "start_time": "2022-02-22T19:57:49.770Z"
   },
   {
    "duration": 22,
    "start_time": "2022-02-22T19:57:49.797Z"
   },
   {
    "duration": 27,
    "start_time": "2022-02-22T19:57:49.820Z"
   },
   {
    "duration": 67,
    "start_time": "2022-02-22T19:57:49.870Z"
   },
   {
    "duration": 96,
    "start_time": "2022-02-22T19:57:49.939Z"
   },
   {
    "duration": 70,
    "start_time": "2022-02-22T19:57:50.038Z"
   },
   {
    "duration": 10,
    "start_time": "2022-02-22T19:57:50.110Z"
   },
   {
    "duration": 7,
    "start_time": "2022-02-22T19:57:50.122Z"
   },
   {
    "duration": 13,
    "start_time": "2022-02-22T19:57:50.131Z"
   },
   {
    "duration": 30,
    "start_time": "2022-02-22T19:57:50.146Z"
   },
   {
    "duration": 12,
    "start_time": "2022-02-22T19:57:50.178Z"
   },
   {
    "duration": 10,
    "start_time": "2022-02-22T19:57:50.193Z"
   },
   {
    "duration": 3,
    "start_time": "2022-02-22T19:57:50.205Z"
   },
   {
    "duration": 17,
    "start_time": "2022-02-22T19:57:50.210Z"
   },
   {
    "duration": 40,
    "start_time": "2022-02-22T19:57:50.229Z"
   },
   {
    "duration": 5,
    "start_time": "2022-02-22T19:57:50.271Z"
   },
   {
    "duration": 8,
    "start_time": "2022-02-22T19:57:50.278Z"
   },
   {
    "duration": 8,
    "start_time": "2022-02-22T19:57:50.287Z"
   },
   {
    "duration": 4,
    "start_time": "2022-02-22T19:57:50.297Z"
   },
   {
    "duration": 4,
    "start_time": "2022-02-22T19:57:50.303Z"
   },
   {
    "duration": 6,
    "start_time": "2022-02-22T19:57:50.309Z"
   },
   {
    "duration": 6,
    "start_time": "2022-02-22T19:57:50.316Z"
   },
   {
    "duration": 5,
    "start_time": "2022-02-22T19:57:50.324Z"
   },
   {
    "duration": 6,
    "start_time": "2022-02-22T19:57:50.331Z"
   },
   {
    "duration": 5,
    "start_time": "2022-02-22T19:57:50.339Z"
   },
   {
    "duration": 8,
    "start_time": "2022-02-22T19:57:50.346Z"
   },
   {
    "duration": 9,
    "start_time": "2022-02-22T19:57:50.369Z"
   },
   {
    "duration": 6,
    "start_time": "2022-02-22T19:57:50.380Z"
   },
   {
    "duration": 5,
    "start_time": "2022-02-22T19:57:50.388Z"
   },
   {
    "duration": 6,
    "start_time": "2022-02-22T19:57:50.395Z"
   },
   {
    "duration": 5,
    "start_time": "2022-02-22T19:57:50.402Z"
   },
   {
    "duration": 3,
    "start_time": "2022-02-22T19:59:18.312Z"
   },
   {
    "duration": 162,
    "start_time": "2022-02-22T19:59:18.317Z"
   },
   {
    "duration": 11,
    "start_time": "2022-02-22T19:59:18.481Z"
   },
   {
    "duration": 11,
    "start_time": "2022-02-22T19:59:18.494Z"
   },
   {
    "duration": 9,
    "start_time": "2022-02-22T19:59:18.506Z"
   },
   {
    "duration": 21,
    "start_time": "2022-02-22T19:59:18.517Z"
   },
   {
    "duration": 4,
    "start_time": "2022-02-22T19:59:18.540Z"
   },
   {
    "duration": 25,
    "start_time": "2022-02-22T19:59:18.571Z"
   },
   {
    "duration": 20,
    "start_time": "2022-02-22T19:59:18.598Z"
   },
   {
    "duration": 28,
    "start_time": "2022-02-22T19:59:18.620Z"
   },
   {
    "duration": 58,
    "start_time": "2022-02-22T19:59:18.669Z"
   },
   {
    "duration": 81,
    "start_time": "2022-02-22T19:59:18.728Z"
   },
   {
    "duration": 64,
    "start_time": "2022-02-22T19:59:18.811Z"
   },
   {
    "duration": 9,
    "start_time": "2022-02-22T19:59:18.877Z"
   },
   {
    "duration": 6,
    "start_time": "2022-02-22T19:59:18.888Z"
   },
   {
    "duration": 13,
    "start_time": "2022-02-22T19:59:18.895Z"
   },
   {
    "duration": 10,
    "start_time": "2022-02-22T19:59:18.909Z"
   },
   {
    "duration": 12,
    "start_time": "2022-02-22T19:59:18.920Z"
   },
   {
    "duration": 37,
    "start_time": "2022-02-22T19:59:18.933Z"
   },
   {
    "duration": 3,
    "start_time": "2022-02-22T19:59:18.973Z"
   },
   {
    "duration": 6581,
    "start_time": "2022-02-22T19:59:18.978Z"
   },
   {
    "duration": -1060,
    "start_time": "2022-02-22T19:59:26.621Z"
   },
   {
    "duration": -1062,
    "start_time": "2022-02-22T19:59:26.624Z"
   },
   {
    "duration": -1063,
    "start_time": "2022-02-22T19:59:26.627Z"
   },
   {
    "duration": -1064,
    "start_time": "2022-02-22T19:59:26.629Z"
   },
   {
    "duration": -1066,
    "start_time": "2022-02-22T19:59:26.632Z"
   },
   {
    "duration": -1069,
    "start_time": "2022-02-22T19:59:26.636Z"
   },
   {
    "duration": -1071,
    "start_time": "2022-02-22T19:59:26.639Z"
   },
   {
    "duration": -1073,
    "start_time": "2022-02-22T19:59:26.642Z"
   },
   {
    "duration": -1075,
    "start_time": "2022-02-22T19:59:26.645Z"
   },
   {
    "duration": -1077,
    "start_time": "2022-02-22T19:59:26.647Z"
   },
   {
    "duration": -1079,
    "start_time": "2022-02-22T19:59:26.650Z"
   },
   {
    "duration": -1080,
    "start_time": "2022-02-22T19:59:26.652Z"
   },
   {
    "duration": -1082,
    "start_time": "2022-02-22T19:59:26.655Z"
   },
   {
    "duration": -1084,
    "start_time": "2022-02-22T19:59:26.658Z"
   },
   {
    "duration": -1094,
    "start_time": "2022-02-22T19:59:26.669Z"
   },
   {
    "duration": -1097,
    "start_time": "2022-02-22T19:59:26.672Z"
   },
   {
    "duration": -1098,
    "start_time": "2022-02-22T19:59:26.674Z"
   },
   {
    "duration": 3,
    "start_time": "2022-02-22T20:00:15.116Z"
   },
   {
    "duration": 162,
    "start_time": "2022-02-22T20:00:15.140Z"
   },
   {
    "duration": 11,
    "start_time": "2022-02-22T20:00:15.304Z"
   },
   {
    "duration": 15,
    "start_time": "2022-02-22T20:00:15.317Z"
   },
   {
    "duration": 9,
    "start_time": "2022-02-22T20:00:15.334Z"
   },
   {
    "duration": 27,
    "start_time": "2022-02-22T20:00:15.344Z"
   },
   {
    "duration": 4,
    "start_time": "2022-02-22T20:00:15.373Z"
   },
   {
    "duration": 33,
    "start_time": "2022-02-22T20:00:15.379Z"
   },
   {
    "duration": 25,
    "start_time": "2022-02-22T20:00:15.414Z"
   },
   {
    "duration": 35,
    "start_time": "2022-02-22T20:00:15.442Z"
   },
   {
    "duration": 63,
    "start_time": "2022-02-22T20:00:15.480Z"
   },
   {
    "duration": 83,
    "start_time": "2022-02-22T20:00:15.545Z"
   },
   {
    "duration": 71,
    "start_time": "2022-02-22T20:00:15.630Z"
   },
   {
    "duration": 10,
    "start_time": "2022-02-22T20:00:15.703Z"
   },
   {
    "duration": 4,
    "start_time": "2022-02-22T20:00:15.715Z"
   },
   {
    "duration": 13,
    "start_time": "2022-02-22T20:00:15.720Z"
   },
   {
    "duration": 35,
    "start_time": "2022-02-22T20:00:15.734Z"
   },
   {
    "duration": 13,
    "start_time": "2022-02-22T20:00:15.771Z"
   },
   {
    "duration": 11,
    "start_time": "2022-02-22T20:00:15.786Z"
   },
   {
    "duration": 3,
    "start_time": "2022-02-22T20:00:15.799Z"
   },
   {
    "duration": 6717,
    "start_time": "2022-02-22T20:00:15.804Z"
   },
   {
    "duration": -1092,
    "start_time": "2022-02-22T20:00:23.616Z"
   },
   {
    "duration": -1108,
    "start_time": "2022-02-22T20:00:23.633Z"
   },
   {
    "duration": -1119,
    "start_time": "2022-02-22T20:00:23.644Z"
   },
   {
    "duration": -1125,
    "start_time": "2022-02-22T20:00:23.652Z"
   },
   {
    "duration": -1127,
    "start_time": "2022-02-22T20:00:23.655Z"
   },
   {
    "duration": -1130,
    "start_time": "2022-02-22T20:00:23.658Z"
   },
   {
    "duration": -1134,
    "start_time": "2022-02-22T20:00:23.663Z"
   },
   {
    "duration": -1136,
    "start_time": "2022-02-22T20:00:23.666Z"
   },
   {
    "duration": -1137,
    "start_time": "2022-02-22T20:00:23.668Z"
   },
   {
    "duration": -1149,
    "start_time": "2022-02-22T20:00:23.681Z"
   },
   {
    "duration": -1151,
    "start_time": "2022-02-22T20:00:23.684Z"
   },
   {
    "duration": -1153,
    "start_time": "2022-02-22T20:00:23.686Z"
   },
   {
    "duration": -1155,
    "start_time": "2022-02-22T20:00:23.689Z"
   },
   {
    "duration": -1156,
    "start_time": "2022-02-22T20:00:23.691Z"
   },
   {
    "duration": -1159,
    "start_time": "2022-02-22T20:00:23.695Z"
   },
   {
    "duration": -1161,
    "start_time": "2022-02-22T20:00:23.698Z"
   },
   {
    "duration": -1163,
    "start_time": "2022-02-22T20:00:23.701Z"
   },
   {
    "duration": 2,
    "start_time": "2022-02-22T20:01:11.407Z"
   },
   {
    "duration": 159,
    "start_time": "2022-02-22T20:01:11.411Z"
   },
   {
    "duration": 11,
    "start_time": "2022-02-22T20:01:11.572Z"
   },
   {
    "duration": 14,
    "start_time": "2022-02-22T20:01:11.585Z"
   },
   {
    "duration": 9,
    "start_time": "2022-02-22T20:01:11.601Z"
   },
   {
    "duration": 16,
    "start_time": "2022-02-22T20:01:11.612Z"
   },
   {
    "duration": 4,
    "start_time": "2022-02-22T20:01:11.631Z"
   },
   {
    "duration": 53,
    "start_time": "2022-02-22T20:01:11.637Z"
   },
   {
    "duration": 24,
    "start_time": "2022-02-22T20:01:11.692Z"
   },
   {
    "duration": 27,
    "start_time": "2022-02-22T20:01:11.717Z"
   },
   {
    "duration": 84,
    "start_time": "2022-02-22T20:01:11.746Z"
   },
   {
    "duration": 83,
    "start_time": "2022-02-22T20:01:11.832Z"
   },
   {
    "duration": 63,
    "start_time": "2022-02-22T20:01:11.917Z"
   },
   {
    "duration": 10,
    "start_time": "2022-02-22T20:01:11.982Z"
   },
   {
    "duration": 4,
    "start_time": "2022-02-22T20:01:11.994Z"
   },
   {
    "duration": 16,
    "start_time": "2022-02-22T20:01:12.000Z"
   },
   {
    "duration": 14,
    "start_time": "2022-02-22T20:01:12.018Z"
   },
   {
    "duration": 42,
    "start_time": "2022-02-22T20:01:12.034Z"
   },
   {
    "duration": 11,
    "start_time": "2022-02-22T20:01:12.080Z"
   },
   {
    "duration": 12,
    "start_time": "2022-02-22T20:01:12.094Z"
   },
   {
    "duration": 27,
    "start_time": "2022-02-22T20:01:12.108Z"
   },
   {
    "duration": 5,
    "start_time": "2022-02-22T20:01:12.137Z"
   },
   {
    "duration": 7,
    "start_time": "2022-02-22T20:01:12.144Z"
   },
   {
    "duration": 6,
    "start_time": "2022-02-22T20:01:12.152Z"
   },
   {
    "duration": 15,
    "start_time": "2022-02-22T20:01:12.159Z"
   },
   {
    "duration": 8,
    "start_time": "2022-02-22T20:01:12.175Z"
   },
   {
    "duration": 6,
    "start_time": "2022-02-22T20:01:12.185Z"
   },
   {
    "duration": 6,
    "start_time": "2022-02-22T20:01:12.193Z"
   },
   {
    "duration": 6,
    "start_time": "2022-02-22T20:01:12.201Z"
   },
   {
    "duration": 11,
    "start_time": "2022-02-22T20:01:12.209Z"
   },
   {
    "duration": 6,
    "start_time": "2022-02-22T20:01:12.221Z"
   },
   {
    "duration": 10,
    "start_time": "2022-02-22T20:01:12.229Z"
   },
   {
    "duration": 6,
    "start_time": "2022-02-22T20:01:12.241Z"
   },
   {
    "duration": 9,
    "start_time": "2022-02-22T20:01:12.249Z"
   },
   {
    "duration": 8,
    "start_time": "2022-02-22T20:01:12.260Z"
   },
   {
    "duration": 8,
    "start_time": "2022-02-22T20:01:12.270Z"
   },
   {
    "duration": 6,
    "start_time": "2022-02-22T20:01:12.279Z"
   },
   {
    "duration": 7,
    "start_time": "2022-02-22T20:01:12.286Z"
   },
   {
    "duration": 3,
    "start_time": "2022-02-22T20:01:30.669Z"
   },
   {
    "duration": 195,
    "start_time": "2022-02-22T20:01:30.674Z"
   },
   {
    "duration": 12,
    "start_time": "2022-02-22T20:01:30.871Z"
   },
   {
    "duration": 14,
    "start_time": "2022-02-22T20:01:30.885Z"
   },
   {
    "duration": 20,
    "start_time": "2022-02-22T20:01:30.901Z"
   },
   {
    "duration": 33,
    "start_time": "2022-02-22T20:01:30.923Z"
   },
   {
    "duration": 10,
    "start_time": "2022-02-22T20:01:30.959Z"
   },
   {
    "duration": 27,
    "start_time": "2022-02-22T20:01:30.972Z"
   },
   {
    "duration": 31,
    "start_time": "2022-02-22T20:01:31.001Z"
   },
   {
    "duration": 40,
    "start_time": "2022-02-22T20:01:31.034Z"
   },
   {
    "duration": 75,
    "start_time": "2022-02-22T20:01:31.076Z"
   },
   {
    "duration": 66,
    "start_time": "2022-02-22T20:01:31.153Z"
   },
   {
    "duration": 63,
    "start_time": "2022-02-22T20:01:31.221Z"
   },
   {
    "duration": 9,
    "start_time": "2022-02-22T20:01:31.286Z"
   },
   {
    "duration": 6,
    "start_time": "2022-02-22T20:01:31.297Z"
   },
   {
    "duration": 14,
    "start_time": "2022-02-22T20:01:31.304Z"
   },
   {
    "duration": 13,
    "start_time": "2022-02-22T20:01:31.320Z"
   },
   {
    "duration": 12,
    "start_time": "2022-02-22T20:01:31.335Z"
   },
   {
    "duration": 28,
    "start_time": "2022-02-22T20:01:31.350Z"
   },
   {
    "duration": 8,
    "start_time": "2022-02-22T20:01:31.381Z"
   },
   {
    "duration": 40,
    "start_time": "2022-02-22T20:01:31.391Z"
   },
   {
    "duration": 8,
    "start_time": "2022-02-22T20:01:31.433Z"
   },
   {
    "duration": 10,
    "start_time": "2022-02-22T20:01:31.442Z"
   },
   {
    "duration": 10,
    "start_time": "2022-02-22T20:01:31.454Z"
   },
   {
    "duration": 10,
    "start_time": "2022-02-22T20:01:31.466Z"
   },
   {
    "duration": 13,
    "start_time": "2022-02-22T20:01:31.478Z"
   },
   {
    "duration": 16,
    "start_time": "2022-02-22T20:01:31.492Z"
   },
   {
    "duration": 17,
    "start_time": "2022-02-22T20:01:31.509Z"
   },
   {
    "duration": 28,
    "start_time": "2022-02-22T20:01:31.527Z"
   },
   {
    "duration": 7,
    "start_time": "2022-02-22T20:01:31.556Z"
   },
   {
    "duration": 20,
    "start_time": "2022-02-22T20:01:31.565Z"
   },
   {
    "duration": 9,
    "start_time": "2022-02-22T20:01:31.587Z"
   },
   {
    "duration": 13,
    "start_time": "2022-02-22T20:01:31.598Z"
   },
   {
    "duration": 15,
    "start_time": "2022-02-22T20:01:31.612Z"
   },
   {
    "duration": 6,
    "start_time": "2022-02-22T20:01:31.629Z"
   },
   {
    "duration": 16,
    "start_time": "2022-02-22T20:01:31.636Z"
   },
   {
    "duration": 8,
    "start_time": "2022-02-22T20:01:31.654Z"
   },
   {
    "duration": 16,
    "start_time": "2022-02-22T20:01:31.663Z"
   },
   {
    "duration": 3,
    "start_time": "2022-02-22T20:02:05.942Z"
   },
   {
    "duration": 181,
    "start_time": "2022-02-22T20:02:05.947Z"
   },
   {
    "duration": 11,
    "start_time": "2022-02-22T20:02:06.130Z"
   },
   {
    "duration": 14,
    "start_time": "2022-02-22T20:02:06.143Z"
   },
   {
    "duration": 6,
    "start_time": "2022-02-22T20:02:06.170Z"
   },
   {
    "duration": 23,
    "start_time": "2022-02-22T20:02:06.178Z"
   },
   {
    "duration": 5,
    "start_time": "2022-02-22T20:02:06.203Z"
   },
   {
    "duration": 27,
    "start_time": "2022-02-22T20:02:06.212Z"
   },
   {
    "duration": 20,
    "start_time": "2022-02-22T20:02:06.268Z"
   },
   {
    "duration": 28,
    "start_time": "2022-02-22T20:02:06.290Z"
   },
   {
    "duration": 85,
    "start_time": "2022-02-22T20:02:06.320Z"
   },
   {
    "duration": 80,
    "start_time": "2022-02-22T20:02:06.407Z"
   },
   {
    "duration": 58,
    "start_time": "2022-02-22T20:02:06.490Z"
   },
   {
    "duration": 20,
    "start_time": "2022-02-22T20:02:06.550Z"
   },
   {
    "duration": 3,
    "start_time": "2022-02-22T20:02:06.572Z"
   },
   {
    "duration": 16,
    "start_time": "2022-02-22T20:02:06.577Z"
   },
   {
    "duration": 12,
    "start_time": "2022-02-22T20:02:06.596Z"
   },
   {
    "duration": 13,
    "start_time": "2022-02-22T20:02:06.610Z"
   },
   {
    "duration": 49,
    "start_time": "2022-02-22T20:02:06.625Z"
   },
   {
    "duration": 4,
    "start_time": "2022-02-22T20:02:06.675Z"
   },
   {
    "duration": 20,
    "start_time": "2022-02-22T20:02:06.681Z"
   },
   {
    "duration": 7,
    "start_time": "2022-02-22T20:02:06.703Z"
   },
   {
    "duration": 6,
    "start_time": "2022-02-22T20:02:06.714Z"
   },
   {
    "duration": 6,
    "start_time": "2022-02-22T20:02:06.722Z"
   },
   {
    "duration": 5,
    "start_time": "2022-02-22T20:02:06.730Z"
   },
   {
    "duration": 8,
    "start_time": "2022-02-22T20:02:06.737Z"
   },
   {
    "duration": 6,
    "start_time": "2022-02-22T20:02:06.746Z"
   },
   {
    "duration": 24,
    "start_time": "2022-02-22T20:02:06.753Z"
   },
   {
    "duration": 7,
    "start_time": "2022-02-22T20:02:06.780Z"
   },
   {
    "duration": 5,
    "start_time": "2022-02-22T20:02:06.788Z"
   },
   {
    "duration": 11,
    "start_time": "2022-02-22T20:02:06.795Z"
   },
   {
    "duration": 9,
    "start_time": "2022-02-22T20:02:06.808Z"
   },
   {
    "duration": 11,
    "start_time": "2022-02-22T20:02:06.819Z"
   },
   {
    "duration": 5,
    "start_time": "2022-02-22T20:02:06.832Z"
   },
   {
    "duration": 5,
    "start_time": "2022-02-22T20:02:06.839Z"
   },
   {
    "duration": 6,
    "start_time": "2022-02-22T20:02:06.846Z"
   },
   {
    "duration": 7,
    "start_time": "2022-02-22T20:02:06.854Z"
   },
   {
    "duration": 3,
    "start_time": "2022-02-22T20:02:06.869Z"
   },
   {
    "duration": 3,
    "start_time": "2022-02-22T20:02:41.167Z"
   },
   {
    "duration": 171,
    "start_time": "2022-02-22T20:02:41.172Z"
   },
   {
    "duration": 23,
    "start_time": "2022-02-22T20:02:41.345Z"
   },
   {
    "duration": 9,
    "start_time": "2022-02-22T20:02:41.370Z"
   },
   {
    "duration": 13,
    "start_time": "2022-02-22T20:02:41.381Z"
   },
   {
    "duration": 20,
    "start_time": "2022-02-22T20:02:41.396Z"
   },
   {
    "duration": 4,
    "start_time": "2022-02-22T20:02:41.419Z"
   },
   {
    "duration": 48,
    "start_time": "2022-02-22T20:02:41.425Z"
   },
   {
    "duration": 18,
    "start_time": "2022-02-22T20:02:41.474Z"
   },
   {
    "duration": 31,
    "start_time": "2022-02-22T20:02:41.493Z"
   },
   {
    "duration": 79,
    "start_time": "2022-02-22T20:02:41.526Z"
   },
   {
    "duration": 79,
    "start_time": "2022-02-22T20:02:41.607Z"
   },
   {
    "duration": 55,
    "start_time": "2022-02-22T20:02:41.688Z"
   },
   {
    "duration": 25,
    "start_time": "2022-02-22T20:02:41.745Z"
   },
   {
    "duration": 7,
    "start_time": "2022-02-22T20:02:41.772Z"
   },
   {
    "duration": 26,
    "start_time": "2022-02-22T20:02:41.781Z"
   },
   {
    "duration": 29,
    "start_time": "2022-02-22T20:02:41.809Z"
   },
   {
    "duration": 13,
    "start_time": "2022-02-22T20:02:41.840Z"
   },
   {
    "duration": 14,
    "start_time": "2022-02-22T20:02:41.856Z"
   },
   {
    "duration": 16,
    "start_time": "2022-02-22T20:02:41.872Z"
   },
   {
    "duration": 28,
    "start_time": "2022-02-22T20:02:41.890Z"
   },
   {
    "duration": 7,
    "start_time": "2022-02-22T20:02:41.920Z"
   },
   {
    "duration": 14,
    "start_time": "2022-02-22T20:02:41.928Z"
   },
   {
    "duration": 14,
    "start_time": "2022-02-22T20:02:41.944Z"
   },
   {
    "duration": 8,
    "start_time": "2022-02-22T20:02:41.960Z"
   },
   {
    "duration": 25,
    "start_time": "2022-02-22T20:02:41.970Z"
   },
   {
    "duration": 19,
    "start_time": "2022-02-22T20:02:41.997Z"
   },
   {
    "duration": 16,
    "start_time": "2022-02-22T20:02:42.017Z"
   },
   {
    "duration": 12,
    "start_time": "2022-02-22T20:02:42.035Z"
   },
   {
    "duration": 34,
    "start_time": "2022-02-22T20:02:42.049Z"
   },
   {
    "duration": 18,
    "start_time": "2022-02-22T20:02:42.085Z"
   },
   {
    "duration": 9,
    "start_time": "2022-02-22T20:02:42.105Z"
   },
   {
    "duration": 27,
    "start_time": "2022-02-22T20:02:42.115Z"
   },
   {
    "duration": 19,
    "start_time": "2022-02-22T20:02:42.143Z"
   },
   {
    "duration": 28,
    "start_time": "2022-02-22T20:02:42.164Z"
   },
   {
    "duration": 12,
    "start_time": "2022-02-22T20:02:42.194Z"
   },
   {
    "duration": 13,
    "start_time": "2022-02-22T20:02:42.208Z"
   },
   {
    "duration": 15,
    "start_time": "2022-02-22T20:02:42.223Z"
   },
   {
    "duration": 3,
    "start_time": "2022-02-22T20:03:20.501Z"
   },
   {
    "duration": 170,
    "start_time": "2022-02-22T20:03:20.507Z"
   },
   {
    "duration": 11,
    "start_time": "2022-02-22T20:03:20.679Z"
   },
   {
    "duration": 44,
    "start_time": "2022-02-22T20:03:20.692Z"
   },
   {
    "duration": 33,
    "start_time": "2022-02-22T20:03:20.738Z"
   },
   {
    "duration": 41,
    "start_time": "2022-02-22T20:03:20.773Z"
   },
   {
    "duration": 23,
    "start_time": "2022-02-22T20:03:20.817Z"
   },
   {
    "duration": 39,
    "start_time": "2022-02-22T20:03:20.842Z"
   },
   {
    "duration": 47,
    "start_time": "2022-02-22T20:03:20.882Z"
   },
   {
    "duration": 60,
    "start_time": "2022-02-22T20:03:20.930Z"
   },
   {
    "duration": 113,
    "start_time": "2022-02-22T20:03:20.991Z"
   },
   {
    "duration": 85,
    "start_time": "2022-02-22T20:03:21.106Z"
   },
   {
    "duration": 56,
    "start_time": "2022-02-22T20:03:21.193Z"
   },
   {
    "duration": 24,
    "start_time": "2022-02-22T20:03:21.251Z"
   },
   {
    "duration": 24,
    "start_time": "2022-02-22T20:03:21.277Z"
   },
   {
    "duration": 43,
    "start_time": "2022-02-22T20:03:21.303Z"
   },
   {
    "duration": 41,
    "start_time": "2022-02-22T20:03:21.348Z"
   },
   {
    "duration": 48,
    "start_time": "2022-02-22T20:03:21.392Z"
   },
   {
    "duration": 26,
    "start_time": "2022-02-22T20:03:21.445Z"
   },
   {
    "duration": 34,
    "start_time": "2022-02-22T20:03:21.474Z"
   },
   {
    "duration": 54,
    "start_time": "2022-02-22T20:03:21.510Z"
   },
   {
    "duration": 60,
    "start_time": "2022-02-22T20:03:21.566Z"
   },
   {
    "duration": 17,
    "start_time": "2022-02-22T20:03:21.628Z"
   },
   {
    "duration": 30,
    "start_time": "2022-02-22T20:03:21.647Z"
   },
   {
    "duration": 25,
    "start_time": "2022-02-22T20:03:21.678Z"
   },
   {
    "duration": 21,
    "start_time": "2022-02-22T20:03:21.705Z"
   },
   {
    "duration": 20,
    "start_time": "2022-02-22T20:03:21.728Z"
   },
   {
    "duration": 23,
    "start_time": "2022-02-22T20:03:21.750Z"
   },
   {
    "duration": 20,
    "start_time": "2022-02-22T20:03:21.775Z"
   },
   {
    "duration": 19,
    "start_time": "2022-02-22T20:03:21.797Z"
   },
   {
    "duration": 29,
    "start_time": "2022-02-22T20:03:21.818Z"
   },
   {
    "duration": 17,
    "start_time": "2022-02-22T20:03:21.849Z"
   },
   {
    "duration": 25,
    "start_time": "2022-02-22T20:03:21.868Z"
   },
   {
    "duration": 17,
    "start_time": "2022-02-22T20:03:21.895Z"
   },
   {
    "duration": 12,
    "start_time": "2022-02-22T20:03:21.914Z"
   },
   {
    "duration": 28,
    "start_time": "2022-02-22T20:03:21.927Z"
   },
   {
    "duration": 31,
    "start_time": "2022-02-22T20:03:21.957Z"
   },
   {
    "duration": 50,
    "start_time": "2022-02-22T20:03:21.989Z"
   },
   {
    "duration": 3,
    "start_time": "2022-02-22T20:05:30.774Z"
   },
   {
    "duration": 184,
    "start_time": "2022-02-22T20:05:30.779Z"
   },
   {
    "duration": 12,
    "start_time": "2022-02-22T20:05:30.965Z"
   },
   {
    "duration": 21,
    "start_time": "2022-02-22T20:05:30.979Z"
   },
   {
    "duration": 18,
    "start_time": "2022-02-22T20:05:31.002Z"
   },
   {
    "duration": 34,
    "start_time": "2022-02-22T20:05:31.022Z"
   },
   {
    "duration": 4,
    "start_time": "2022-02-22T20:05:31.059Z"
   },
   {
    "duration": 32,
    "start_time": "2022-02-22T20:05:31.065Z"
   },
   {
    "duration": 20,
    "start_time": "2022-02-22T20:05:31.099Z"
   },
   {
    "duration": 32,
    "start_time": "2022-02-22T20:05:31.121Z"
   },
   {
    "duration": 73,
    "start_time": "2022-02-22T20:05:31.155Z"
   },
   {
    "duration": 84,
    "start_time": "2022-02-22T20:05:31.230Z"
   },
   {
    "duration": 66,
    "start_time": "2022-02-22T20:05:31.316Z"
   },
   {
    "duration": 10,
    "start_time": "2022-02-22T20:05:31.384Z"
   },
   {
    "duration": 15,
    "start_time": "2022-02-22T20:05:31.396Z"
   },
   {
    "duration": 20,
    "start_time": "2022-02-22T20:05:31.413Z"
   },
   {
    "duration": 10,
    "start_time": "2022-02-22T20:05:31.435Z"
   },
   {
    "duration": 23,
    "start_time": "2022-02-22T20:05:31.447Z"
   },
   {
    "duration": 11,
    "start_time": "2022-02-22T20:05:31.474Z"
   },
   {
    "duration": 6,
    "start_time": "2022-02-22T20:05:31.487Z"
   },
   {
    "duration": 7051,
    "start_time": "2022-02-22T20:05:31.495Z"
   },
   {
    "duration": -1065,
    "start_time": "2022-02-22T20:05:39.613Z"
   },
   {
    "duration": -1067,
    "start_time": "2022-02-22T20:05:39.616Z"
   },
   {
    "duration": -1069,
    "start_time": "2022-02-22T20:05:39.619Z"
   },
   {
    "duration": -1071,
    "start_time": "2022-02-22T20:05:39.622Z"
   },
   {
    "duration": -1072,
    "start_time": "2022-02-22T20:05:39.625Z"
   },
   {
    "duration": -1073,
    "start_time": "2022-02-22T20:05:39.627Z"
   },
   {
    "duration": -1075,
    "start_time": "2022-02-22T20:05:39.630Z"
   },
   {
    "duration": -1076,
    "start_time": "2022-02-22T20:05:39.632Z"
   },
   {
    "duration": -1078,
    "start_time": "2022-02-22T20:05:39.635Z"
   },
   {
    "duration": -1080,
    "start_time": "2022-02-22T20:05:39.638Z"
   },
   {
    "duration": -1081,
    "start_time": "2022-02-22T20:05:39.641Z"
   },
   {
    "duration": -1083,
    "start_time": "2022-02-22T20:05:39.644Z"
   },
   {
    "duration": -1085,
    "start_time": "2022-02-22T20:05:39.647Z"
   },
   {
    "duration": -1086,
    "start_time": "2022-02-22T20:05:39.649Z"
   },
   {
    "duration": -1097,
    "start_time": "2022-02-22T20:05:39.662Z"
   },
   {
    "duration": -1099,
    "start_time": "2022-02-22T20:05:39.665Z"
   },
   {
    "duration": -1100,
    "start_time": "2022-02-22T20:05:39.667Z"
   },
   {
    "duration": 3,
    "start_time": "2022-02-22T20:32:24.987Z"
   },
   {
    "duration": 165,
    "start_time": "2022-02-22T20:32:24.995Z"
   },
   {
    "duration": 10,
    "start_time": "2022-02-22T20:32:25.163Z"
   },
   {
    "duration": 11,
    "start_time": "2022-02-22T20:32:25.175Z"
   },
   {
    "duration": 13,
    "start_time": "2022-02-22T20:32:25.188Z"
   },
   {
    "duration": 17,
    "start_time": "2022-02-22T20:32:25.203Z"
   },
   {
    "duration": 4,
    "start_time": "2022-02-22T20:32:25.222Z"
   },
   {
    "duration": 47,
    "start_time": "2022-02-22T20:32:25.228Z"
   },
   {
    "duration": 19,
    "start_time": "2022-02-22T20:32:25.277Z"
   },
   {
    "duration": 32,
    "start_time": "2022-02-22T20:32:25.299Z"
   },
   {
    "duration": 80,
    "start_time": "2022-02-22T20:32:25.333Z"
   },
   {
    "duration": 76,
    "start_time": "2022-02-22T20:32:25.414Z"
   },
   {
    "duration": 55,
    "start_time": "2022-02-22T20:32:25.492Z"
   },
   {
    "duration": 21,
    "start_time": "2022-02-22T20:32:25.549Z"
   },
   {
    "duration": 3,
    "start_time": "2022-02-22T20:32:25.572Z"
   },
   {
    "duration": 14,
    "start_time": "2022-02-22T20:32:25.577Z"
   },
   {
    "duration": 11,
    "start_time": "2022-02-22T20:32:25.593Z"
   },
   {
    "duration": 13,
    "start_time": "2022-02-22T20:32:25.606Z"
   },
   {
    "duration": 11,
    "start_time": "2022-02-22T20:32:25.620Z"
   },
   {
    "duration": 39,
    "start_time": "2022-02-22T20:32:25.633Z"
   },
   {
    "duration": 17,
    "start_time": "2022-02-22T20:32:25.674Z"
   },
   {
    "duration": 4,
    "start_time": "2022-02-22T20:32:25.693Z"
   },
   {
    "duration": 9,
    "start_time": "2022-02-22T20:32:25.699Z"
   },
   {
    "duration": 13,
    "start_time": "2022-02-22T20:32:25.710Z"
   },
   {
    "duration": 5,
    "start_time": "2022-02-22T20:32:25.725Z"
   },
   {
    "duration": 8,
    "start_time": "2022-02-22T20:32:25.731Z"
   },
   {
    "duration": 9,
    "start_time": "2022-02-22T20:32:25.741Z"
   },
   {
    "duration": 3,
    "start_time": "2022-02-22T20:32:25.753Z"
   },
   {
    "duration": 4,
    "start_time": "2022-02-22T20:32:25.758Z"
   },
   {
    "duration": 3,
    "start_time": "2022-02-22T20:32:25.769Z"
   },
   {
    "duration": 10,
    "start_time": "2022-02-22T20:32:25.774Z"
   },
   {
    "duration": 6,
    "start_time": "2022-02-22T20:32:25.786Z"
   },
   {
    "duration": 15,
    "start_time": "2022-02-22T20:32:25.794Z"
   },
   {
    "duration": 5,
    "start_time": "2022-02-22T20:32:25.811Z"
   },
   {
    "duration": 9,
    "start_time": "2022-02-22T20:32:25.818Z"
   },
   {
    "duration": 5,
    "start_time": "2022-02-22T20:32:25.829Z"
   },
   {
    "duration": 6,
    "start_time": "2022-02-22T20:32:25.836Z"
   },
   {
    "duration": 7,
    "start_time": "2022-02-22T20:32:25.844Z"
   },
   {
    "duration": 3,
    "start_time": "2022-02-22T20:33:02.539Z"
   },
   {
    "duration": 193,
    "start_time": "2022-02-22T20:33:02.558Z"
   },
   {
    "duration": 11,
    "start_time": "2022-02-22T20:33:02.754Z"
   },
   {
    "duration": 47,
    "start_time": "2022-02-22T20:33:02.769Z"
   },
   {
    "duration": 26,
    "start_time": "2022-02-22T20:33:02.819Z"
   },
   {
    "duration": 58,
    "start_time": "2022-02-22T20:33:02.848Z"
   },
   {
    "duration": 21,
    "start_time": "2022-02-22T20:33:02.907Z"
   },
   {
    "duration": 62,
    "start_time": "2022-02-22T20:33:02.931Z"
   },
   {
    "duration": 41,
    "start_time": "2022-02-22T20:33:02.995Z"
   },
   {
    "duration": 47,
    "start_time": "2022-02-22T20:33:03.040Z"
   },
   {
    "duration": 100,
    "start_time": "2022-02-22T20:33:03.089Z"
   },
   {
    "duration": 83,
    "start_time": "2022-02-22T20:33:03.191Z"
   },
   {
    "duration": 60,
    "start_time": "2022-02-22T20:33:03.276Z"
   },
   {
    "duration": 10,
    "start_time": "2022-02-22T20:33:03.338Z"
   },
   {
    "duration": 3,
    "start_time": "2022-02-22T20:33:03.369Z"
   },
   {
    "duration": 58,
    "start_time": "2022-02-22T20:33:03.374Z"
   },
   {
    "duration": 29,
    "start_time": "2022-02-22T20:33:03.434Z"
   },
   {
    "duration": 40,
    "start_time": "2022-02-22T20:33:03.465Z"
   },
   {
    "duration": 35,
    "start_time": "2022-02-22T20:33:03.507Z"
   },
   {
    "duration": 43,
    "start_time": "2022-02-22T20:33:03.544Z"
   },
   {
    "duration": 62,
    "start_time": "2022-02-22T20:33:03.589Z"
   },
   {
    "duration": 10,
    "start_time": "2022-02-22T20:33:03.653Z"
   },
   {
    "duration": 29,
    "start_time": "2022-02-22T20:33:03.664Z"
   },
   {
    "duration": 44,
    "start_time": "2022-02-22T20:33:03.695Z"
   },
   {
    "duration": 33,
    "start_time": "2022-02-22T20:33:03.741Z"
   },
   {
    "duration": 19,
    "start_time": "2022-02-22T20:33:03.776Z"
   },
   {
    "duration": 37,
    "start_time": "2022-02-22T20:33:03.797Z"
   },
   {
    "duration": 23,
    "start_time": "2022-02-22T20:33:03.838Z"
   },
   {
    "duration": 41,
    "start_time": "2022-02-22T20:33:03.863Z"
   },
   {
    "duration": 42,
    "start_time": "2022-02-22T20:33:03.905Z"
   },
   {
    "duration": 42,
    "start_time": "2022-02-22T20:33:03.949Z"
   },
   {
    "duration": 40,
    "start_time": "2022-02-22T20:33:03.992Z"
   },
   {
    "duration": 43,
    "start_time": "2022-02-22T20:33:04.034Z"
   },
   {
    "duration": 34,
    "start_time": "2022-02-22T20:33:04.078Z"
   },
   {
    "duration": 13,
    "start_time": "2022-02-22T20:33:04.114Z"
   },
   {
    "duration": 36,
    "start_time": "2022-02-22T20:33:04.129Z"
   },
   {
    "duration": 35,
    "start_time": "2022-02-22T20:33:04.167Z"
   },
   {
    "duration": 21,
    "start_time": "2022-02-22T20:33:04.204Z"
   },
   {
    "duration": 3,
    "start_time": "2022-02-22T20:36:08.513Z"
   },
   {
    "duration": 188,
    "start_time": "2022-02-22T20:36:08.518Z"
   },
   {
    "duration": 11,
    "start_time": "2022-02-22T20:36:08.708Z"
   },
   {
    "duration": 9,
    "start_time": "2022-02-22T20:36:08.721Z"
   },
   {
    "duration": 8,
    "start_time": "2022-02-22T20:36:08.732Z"
   },
   {
    "duration": 39,
    "start_time": "2022-02-22T20:36:08.741Z"
   },
   {
    "duration": 4,
    "start_time": "2022-02-22T20:36:08.783Z"
   },
   {
    "duration": 32,
    "start_time": "2022-02-22T20:36:08.789Z"
   },
   {
    "duration": 21,
    "start_time": "2022-02-22T20:36:08.823Z"
   },
   {
    "duration": 49,
    "start_time": "2022-02-22T20:36:08.846Z"
   },
   {
    "duration": 75,
    "start_time": "2022-02-22T20:36:08.896Z"
   },
   {
    "duration": 72,
    "start_time": "2022-02-22T20:36:08.972Z"
   },
   {
    "duration": 87,
    "start_time": "2022-02-22T20:36:09.046Z"
   },
   {
    "duration": 10,
    "start_time": "2022-02-22T20:36:09.135Z"
   },
   {
    "duration": 22,
    "start_time": "2022-02-22T20:36:09.147Z"
   },
   {
    "duration": 16,
    "start_time": "2022-02-22T20:36:09.172Z"
   },
   {
    "duration": 10,
    "start_time": "2022-02-22T20:36:09.190Z"
   },
   {
    "duration": 16,
    "start_time": "2022-02-22T20:36:09.202Z"
   },
   {
    "duration": 11,
    "start_time": "2022-02-22T20:36:09.221Z"
   },
   {
    "duration": 4,
    "start_time": "2022-02-22T20:36:09.234Z"
   },
   {
    "duration": 54,
    "start_time": "2022-02-22T20:36:09.240Z"
   },
   {
    "duration": 3,
    "start_time": "2022-02-22T20:36:09.296Z"
   },
   {
    "duration": 9,
    "start_time": "2022-02-22T20:36:09.301Z"
   },
   {
    "duration": 11,
    "start_time": "2022-02-22T20:36:09.312Z"
   },
   {
    "duration": 9,
    "start_time": "2022-02-22T20:36:09.325Z"
   },
   {
    "duration": 8,
    "start_time": "2022-02-22T20:36:09.336Z"
   },
   {
    "duration": 5,
    "start_time": "2022-02-22T20:36:09.346Z"
   },
   {
    "duration": 17,
    "start_time": "2022-02-22T20:36:09.353Z"
   },
   {
    "duration": 7,
    "start_time": "2022-02-22T20:36:09.373Z"
   },
   {
    "duration": 6,
    "start_time": "2022-02-22T20:36:09.383Z"
   },
   {
    "duration": 19,
    "start_time": "2022-02-22T20:36:09.391Z"
   },
   {
    "duration": 7,
    "start_time": "2022-02-22T20:36:09.412Z"
   },
   {
    "duration": 12,
    "start_time": "2022-02-22T20:36:09.422Z"
   },
   {
    "duration": 10,
    "start_time": "2022-02-22T20:36:09.436Z"
   },
   {
    "duration": 6,
    "start_time": "2022-02-22T20:36:09.448Z"
   },
   {
    "duration": 19,
    "start_time": "2022-02-22T20:36:09.456Z"
   },
   {
    "duration": 11,
    "start_time": "2022-02-22T20:36:09.478Z"
   },
   {
    "duration": 23,
    "start_time": "2022-02-22T20:36:09.492Z"
   },
   {
    "duration": 3,
    "start_time": "2022-02-22T20:36:55.313Z"
   },
   {
    "duration": 172,
    "start_time": "2022-02-22T20:36:55.319Z"
   },
   {
    "duration": 12,
    "start_time": "2022-02-22T20:36:55.493Z"
   },
   {
    "duration": 10,
    "start_time": "2022-02-22T20:36:55.507Z"
   },
   {
    "duration": 9,
    "start_time": "2022-02-22T20:36:55.520Z"
   },
   {
    "duration": 41,
    "start_time": "2022-02-22T20:36:55.531Z"
   },
   {
    "duration": 5,
    "start_time": "2022-02-22T20:36:55.574Z"
   },
   {
    "duration": 31,
    "start_time": "2022-02-22T20:36:55.581Z"
   },
   {
    "duration": 22,
    "start_time": "2022-02-22T20:36:55.614Z"
   },
   {
    "duration": 54,
    "start_time": "2022-02-22T20:36:55.638Z"
   },
   {
    "duration": 82,
    "start_time": "2022-02-22T20:36:55.695Z"
   },
   {
    "duration": 105,
    "start_time": "2022-02-22T20:36:55.780Z"
   },
   {
    "duration": 57,
    "start_time": "2022-02-22T20:36:55.887Z"
   },
   {
    "duration": 23,
    "start_time": "2022-02-22T20:36:55.946Z"
   },
   {
    "duration": 4,
    "start_time": "2022-02-22T20:36:55.971Z"
   },
   {
    "duration": 14,
    "start_time": "2022-02-22T20:36:55.977Z"
   },
   {
    "duration": 15,
    "start_time": "2022-02-22T20:36:55.993Z"
   },
   {
    "duration": 14,
    "start_time": "2022-02-22T20:36:56.010Z"
   },
   {
    "duration": 43,
    "start_time": "2022-02-22T20:36:56.028Z"
   },
   {
    "duration": 5,
    "start_time": "2022-02-22T20:36:56.073Z"
   },
   {
    "duration": 25,
    "start_time": "2022-02-22T20:36:56.080Z"
   },
   {
    "duration": 2,
    "start_time": "2022-02-22T20:36:56.107Z"
   },
   {
    "duration": 6,
    "start_time": "2022-02-22T20:36:56.111Z"
   },
   {
    "duration": 6,
    "start_time": "2022-02-22T20:36:56.118Z"
   },
   {
    "duration": 5,
    "start_time": "2022-02-22T20:36:56.126Z"
   },
   {
    "duration": 6,
    "start_time": "2022-02-22T20:36:56.132Z"
   },
   {
    "duration": 30,
    "start_time": "2022-02-22T20:36:56.140Z"
   },
   {
    "duration": 5,
    "start_time": "2022-02-22T20:36:56.172Z"
   },
   {
    "duration": 9,
    "start_time": "2022-02-22T20:36:56.179Z"
   },
   {
    "duration": 5,
    "start_time": "2022-02-22T20:36:56.190Z"
   },
   {
    "duration": 9,
    "start_time": "2022-02-22T20:36:56.197Z"
   },
   {
    "duration": 6,
    "start_time": "2022-02-22T20:36:56.207Z"
   },
   {
    "duration": 8,
    "start_time": "2022-02-22T20:36:56.214Z"
   },
   {
    "duration": 6,
    "start_time": "2022-02-22T20:36:56.223Z"
   },
   {
    "duration": 6,
    "start_time": "2022-02-22T20:36:56.230Z"
   },
   {
    "duration": 6,
    "start_time": "2022-02-22T20:36:56.237Z"
   },
   {
    "duration": 5,
    "start_time": "2022-02-22T20:36:56.245Z"
   },
   {
    "duration": 17,
    "start_time": "2022-02-22T20:36:56.252Z"
   },
   {
    "duration": 16,
    "start_time": "2022-02-22T20:38:27.943Z"
   },
   {
    "duration": 18,
    "start_time": "2022-02-22T20:39:22.073Z"
   },
   {
    "duration": 17,
    "start_time": "2022-02-22T20:39:53.941Z"
   },
   {
    "duration": 20,
    "start_time": "2022-02-22T20:40:28.874Z"
   },
   {
    "duration": 18,
    "start_time": "2022-02-22T20:41:14.828Z"
   },
   {
    "duration": 258,
    "start_time": "2022-02-22T20:47:26.713Z"
   },
   {
    "duration": 279,
    "start_time": "2022-02-22T21:17:03.623Z"
   },
   {
    "duration": 312,
    "start_time": "2022-02-22T21:24:54.748Z"
   },
   {
    "duration": 5,
    "start_time": "2022-02-22T21:30:25.132Z"
   },
   {
    "duration": 9,
    "start_time": "2022-02-22T21:30:59.307Z"
   },
   {
    "duration": 3,
    "start_time": "2022-02-22T22:15:57.435Z"
   },
   {
    "duration": 180,
    "start_time": "2022-02-22T22:15:57.441Z"
   },
   {
    "duration": 11,
    "start_time": "2022-02-22T22:15:57.623Z"
   },
   {
    "duration": 21,
    "start_time": "2022-02-22T22:15:57.636Z"
   },
   {
    "duration": 10,
    "start_time": "2022-02-22T22:15:57.659Z"
   },
   {
    "duration": 22,
    "start_time": "2022-02-22T22:15:57.670Z"
   },
   {
    "duration": 3,
    "start_time": "2022-02-22T22:15:57.694Z"
   },
   {
    "duration": 30,
    "start_time": "2022-02-22T22:15:57.699Z"
   },
   {
    "duration": 22,
    "start_time": "2022-02-22T22:15:57.731Z"
   },
   {
    "duration": 24,
    "start_time": "2022-02-22T22:15:57.771Z"
   },
   {
    "duration": 72,
    "start_time": "2022-02-22T22:15:57.798Z"
   },
   {
    "duration": 68,
    "start_time": "2022-02-22T22:15:57.872Z"
   },
   {
    "duration": 72,
    "start_time": "2022-02-22T22:15:57.941Z"
   },
   {
    "duration": 9,
    "start_time": "2022-02-22T22:15:58.014Z"
   },
   {
    "duration": 4,
    "start_time": "2022-02-22T22:15:58.025Z"
   },
   {
    "duration": 16,
    "start_time": "2022-02-22T22:15:58.031Z"
   },
   {
    "duration": 24,
    "start_time": "2022-02-22T22:15:58.049Z"
   },
   {
    "duration": 12,
    "start_time": "2022-02-22T22:15:58.074Z"
   },
   {
    "duration": 10,
    "start_time": "2022-02-22T22:15:58.088Z"
   },
   {
    "duration": 3,
    "start_time": "2022-02-22T22:15:58.100Z"
   },
   {
    "duration": 27,
    "start_time": "2022-02-22T22:15:58.105Z"
   },
   {
    "duration": 41,
    "start_time": "2022-02-22T22:15:58.134Z"
   },
   {
    "duration": 16,
    "start_time": "2022-02-22T22:15:58.177Z"
   },
   {
    "duration": 15,
    "start_time": "2022-02-22T22:15:58.195Z"
   },
   {
    "duration": 17,
    "start_time": "2022-02-22T22:15:58.211Z"
   },
   {
    "duration": 45,
    "start_time": "2022-02-22T22:15:58.230Z"
   },
   {
    "duration": 8,
    "start_time": "2022-02-22T22:15:58.276Z"
   },
   {
    "duration": 5,
    "start_time": "2022-02-22T22:15:58.287Z"
   },
   {
    "duration": 4,
    "start_time": "2022-02-22T22:15:58.294Z"
   },
   {
    "duration": 8,
    "start_time": "2022-02-22T22:15:58.300Z"
   },
   {
    "duration": 7,
    "start_time": "2022-02-22T22:15:58.310Z"
   },
   {
    "duration": 6,
    "start_time": "2022-02-22T22:15:58.318Z"
   },
   {
    "duration": 11,
    "start_time": "2022-02-22T22:15:58.325Z"
   },
   {
    "duration": 6,
    "start_time": "2022-02-22T22:15:58.338Z"
   },
   {
    "duration": 8,
    "start_time": "2022-02-22T22:15:58.346Z"
   },
   {
    "duration": 14,
    "start_time": "2022-02-22T22:15:58.356Z"
   },
   {
    "duration": 5,
    "start_time": "2022-02-22T22:15:58.372Z"
   },
   {
    "duration": 8,
    "start_time": "2022-02-22T22:15:58.379Z"
   },
   {
    "duration": 12,
    "start_time": "2022-02-22T22:17:31.635Z"
   },
   {
    "duration": 14,
    "start_time": "2022-02-22T22:17:37.113Z"
   },
   {
    "duration": 10,
    "start_time": "2022-02-22T22:18:39.992Z"
   },
   {
    "duration": 571,
    "start_time": "2022-02-23T17:21:42.792Z"
   },
   {
    "duration": 138,
    "start_time": "2022-02-23T17:21:43.365Z"
   },
   {
    "duration": 16,
    "start_time": "2022-02-23T17:21:43.505Z"
   },
   {
    "duration": 8,
    "start_time": "2022-02-23T17:21:43.532Z"
   },
   {
    "duration": 5,
    "start_time": "2022-02-23T17:21:43.542Z"
   },
   {
    "duration": 19,
    "start_time": "2022-02-23T17:21:43.549Z"
   },
   {
    "duration": 5,
    "start_time": "2022-02-23T17:21:43.570Z"
   },
   {
    "duration": 55,
    "start_time": "2022-02-23T17:21:43.577Z"
   },
   {
    "duration": 25,
    "start_time": "2022-02-23T17:21:43.635Z"
   },
   {
    "duration": 34,
    "start_time": "2022-02-23T17:21:43.662Z"
   },
   {
    "duration": 81,
    "start_time": "2022-02-23T17:21:43.698Z"
   },
   {
    "duration": 71,
    "start_time": "2022-02-23T17:21:43.781Z"
   },
   {
    "duration": 45,
    "start_time": "2022-02-23T17:21:43.854Z"
   },
   {
    "duration": 8,
    "start_time": "2022-02-23T17:21:43.901Z"
   },
   {
    "duration": 22,
    "start_time": "2022-02-23T17:21:43.910Z"
   },
   {
    "duration": 11,
    "start_time": "2022-02-23T17:21:43.934Z"
   },
   {
    "duration": 8,
    "start_time": "2022-02-23T17:21:43.947Z"
   },
   {
    "duration": 10,
    "start_time": "2022-02-23T17:21:43.957Z"
   },
   {
    "duration": 9,
    "start_time": "2022-02-23T17:21:43.968Z"
   },
   {
    "duration": 3,
    "start_time": "2022-02-23T17:21:43.979Z"
   },
   {
    "duration": 20,
    "start_time": "2022-02-23T17:21:43.984Z"
   },
   {
    "duration": 14,
    "start_time": "2022-02-23T17:21:44.032Z"
   },
   {
    "duration": 20,
    "start_time": "2022-02-23T17:21:44.050Z"
   },
   {
    "duration": 20,
    "start_time": "2022-02-23T17:21:44.072Z"
   },
   {
    "duration": 40,
    "start_time": "2022-02-23T17:21:44.094Z"
   },
   {
    "duration": 14,
    "start_time": "2022-02-23T17:21:44.136Z"
   },
   {
    "duration": 7,
    "start_time": "2022-02-23T17:21:44.151Z"
   },
   {
    "duration": 9,
    "start_time": "2022-02-23T17:21:44.160Z"
   },
   {
    "duration": 9,
    "start_time": "2022-02-23T17:21:44.171Z"
   },
   {
    "duration": 112,
    "start_time": "2022-02-23T17:21:44.182Z"
   },
   {
    "duration": -145,
    "start_time": "2022-02-23T17:21:44.441Z"
   },
   {
    "duration": -148,
    "start_time": "2022-02-23T17:21:44.445Z"
   },
   {
    "duration": -154,
    "start_time": "2022-02-23T17:21:44.451Z"
   },
   {
    "duration": -156,
    "start_time": "2022-02-23T17:21:44.454Z"
   },
   {
    "duration": -157,
    "start_time": "2022-02-23T17:21:44.456Z"
   },
   {
    "duration": -172,
    "start_time": "2022-02-23T17:21:44.471Z"
   },
   {
    "duration": -175,
    "start_time": "2022-02-23T17:21:44.475Z"
   },
   {
    "duration": -177,
    "start_time": "2022-02-23T17:21:44.478Z"
   },
   {
    "duration": 4,
    "start_time": "2022-02-23T18:26:06.440Z"
   },
   {
    "duration": 3,
    "start_time": "2022-02-23T18:51:15.134Z"
   },
   {
    "duration": 5,
    "start_time": "2022-02-23T18:53:01.466Z"
   },
   {
    "duration": 2,
    "start_time": "2022-02-23T18:53:06.050Z"
   },
   {
    "duration": 146,
    "start_time": "2022-02-23T18:53:06.055Z"
   },
   {
    "duration": 9,
    "start_time": "2022-02-23T18:53:06.204Z"
   },
   {
    "duration": 28,
    "start_time": "2022-02-23T18:53:06.216Z"
   },
   {
    "duration": 18,
    "start_time": "2022-02-23T18:53:06.245Z"
   },
   {
    "duration": 19,
    "start_time": "2022-02-23T18:53:06.265Z"
   },
   {
    "duration": 11,
    "start_time": "2022-02-23T18:53:06.287Z"
   },
   {
    "duration": 39,
    "start_time": "2022-02-23T18:53:06.300Z"
   },
   {
    "duration": 25,
    "start_time": "2022-02-23T18:53:06.341Z"
   },
   {
    "duration": 31,
    "start_time": "2022-02-23T18:53:06.367Z"
   },
   {
    "duration": 51,
    "start_time": "2022-02-23T18:53:06.400Z"
   },
   {
    "duration": 53,
    "start_time": "2022-02-23T18:53:06.453Z"
   },
   {
    "duration": 51,
    "start_time": "2022-02-23T18:53:06.508Z"
   },
   {
    "duration": 8,
    "start_time": "2022-02-23T18:53:06.561Z"
   },
   {
    "duration": 7,
    "start_time": "2022-02-23T18:53:06.571Z"
   },
   {
    "duration": 26,
    "start_time": "2022-02-23T18:53:06.580Z"
   },
   {
    "duration": 16,
    "start_time": "2022-02-23T18:53:06.607Z"
   },
   {
    "duration": 15,
    "start_time": "2022-02-23T18:53:06.624Z"
   },
   {
    "duration": 8,
    "start_time": "2022-02-23T18:53:06.642Z"
   },
   {
    "duration": 3,
    "start_time": "2022-02-23T18:53:06.652Z"
   },
   {
    "duration": 32,
    "start_time": "2022-02-23T18:53:06.657Z"
   },
   {
    "duration": 24,
    "start_time": "2022-02-23T18:53:06.690Z"
   },
   {
    "duration": 25,
    "start_time": "2022-02-23T18:53:06.716Z"
   },
   {
    "duration": 24,
    "start_time": "2022-02-23T18:53:06.743Z"
   },
   {
    "duration": 22,
    "start_time": "2022-02-23T18:53:06.768Z"
   },
   {
    "duration": 34,
    "start_time": "2022-02-23T18:53:06.791Z"
   },
   {
    "duration": 18,
    "start_time": "2022-02-23T18:53:06.827Z"
   },
   {
    "duration": 23,
    "start_time": "2022-02-23T18:53:06.847Z"
   },
   {
    "duration": 19,
    "start_time": "2022-02-23T18:53:06.871Z"
   },
   {
    "duration": 9,
    "start_time": "2022-02-23T18:53:06.891Z"
   },
   {
    "duration": 37,
    "start_time": "2022-02-23T18:53:06.901Z"
   },
   {
    "duration": 20,
    "start_time": "2022-02-23T18:53:06.939Z"
   },
   {
    "duration": 13,
    "start_time": "2022-02-23T18:53:06.960Z"
   },
   {
    "duration": 14,
    "start_time": "2022-02-23T18:53:06.974Z"
   },
   {
    "duration": 24,
    "start_time": "2022-02-23T18:53:06.989Z"
   },
   {
    "duration": 20,
    "start_time": "2022-02-23T18:53:07.015Z"
   },
   {
    "duration": 32,
    "start_time": "2022-02-23T18:53:07.037Z"
   },
   {
    "duration": 36,
    "start_time": "2022-02-23T18:53:07.070Z"
   },
   {
    "duration": 3,
    "start_time": "2022-02-23T18:55:48.733Z"
   },
   {
    "duration": 134,
    "start_time": "2022-02-23T18:55:48.739Z"
   },
   {
    "duration": 10,
    "start_time": "2022-02-23T18:55:48.876Z"
   },
   {
    "duration": 9,
    "start_time": "2022-02-23T18:55:48.888Z"
   },
   {
    "duration": 32,
    "start_time": "2022-02-23T18:55:48.899Z"
   },
   {
    "duration": 16,
    "start_time": "2022-02-23T18:55:48.933Z"
   },
   {
    "duration": 3,
    "start_time": "2022-02-23T18:55:48.951Z"
   },
   {
    "duration": 23,
    "start_time": "2022-02-23T18:55:48.957Z"
   },
   {
    "duration": 22,
    "start_time": "2022-02-23T18:55:48.983Z"
   },
   {
    "duration": 38,
    "start_time": "2022-02-23T18:55:49.008Z"
   },
   {
    "duration": 52,
    "start_time": "2022-02-23T18:55:49.048Z"
   },
   {
    "duration": 72,
    "start_time": "2022-02-23T18:55:49.102Z"
   },
   {
    "duration": 44,
    "start_time": "2022-02-23T18:55:49.176Z"
   },
   {
    "duration": 18,
    "start_time": "2022-02-23T18:55:49.222Z"
   },
   {
    "duration": 3,
    "start_time": "2022-02-23T18:55:49.242Z"
   },
   {
    "duration": 10,
    "start_time": "2022-02-23T18:55:49.247Z"
   },
   {
    "duration": 8,
    "start_time": "2022-02-23T18:55:49.259Z"
   },
   {
    "duration": 10,
    "start_time": "2022-02-23T18:55:49.269Z"
   },
   {
    "duration": 9,
    "start_time": "2022-02-23T18:55:49.281Z"
   },
   {
    "duration": 40,
    "start_time": "2022-02-23T18:55:49.292Z"
   },
   {
    "duration": 15,
    "start_time": "2022-02-23T18:55:49.334Z"
   },
   {
    "duration": 13,
    "start_time": "2022-02-23T18:55:49.351Z"
   },
   {
    "duration": 13,
    "start_time": "2022-02-23T18:55:49.367Z"
   },
   {
    "duration": 12,
    "start_time": "2022-02-23T18:55:49.382Z"
   },
   {
    "duration": 45,
    "start_time": "2022-02-23T18:55:49.396Z"
   },
   {
    "duration": 13,
    "start_time": "2022-02-23T18:55:49.443Z"
   },
   {
    "duration": 8,
    "start_time": "2022-02-23T18:55:49.458Z"
   },
   {
    "duration": 12,
    "start_time": "2022-02-23T18:55:49.468Z"
   },
   {
    "duration": 13,
    "start_time": "2022-02-23T18:55:49.482Z"
   },
   {
    "duration": 4,
    "start_time": "2022-02-23T18:55:49.496Z"
   },
   {
    "duration": 47,
    "start_time": "2022-02-23T18:55:49.501Z"
   },
   {
    "duration": 3,
    "start_time": "2022-02-23T18:55:49.549Z"
   },
   {
    "duration": 7,
    "start_time": "2022-02-23T18:55:49.554Z"
   },
   {
    "duration": 8,
    "start_time": "2022-02-23T18:55:49.563Z"
   },
   {
    "duration": 11,
    "start_time": "2022-02-23T18:55:49.572Z"
   },
   {
    "duration": 7,
    "start_time": "2022-02-23T18:55:49.585Z"
   },
   {
    "duration": 8,
    "start_time": "2022-02-23T18:55:49.594Z"
   },
   {
    "duration": 8,
    "start_time": "2022-02-23T18:55:49.603Z"
   },
   {
    "duration": 21,
    "start_time": "2022-02-23T18:57:36.074Z"
   },
   {
    "duration": 22,
    "start_time": "2022-02-23T18:58:46.608Z"
   },
   {
    "duration": 22,
    "start_time": "2022-02-23T18:58:50.750Z"
   },
   {
    "duration": 2,
    "start_time": "2022-02-23T19:01:18.920Z"
   },
   {
    "duration": 144,
    "start_time": "2022-02-23T19:01:18.924Z"
   },
   {
    "duration": 9,
    "start_time": "2022-02-23T19:01:19.070Z"
   },
   {
    "duration": 9,
    "start_time": "2022-02-23T19:01:19.080Z"
   },
   {
    "duration": 5,
    "start_time": "2022-02-23T19:01:19.091Z"
   },
   {
    "duration": 35,
    "start_time": "2022-02-23T19:01:19.098Z"
   },
   {
    "duration": 4,
    "start_time": "2022-02-23T19:01:19.136Z"
   },
   {
    "duration": 24,
    "start_time": "2022-02-23T19:01:19.143Z"
   },
   {
    "duration": 17,
    "start_time": "2022-02-23T19:01:19.168Z"
   },
   {
    "duration": 45,
    "start_time": "2022-02-23T19:01:19.187Z"
   },
   {
    "duration": 57,
    "start_time": "2022-02-23T19:01:19.234Z"
   },
   {
    "duration": 78,
    "start_time": "2022-02-23T19:01:19.292Z"
   },
   {
    "duration": 51,
    "start_time": "2022-02-23T19:01:19.371Z"
   },
   {
    "duration": 13,
    "start_time": "2022-02-23T19:01:19.423Z"
   },
   {
    "duration": 2,
    "start_time": "2022-02-23T19:01:19.437Z"
   },
   {
    "duration": 12,
    "start_time": "2022-02-23T19:01:19.441Z"
   },
   {
    "duration": 8,
    "start_time": "2022-02-23T19:01:19.454Z"
   },
   {
    "duration": 12,
    "start_time": "2022-02-23T19:01:19.464Z"
   },
   {
    "duration": 9,
    "start_time": "2022-02-23T19:01:19.480Z"
   },
   {
    "duration": 4,
    "start_time": "2022-02-23T19:01:19.491Z"
   },
   {
    "duration": 16,
    "start_time": "2022-02-23T19:01:19.532Z"
   },
   {
    "duration": 12,
    "start_time": "2022-02-23T19:01:19.549Z"
   },
   {
    "duration": 13,
    "start_time": "2022-02-23T19:01:19.563Z"
   },
   {
    "duration": 14,
    "start_time": "2022-02-23T19:01:19.578Z"
   },
   {
    "duration": 39,
    "start_time": "2022-02-23T19:01:19.594Z"
   },
   {
    "duration": 14,
    "start_time": "2022-02-23T19:01:19.634Z"
   },
   {
    "duration": 7,
    "start_time": "2022-02-23T19:01:19.649Z"
   },
   {
    "duration": 16,
    "start_time": "2022-02-23T19:01:19.658Z"
   },
   {
    "duration": 11,
    "start_time": "2022-02-23T19:01:19.676Z"
   },
   {
    "duration": 4,
    "start_time": "2022-02-23T19:01:19.688Z"
   },
   {
    "duration": 49,
    "start_time": "2022-02-23T19:01:19.694Z"
   },
   {
    "duration": 11,
    "start_time": "2022-02-23T19:01:19.745Z"
   },
   {
    "duration": 16,
    "start_time": "2022-02-23T19:01:19.757Z"
   },
   {
    "duration": 11,
    "start_time": "2022-02-23T19:01:19.774Z"
   },
   {
    "duration": 4,
    "start_time": "2022-02-23T19:01:19.786Z"
   },
   {
    "duration": 11,
    "start_time": "2022-02-23T19:01:19.791Z"
   },
   {
    "duration": 13,
    "start_time": "2022-02-23T19:01:19.803Z"
   },
   {
    "duration": 3,
    "start_time": "2022-02-23T19:01:19.831Z"
   },
   {
    "duration": 366,
    "start_time": "2022-02-23T19:05:14.728Z"
   },
   {
    "duration": 8,
    "start_time": "2022-02-23T19:05:26.174Z"
   },
   {
    "duration": 5,
    "start_time": "2022-02-23T19:06:26.279Z"
   },
   {
    "duration": 5,
    "start_time": "2022-02-23T19:07:14.743Z"
   },
   {
    "duration": 5,
    "start_time": "2022-02-23T19:07:35.949Z"
   },
   {
    "duration": 3,
    "start_time": "2022-02-23T19:09:34.678Z"
   },
   {
    "duration": 122,
    "start_time": "2022-02-23T19:09:34.683Z"
   },
   {
    "duration": 10,
    "start_time": "2022-02-23T19:09:34.807Z"
   },
   {
    "duration": 16,
    "start_time": "2022-02-23T19:09:34.818Z"
   },
   {
    "duration": 5,
    "start_time": "2022-02-23T19:09:34.835Z"
   },
   {
    "duration": 15,
    "start_time": "2022-02-23T19:09:34.841Z"
   },
   {
    "duration": 4,
    "start_time": "2022-02-23T19:09:34.857Z"
   },
   {
    "duration": 19,
    "start_time": "2022-02-23T19:09:34.863Z"
   },
   {
    "duration": 14,
    "start_time": "2022-02-23T19:09:34.884Z"
   },
   {
    "duration": 54,
    "start_time": "2022-02-23T19:09:34.900Z"
   },
   {
    "duration": 52,
    "start_time": "2022-02-23T19:09:34.956Z"
   },
   {
    "duration": 72,
    "start_time": "2022-02-23T19:09:35.009Z"
   },
   {
    "duration": 59,
    "start_time": "2022-02-23T19:09:35.083Z"
   },
   {
    "duration": 10,
    "start_time": "2022-02-23T19:09:35.144Z"
   },
   {
    "duration": 3,
    "start_time": "2022-02-23T19:09:35.155Z"
   },
   {
    "duration": 10,
    "start_time": "2022-02-23T19:09:35.159Z"
   },
   {
    "duration": 8,
    "start_time": "2022-02-23T19:09:35.170Z"
   },
   {
    "duration": 10,
    "start_time": "2022-02-23T19:09:35.179Z"
   },
   {
    "duration": 9,
    "start_time": "2022-02-23T19:09:35.190Z"
   },
   {
    "duration": 32,
    "start_time": "2022-02-23T19:09:35.200Z"
   },
   {
    "duration": 16,
    "start_time": "2022-02-23T19:09:35.234Z"
   },
   {
    "duration": 12,
    "start_time": "2022-02-23T19:09:35.252Z"
   },
   {
    "duration": 13,
    "start_time": "2022-02-23T19:09:35.267Z"
   },
   {
    "duration": 14,
    "start_time": "2022-02-23T19:09:35.281Z"
   },
   {
    "duration": 44,
    "start_time": "2022-02-23T19:09:35.296Z"
   },
   {
    "duration": 12,
    "start_time": "2022-02-23T19:09:35.342Z"
   },
   {
    "duration": 7,
    "start_time": "2022-02-23T19:09:35.355Z"
   },
   {
    "duration": 17,
    "start_time": "2022-02-23T19:09:35.364Z"
   },
   {
    "duration": 13,
    "start_time": "2022-02-23T19:09:35.383Z"
   },
   {
    "duration": 4,
    "start_time": "2022-02-23T19:09:35.398Z"
   },
   {
    "duration": 43,
    "start_time": "2022-02-23T19:09:35.404Z"
   },
   {
    "duration": 10,
    "start_time": "2022-02-23T19:09:35.449Z"
   },
   {
    "duration": 19,
    "start_time": "2022-02-23T19:09:35.461Z"
   },
   {
    "duration": 11,
    "start_time": "2022-02-23T19:09:35.482Z"
   },
   {
    "duration": 8,
    "start_time": "2022-02-23T19:09:35.494Z"
   },
   {
    "duration": 32,
    "start_time": "2022-02-23T19:09:35.503Z"
   },
   {
    "duration": 7,
    "start_time": "2022-02-23T19:09:35.537Z"
   },
   {
    "duration": 6,
    "start_time": "2022-02-23T19:09:35.546Z"
   },
   {
    "duration": 2,
    "start_time": "2022-02-23T19:36:47.840Z"
   },
   {
    "duration": 129,
    "start_time": "2022-02-23T19:36:47.845Z"
   },
   {
    "duration": 9,
    "start_time": "2022-02-23T19:36:47.976Z"
   },
   {
    "duration": 8,
    "start_time": "2022-02-23T19:36:47.987Z"
   },
   {
    "duration": 5,
    "start_time": "2022-02-23T19:36:47.996Z"
   },
   {
    "duration": 15,
    "start_time": "2022-02-23T19:36:48.032Z"
   },
   {
    "duration": 3,
    "start_time": "2022-02-23T19:36:48.049Z"
   },
   {
    "duration": 25,
    "start_time": "2022-02-23T19:36:48.054Z"
   },
   {
    "duration": 18,
    "start_time": "2022-02-23T19:36:48.082Z"
   },
   {
    "duration": 47,
    "start_time": "2022-02-23T19:36:48.103Z"
   },
   {
    "duration": 60,
    "start_time": "2022-02-23T19:36:48.152Z"
   },
   {
    "duration": 77,
    "start_time": "2022-02-23T19:36:48.213Z"
   },
   {
    "duration": 64,
    "start_time": "2022-02-23T19:36:48.292Z"
   },
   {
    "duration": 8,
    "start_time": "2022-02-23T19:36:48.357Z"
   },
   {
    "duration": 2,
    "start_time": "2022-02-23T19:36:48.367Z"
   },
   {
    "duration": 12,
    "start_time": "2022-02-23T19:36:48.371Z"
   },
   {
    "duration": 8,
    "start_time": "2022-02-23T19:36:48.384Z"
   },
   {
    "duration": 12,
    "start_time": "2022-02-23T19:36:48.394Z"
   },
   {
    "duration": 9,
    "start_time": "2022-02-23T19:36:48.432Z"
   },
   {
    "duration": 3,
    "start_time": "2022-02-23T19:36:48.443Z"
   },
   {
    "duration": 23,
    "start_time": "2022-02-23T19:36:48.448Z"
   },
   {
    "duration": 13,
    "start_time": "2022-02-23T19:36:48.473Z"
   },
   {
    "duration": 17,
    "start_time": "2022-02-23T19:36:48.487Z"
   },
   {
    "duration": 29,
    "start_time": "2022-02-23T19:36:48.507Z"
   },
   {
    "duration": 15,
    "start_time": "2022-02-23T19:36:48.538Z"
   },
   {
    "duration": 12,
    "start_time": "2022-02-23T19:36:48.554Z"
   },
   {
    "duration": 7,
    "start_time": "2022-02-23T19:36:48.568Z"
   },
   {
    "duration": 18,
    "start_time": "2022-02-23T19:36:48.576Z"
   },
   {
    "duration": 39,
    "start_time": "2022-02-23T19:36:48.596Z"
   },
   {
    "duration": 4,
    "start_time": "2022-02-23T19:36:48.636Z"
   },
   {
    "duration": 21,
    "start_time": "2022-02-23T19:36:48.642Z"
   },
   {
    "duration": 13,
    "start_time": "2022-02-23T19:36:48.665Z"
   },
   {
    "duration": 19,
    "start_time": "2022-02-23T19:36:48.680Z"
   },
   {
    "duration": 36,
    "start_time": "2022-02-23T19:36:48.701Z"
   },
   {
    "duration": 9,
    "start_time": "2022-02-23T19:36:48.739Z"
   },
   {
    "duration": 5,
    "start_time": "2022-02-23T19:36:48.750Z"
   },
   {
    "duration": 8,
    "start_time": "2022-02-23T19:36:48.756Z"
   },
   {
    "duration": 8,
    "start_time": "2022-02-23T19:36:48.766Z"
   },
   {
    "duration": 2,
    "start_time": "2022-02-23T19:38:09.468Z"
   },
   {
    "duration": 120,
    "start_time": "2022-02-23T19:38:09.472Z"
   },
   {
    "duration": 10,
    "start_time": "2022-02-23T19:38:09.594Z"
   },
   {
    "duration": 30,
    "start_time": "2022-02-23T19:38:09.606Z"
   },
   {
    "duration": 5,
    "start_time": "2022-02-23T19:38:09.637Z"
   },
   {
    "duration": 18,
    "start_time": "2022-02-23T19:38:09.644Z"
   },
   {
    "duration": 4,
    "start_time": "2022-02-23T19:38:09.665Z"
   },
   {
    "duration": 23,
    "start_time": "2022-02-23T19:38:09.670Z"
   },
   {
    "duration": 44,
    "start_time": "2022-02-23T19:38:09.694Z"
   },
   {
    "duration": 23,
    "start_time": "2022-02-23T19:38:09.739Z"
   },
   {
    "duration": 51,
    "start_time": "2022-02-23T19:38:09.764Z"
   },
   {
    "duration": 66,
    "start_time": "2022-02-23T19:38:09.816Z"
   },
   {
    "duration": 53,
    "start_time": "2022-02-23T19:38:09.883Z"
   },
   {
    "duration": 10,
    "start_time": "2022-02-23T19:38:09.938Z"
   },
   {
    "duration": 3,
    "start_time": "2022-02-23T19:38:09.949Z"
   },
   {
    "duration": 11,
    "start_time": "2022-02-23T19:38:09.954Z"
   },
   {
    "duration": 9,
    "start_time": "2022-02-23T19:38:09.966Z"
   },
   {
    "duration": 10,
    "start_time": "2022-02-23T19:38:09.976Z"
   },
   {
    "duration": 8,
    "start_time": "2022-02-23T19:38:09.989Z"
   },
   {
    "duration": 3,
    "start_time": "2022-02-23T19:38:10.031Z"
   },
   {
    "duration": 19,
    "start_time": "2022-02-23T19:38:10.036Z"
   },
   {
    "duration": 14,
    "start_time": "2022-02-23T19:38:10.057Z"
   },
   {
    "duration": 15,
    "start_time": "2022-02-23T19:38:10.072Z"
   },
   {
    "duration": 18,
    "start_time": "2022-02-23T19:38:10.089Z"
   },
   {
    "duration": 37,
    "start_time": "2022-02-23T19:38:10.109Z"
   },
   {
    "duration": 13,
    "start_time": "2022-02-23T19:38:10.148Z"
   },
   {
    "duration": 9,
    "start_time": "2022-02-23T19:38:10.162Z"
   },
   {
    "duration": 17,
    "start_time": "2022-02-23T19:38:10.172Z"
   },
   {
    "duration": 10,
    "start_time": "2022-02-23T19:38:10.190Z"
   },
   {
    "duration": 3,
    "start_time": "2022-02-23T19:38:10.202Z"
   },
   {
    "duration": 36,
    "start_time": "2022-02-23T19:38:10.207Z"
   },
   {
    "duration": 11,
    "start_time": "2022-02-23T19:38:10.245Z"
   },
   {
    "duration": 18,
    "start_time": "2022-02-23T19:38:10.257Z"
   },
   {
    "duration": 10,
    "start_time": "2022-02-23T19:38:10.276Z"
   },
   {
    "duration": 8,
    "start_time": "2022-02-23T19:38:10.288Z"
   },
   {
    "duration": 36,
    "start_time": "2022-02-23T19:38:10.298Z"
   },
   {
    "duration": 5,
    "start_time": "2022-02-23T19:38:10.335Z"
   },
   {
    "duration": 4,
    "start_time": "2022-02-23T19:38:10.341Z"
   },
   {
    "duration": 3,
    "start_time": "2022-02-23T19:43:32.744Z"
   },
   {
    "duration": 144,
    "start_time": "2022-02-23T19:43:32.750Z"
   },
   {
    "duration": 10,
    "start_time": "2022-02-23T19:43:32.896Z"
   },
   {
    "duration": 9,
    "start_time": "2022-02-23T19:43:32.908Z"
   },
   {
    "duration": 3,
    "start_time": "2022-02-23T19:43:32.932Z"
   },
   {
    "duration": 16,
    "start_time": "2022-02-23T19:43:32.937Z"
   },
   {
    "duration": 3,
    "start_time": "2022-02-23T19:43:32.955Z"
   },
   {
    "duration": 22,
    "start_time": "2022-02-23T19:43:32.959Z"
   },
   {
    "duration": 16,
    "start_time": "2022-02-23T19:43:32.984Z"
   },
   {
    "duration": 48,
    "start_time": "2022-02-23T19:43:33.001Z"
   },
   {
    "duration": 53,
    "start_time": "2022-02-23T19:43:33.051Z"
   },
   {
    "duration": 75,
    "start_time": "2022-02-23T19:43:33.106Z"
   },
   {
    "duration": 52,
    "start_time": "2022-02-23T19:43:33.182Z"
   },
   {
    "duration": 8,
    "start_time": "2022-02-23T19:43:33.235Z"
   },
   {
    "duration": 3,
    "start_time": "2022-02-23T19:43:33.244Z"
   },
   {
    "duration": 14,
    "start_time": "2022-02-23T19:43:33.248Z"
   },
   {
    "duration": 8,
    "start_time": "2022-02-23T19:43:33.264Z"
   },
   {
    "duration": 13,
    "start_time": "2022-02-23T19:43:33.273Z"
   },
   {
    "duration": 9,
    "start_time": "2022-02-23T19:43:33.288Z"
   },
   {
    "duration": 34,
    "start_time": "2022-02-23T19:43:33.298Z"
   },
   {
    "duration": 20,
    "start_time": "2022-02-23T19:43:33.333Z"
   },
   {
    "duration": 14,
    "start_time": "2022-02-23T19:43:33.354Z"
   },
   {
    "duration": 15,
    "start_time": "2022-02-23T19:43:33.370Z"
   },
   {
    "duration": 14,
    "start_time": "2022-02-23T19:43:33.387Z"
   },
   {
    "duration": 36,
    "start_time": "2022-02-23T19:43:33.403Z"
   },
   {
    "duration": 13,
    "start_time": "2022-02-23T19:43:33.441Z"
   },
   {
    "duration": 8,
    "start_time": "2022-02-23T19:43:33.455Z"
   },
   {
    "duration": 18,
    "start_time": "2022-02-23T19:43:33.464Z"
   },
   {
    "duration": 11,
    "start_time": "2022-02-23T19:43:33.483Z"
   },
   {
    "duration": 3,
    "start_time": "2022-02-23T19:43:33.496Z"
   },
   {
    "duration": 38,
    "start_time": "2022-02-23T19:43:33.500Z"
   },
   {
    "duration": 12,
    "start_time": "2022-02-23T19:43:33.539Z"
   },
   {
    "duration": 17,
    "start_time": "2022-02-23T19:43:33.552Z"
   },
   {
    "duration": 10,
    "start_time": "2022-02-23T19:43:33.570Z"
   },
   {
    "duration": 8,
    "start_time": "2022-02-23T19:43:33.582Z"
   },
   {
    "duration": 6,
    "start_time": "2022-02-23T19:43:33.591Z"
   },
   {
    "duration": 34,
    "start_time": "2022-02-23T19:43:33.598Z"
   },
   {
    "duration": 4,
    "start_time": "2022-02-23T19:43:33.633Z"
   },
   {
    "duration": 18,
    "start_time": "2022-02-23T19:44:24.942Z"
   },
   {
    "duration": 4,
    "start_time": "2022-02-23T19:45:44.462Z"
   },
   {
    "duration": 322,
    "start_time": "2022-02-23T19:45:44.468Z"
   },
   {
    "duration": 11,
    "start_time": "2022-02-23T19:45:44.793Z"
   },
   {
    "duration": 7,
    "start_time": "2022-02-23T19:45:44.806Z"
   },
   {
    "duration": 4,
    "start_time": "2022-02-23T19:45:44.833Z"
   },
   {
    "duration": 19,
    "start_time": "2022-02-23T19:45:44.839Z"
   },
   {
    "duration": 4,
    "start_time": "2022-02-23T19:45:44.860Z"
   },
   {
    "duration": 29,
    "start_time": "2022-02-23T19:45:44.867Z"
   },
   {
    "duration": 46,
    "start_time": "2022-02-23T19:45:44.899Z"
   },
   {
    "duration": 27,
    "start_time": "2022-02-23T19:45:44.947Z"
   },
   {
    "duration": 70,
    "start_time": "2022-02-23T19:45:44.977Z"
   },
   {
    "duration": 68,
    "start_time": "2022-02-23T19:45:45.049Z"
   },
   {
    "duration": 62,
    "start_time": "2022-02-23T19:45:45.120Z"
   },
   {
    "duration": 153,
    "start_time": "2022-02-23T19:45:45.184Z"
   },
   {
    "duration": 15,
    "start_time": "2022-02-23T19:45:45.339Z"
   },
   {
    "duration": 21,
    "start_time": "2022-02-23T19:45:45.356Z"
   },
   {
    "duration": 31,
    "start_time": "2022-02-23T19:45:45.379Z"
   },
   {
    "duration": 14,
    "start_time": "2022-02-23T19:45:45.412Z"
   },
   {
    "duration": 9,
    "start_time": "2022-02-23T19:45:45.428Z"
   },
   {
    "duration": 4,
    "start_time": "2022-02-23T19:45:45.438Z"
   },
   {
    "duration": 27,
    "start_time": "2022-02-23T19:45:45.443Z"
   },
   {
    "duration": 12,
    "start_time": "2022-02-23T19:45:45.472Z"
   },
   {
    "duration": 13,
    "start_time": "2022-02-23T19:45:45.487Z"
   },
   {
    "duration": 30,
    "start_time": "2022-02-23T19:45:45.502Z"
   },
   {
    "duration": 19,
    "start_time": "2022-02-23T19:45:45.534Z"
   },
   {
    "duration": 14,
    "start_time": "2022-02-23T19:45:45.555Z"
   },
   {
    "duration": 10,
    "start_time": "2022-02-23T19:45:45.571Z"
   },
   {
    "duration": 19,
    "start_time": "2022-02-23T19:45:45.583Z"
   },
   {
    "duration": 38,
    "start_time": "2022-02-23T19:45:45.604Z"
   },
   {
    "duration": 6,
    "start_time": "2022-02-23T19:45:45.643Z"
   },
   {
    "duration": 24,
    "start_time": "2022-02-23T19:45:45.650Z"
   },
   {
    "duration": 14,
    "start_time": "2022-02-23T19:45:45.675Z"
   },
   {
    "duration": 41,
    "start_time": "2022-02-23T19:45:45.691Z"
   },
   {
    "duration": 16,
    "start_time": "2022-02-23T19:45:45.733Z"
   },
   {
    "duration": 11,
    "start_time": "2022-02-23T19:45:45.751Z"
   },
   {
    "duration": 5,
    "start_time": "2022-02-23T19:45:45.764Z"
   },
   {
    "duration": 10,
    "start_time": "2022-02-23T19:45:45.771Z"
   },
   {
    "duration": 8,
    "start_time": "2022-02-23T19:45:45.782Z"
   },
   {
    "duration": 9,
    "start_time": "2022-02-23T19:46:29.809Z"
   },
   {
    "duration": 3,
    "start_time": "2022-02-23T19:47:53.893Z"
   },
   {
    "duration": 160,
    "start_time": "2022-02-23T19:47:53.898Z"
   },
   {
    "duration": 10,
    "start_time": "2022-02-23T19:47:54.060Z"
   },
   {
    "duration": 10,
    "start_time": "2022-02-23T19:47:54.072Z"
   },
   {
    "duration": 4,
    "start_time": "2022-02-23T19:47:54.084Z"
   },
   {
    "duration": 43,
    "start_time": "2022-02-23T19:47:54.090Z"
   },
   {
    "duration": 4,
    "start_time": "2022-02-23T19:47:54.135Z"
   },
   {
    "duration": 26,
    "start_time": "2022-02-23T19:47:54.141Z"
   },
   {
    "duration": 17,
    "start_time": "2022-02-23T19:47:54.169Z"
   },
   {
    "duration": 46,
    "start_time": "2022-02-23T19:47:54.187Z"
   },
   {
    "duration": 54,
    "start_time": "2022-02-23T19:47:54.234Z"
   },
   {
    "duration": 82,
    "start_time": "2022-02-23T19:47:54.290Z"
   },
   {
    "duration": 59,
    "start_time": "2022-02-23T19:47:54.373Z"
   },
   {
    "duration": 10,
    "start_time": "2022-02-23T19:47:54.434Z"
   },
   {
    "duration": 3,
    "start_time": "2022-02-23T19:47:54.446Z"
   },
   {
    "duration": 10,
    "start_time": "2022-02-23T19:47:54.451Z"
   },
   {
    "duration": 9,
    "start_time": "2022-02-23T19:47:54.462Z"
   },
   {
    "duration": 13,
    "start_time": "2022-02-23T19:47:54.473Z"
   },
   {
    "duration": 46,
    "start_time": "2022-02-23T19:47:54.490Z"
   },
   {
    "duration": 4,
    "start_time": "2022-02-23T19:47:54.538Z"
   },
   {
    "duration": 18,
    "start_time": "2022-02-23T19:47:54.544Z"
   },
   {
    "duration": 16,
    "start_time": "2022-02-23T19:47:54.564Z"
   },
   {
    "duration": 14,
    "start_time": "2022-02-23T19:47:54.582Z"
   },
   {
    "duration": 44,
    "start_time": "2022-02-23T19:47:54.598Z"
   },
   {
    "duration": 14,
    "start_time": "2022-02-23T19:47:54.644Z"
   },
   {
    "duration": 12,
    "start_time": "2022-02-23T19:47:54.660Z"
   },
   {
    "duration": 7,
    "start_time": "2022-02-23T19:47:54.673Z"
   },
   {
    "duration": 19,
    "start_time": "2022-02-23T19:47:54.682Z"
   },
   {
    "duration": 36,
    "start_time": "2022-02-23T19:47:54.702Z"
   },
   {
    "duration": 4,
    "start_time": "2022-02-23T19:47:54.739Z"
   },
   {
    "duration": 22,
    "start_time": "2022-02-23T19:47:54.745Z"
   },
   {
    "duration": 11,
    "start_time": "2022-02-23T19:47:54.769Z"
   },
   {
    "duration": 17,
    "start_time": "2022-02-23T19:47:54.781Z"
   },
   {
    "duration": 37,
    "start_time": "2022-02-23T19:47:54.799Z"
   },
   {
    "duration": 8,
    "start_time": "2022-02-23T19:47:54.838Z"
   },
   {
    "duration": 5,
    "start_time": "2022-02-23T19:47:54.848Z"
   },
   {
    "duration": 9,
    "start_time": "2022-02-23T19:47:54.855Z"
   },
   {
    "duration": 6,
    "start_time": "2022-02-23T19:47:54.866Z"
   },
   {
    "duration": 3,
    "start_time": "2022-02-23T19:54:56.740Z"
   },
   {
    "duration": 131,
    "start_time": "2022-02-23T19:54:56.744Z"
   },
   {
    "duration": 10,
    "start_time": "2022-02-23T19:54:56.877Z"
   },
   {
    "duration": 9,
    "start_time": "2022-02-23T19:54:56.888Z"
   },
   {
    "duration": 5,
    "start_time": "2022-02-23T19:54:56.899Z"
   },
   {
    "duration": 39,
    "start_time": "2022-02-23T19:54:56.906Z"
   },
   {
    "duration": 5,
    "start_time": "2022-02-23T19:54:56.946Z"
   },
   {
    "duration": 22,
    "start_time": "2022-02-23T19:54:56.953Z"
   },
   {
    "duration": 15,
    "start_time": "2022-02-23T19:54:56.979Z"
   },
   {
    "duration": 50,
    "start_time": "2022-02-23T19:54:56.997Z"
   },
   {
    "duration": 52,
    "start_time": "2022-02-23T19:54:57.049Z"
   },
   {
    "duration": 70,
    "start_time": "2022-02-23T19:54:57.103Z"
   },
   {
    "duration": 46,
    "start_time": "2022-02-23T19:54:57.175Z"
   },
   {
    "duration": 13,
    "start_time": "2022-02-23T19:54:57.222Z"
   },
   {
    "duration": 2,
    "start_time": "2022-02-23T19:54:57.237Z"
   },
   {
    "duration": 11,
    "start_time": "2022-02-23T19:54:57.241Z"
   },
   {
    "duration": 7,
    "start_time": "2022-02-23T19:54:57.254Z"
   },
   {
    "duration": 10,
    "start_time": "2022-02-23T19:54:57.263Z"
   },
   {
    "duration": 8,
    "start_time": "2022-02-23T19:54:57.275Z"
   },
   {
    "duration": 3,
    "start_time": "2022-02-23T19:54:57.285Z"
   },
   {
    "duration": 50,
    "start_time": "2022-02-23T19:54:57.289Z"
   },
   {
    "duration": 14,
    "start_time": "2022-02-23T19:54:57.341Z"
   },
   {
    "duration": 12,
    "start_time": "2022-02-23T19:54:57.356Z"
   },
   {
    "duration": 17,
    "start_time": "2022-02-23T19:54:57.369Z"
   },
   {
    "duration": 16,
    "start_time": "2022-02-23T19:54:57.387Z"
   },
   {
    "duration": 33,
    "start_time": "2022-02-23T19:54:57.405Z"
   },
   {
    "duration": 7,
    "start_time": "2022-02-23T19:54:57.441Z"
   },
   {
    "duration": 17,
    "start_time": "2022-02-23T19:54:57.450Z"
   },
   {
    "duration": 10,
    "start_time": "2022-02-23T19:54:57.468Z"
   },
   {
    "duration": 3,
    "start_time": "2022-02-23T19:54:57.481Z"
   },
   {
    "duration": 27,
    "start_time": "2022-02-23T19:54:57.485Z"
   },
   {
    "duration": 28,
    "start_time": "2022-02-23T19:54:57.513Z"
   },
   {
    "duration": 15,
    "start_time": "2022-02-23T19:54:57.542Z"
   },
   {
    "duration": 11,
    "start_time": "2022-02-23T19:54:57.558Z"
   },
   {
    "duration": 8,
    "start_time": "2022-02-23T19:54:57.570Z"
   },
   {
    "duration": 8,
    "start_time": "2022-02-23T19:54:57.579Z"
   },
   {
    "duration": 10,
    "start_time": "2022-02-23T19:54:57.588Z"
   },
   {
    "duration": 8,
    "start_time": "2022-02-23T19:54:57.599Z"
   },
   {
    "duration": 2,
    "start_time": "2022-02-23T19:55:42.337Z"
   },
   {
    "duration": 141,
    "start_time": "2022-02-23T19:55:42.341Z"
   },
   {
    "duration": 9,
    "start_time": "2022-02-23T19:55:42.484Z"
   },
   {
    "duration": 8,
    "start_time": "2022-02-23T19:55:42.495Z"
   },
   {
    "duration": 5,
    "start_time": "2022-02-23T19:55:42.505Z"
   },
   {
    "duration": 32,
    "start_time": "2022-02-23T19:55:42.512Z"
   },
   {
    "duration": 4,
    "start_time": "2022-02-23T19:55:42.545Z"
   },
   {
    "duration": 29,
    "start_time": "2022-02-23T19:55:42.550Z"
   },
   {
    "duration": 15,
    "start_time": "2022-02-23T19:55:42.582Z"
   },
   {
    "duration": 40,
    "start_time": "2022-02-23T19:55:42.599Z"
   },
   {
    "duration": 55,
    "start_time": "2022-02-23T19:55:42.641Z"
   },
   {
    "duration": 81,
    "start_time": "2022-02-23T19:55:42.697Z"
   },
   {
    "duration": 62,
    "start_time": "2022-02-23T19:55:42.780Z"
   },
   {
    "duration": 9,
    "start_time": "2022-02-23T19:55:42.844Z"
   },
   {
    "duration": 3,
    "start_time": "2022-02-23T19:55:42.854Z"
   },
   {
    "duration": 12,
    "start_time": "2022-02-23T19:55:42.858Z"
   },
   {
    "duration": 8,
    "start_time": "2022-02-23T19:55:42.871Z"
   },
   {
    "duration": 12,
    "start_time": "2022-02-23T19:55:42.880Z"
   },
   {
    "duration": 39,
    "start_time": "2022-02-23T19:55:42.893Z"
   },
   {
    "duration": 3,
    "start_time": "2022-02-23T19:55:42.933Z"
   },
   {
    "duration": 23,
    "start_time": "2022-02-23T19:55:42.938Z"
   },
   {
    "duration": 13,
    "start_time": "2022-02-23T19:55:42.963Z"
   },
   {
    "duration": 15,
    "start_time": "2022-02-23T19:55:42.978Z"
   },
   {
    "duration": 15,
    "start_time": "2022-02-23T19:55:42.996Z"
   },
   {
    "duration": 34,
    "start_time": "2022-02-23T19:55:43.013Z"
   },
   {
    "duration": 13,
    "start_time": "2022-02-23T19:55:43.049Z"
   },
   {
    "duration": 8,
    "start_time": "2022-02-23T19:55:43.063Z"
   },
   {
    "duration": 19,
    "start_time": "2022-02-23T19:55:43.072Z"
   },
   {
    "duration": 11,
    "start_time": "2022-02-23T19:55:43.092Z"
   },
   {
    "duration": 29,
    "start_time": "2022-02-23T19:55:43.104Z"
   },
   {
    "duration": 21,
    "start_time": "2022-02-23T19:55:43.134Z"
   },
   {
    "duration": 12,
    "start_time": "2022-02-23T19:55:43.156Z"
   },
   {
    "duration": 19,
    "start_time": "2022-02-23T19:55:43.169Z"
   },
   {
    "duration": 12,
    "start_time": "2022-02-23T19:55:43.189Z"
   },
   {
    "duration": 33,
    "start_time": "2022-02-23T19:55:43.202Z"
   },
   {
    "duration": 4,
    "start_time": "2022-02-23T19:55:43.236Z"
   },
   {
    "duration": 7,
    "start_time": "2022-02-23T19:55:43.242Z"
   },
   {
    "duration": 7,
    "start_time": "2022-02-23T19:55:43.250Z"
   },
   {
    "duration": 600,
    "start_time": "2022-03-06T08:36:06.526Z"
   },
   {
    "duration": 140,
    "start_time": "2022-03-06T08:36:07.128Z"
   },
   {
    "duration": 17,
    "start_time": "2022-03-06T08:36:07.270Z"
   },
   {
    "duration": 9,
    "start_time": "2022-03-06T08:36:07.289Z"
   },
   {
    "duration": 7,
    "start_time": "2022-03-06T08:36:07.300Z"
   },
   {
    "duration": 41,
    "start_time": "2022-03-06T08:36:07.309Z"
   },
   {
    "duration": 4,
    "start_time": "2022-03-06T08:36:07.352Z"
   },
   {
    "duration": 24,
    "start_time": "2022-03-06T08:36:07.358Z"
   },
   {
    "duration": 17,
    "start_time": "2022-03-06T08:36:07.384Z"
   },
   {
    "duration": 42,
    "start_time": "2022-03-06T08:36:07.403Z"
   },
   {
    "duration": 59,
    "start_time": "2022-03-06T08:36:07.447Z"
   },
   {
    "duration": 85,
    "start_time": "2022-03-06T08:36:07.508Z"
   },
   {
    "duration": 56,
    "start_time": "2022-03-06T08:36:07.594Z"
   },
   {
    "duration": 9,
    "start_time": "2022-03-06T08:36:07.652Z"
   },
   {
    "duration": 3,
    "start_time": "2022-03-06T08:36:07.663Z"
   },
   {
    "duration": 12,
    "start_time": "2022-03-06T08:36:07.668Z"
   },
   {
    "duration": 10,
    "start_time": "2022-03-06T08:36:07.682Z"
   },
   {
    "duration": 11,
    "start_time": "2022-03-06T08:36:07.694Z"
   },
   {
    "duration": 41,
    "start_time": "2022-03-06T08:36:07.707Z"
   },
   {
    "duration": 4,
    "start_time": "2022-03-06T08:36:07.749Z"
   },
   {
    "duration": 28,
    "start_time": "2022-03-06T08:36:07.755Z"
   },
   {
    "duration": 15,
    "start_time": "2022-03-06T08:36:07.785Z"
   },
   {
    "duration": 36,
    "start_time": "2022-03-06T08:36:07.803Z"
   },
   {
    "duration": 15,
    "start_time": "2022-03-06T08:36:07.841Z"
   },
   {
    "duration": 16,
    "start_time": "2022-03-06T08:36:07.858Z"
   },
   {
    "duration": 13,
    "start_time": "2022-03-06T08:36:07.876Z"
   },
   {
    "duration": 8,
    "start_time": "2022-03-06T08:36:07.891Z"
   },
   {
    "duration": 41,
    "start_time": "2022-03-06T08:36:07.901Z"
   },
   {
    "duration": 10,
    "start_time": "2022-03-06T08:36:07.944Z"
   },
   {
    "duration": 4,
    "start_time": "2022-03-06T08:36:07.956Z"
   },
   {
    "duration": 21,
    "start_time": "2022-03-06T08:36:07.962Z"
   },
   {
    "duration": 12,
    "start_time": "2022-03-06T08:36:07.985Z"
   },
   {
    "duration": 47,
    "start_time": "2022-03-06T08:36:07.999Z"
   },
   {
    "duration": 13,
    "start_time": "2022-03-06T08:36:08.047Z"
   },
   {
    "duration": 9,
    "start_time": "2022-03-06T08:36:08.061Z"
   },
   {
    "duration": 4,
    "start_time": "2022-03-06T08:36:08.072Z"
   },
   {
    "duration": 8,
    "start_time": "2022-03-06T08:36:08.078Z"
   },
   {
    "duration": 12,
    "start_time": "2022-03-06T08:36:08.088Z"
   },
   {
    "duration": 614,
    "start_time": "2022-03-06T11:57:09.690Z"
   },
   {
    "duration": 143,
    "start_time": "2022-03-06T11:57:10.306Z"
   },
   {
    "duration": 20,
    "start_time": "2022-03-06T11:57:10.451Z"
   },
   {
    "duration": 10,
    "start_time": "2022-03-06T11:57:10.473Z"
   },
   {
    "duration": 21,
    "start_time": "2022-03-06T11:57:10.484Z"
   },
   {
    "duration": 40,
    "start_time": "2022-03-06T11:57:10.506Z"
   },
   {
    "duration": 21,
    "start_time": "2022-03-06T11:57:10.548Z"
   },
   {
    "duration": 45,
    "start_time": "2022-03-06T11:57:10.572Z"
   },
   {
    "duration": 37,
    "start_time": "2022-03-06T11:57:10.620Z"
   },
   {
    "duration": 33,
    "start_time": "2022-03-06T11:57:10.659Z"
   },
   {
    "duration": 81,
    "start_time": "2022-03-06T11:57:10.693Z"
   },
   {
    "duration": 68,
    "start_time": "2022-03-06T11:57:10.776Z"
   },
   {
    "duration": 53,
    "start_time": "2022-03-06T11:57:10.845Z"
   },
   {
    "duration": 10,
    "start_time": "2022-03-06T11:57:10.900Z"
   },
   {
    "duration": 12,
    "start_time": "2022-03-06T11:57:10.912Z"
   },
   {
    "duration": 33,
    "start_time": "2022-03-06T11:57:10.926Z"
   },
   {
    "duration": 23,
    "start_time": "2022-03-06T11:57:10.960Z"
   },
   {
    "duration": 16,
    "start_time": "2022-03-06T11:57:10.985Z"
   },
   {
    "duration": 33,
    "start_time": "2022-03-06T11:57:11.003Z"
   },
   {
    "duration": 13,
    "start_time": "2022-03-06T11:57:11.037Z"
   },
   {
    "duration": 39,
    "start_time": "2022-03-06T11:57:11.051Z"
   },
   {
    "duration": 25,
    "start_time": "2022-03-06T11:57:11.092Z"
   },
   {
    "duration": 18,
    "start_time": "2022-03-06T11:57:11.120Z"
   },
   {
    "duration": 27,
    "start_time": "2022-03-06T11:57:11.140Z"
   },
   {
    "duration": 42,
    "start_time": "2022-03-06T11:57:11.168Z"
   },
   {
    "duration": 30,
    "start_time": "2022-03-06T11:57:11.212Z"
   },
   {
    "duration": 16,
    "start_time": "2022-03-06T11:57:11.244Z"
   },
   {
    "duration": 27,
    "start_time": "2022-03-06T11:57:11.261Z"
   },
   {
    "duration": 17,
    "start_time": "2022-03-06T11:57:11.291Z"
   },
   {
    "duration": 7,
    "start_time": "2022-03-06T11:57:11.309Z"
   },
   {
    "duration": 34,
    "start_time": "2022-03-06T11:57:11.317Z"
   },
   {
    "duration": 20,
    "start_time": "2022-03-06T11:57:11.353Z"
   },
   {
    "duration": 24,
    "start_time": "2022-03-06T11:57:11.374Z"
   },
   {
    "duration": 20,
    "start_time": "2022-03-06T11:57:11.400Z"
   },
   {
    "duration": 26,
    "start_time": "2022-03-06T11:57:11.421Z"
   },
   {
    "duration": 14,
    "start_time": "2022-03-06T11:57:11.449Z"
   },
   {
    "duration": 22,
    "start_time": "2022-03-06T11:57:11.465Z"
   },
   {
    "duration": 25,
    "start_time": "2022-03-06T11:57:11.488Z"
   },
   {
    "duration": 3,
    "start_time": "2022-03-06T14:31:44.048Z"
   },
   {
    "duration": 155,
    "start_time": "2022-03-06T14:31:44.052Z"
   },
   {
    "duration": 72,
    "start_time": "2022-03-06T14:31:44.209Z"
   },
   {
    "duration": 11,
    "start_time": "2022-03-06T14:31:44.273Z"
   },
   {
    "duration": 7,
    "start_time": "2022-03-06T14:31:44.278Z"
   },
   {
    "duration": -3,
    "start_time": "2022-03-06T14:31:44.288Z"
   },
   {
    "duration": -7,
    "start_time": "2022-03-06T14:31:44.293Z"
   },
   {
    "duration": -27,
    "start_time": "2022-03-06T14:31:44.314Z"
   },
   {
    "duration": -30,
    "start_time": "2022-03-06T14:31:44.318Z"
   },
   {
    "duration": -35,
    "start_time": "2022-03-06T14:31:44.324Z"
   },
   {
    "duration": -38,
    "start_time": "2022-03-06T14:31:44.328Z"
   },
   {
    "duration": -42,
    "start_time": "2022-03-06T14:31:44.333Z"
   },
   {
    "duration": -45,
    "start_time": "2022-03-06T14:31:44.337Z"
   },
   {
    "duration": -47,
    "start_time": "2022-03-06T14:31:44.341Z"
   },
   {
    "duration": -50,
    "start_time": "2022-03-06T14:31:44.345Z"
   },
   {
    "duration": -62,
    "start_time": "2022-03-06T14:31:44.358Z"
   },
   {
    "duration": -64,
    "start_time": "2022-03-06T14:31:44.361Z"
   },
   {
    "duration": -66,
    "start_time": "2022-03-06T14:31:44.364Z"
   },
   {
    "duration": -69,
    "start_time": "2022-03-06T14:31:44.368Z"
   },
   {
    "duration": -72,
    "start_time": "2022-03-06T14:31:44.372Z"
   },
   {
    "duration": -75,
    "start_time": "2022-03-06T14:31:44.376Z"
   },
   {
    "duration": -80,
    "start_time": "2022-03-06T14:31:44.382Z"
   },
   {
    "duration": -82,
    "start_time": "2022-03-06T14:31:44.385Z"
   },
   {
    "duration": -85,
    "start_time": "2022-03-06T14:31:44.389Z"
   },
   {
    "duration": -86,
    "start_time": "2022-03-06T14:31:44.391Z"
   },
   {
    "duration": -89,
    "start_time": "2022-03-06T14:31:44.395Z"
   },
   {
    "duration": -91,
    "start_time": "2022-03-06T14:31:44.398Z"
   },
   {
    "duration": -94,
    "start_time": "2022-03-06T14:31:44.402Z"
   },
   {
    "duration": -96,
    "start_time": "2022-03-06T14:31:44.405Z"
   },
   {
    "duration": -98,
    "start_time": "2022-03-06T14:31:44.408Z"
   },
   {
    "duration": -102,
    "start_time": "2022-03-06T14:31:44.413Z"
   },
   {
    "duration": -121,
    "start_time": "2022-03-06T14:31:44.433Z"
   },
   {
    "duration": -123,
    "start_time": "2022-03-06T14:31:44.436Z"
   },
   {
    "duration": -125,
    "start_time": "2022-03-06T14:31:44.439Z"
   },
   {
    "duration": -126,
    "start_time": "2022-03-06T14:31:44.441Z"
   },
   {
    "duration": -133,
    "start_time": "2022-03-06T14:31:44.449Z"
   },
   {
    "duration": -135,
    "start_time": "2022-03-06T14:31:44.452Z"
   },
   {
    "duration": -137,
    "start_time": "2022-03-06T14:31:44.455Z"
   },
   {
    "duration": 2,
    "start_time": "2022-03-06T14:32:36.076Z"
   },
   {
    "duration": 148,
    "start_time": "2022-03-06T14:32:36.080Z"
   },
   {
    "duration": 10,
    "start_time": "2022-03-06T14:32:36.230Z"
   },
   {
    "duration": 23,
    "start_time": "2022-03-06T14:32:36.241Z"
   },
   {
    "duration": 3,
    "start_time": "2022-03-06T14:32:36.265Z"
   },
   {
    "duration": 14,
    "start_time": "2022-03-06T14:32:36.270Z"
   },
   {
    "duration": 3,
    "start_time": "2022-03-06T14:32:36.287Z"
   },
   {
    "duration": 24,
    "start_time": "2022-03-06T14:32:36.292Z"
   },
   {
    "duration": 45,
    "start_time": "2022-03-06T14:32:36.318Z"
   },
   {
    "duration": 21,
    "start_time": "2022-03-06T14:32:36.365Z"
   },
   {
    "duration": 54,
    "start_time": "2022-03-06T14:32:36.388Z"
   },
   {
    "duration": 79,
    "start_time": "2022-03-06T14:32:36.444Z"
   },
   {
    "duration": 61,
    "start_time": "2022-03-06T14:32:36.525Z"
   },
   {
    "duration": 9,
    "start_time": "2022-03-06T14:32:36.587Z"
   },
   {
    "duration": 6,
    "start_time": "2022-03-06T14:32:36.598Z"
   },
   {
    "duration": 14,
    "start_time": "2022-03-06T14:32:36.605Z"
   },
   {
    "duration": 10,
    "start_time": "2022-03-06T14:32:36.620Z"
   },
   {
    "duration": 10,
    "start_time": "2022-03-06T14:32:36.631Z"
   },
   {
    "duration": 10,
    "start_time": "2022-03-06T14:32:36.664Z"
   },
   {
    "duration": 3,
    "start_time": "2022-03-06T14:32:36.675Z"
   },
   {
    "duration": 23,
    "start_time": "2022-03-06T14:32:36.680Z"
   },
   {
    "duration": 14,
    "start_time": "2022-03-06T14:32:36.704Z"
   },
   {
    "duration": 16,
    "start_time": "2022-03-06T14:32:36.720Z"
   },
   {
    "duration": 35,
    "start_time": "2022-03-06T14:32:36.738Z"
   },
   {
    "duration": 16,
    "start_time": "2022-03-06T14:32:36.774Z"
   },
   {
    "duration": 14,
    "start_time": "2022-03-06T14:32:36.791Z"
   },
   {
    "duration": 8,
    "start_time": "2022-03-06T14:32:36.807Z"
   },
   {
    "duration": 50,
    "start_time": "2022-03-06T14:32:36.816Z"
   },
   {
    "duration": 11,
    "start_time": "2022-03-06T14:32:36.868Z"
   },
   {
    "duration": 4,
    "start_time": "2022-03-06T14:32:36.881Z"
   },
   {
    "duration": 22,
    "start_time": "2022-03-06T14:32:36.886Z"
   },
   {
    "duration": 11,
    "start_time": "2022-03-06T14:32:36.910Z"
   },
   {
    "duration": 17,
    "start_time": "2022-03-06T14:32:36.923Z"
   },
   {
    "duration": 13,
    "start_time": "2022-03-06T14:32:36.963Z"
   },
   {
    "duration": 11,
    "start_time": "2022-03-06T14:32:36.977Z"
   },
   {
    "duration": 4,
    "start_time": "2022-03-06T14:32:36.989Z"
   },
   {
    "duration": 15,
    "start_time": "2022-03-06T14:32:36.995Z"
   },
   {
    "duration": 7,
    "start_time": "2022-03-06T14:32:37.012Z"
   },
   {
    "duration": 124,
    "start_time": "2022-03-06T15:10:35.101Z"
   },
   {
    "duration": 3,
    "start_time": "2022-03-06T15:19:25.103Z"
   },
   {
    "duration": 141,
    "start_time": "2022-03-06T15:19:25.109Z"
   },
   {
    "duration": 108,
    "start_time": "2022-03-06T15:19:25.252Z"
   },
   {
    "duration": -38,
    "start_time": "2022-03-06T15:19:25.401Z"
   },
   {
    "duration": -41,
    "start_time": "2022-03-06T15:19:25.405Z"
   },
   {
    "duration": -43,
    "start_time": "2022-03-06T15:19:25.408Z"
   },
   {
    "duration": -45,
    "start_time": "2022-03-06T15:19:25.411Z"
   },
   {
    "duration": -48,
    "start_time": "2022-03-06T15:19:25.416Z"
   },
   {
    "duration": -52,
    "start_time": "2022-03-06T15:19:25.421Z"
   },
   {
    "duration": -53,
    "start_time": "2022-03-06T15:19:25.424Z"
   },
   {
    "duration": -66,
    "start_time": "2022-03-06T15:19:25.438Z"
   },
   {
    "duration": -70,
    "start_time": "2022-03-06T15:19:25.443Z"
   },
   {
    "duration": -76,
    "start_time": "2022-03-06T15:19:25.450Z"
   },
   {
    "duration": -78,
    "start_time": "2022-03-06T15:19:25.453Z"
   },
   {
    "duration": -82,
    "start_time": "2022-03-06T15:19:25.457Z"
   },
   {
    "duration": -84,
    "start_time": "2022-03-06T15:19:25.460Z"
   },
   {
    "duration": -88,
    "start_time": "2022-03-06T15:19:25.465Z"
   },
   {
    "duration": -90,
    "start_time": "2022-03-06T15:19:25.468Z"
   },
   {
    "duration": -93,
    "start_time": "2022-03-06T15:19:25.472Z"
   },
   {
    "duration": -94,
    "start_time": "2022-03-06T15:19:25.474Z"
   },
   {
    "duration": -96,
    "start_time": "2022-03-06T15:19:25.478Z"
   },
   {
    "duration": -98,
    "start_time": "2022-03-06T15:19:25.481Z"
   },
   {
    "duration": -100,
    "start_time": "2022-03-06T15:19:25.484Z"
   },
   {
    "duration": -101,
    "start_time": "2022-03-06T15:19:25.487Z"
   },
   {
    "duration": -103,
    "start_time": "2022-03-06T15:19:25.490Z"
   },
   {
    "duration": -105,
    "start_time": "2022-03-06T15:19:25.493Z"
   },
   {
    "duration": -109,
    "start_time": "2022-03-06T15:19:25.497Z"
   },
   {
    "duration": -110,
    "start_time": "2022-03-06T15:19:25.500Z"
   },
   {
    "duration": -114,
    "start_time": "2022-03-06T15:19:25.505Z"
   },
   {
    "duration": -116,
    "start_time": "2022-03-06T15:19:25.508Z"
   },
   {
    "duration": -118,
    "start_time": "2022-03-06T15:19:25.511Z"
   },
   {
    "duration": -122,
    "start_time": "2022-03-06T15:19:25.516Z"
   },
   {
    "duration": -126,
    "start_time": "2022-03-06T15:19:25.521Z"
   },
   {
    "duration": -128,
    "start_time": "2022-03-06T15:19:25.524Z"
   },
   {
    "duration": -130,
    "start_time": "2022-03-06T15:19:25.527Z"
   },
   {
    "duration": -132,
    "start_time": "2022-03-06T15:19:25.530Z"
   },
   {
    "duration": -135,
    "start_time": "2022-03-06T15:19:25.534Z"
   },
   {
    "duration": -153,
    "start_time": "2022-03-06T15:19:25.553Z"
   },
   {
    "duration": 69,
    "start_time": "2022-03-06T15:20:00.479Z"
   },
   {
    "duration": 75,
    "start_time": "2022-03-06T15:20:23.231Z"
   },
   {
    "duration": 85,
    "start_time": "2022-03-06T15:23:15.116Z"
   },
   {
    "duration": 68,
    "start_time": "2022-03-06T15:23:18.679Z"
   },
   {
    "duration": 11,
    "start_time": "2022-03-06T15:23:31.039Z"
   },
   {
    "duration": 26,
    "start_time": "2022-03-06T15:25:26.813Z"
   },
   {
    "duration": 41,
    "start_time": "2022-03-06T16:00:35.856Z"
   },
   {
    "duration": 41,
    "start_time": "2022-03-06T16:06:29.527Z"
   },
   {
    "duration": 9,
    "start_time": "2022-03-06T16:12:22.982Z"
   },
   {
    "duration": 3,
    "start_time": "2022-03-06T16:12:27.687Z"
   },
   {
    "duration": 129,
    "start_time": "2022-03-06T16:12:27.691Z"
   },
   {
    "duration": 10,
    "start_time": "2022-03-06T16:12:27.822Z"
   },
   {
    "duration": 40,
    "start_time": "2022-03-06T16:12:27.834Z"
   },
   {
    "duration": 7,
    "start_time": "2022-03-06T16:12:27.876Z"
   },
   {
    "duration": 19,
    "start_time": "2022-03-06T16:12:27.884Z"
   },
   {
    "duration": 3,
    "start_time": "2022-03-06T16:12:27.905Z"
   },
   {
    "duration": 22,
    "start_time": "2022-03-06T16:12:27.910Z"
   },
   {
    "duration": 42,
    "start_time": "2022-03-06T16:12:27.933Z"
   },
   {
    "duration": 22,
    "start_time": "2022-03-06T16:12:27.977Z"
   },
   {
    "duration": 75,
    "start_time": "2022-03-06T16:12:28.001Z"
   },
   {
    "duration": 58,
    "start_time": "2022-03-06T16:12:28.078Z"
   },
   {
    "duration": 59,
    "start_time": "2022-03-06T16:12:28.138Z"
   },
   {
    "duration": 40,
    "start_time": "2022-03-06T16:12:28.199Z"
   },
   {
    "duration": 3,
    "start_time": "2022-03-06T16:12:28.241Z"
   },
   {
    "duration": 25,
    "start_time": "2022-03-06T16:12:28.246Z"
   },
   {
    "duration": 40,
    "start_time": "2022-03-06T16:12:28.272Z"
   },
   {
    "duration": 11,
    "start_time": "2022-03-06T16:12:28.314Z"
   },
   {
    "duration": 35,
    "start_time": "2022-03-06T16:12:28.329Z"
   },
   {
    "duration": 4,
    "start_time": "2022-03-06T16:12:28.366Z"
   },
   {
    "duration": 20,
    "start_time": "2022-03-06T16:12:28.372Z"
   },
   {
    "duration": 13,
    "start_time": "2022-03-06T16:12:28.394Z"
   },
   {
    "duration": 13,
    "start_time": "2022-03-06T16:12:28.409Z"
   },
   {
    "duration": 40,
    "start_time": "2022-03-06T16:12:28.424Z"
   },
   {
    "duration": 16,
    "start_time": "2022-03-06T16:12:28.465Z"
   },
   {
    "duration": 14,
    "start_time": "2022-03-06T16:12:28.483Z"
   },
   {
    "duration": 8,
    "start_time": "2022-03-06T16:12:28.499Z"
   },
   {
    "duration": 17,
    "start_time": "2022-03-06T16:12:28.508Z"
   },
   {
    "duration": 42,
    "start_time": "2022-03-06T16:12:28.527Z"
   },
   {
    "duration": 4,
    "start_time": "2022-03-06T16:12:28.571Z"
   },
   {
    "duration": 21,
    "start_time": "2022-03-06T16:12:28.576Z"
   },
   {
    "duration": 13,
    "start_time": "2022-03-06T16:12:28.599Z"
   },
   {
    "duration": 18,
    "start_time": "2022-03-06T16:12:28.614Z"
   },
   {
    "duration": 30,
    "start_time": "2022-03-06T16:12:28.634Z"
   },
   {
    "duration": 13,
    "start_time": "2022-03-06T16:12:28.665Z"
   },
   {
    "duration": 6,
    "start_time": "2022-03-06T16:12:28.680Z"
   },
   {
    "duration": 8,
    "start_time": "2022-03-06T16:12:28.688Z"
   },
   {
    "duration": 5,
    "start_time": "2022-03-06T16:12:28.698Z"
   },
   {
    "duration": 3,
    "start_time": "2022-03-06T16:16:37.105Z"
   },
   {
    "duration": 130,
    "start_time": "2022-03-06T16:16:37.110Z"
   },
   {
    "duration": 23,
    "start_time": "2022-03-06T16:16:37.243Z"
   },
   {
    "duration": 27,
    "start_time": "2022-03-06T16:16:37.267Z"
   },
   {
    "duration": 6,
    "start_time": "2022-03-06T16:16:37.295Z"
   },
   {
    "duration": 21,
    "start_time": "2022-03-06T16:16:37.303Z"
   },
   {
    "duration": 4,
    "start_time": "2022-03-06T16:16:37.325Z"
   },
   {
    "duration": 50,
    "start_time": "2022-03-06T16:16:37.331Z"
   },
   {
    "duration": 17,
    "start_time": "2022-03-06T16:16:37.383Z"
   },
   {
    "duration": 24,
    "start_time": "2022-03-06T16:16:37.402Z"
   },
   {
    "duration": 76,
    "start_time": "2022-03-06T16:16:37.428Z"
   },
   {
    "duration": 74,
    "start_time": "2022-03-06T16:16:37.509Z"
   },
   {
    "duration": 48,
    "start_time": "2022-03-06T16:16:37.585Z"
   },
   {
    "duration": 52,
    "start_time": "2022-03-06T16:16:37.635Z"
   },
   {
    "duration": 3,
    "start_time": "2022-03-06T16:16:37.689Z"
   },
   {
    "duration": 14,
    "start_time": "2022-03-06T16:16:37.693Z"
   },
   {
    "duration": 40,
    "start_time": "2022-03-06T16:16:37.708Z"
   },
   {
    "duration": 24,
    "start_time": "2022-03-06T16:16:37.749Z"
   },
   {
    "duration": 9,
    "start_time": "2022-03-06T16:16:37.774Z"
   },
   {
    "duration": 4,
    "start_time": "2022-03-06T16:16:37.784Z"
   },
   {
    "duration": 20,
    "start_time": "2022-03-06T16:16:37.789Z"
   },
   {
    "duration": 14,
    "start_time": "2022-03-06T16:16:37.810Z"
   },
   {
    "duration": 43,
    "start_time": "2022-03-06T16:16:37.827Z"
   },
   {
    "duration": 13,
    "start_time": "2022-03-06T16:16:37.872Z"
   },
   {
    "duration": 16,
    "start_time": "2022-03-06T16:16:37.886Z"
   },
   {
    "duration": 14,
    "start_time": "2022-03-06T16:16:37.903Z"
   },
   {
    "duration": 8,
    "start_time": "2022-03-06T16:16:37.919Z"
   },
   {
    "duration": 45,
    "start_time": "2022-03-06T16:16:37.929Z"
   },
   {
    "duration": 10,
    "start_time": "2022-03-06T16:16:37.975Z"
   },
   {
    "duration": 4,
    "start_time": "2022-03-06T16:16:37.987Z"
   },
   {
    "duration": 24,
    "start_time": "2022-03-06T16:16:37.993Z"
   },
   {
    "duration": 16,
    "start_time": "2022-03-06T16:16:38.018Z"
   },
   {
    "duration": 40,
    "start_time": "2022-03-06T16:16:38.036Z"
   },
   {
    "duration": 11,
    "start_time": "2022-03-06T16:16:38.078Z"
   },
   {
    "duration": 7,
    "start_time": "2022-03-06T16:16:38.090Z"
   },
   {
    "duration": 3,
    "start_time": "2022-03-06T16:16:38.099Z"
   },
   {
    "duration": 6,
    "start_time": "2022-03-06T16:16:38.104Z"
   },
   {
    "duration": 4,
    "start_time": "2022-03-06T16:16:38.111Z"
   },
   {
    "duration": 10,
    "start_time": "2022-03-06T16:18:39.213Z"
   },
   {
    "duration": 9,
    "start_time": "2022-03-06T16:19:37.378Z"
   },
   {
    "duration": 3,
    "start_time": "2022-03-06T16:20:16.663Z"
   },
   {
    "duration": 142,
    "start_time": "2022-03-06T16:20:16.667Z"
   },
   {
    "duration": 10,
    "start_time": "2022-03-06T16:20:16.811Z"
   },
   {
    "duration": 43,
    "start_time": "2022-03-06T16:20:16.823Z"
   },
   {
    "duration": 5,
    "start_time": "2022-03-06T16:20:16.867Z"
   },
   {
    "duration": 16,
    "start_time": "2022-03-06T16:20:16.873Z"
   },
   {
    "duration": 4,
    "start_time": "2022-03-06T16:20:16.891Z"
   },
   {
    "duration": 28,
    "start_time": "2022-03-06T16:20:16.898Z"
   },
   {
    "duration": 38,
    "start_time": "2022-03-06T16:20:16.928Z"
   },
   {
    "duration": 24,
    "start_time": "2022-03-06T16:20:16.968Z"
   },
   {
    "duration": 72,
    "start_time": "2022-03-06T16:20:16.993Z"
   },
   {
    "duration": 62,
    "start_time": "2022-03-06T16:20:17.066Z"
   },
   {
    "duration": 63,
    "start_time": "2022-03-06T16:20:17.130Z"
   },
   {
    "duration": 39,
    "start_time": "2022-03-06T16:20:17.195Z"
   },
   {
    "duration": 2,
    "start_time": "2022-03-06T16:20:17.236Z"
   },
   {
    "duration": 28,
    "start_time": "2022-03-06T16:20:17.240Z"
   },
   {
    "duration": 39,
    "start_time": "2022-03-06T16:20:17.270Z"
   },
   {
    "duration": 11,
    "start_time": "2022-03-06T16:20:17.310Z"
   },
   {
    "duration": 10,
    "start_time": "2022-03-06T16:20:17.324Z"
   },
   {
    "duration": 3,
    "start_time": "2022-03-06T16:20:17.336Z"
   },
   {
    "duration": 20,
    "start_time": "2022-03-06T16:20:17.364Z"
   },
   {
    "duration": 13,
    "start_time": "2022-03-06T16:20:17.385Z"
   },
   {
    "duration": 13,
    "start_time": "2022-03-06T16:20:17.400Z"
   },
   {
    "duration": 17,
    "start_time": "2022-03-06T16:20:17.415Z"
   },
   {
    "duration": 40,
    "start_time": "2022-03-06T16:20:17.434Z"
   },
   {
    "duration": 12,
    "start_time": "2022-03-06T16:20:17.476Z"
   },
   {
    "duration": 8,
    "start_time": "2022-03-06T16:20:17.490Z"
   },
   {
    "duration": 21,
    "start_time": "2022-03-06T16:20:17.500Z"
   },
   {
    "duration": 10,
    "start_time": "2022-03-06T16:20:17.522Z"
   },
   {
    "duration": 4,
    "start_time": "2022-03-06T16:20:17.533Z"
   },
   {
    "duration": 39,
    "start_time": "2022-03-06T16:20:17.538Z"
   },
   {
    "duration": 12,
    "start_time": "2022-03-06T16:20:17.579Z"
   },
   {
    "duration": 17,
    "start_time": "2022-03-06T16:20:17.592Z"
   },
   {
    "duration": 12,
    "start_time": "2022-03-06T16:20:17.610Z"
   },
   {
    "duration": 7,
    "start_time": "2022-03-06T16:20:17.624Z"
   },
   {
    "duration": 4,
    "start_time": "2022-03-06T16:20:17.663Z"
   },
   {
    "duration": 8,
    "start_time": "2022-03-06T16:20:17.669Z"
   },
   {
    "duration": 5,
    "start_time": "2022-03-06T16:20:17.678Z"
   },
   {
    "duration": 68,
    "start_time": "2022-03-06T17:46:13.094Z"
   }
  ],
  "colab": {
   "collapsed_sections": [
    "E0vqbgi9ay0H",
    "VUC88oWjTJw2"
   ],
   "name": "yandex_music_project_2021.2.ipynb",
   "provenance": []
  },
  "kernelspec": {
   "display_name": "Python 3 (ipykernel)",
   "language": "python",
   "name": "python3"
  },
  "language_info": {
   "codemirror_mode": {
    "name": "ipython",
    "version": 3
   },
   "file_extension": ".py",
   "mimetype": "text/x-python",
   "name": "python",
   "nbconvert_exporter": "python",
   "pygments_lexer": "ipython3",
   "version": "3.9.7"
  },
  "toc": {
   "base_numbering": 1,
   "nav_menu": {},
   "number_sections": true,
   "sideBar": true,
   "skip_h1_title": true,
   "title_cell": "Table of Contents",
   "title_sidebar": "Contents",
   "toc_cell": false,
   "toc_position": {
    "height": "476.727px",
    "left": "154px",
    "top": "261.136px",
    "width": "261.659px"
   },
   "toc_section_display": true,
   "toc_window_display": true
  }
 },
 "nbformat": 4,
 "nbformat_minor": 1
}
